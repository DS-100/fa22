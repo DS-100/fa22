{
 "cells": [
  {
   "cell_type": "code",
   "execution_count": null,
   "id": "09ab0638",
   "metadata": {
    "deletable": false,
    "editable": false
   },
   "outputs": [],
   "source": [
    "# Initialize Otter\n",
    "import otter\n",
    "grader = otter.Notebook(\"lab10.ipynb\")"
   ]
  },
  {
   "cell_type": "markdown",
   "id": "a970bb5c",
   "metadata": {
    "nbgrader": {
     "grade": false,
     "grade_id": "title",
     "locked": true,
     "schema_version": 2,
     "solution": false
    }
   },
   "source": [
    "# Lab 10: SQL\n",
    "\n",
    "In this lab, we are going to practice viewing, sorting, grouping, and merging tables with SQL. We will explore two datasets:\n",
    "1. A \"minified\" version of the [Internet Movie Database](https://www.imdb.com/interfaces/) (IMDb). This SQLite database (~10MB) is a tiny sample of the much larger database (more than a few GBs). As a result, disclaimer that we may get wildly different results than if we use the whole database!\n",
    "\n",
    "1. The money donated during the 2016 election using the [Federal Election Commission (FEC)'s public records](https://www.fec.gov/data/). You will be connecting to a SQLite database containing the data. The data we will be working with in this lab is quite small (~16MB); however, it is a sample taken from a much larger database (more than a few GBs).\n",
    "\n",
    "\n",
    "**Due Date: Saturday, July 30, 11:59 PM PT.**"
   ]
  },
  {
   "cell_type": "markdown",
   "id": "6e064b81",
   "metadata": {},
   "source": [
    "### Collaboration Policy\n",
    "Data science is a collaborative activity. While you may talk with others about this assignment, we ask that you **write your solutions individually**. If you discuss the assignment with others, please **include their names** in the cell below."
   ]
  },
  {
   "cell_type": "markdown",
   "id": "3dc243ab",
   "metadata": {},
   "source": [
    "**Collaborators:** *list names here*"
   ]
  },
  {
   "cell_type": "code",
   "execution_count": 1,
   "id": "c93ee5f4",
   "metadata": {
    "nbgrader": {
     "grade": false,
     "grade_id": "setup",
     "locked": true,
     "schema_version": 2,
     "solution": false
    },
    "tags": []
   },
   "outputs": [],
   "source": [
    "# Run this cell to set up your notebook\n",
    "import numpy as np\n",
    "import pandas as pd\n",
    "import plotly.express as px\n",
    "import sqlalchemy\n",
    "from ds100_utils import fetch_and_cache\n",
    "from pathlib import Path\n",
    "%load_ext sql\n",
    "\n",
    "# Unzip the data.\n",
    "!unzip -o data.zip"
   ]
  },
  {
   "cell_type": "markdown",
   "id": "c2eef8d9",
   "metadata": {},
   "source": [
    "## SQL Query Syntax\n",
    "\n",
    "Throughout this lab, you will become familiar with the following syntax for the `SELECT` query:\n",
    "\n",
    "```\n",
    "SELECT [DISTINCT] \n",
    "    {* | expr [[AS] c_alias] \n",
    "    {,expr [[AS] c_alias] ...}}\n",
    "FROM tableref {, tableref}\n",
    "[[INNER | LEFT ] JOIN table_name\n",
    "    ON qualification_list]\n",
    "[WHERE search_condition]\n",
    "[GROUP BY colname {,colname...}]\n",
    "[HAVING search condition]\n",
    "[ORDER BY column_list]\n",
    "[LIMIT number]\n",
    "[OFFSET number of rows];\n",
    "```"
   ]
  },
  {
   "cell_type": "markdown",
   "id": "51b2019a",
   "metadata": {},
   "source": [
    "<br/><br/>\n",
    "<hr style=\"border: 5px solid #003262;\" />\n",
    "<hr style=\"border: 1px solid #fdb515;\" />\n",
    "\n",
    "# Part 0 [Tutorial]: Writing SQL in Jupyter Notebooks"
   ]
  },
  {
   "cell_type": "markdown",
   "id": "1804d60e",
   "metadata": {},
   "source": [
    "## 1. `%%sql` cell magic\n",
    "\n",
    "In lecture, we used the `sql` extension to call **`%%sql` cell magic**, which enables us to connect to SQL databses and issue SQL commands within Jupyter Notebooks.\n",
    "\n",
    "Run the below cell to connect to a mini IMDb database."
   ]
  },
  {
   "cell_type": "code",
   "execution_count": 2,
   "id": "c917dd5d",
   "metadata": {},
   "outputs": [],
   "source": [
    "%sql sqlite:///imdbmini.db"
   ]
  },
  {
   "cell_type": "markdown",
   "id": "88c4ff5d",
   "metadata": {},
   "source": [
    "<br/>\n",
    "\n",
    "Above, prefixing our single-line command with `%sql` means that the entire line will be treated as a SQL command (this is called \"line magic\"). In this class we will most often write multi-line SQL, meaning we need \"cell magic\", where the first line has `%%sql` (note the double `%` operator).\n",
    "\n",
    "The database `imdbmini.db` includes several tables, one of which is `Title`. Running the below cell will return first 5 lines of that table. Note that `%%sql` is on its own line.\n",
    "\n",
    "We've also included syntax for single-line comments, which are surrounded by `--`."
   ]
  },
  {
   "cell_type": "code",
   "execution_count": 3,
   "id": "c7234622",
   "metadata": {},
   "outputs": [],
   "source": [
    "%%sql\n",
    "/*\n",
    " * This is a\n",
    " * multi-line comment.\n",
    " */\n",
    "-- This is a single-line/inline comment. --\n",
    "SELECT *\n",
    "FROM Name\n",
    "LIMIT 5;"
   ]
  },
  {
   "cell_type": "markdown",
   "id": "f0cb4091",
   "metadata": {},
   "source": [
    "<br/><br/>\n",
    "\n",
    "### 2. The Pandas command `pd.read_sql`"
   ]
  },
  {
   "cell_type": "markdown",
   "id": "afc34bb2",
   "metadata": {},
   "source": [
    "As of 2022, the `%sql` magic for Jupyter Notebooks is still in development (check out its [GitHub](https://github.com/catherinedevlin/ipython-sql). It is still missing many features that would justify real-world use with Python. In particular, its returned tables are *not* Pandas dataframes (for example, the query result from the above cell is missing an index).\n",
    "\n",
    "The rest of this section describes how data scientists use SQL and Python in practice, using the Pandas command `pd.read_sql` ([documentation](https://pandas.pydata.org/docs/reference/api/pandas.read_sql.html)). **You will see both `%sql` magic and `pd.read_sql` in this course**. \n"
   ]
  },
  {
   "cell_type": "markdown",
   "id": "48e29e39",
   "metadata": {},
   "source": [
    "The below cell connects to the same database using the SQLAlchemy Python library, which can connect to several different database management systems, including sqlite3, MySQL, PostgreSQL, and Oracle. The library also supports an advanced feature for generating queries called an [object relational mapper](https://docs.sqlalchemy.org/en/latest/orm/tutorial.html) or ORM, which we won't discuss in this course but is quite useful for application development."
   ]
  },
  {
   "cell_type": "code",
   "execution_count": 4,
   "id": "bb6f20e2",
   "metadata": {},
   "outputs": [],
   "source": [
    "# important!!! run this cell\n",
    "import sqlalchemy\n",
    "\n",
    "# create a SQL Alchemy connection to the database\n",
    "engine = sqlalchemy.create_engine(\"sqlite:///imdbmini.db\")\n",
    "connection = engine.connect()"
   ]
  },
  {
   "cell_type": "markdown",
   "id": "5a13b65d",
   "metadata": {},
   "source": [
    "With the SQLAlchemy object `connection`, we can then call `pd.read_sql` which takes in a `query` **string**. Note the `\"\"\"` to define our multi-line string, which allows us to have a query span multiple lines. The resulting `df` DataFrame stores the results of the same SQL query from the previous section."
   ]
  },
  {
   "cell_type": "code",
   "execution_count": 5,
   "id": "902a8165",
   "metadata": {},
   "outputs": [],
   "source": [
    "# just run this cell\n",
    "query = \"\"\"\n",
    "SELECT *\n",
    "FROM Title\n",
    "LIMIT 5;\n",
    "\"\"\"\n",
    "\n",
    "df = pd.read_sql(query, engine)\n",
    "df"
   ]
  },
  {
   "cell_type": "markdown",
   "id": "f5bc4eab",
   "metadata": {},
   "source": [
    "<br/>\n",
    "\n",
    "**Long error messages**: Given that the SQL query is now in the string, the errors become more unintelligible. Consider the below (incorrect) query, which has a semicolon in the wrong place."
   ]
  },
  {
   "cell_type": "code",
   "execution_count": 6,
   "id": "37533297",
   "metadata": {},
   "outputs": [],
   "source": [
    "# uncomment the below code and check out the error\n",
    "\n",
    "# query = \"\"\"\n",
    "# SELECT *\n",
    "# FROM Title;\n",
    "# LIMIT 5\n",
    "# \"\"\"\n",
    "# pd.read_sql(query, engine)"
   ]
  },
  {
   "cell_type": "markdown",
   "id": "fdac076e",
   "metadata": {},
   "source": [
    "<br/>\n",
    "\n",
    "Now that's an unruly error message!"
   ]
  },
  {
   "cell_type": "markdown",
   "id": "ab0c25ce",
   "metadata": {
    "tags": []
   },
   "source": [
    "<br/><br/>\n",
    "\n",
    "### 3. A suggested workflow for writing SQL in Jupyter Notebooks\n",
    "\n",
    "Which approach is better, `%sql` magic or `pd.read_sql`?\n",
    "\n",
    "The SQL database generally contains much more data than what you would analyze in detail. As a Python-fluent data scientist, you will often query SQL databases to perform initial exploratory data analysis, a subset of which you load into Python for further processing.\n",
    "\n",
    "In practice, you would likely use a combination of the two approaches. First, you'd try out some SQL queries with `%sql` magic to get an interesting subset of data. Then, you'd copy over the query into a `pd.read_sql` command for visualization, modeling, and export with Pandas, sklearn, and other Python libraries.\n",
    "\n",
    "For SQL assignments in this course, to minimize unruly error messages while maximizing Python compatibility, we suggest the following \"sandboxed\" workflow:\n",
    "1. Create a `%%sql` magic cell **below** the answer cell. You can copy in the below code:\n",
    "\n",
    "    ```\n",
    "    %% sql\n",
    "    -- This is a comment. Put your code here... --\n",
    "    ```\n",
    "<br/>\n",
    "\n",
    "1.  Work on the SQL query in the `%%sql` cell; e.g., `SELECT ... ;`\n",
    "1. Then, once you're satisfied with your SQL query, copy it into the multi-string query in the answer cell (the one that contains the `pd.read_sql` call).\n",
    "\n",
    "You don't have to follow the above workflow to get full credit on assignments, but we suggest it to reduce debugging headaches. We've created the scratchwork `%%sql` cells for you in this assignment, but **do not** add cells between this `%%sql` cell and the Python cell right below it. It will cause errors when we run the autograder, and it will sometimes cause a failure to generate the PDF file.\n"
   ]
  },
  {
   "cell_type": "markdown",
   "id": "2dd47f00",
   "metadata": {},
   "source": [
    "<br/><br/>\n",
    "<hr style=\"border: 5px solid #003262;\" />\n",
    "<hr style=\"border: 1px solid #fdb515;\" />\n",
    "\n",
    "# Part 1: The IMDb (mini) Dataset\n",
    "\n",
    "Let's explore a miniature version of the [IMDb Dataset](https://www.imdb.com/interfaces/). This is the same dataset that we will use for the upcoming homework.\n",
    "\n",
    "\n",
    "Let's load in the database in two ways (using both Python and cell magic) so that we can flexibly explore the database."
   ]
  },
  {
   "cell_type": "code",
   "execution_count": 7,
   "id": "09d6891c",
   "metadata": {},
   "outputs": [],
   "source": [
    "engine = sqlalchemy.create_engine(\"sqlite:///imdbmini.db\")\n",
    "connection = engine.connect()"
   ]
  },
  {
   "cell_type": "code",
   "execution_count": 8,
   "id": "da97b449",
   "metadata": {},
   "outputs": [],
   "source": [
    "%sql sqlite:///imdbmini.db"
   ]
  },
  {
   "cell_type": "markdown",
   "id": "3fa686c0",
   "metadata": {},
   "source": [
    "<br/>"
   ]
  },
  {
   "cell_type": "code",
   "execution_count": 9,
   "id": "4fa08102",
   "metadata": {},
   "outputs": [],
   "source": [
    "%%sql\n",
    "SELECT * FROM sqlite_master WHERE type='table';"
   ]
  },
  {
   "cell_type": "markdown",
   "id": "b2337cac",
   "metadata": {},
   "source": [
    "From running the above cell, we see the database has 4 tables: `Name`, `Role`, `Rating`, and `Title`.\n",
    "\n",
    "<details>\n",
    "    <summary>[<b>Click to Expand</b>] See descriptions of each table's schema.</summary>\n",
    "    \n",
    "**`Name`** – Contains the following information for names of people.\n",
    "    \n",
    "- nconst (text) - alphanumeric unique identifier of the name/person\n",
    "- primaryName (text)– name by which the person is most often credited\n",
    "- birthYear (integer) – in YYYY format\n",
    "- deathYear (integer) – in YYYY format\n",
    "    \n",
    "    \n",
    "**`Role`** – Contains the principal cast/crew for titles.\n",
    "    \n",
    "- tconst (text) - alphanumeric unique identifier of the title\n",
    "- ordering (integer) – a number to uniquely identify rows for a given tconst\n",
    "- nconst (text) - alphanumeric unique identifier of the name/person\n",
    "- category (text) - the category of job that person was in\n",
    "- characters (text) - the name of the character played if applicable, else '\\\\N'\n",
    "    \n",
    "**`Rating`** – Contains the IMDb rating and votes information for titles.\n",
    "    \n",
    "- tconst (text) - alphanumeric unique identifier of the title\n",
    "- averageRating (real) – weighted average of all the individual user ratings\n",
    "- numVotes (integer) - number of votes (i.e., ratings) the title has received\n",
    "    \n",
    "**`Title`** - Contains the following information for titles.\n",
    "    \n",
    "- tconst (text) - alphanumeric unique identifier of the title\n",
    "- titleType (text) -  the type/format of the title\n",
    "- primaryTitle (text) -  the more popular title / the title used by the filmmakers on promotional materials at the point of release\n",
    "- isAdult (text) - 0: non-adult title; 1: adult title\n",
    "- year (YYYY) – represents the release year of a title.\n",
    "- runtimeMinutes (integer)  – primary runtime of the title, in minutes\n",
    "    \n",
    "</details>\n",
    "\n",
    "<br/><br/>\n",
    "From the above descriptions, we can conclude the following:\n",
    "* `Name.nconst` and `Title.tconst` are primary keys of the `Name` and `Title` tables, respectively.\n",
    "* that `Role.nconst` and `Role.tconst` are **foreign keys** that point to `Name.nconst` and `Title.tconst`, respectively."
   ]
  },
  {
   "cell_type": "markdown",
   "id": "96c66222",
   "metadata": {},
   "source": [
    "<br/><br/>\n",
    "<hr style=\"border: 1px solid #fdb515;\" />\n",
    "\n",
    "## Question 1\n",
    "\n",
    "What are the different kinds of `titleType`s included in the `Title` table? Write a query to find out all the unique `titleType`s of films using the `DISTINCT` keyword.  (**You may not use `GROUP BY`.**)"
   ]
  },
  {
   "cell_type": "code",
   "execution_count": 10,
   "id": "3b640e31",
   "metadata": {},
   "outputs": [],
   "source": [
    "%%sql\n",
    "/*\n",
    " * Code in this scratchwork cell is __not graded.__\n",
    " * Copy over any SQL queries you write here into the below Python cell.\n",
    " * Do __not__ insert any new cells in between the SQL/Python cells!\n",
    " * Doing so may break the autograder.\n",
    " */\n",
    "-- Write below this comment. --\n"
   ]
  },
  {
   "cell_type": "code",
   "execution_count": 11,
   "id": "969cb45e",
   "metadata": {},
   "outputs": [],
   "source": [
    "query_q1 = \"\"\"\n",
    "...       # replace this with\n",
    "...;      # your multi-line solution\n",
    "\"\"\"\n",
    "\n",
    "res_q1 = pd.read_sql(query_q1, engine)\n",
    "res_q1"
   ]
  },
  {
   "cell_type": "code",
   "execution_count": null,
   "id": "d1e1a88d",
   "metadata": {
    "deletable": false,
    "editable": false
   },
   "outputs": [],
   "source": [
    "grader.check(\"q1\")"
   ]
  },
  {
   "cell_type": "markdown",
   "id": "1604b4a0",
   "metadata": {
    "tags": []
   },
   "source": [
    "---\n",
    "\n",
    "## Question 2\n",
    "\n",
    "Before we proceed we want to get a better picture of the kinds of jobs that exist.  To do this examine the `Role` table by computing the number of records with each job `category`.  Present the results in descending order by the total counts.\n",
    "\n",
    "The top of your table should look like this (however, you should have more rows):\n",
    "\n",
    "| |category|total|\n",
    "|-----|-----|-----|\n",
    "|**0**|actor|21665|\n",
    "|**1**|writer|13830|\n",
    "|**2**|...|...|"
   ]
  },
  {
   "cell_type": "code",
   "execution_count": 15,
   "id": "b744ecc8",
   "metadata": {},
   "outputs": [],
   "source": [
    "%%sql\n",
    "/*\n",
    " * Code in this scratchwork cell is __not graded.__\n",
    " * Copy over any SQL queries you write here into the below Python cell.\n",
    " * Do __not__ insert any new cells in between the SQL/Python cells!\n",
    " * Doing so may break the autograder.\n",
    " */\n",
    "-- Write below this comment. --\n"
   ]
  },
  {
   "cell_type": "code",
   "execution_count": 16,
   "id": "8b931c43",
   "metadata": {},
   "outputs": [],
   "source": [
    "query_q2 = \"\"\"\n",
    "...       # replace this with\n",
    "...;      # your multi-line solution\n",
    "\"\"\"\n",
    "\n",
    "res_q2 = pd.read_sql(query_q2, engine)\n",
    "res_q2"
   ]
  },
  {
   "cell_type": "code",
   "execution_count": null,
   "id": "377c09e0",
   "metadata": {
    "deletable": false,
    "editable": false
   },
   "outputs": [],
   "source": [
    "grader.check(\"q2\")"
   ]
  },
  {
   "cell_type": "markdown",
   "id": "ab318130",
   "metadata": {},
   "source": [
    "<br/>\n",
    "If we computed the results correctly we should see a nice horizontal bar chart of the counts per category below:"
   ]
  },
  {
   "cell_type": "code",
   "execution_count": 20,
   "id": "2bbc2c38",
   "metadata": {},
   "outputs": [],
   "source": [
    "# just run this cell\n",
    "px.bar(res_q2, x=\"total\", y=\"category\", orientation='h')"
   ]
  },
  {
   "cell_type": "markdown",
   "id": "a4576e7b",
   "metadata": {},
   "source": [
    "<br/><br/>\n",
    "<hr style=\"border: 1px solid #fdb515;\" />\n",
    "\n",
    "## Question 3\n",
    "\n",
    "Now that we have a better sense of the basics of our data, we can ask some more interesting questions.\n",
    "\n",
    "The `Rating` table has the `numVotes` and the `averageRating` for each title. Which 10 films have the most ratings?\n",
    "\n",
    "Write a SQL query that outputs three fields: the `title`, `numVotes`, and `averageRating` for the 10 films that have the highest number of ratings.  Sort the result in descending order by the number of votes.\n",
    "\n",
    "*Hint*: The `numVotes` in the `Rating` table is not an integer! Use `CAST(Rating.numVotes AS int) AS numVotes` to convert the attribute to an integer."
   ]
  },
  {
   "cell_type": "code",
   "execution_count": 21,
   "id": "e1c3c3ce",
   "metadata": {},
   "outputs": [],
   "source": [
    "%%sql\n",
    "/*\n",
    " * Code in this scratchwork cell is __not graded.__\n",
    " * Copy over any SQL queries you write here into the below Python cell.\n",
    " * Do __not__ insert any new cells in between the SQL/Python cells!\n",
    " * Doing so may break the autograder.\n",
    " */\n",
    "-- Write below this comment. --\n"
   ]
  },
  {
   "cell_type": "code",
   "execution_count": 22,
   "id": "203b6717",
   "metadata": {},
   "outputs": [],
   "source": [
    "query_q3 = \"\"\"\n",
    "...       # replace this with\n",
    "...;      # your multi-line solution\n",
    "\"\"\"\n",
    "\n",
    "\n",
    "res_q3 = pd.read_sql(query_q3, engine)\n",
    "res_q3"
   ]
  },
  {
   "cell_type": "code",
   "execution_count": null,
   "id": "d5fc8ea2",
   "metadata": {
    "deletable": false,
    "editable": false
   },
   "outputs": [],
   "source": [
    "grader.check(\"q3\")"
   ]
  },
  {
   "cell_type": "markdown",
   "id": "1a015e56",
   "metadata": {},
   "source": [
    "<br/><br/>\n",
    "<hr style=\"border: 5px solid #003262;\" />\n",
    "<hr style=\"border: 1px solid #fdb515;\" />\n",
    "\n",
    "# Part 2: Election Donations in New York City\n",
    "\n",
    "Finally, let's analyze the Federal Election Commission (FEC)'s public records. We connect to the database in two ways (using both Python and cell magic) so that we can flexibly explore the database."
   ]
  },
  {
   "cell_type": "code",
   "execution_count": 27,
   "id": "0dfb0b53",
   "metadata": {},
   "outputs": [],
   "source": [
    "# important!!! run this cell and the next one\n",
    "import sqlalchemy\n",
    "# create a SQL Alchemy connection to the database\n",
    "engine = sqlalchemy.create_engine(\"sqlite:///fec_nyc.db\")\n",
    "connection = engine.connect()"
   ]
  },
  {
   "cell_type": "code",
   "execution_count": 28,
   "id": "32debefa",
   "metadata": {},
   "outputs": [],
   "source": [
    "%sql sqlite:///fec_nyc.db"
   ]
  },
  {
   "cell_type": "markdown",
   "id": "7090b509",
   "metadata": {
    "tags": []
   },
   "source": [
    "## Table Descriptions\n",
    "\n",
    "Run the below cell to explore the **schemas** of all tables saved in the database.\n",
    "\n",
    "If you'd like, you can consult the below linked FEC pages for the descriptions of the tables themselves.\n",
    "\n",
    "* `cand` ([link](https://www.fec.gov/campaign-finance-data/candidate-summary-file-description/)): Candidates table. Contains names and party affiliation.\n",
    "* `comm` ([link](https://www.fec.gov/campaign-finance-data/committee-summary-file-description/)): Committees table. Contains committee names and types.\n",
    "* `indiv_sample_nyc` ([link](https://www.fec.gov/campaign-finance-data/contributions-individuals-file-description)): All individual contributions from New York City ."
   ]
  },
  {
   "cell_type": "code",
   "execution_count": 29,
   "id": "df8c2573",
   "metadata": {},
   "outputs": [],
   "source": [
    "%%sql\n",
    "/* just run this cell */\n",
    "SELECT sql FROM sqlite_master WHERE type='table';"
   ]
  },
  {
   "cell_type": "markdown",
   "id": "f52ed3df",
   "metadata": {},
   "source": [
    "<br/><br/>\n",
    "\n",
    "Let's look at the `indiv_sample_nyc` table. The below cell displays individual donations made by residents of the state of New York. We use `LIMIT 5` to avoid loading and displaying a huge table."
   ]
  },
  {
   "cell_type": "code",
   "execution_count": 30,
   "id": "b4f7edfb",
   "metadata": {},
   "outputs": [],
   "source": [
    "%%sql\n",
    "/* just run this cell */\n",
    "SELECT *\n",
    "FROM indiv_sample_nyc\n",
    "LIMIT 5;"
   ]
  },
  {
   "cell_type": "markdown",
   "id": "b496cdc4",
   "metadata": {},
   "source": [
    "You can write a SQL query to return the id and name of the first five candidates from the Democratic party, as below:"
   ]
  },
  {
   "cell_type": "code",
   "execution_count": 31,
   "id": "e6edf460",
   "metadata": {},
   "outputs": [],
   "source": [
    "%%sql\n",
    "/* just run this cell */\n",
    "SELECT cand_id, cand_name\n",
    "FROM cand\n",
    "WHERE cand_pty_affiliation = 'DEM'\n",
    "LIMIT 5;"
   ]
  },
  {
   "cell_type": "markdown",
   "id": "9c9502af",
   "metadata": {},
   "source": [
    "<br/><br/>\n",
    "<hr style=\"border: 1px solid #fdb515;\" />\n",
    "\n",
    "## [Tutorial] Matching Text with `LIKE`"
   ]
  },
  {
   "cell_type": "markdown",
   "id": "84136ab4",
   "metadata": {},
   "source": [
    "First, let's look at 2016 election contributions made by Donald Trump, who was a New York (NY) resident during that year. The following SQL query returns the `cmte_id`, `transaction_amt`, and `name` for every contribution made by any donor with \"DONALD\" and \"TRUMP\" in their name in the `indiv_sample_nyc` table.\n",
    "\n",
    "Notes:\n",
    "* We use the `WHERE ... LIKE '...'` to match fields with text patterns. The `%` wildcard represents at least zero characters. Compare this to what you know from regex!\n",
    "* We use `pd.read_sql` syntax here because we will do some EDA on the result `res`."
   ]
  },
  {
   "cell_type": "code",
   "execution_count": 32,
   "id": "1b51b1ae",
   "metadata": {},
   "outputs": [],
   "source": [
    "# just run this cell\n",
    "example_query = \"\"\"\n",
    "SELECT \n",
    "    cmte_id,\n",
    "    transaction_amt,\n",
    "    name\n",
    "FROM indiv_sample_nyc\n",
    "WHERE name LIKE '%TRUMP%' AND name LIKE '%DONALD%';\n",
    "\"\"\"\n",
    "\n",
    "example_res = pd.read_sql(example_query, engine)\n",
    "example_res"
   ]
  },
  {
   "cell_type": "markdown",
   "id": "f5b78837",
   "metadata": {},
   "source": [
    "If we look at the list above, it appears that some donations were not by Donald Trump himself, but instead by an entity called \"DONALD J TRUMP FOR PRESIDENT INC\". Fortunately, we see that our query only seems to have picked up one such anomalous name."
   ]
  },
  {
   "cell_type": "code",
   "execution_count": 33,
   "id": "72010ef1",
   "metadata": {
    "scrolled": true,
    "tags": []
   },
   "outputs": [],
   "source": [
    "# just run this cell\n",
    "example_res['name'].value_counts()"
   ]
  },
  {
   "cell_type": "markdown",
   "id": "cdfe6f42",
   "metadata": {},
   "source": [
    "<br/><br/>\n",
    "\n",
    "<hr style=\"border: 1px solid #fdb515;\" />\n",
    "\n",
    "## Question 4\n",
    "\n",
    "Revise the above query so that the 15 anomalous donations made by \"DONALD J TRUMP FOR PRESIDENT INC\" do not appear. Your resulting table should have 142 rows. \n",
    "\n",
    "Hints:\n",
    "* Consider using the above query as a starting point, or checking out the SQL query skeleton at the top of this lab. \n",
    "* The `NOT` keyword may also be useful here.\n"
   ]
  },
  {
   "cell_type": "code",
   "execution_count": 34,
   "id": "50adaf5b",
   "metadata": {},
   "outputs": [],
   "source": [
    "%%sql\n",
    "/*\n",
    " * Code in this scratchwork cell is __not graded.__\n",
    " * Copy over any SQL queries you write here into the below Python cell.\n",
    " * Do __not__ insert any new cells in between the SQL/Python cells!\n",
    " * Doing so may break the autograder.\n",
    " */\n",
    "-- Write below this comment. --\n"
   ]
  },
  {
   "cell_type": "code",
   "execution_count": 35,
   "id": "edcb93b8",
   "metadata": {},
   "outputs": [],
   "source": [
    "query_q4 = \"\"\"\n",
    "...       # replace this with\n",
    "...;      # your multi-line solution\n",
    "\"\"\"\n",
    "\n",
    "res_q4 = pd.read_sql(query_q4, engine)\n",
    "res_q4"
   ]
  },
  {
   "cell_type": "code",
   "execution_count": null,
   "id": "fa253528",
   "metadata": {
    "deletable": false,
    "editable": false
   },
   "outputs": [],
   "source": [
    "grader.check(\"q4\")"
   ]
  },
  {
   "cell_type": "markdown",
   "id": "a59e87c3",
   "metadata": {},
   "source": [
    "<br/><br/>\n",
    "<hr style=\"border: 1px solid #fdb515;\" />\n",
    "\n",
    "## Question 5: `JOIN`ing Tables\n",
    "\n",
    "Let's explore the other two tables in our database: `cand` and `comm`.\n",
    "\n",
    "The `cand` table contains summary financial information about each candidate registered with the FEC or appearing on an official state ballot for House, Senate or President."
   ]
  },
  {
   "cell_type": "code",
   "execution_count": 38,
   "id": "1e8d64db",
   "metadata": {},
   "outputs": [],
   "source": [
    "%%sql\n",
    "/* just run this cell */\n",
    "SELECT *\n",
    "FROM cand\n",
    "LIMIT 5;"
   ]
  },
  {
   "cell_type": "markdown",
   "id": "d533914a",
   "metadata": {},
   "source": [
    "The `comm` table contains summary financial information about each committee registered with the FEC. Committees are organizations that spend money for political action or parties, or spend money for or against political candidates."
   ]
  },
  {
   "cell_type": "code",
   "execution_count": 39,
   "id": "5be46f57",
   "metadata": {},
   "outputs": [],
   "source": [
    "%%sql\n",
    "/* just run this cell */\n",
    "SELECT *\n",
    "FROM comm\n",
    "LIMIT 5;"
   ]
  },
  {
   "cell_type": "markdown",
   "id": "14faf6ce",
   "metadata": {
    "tags": []
   },
   "source": [
    "---\n",
    "\n",
    "### Question 5a\n",
    "\n",
    "Notice that both the `cand` and `comm` tables have a `cand_id` column. Let's try joining these two tables on this column to print out committee information for candidates.\n",
    "\n",
    "List the first 5 candidate names (`cand_name`) in reverse lexicographic order by `cand_name`, along with their corresponding committee names. **Only select rows that have a matching `cand_id` in both tables.**\n",
    "\n",
    "Your output should look similar to the following:\n",
    "\n",
    "|    |cand_name|cmte_nm|\n",
    "|----|----|----|\n",
    "|**0**|ZUTLER, DANIEL PAUL MR|CITIZENS TO ELECT DANIEL P ZUTLER FOR PRESIDENT|\n",
    "|**1**|ZUMWALT, JAMES|ZUMWALT FOR CONGRESS|\n",
    "|**...**|...|...|\n",
    "\n",
    "Consider starting from the following query skeleton, which uses the `AS` keyword to rename the `cand` and `comm` tables to `c1` and `c2`, respectively.\n",
    "Which join is most appropriate?\n",
    "\n",
    "    SELECT ...\n",
    "    FROM cand AS c1\n",
    "        [INNER | {LEFT |RIGHT | FULL } {OUTER}] JOIN comm AS c2\n",
    "        ON ...\n",
    "    ...\n",
    "    ...;\n"
   ]
  },
  {
   "cell_type": "code",
   "execution_count": 40,
   "id": "d24da49f",
   "metadata": {},
   "outputs": [],
   "source": [
    "%%sql\n",
    "/*\n",
    " * Code in this scratchwork cell is __not graded.__\n",
    " * Copy over any SQL queries you write here into the below Python cell.\n",
    " * Do __not__ insert any new cells in between the SQL/Python cells!\n",
    " * Doing so may break the autograder.\n",
    " */\n",
    "-- Write below this comment. --\n"
   ]
  },
  {
   "cell_type": "code",
   "execution_count": 41,
   "id": "3ccac71b",
   "metadata": {},
   "outputs": [],
   "source": [
    "query_q5a = \"\"\"\n",
    "...       # replace this with\n",
    "...;      # your multi-line solution\n",
    "\"\"\"\n",
    "\n",
    "res_q5a = pd.read_sql(query_q5a, engine)\n",
    "res_q5a"
   ]
  },
  {
   "cell_type": "code",
   "execution_count": null,
   "id": "c2f38cad",
   "metadata": {
    "deletable": false,
    "editable": false
   },
   "outputs": [],
   "source": [
    "grader.check(\"q5a\")"
   ]
  },
  {
   "cell_type": "markdown",
   "id": "b1865df6",
   "metadata": {
    "tags": []
   },
   "source": [
    "<br/><br/>\n",
    "\n",
    "---\n",
    "\n",
    "### Question 5b\n",
    "\n",
    "Suppose we modify the query from the previous part to include *all* candidates, **including those that don't have a committee.**\n",
    "\n",
    "\n",
    "List the first 5 candidate names (`cand_name`) in reverse lexicographic order by `cand_name`, along with their corresponding committee names. If the candidate has no committee in the `comm` table, then `cmte_nm` should be NULL (or None in the Python representation).\n",
    "\n",
    "Your output should look similar to the following:\n",
    "\n",
    "|    |cand_name|cmte_nm|\n",
    "|----|----|----|\n",
    "|**0**|ZUTLER, DANIEL PAUL MR|CITIZENS TO ELECT DANIEL P ZUTLER FOR PRESIDENT|\n",
    "|**...**|...|...|\n",
    "|**4**|ZORNOW, TODD MR|None|\n",
    "\n",
    "Hint: Start from the same query skeleton as the previous part. \n",
    "Which join is most appropriate?"
   ]
  },
  {
   "cell_type": "code",
   "execution_count": 45,
   "id": "fe1f380e",
   "metadata": {},
   "outputs": [],
   "source": [
    "%%sql\n",
    "/*\n",
    " * Code in this scratchwork cell is __not graded.__\n",
    " * Copy over any SQL queries you write here into the below Python cell.\n",
    " * Do __not__ insert any new cells in between the SQL/Python cells!\n",
    " * Doing so may break the autograder.\n",
    " */\n",
    "-- Write below this comment. --\n"
   ]
  },
  {
   "cell_type": "code",
   "execution_count": 46,
   "id": "789c145a",
   "metadata": {},
   "outputs": [],
   "source": [
    "query_q5b = \"\"\"\n",
    "...       # replace this with\n",
    "...;      # your multi-line solution\n",
    "\"\"\"\n",
    "\n",
    "res_q5b = pd.read_sql(query_q5b, engine)\n",
    "res_q5b"
   ]
  },
  {
   "cell_type": "code",
   "execution_count": null,
   "id": "7483b770",
   "metadata": {
    "deletable": false,
    "editable": false
   },
   "outputs": [],
   "source": [
    "grader.check(\"q5b\")"
   ]
  },
  {
   "cell_type": "markdown",
   "id": "ac81248e",
   "metadata": {},
   "source": [
    "<br/><br/>\n",
    "<hr style=\"border: 1px solid #fdb515;\" />\n",
    "\n",
    "## Question 6: Subqueries and Grouping (OPTIONAL)\n",
    "\n",
    "If we return to our results from Question 4, we see that many of the contributions were to the same committee:"
   ]
  },
  {
   "cell_type": "code",
   "execution_count": 50,
   "id": "2ebe812a",
   "metadata": {},
   "outputs": [],
   "source": [
    "# Your SQL query result from Question 4\n",
    "# reprinted for your convenience\n",
    "res_q4['cmte_id'].value_counts()"
   ]
  },
  {
   "cell_type": "markdown",
   "id": "c24fc1c3",
   "metadata": {},
   "source": [
    "<br/>\n",
    "\n",
    "---\n",
    "\n",
    "Create a new SQL query that returns the total amount that Donald Trump contributed to each committee.\n",
    "\n",
    "Your table should have four columns: `cmte_id`, `total_amount` (total amount contributed to that committee), `num_donations` (total number of donations), and `cmte_nm` (name of the committee). Your table should be sorted in **decreasing order** of `total_amount`.\n",
    "\n",
    "**This is a hard question!** Don't be afraid to reference the lecture slides, or the overall SQL query skeleton at the top of this lab.\n",
    "\n",
    "Here are some other hints:\n",
    "\n",
    "* Note that committee names are not available in `indiv_sample_nyc`, so you will have to obtain information somehow from the `comm` table (perhaps a `JOIN` would be useful).\n",
    "* Remember that you can compute summary statistics after grouping by using aggregates like `COUNT(*)`, `SUM()` as output fields.\n",
    "* A **subquery** may be useful to break your question down into subparts. Consider the following query skeleton, which uses the `WITH` operator to store a subquery's results in a temporary table named `donations`.\n",
    "\n",
    "        WITH donations AS (\n",
    "            SELECT ...\n",
    "            FROM ...\n",
    "            ... JOIN ...\n",
    "                ON ...\n",
    "            WHERE ...\n",
    "        )\n",
    "        SELECT ...\n",
    "        FROM donations\n",
    "        GROUP BY ...\n",
    "        ORDER BY ...;"
   ]
  },
  {
   "cell_type": "code",
   "execution_count": 51,
   "id": "ec859372",
   "metadata": {},
   "outputs": [],
   "source": [
    "%%sql\n",
    "/*\n",
    " * Code in this scratchwork cell is __not graded.__\n",
    " * Copy over any SQL queries you write here into the below Python cell.\n",
    " * Do __not__ insert any new cells in between the SQL/Python cells!\n",
    " * Doing so may break the autograder.\n",
    " */\n",
    "-- Write below this comment. --\n"
   ]
  },
  {
   "cell_type": "code",
   "execution_count": 52,
   "id": "3d7f0b78",
   "metadata": {},
   "outputs": [],
   "source": [
    "query_q6 = \"\"\"\n",
    "...       # replace this with\n",
    "...;      # your multi-line solution\n",
    "\"\"\"\n",
    "\n",
    "\n",
    "res_q6 = pd.read_sql(query_q6, engine)\n",
    "res_q6"
   ]
  },
  {
   "cell_type": "code",
   "execution_count": null,
   "id": "01588a56",
   "metadata": {
    "deletable": false,
    "editable": false
   },
   "outputs": [],
   "source": [
    "grader.check(\"q6\")"
   ]
  },
  {
   "cell_type": "markdown",
   "id": "b2c1fbb2",
   "metadata": {},
   "source": [
    "# Congratulations! You finished the lab!"
   ]
  },
  {
   "cell_type": "markdown",
   "id": "524abda8",
   "metadata": {
    "deletable": false,
    "editable": false
   },
   "source": [
    "---\n",
    "\n",
    "To double-check your work, the cell below will rerun all of the autograder tests."
   ]
  },
  {
   "cell_type": "code",
   "execution_count": null,
   "id": "896bb690",
   "metadata": {
    "deletable": false,
    "editable": false
   },
   "outputs": [],
   "source": [
    "grader.check_all()"
   ]
  },
  {
   "cell_type": "markdown",
   "id": "b2f985aa",
   "metadata": {
    "deletable": false,
    "editable": false
   },
   "source": [
    "## Submission\n",
    "\n",
    "Make sure you have run all cells in your notebook in order before running the cell below, so that all images/graphs appear in the output. The cell below will generate a zip file for you to submit. **Please save before exporting!**"
   ]
  },
  {
   "cell_type": "code",
   "execution_count": null,
   "id": "b6835464",
   "metadata": {
    "deletable": false,
    "editable": false
   },
   "outputs": [],
   "source": [
    "# Save your notebook first, then run this cell to export your submission.\n",
    "grader.export(pdf=False)"
   ]
  },
  {
   "cell_type": "markdown",
   "id": "e52a96b2",
   "metadata": {},
   "source": [
    " "
   ]
  }
 ],
 "metadata": {
  "kernelspec": {
   "display_name": "Python 3 (ipykernel)",
   "language": "python",
   "name": "python3"
  },
  "language_info": {
   "codemirror_mode": {
    "name": "ipython",
    "version": 3
   },
   "file_extension": ".py",
   "mimetype": "text/x-python",
   "name": "python",
   "nbconvert_exporter": "python",
   "pygments_lexer": "ipython3",
   "version": "3.9.13"
  }
 },
 "nbformat": 4,
 "nbformat_minor": 5
}
