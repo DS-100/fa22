{
 "cells": [
  {
   "cell_type": "markdown",
   "id": "06d30bb2-585a-43bc-8306-cc6ed9cfb626",
   "metadata": {},
   "source": [
    "# Lecture 15 – Probability I: Random Variables\n",
    "\n",
    "**content by Lisa Yan**"
   ]
  },
  {
   "cell_type": "code",
   "execution_count": 1,
   "id": "aaccf616-45a5-46d1-baf1-2d01c44b64bf",
   "metadata": {},
   "outputs": [],
   "source": [
    "import numpy as np\n",
    "import pandas as pd\n",
    "import matplotlib\n",
    "import matplotlib.pyplot as plt\n",
    "import seaborn as sns\n",
    "\n",
    "# big font helper\n",
    "def adjust_fontsize(size=None):\n",
    "    SMALL_SIZE = 8\n",
    "    MEDIUM_SIZE = 10\n",
    "    BIGGER_SIZE = 12\n",
    "    if size != None:\n",
    "        SMALL_SIZE = MEDIUM_SIZE = BIGGER_SIZE = size\n",
    "\n",
    "    plt.rc('font', size=SMALL_SIZE)          # controls default text sizes\n",
    "    plt.rc('axes', titlesize=SMALL_SIZE)     # fontsize of the axes title\n",
    "    plt.rc('axes', labelsize=MEDIUM_SIZE)    # fontsize of the x and y labels\n",
    "    plt.rc('xtick', labelsize=SMALL_SIZE)    # fontsize of the tick labels\n",
    "    plt.rc('ytick', labelsize=SMALL_SIZE)    # fontsize of the tick labels\n",
    "    plt.rc('legend', fontsize=SMALL_SIZE)    # legend fontsize\n",
    "    plt.rc('figure', titlesize=BIGGER_SIZE)  # fontsize of the figure title\n",
    "\n",
    "plt.style.use('fivethirtyeight')\n",
    "sns.set_context(\"talk\")\n",
    "sns.set_theme()\n",
    "#plt.style.use('default') # revert style to default mpl\n",
    "adjust_fontsize(size=20)\n",
    "%matplotlib inline\n"
   ]
  },
  {
   "cell_type": "markdown",
   "id": "f2c2431e-e343-4681-8def-7277372af589",
   "metadata": {},
   "source": [
    "Plotting helper functions."
   ]
  },
  {
   "cell_type": "code",
   "execution_count": 2,
   "id": "ef737a64-4b4a-4b05-b7b0-c2cb73af7f30",
   "metadata": {},
   "outputs": [],
   "source": [
    "# helper functions to plot and \n",
    "# compute expectation, variance, standard deviation\n",
    "def plot_dist(dist_df,\n",
    "                      xname=\"x\", pname=\"P(X = x)\", varname=\"X\",\n",
    "                      save=False):\n",
    "    \"\"\"\n",
    "    Plot a distribution from a distribution table.\n",
    "    Single-variate.\n",
    "    \"\"\"\n",
    "    plt.bar(dist_df[xname], dist_df[pname])\n",
    "    plt.ylabel(pname)\n",
    "    plt.xlabel(xname)\n",
    "    plt.title(f\"Distribution of ${varname}$\")\n",
    "    plt.xticks(sorted(dist_df[xname].unique()))\n",
    "    if save:\n",
    "        fig = plt.gcf()\n",
    "        fig.patch.set_alpha(0.0)\n",
    "        plt.savefig(f\"dist{varname}.png\", bbox_inches = 'tight');\n",
    "\n",
    "\n",
    "def simulate_samples(df, xname=\"x\", pname=\"P(X = x)\", size=1):\n",
    "    return np.random.choice(\n",
    "                df[xname], # draw from these choiecs\n",
    "                size=size, # this many times\n",
    "                p=df[pname]) # according to this distribution\n",
    "\n",
    "def simulate_iid_df(dist_df, nvars, rows, varname=\"X\"):\n",
    "    \"\"\"\n",
    "    Make an (row x nvars) dataframe\n",
    "    by calling simulate_samples for each of the nvars per row\n",
    "    \"\"\"\n",
    "    sample_dict = {}\n",
    "    for i in range(nvars):\n",
    "        # generate many datapoints \n",
    "        sample_dict[f\"{varname}_{i+1}\"] = \\\n",
    "            simulate_samples(dist_df, size=rows)\n",
    "    return pd.DataFrame(sample_dict)\n",
    "\n",
    "\n",
    "def plot_simulated_dist(df, colname, show_stats=True, save=False, **kwargs):\n",
    "    \"\"\"\n",
    "    Plot a simulated population.\n",
    "    \"\"\"\n",
    "    sns.histplot(data=df, x=colname, stat='probability', discrete=True, **kwargs)\n",
    "    plt.xticks(sorted(df[colname].unique())) # if there are gaps)\n",
    "    if show_stats:\n",
    "        display(stats_df_multi(df, [colname]))\n",
    "    if save:\n",
    "        fig = plt.gcf()\n",
    "        fig.patch.set_alpha(0.0)\n",
    "        plt.savefig(f\"sim{colname}.png\", bbox_inches = 'tight');\n",
    "\n",
    "def stats_df_multi(df, colnames):\n",
    "    means = df[colnames].mean(axis=0)\n",
    "    variances = df[colnames].var(axis=0)\n",
    "    stdevs = df[colnames].std(axis=0)\n",
    "    df_stats = pd.concat([means, variances, stdevs],axis=1).T\n",
    "    df_stats['index_col'] = [\"E[•]\", \"Var(•)\", \"SD(•)\"]\n",
    "    df_stats = df_stats.set_index('index_col', drop=True).rename_axis(None)\n",
    "    return df_stats\n",
    "\n",
    "def plot_simulated_dist_multi(df, colnames, show_stats=True):\n",
    "    \"\"\"\n",
    "    If multiple columns provided, use separate plots.\n",
    "    \"\"\"\n",
    "    ncols = 1\n",
    "    nrows = len(colnames)\n",
    "    plt.figure(figsize=(6, 2*nrows+2))\n",
    "    \n",
    "    for i, colname in enumerate(colnames):\n",
    "        subplot_int = int(100*int(nrows) + 10*int(ncols) + int(i+1))\n",
    "        plt.subplot(subplot_int)\n",
    "        plot_simulated_dist(df, colname, show_stats=False)\n",
    "    plt.tight_layout()\n",
    "    if show_stats:\n",
    "        display(stats_df_multi(df, colnames))"
   ]
  },
  {
   "cell_type": "markdown",
   "id": "a8e42200-f6bf-4129-a30a-830574c5d057",
   "metadata": {},
   "source": [
    "---\n",
    "\n",
    "## A Random Variable $X$\n",
    "\n",
    "Our probability distribution of $X$, shown as a table:"
   ]
  },
  {
   "cell_type": "code",
   "execution_count": 3,
   "id": "47cec47d-e08b-4801-ad84-34966ffdeea4",
   "metadata": {},
   "outputs": [
    {
     "data": {
      "text/html": [
       "<div>\n",
       "<style scoped>\n",
       "    .dataframe tbody tr th:only-of-type {\n",
       "        vertical-align: middle;\n",
       "    }\n",
       "\n",
       "    .dataframe tbody tr th {\n",
       "        vertical-align: top;\n",
       "    }\n",
       "\n",
       "    .dataframe thead th {\n",
       "        text-align: right;\n",
       "    }\n",
       "</style>\n",
       "<table border=\"1\" class=\"dataframe\">\n",
       "  <thead>\n",
       "    <tr style=\"text-align: right;\">\n",
       "      <th></th>\n",
       "      <th>x</th>\n",
       "      <th>P(X = x)</th>\n",
       "    </tr>\n",
       "  </thead>\n",
       "  <tbody>\n",
       "    <tr>\n",
       "      <th>0</th>\n",
       "      <td>3</td>\n",
       "      <td>0.1</td>\n",
       "    </tr>\n",
       "    <tr>\n",
       "      <th>1</th>\n",
       "      <td>4</td>\n",
       "      <td>0.2</td>\n",
       "    </tr>\n",
       "    <tr>\n",
       "      <th>2</th>\n",
       "      <td>6</td>\n",
       "      <td>0.4</td>\n",
       "    </tr>\n",
       "    <tr>\n",
       "      <th>3</th>\n",
       "      <td>8</td>\n",
       "      <td>0.3</td>\n",
       "    </tr>\n",
       "  </tbody>\n",
       "</table>\n",
       "</div>"
      ],
      "text/plain": [
       "   x  P(X = x)\n",
       "0  3       0.1\n",
       "1  4       0.2\n",
       "2  6       0.4\n",
       "3  8       0.3"
      ]
     },
     "execution_count": 3,
     "metadata": {},
     "output_type": "execute_result"
    }
   ],
   "source": [
    "# our random variable X\n",
    "dist_df = pd.DataFrame({\"x\": [3, 4, 6, 8],\n",
    "                        \"P(X = x)\": [0.1, 0.2, 0.4, 0.3]})\n",
    "dist_df"
   ]
  },
  {
   "cell_type": "code",
   "execution_count": 4,
   "id": "a4028b7e-278c-4c26-a757-00c53e08d310",
   "metadata": {},
   "outputs": [
    {
     "data": {
      "image/png": "[encoded data removed]",
      "text/plain": [
       "<Figure size 432x288 with 1 Axes>"
      ]
     },
     "metadata": {
      "needs_background": "light"
     },
     "output_type": "display_data"
    }
   ],
   "source": [
    "plot_dist(dist_df, save=True)"
   ]
  },
  {
   "cell_type": "markdown",
   "id": "984e6e56-6ab2-477d-ac4f-26305dda419d",
   "metadata": {},
   "source": [
    "Let's use this probability distribution to generate a table of $X(s)$, i.e., random variable values for many many samples."
   ]
  },
  {
   "cell_type": "code",
   "execution_count": 5,
   "id": "fe27225f-ccf9-4bb0-bc06-adf9f8e4ef3d",
   "metadata": {},
   "outputs": [
    {
     "data": {
      "text/html": [
       "<div>\n",
       "<style scoped>\n",
       "    .dataframe tbody tr th:only-of-type {\n",
       "        vertical-align: middle;\n",
       "    }\n",
       "\n",
       "    .dataframe tbody tr th {\n",
       "        vertical-align: top;\n",
       "    }\n",
       "\n",
       "    .dataframe thead th {\n",
       "        text-align: right;\n",
       "    }\n",
       "</style>\n",
       "<table border=\"1\" class=\"dataframe\">\n",
       "  <thead>\n",
       "    <tr style=\"text-align: right;\">\n",
       "      <th></th>\n",
       "      <th>X(s)</th>\n",
       "    </tr>\n",
       "  </thead>\n",
       "  <tbody>\n",
       "    <tr>\n",
       "      <th>0</th>\n",
       "      <td>6</td>\n",
       "    </tr>\n",
       "    <tr>\n",
       "      <th>1</th>\n",
       "      <td>6</td>\n",
       "    </tr>\n",
       "    <tr>\n",
       "      <th>2</th>\n",
       "      <td>4</td>\n",
       "    </tr>\n",
       "    <tr>\n",
       "      <th>3</th>\n",
       "      <td>6</td>\n",
       "    </tr>\n",
       "    <tr>\n",
       "      <th>4</th>\n",
       "      <td>4</td>\n",
       "    </tr>\n",
       "    <tr>\n",
       "      <th>...</th>\n",
       "      <td>...</td>\n",
       "    </tr>\n",
       "    <tr>\n",
       "      <th>79995</th>\n",
       "      <td>6</td>\n",
       "    </tr>\n",
       "    <tr>\n",
       "      <th>79996</th>\n",
       "      <td>8</td>\n",
       "    </tr>\n",
       "    <tr>\n",
       "      <th>79997</th>\n",
       "      <td>8</td>\n",
       "    </tr>\n",
       "    <tr>\n",
       "      <th>79998</th>\n",
       "      <td>8</td>\n",
       "    </tr>\n",
       "    <tr>\n",
       "      <th>79999</th>\n",
       "      <td>6</td>\n",
       "    </tr>\n",
       "  </tbody>\n",
       "</table>\n",
       "<p>80000 rows × 1 columns</p>\n",
       "</div>"
      ],
      "text/plain": [
       "       X(s)\n",
       "0         6\n",
       "1         6\n",
       "2         4\n",
       "3         6\n",
       "4         4\n",
       "...     ...\n",
       "79995     6\n",
       "79996     8\n",
       "79997     8\n",
       "79998     8\n",
       "79999     6\n",
       "\n",
       "[80000 rows x 1 columns]"
      ]
     },
     "execution_count": 5,
     "metadata": {},
     "output_type": "execute_result"
    }
   ],
   "source": [
    "# copied from above\n",
    "# def simulate_samples(df, xname=\"x\", pname=\"P(X = x)\", size=1):\n",
    "#     return np.random.choice(\n",
    "#                 df[xname], # draw from these choiecs\n",
    "#                 size=size, # this many times\n",
    "#                 p=df[pname]) # according to this distribution\n",
    "\n",
    "N = 80000\n",
    "all_samples = simulate_samples(dist_df, size=N)\n",
    "sim_df = pd.DataFrame({\"X(s)\": all_samples})\n",
    "sim_df"
   ]
  },
  {
   "cell_type": "markdown",
   "id": "5877f657-8e06-4eb1-89f7-2ceecd557d99",
   "metadata": {},
   "source": [
    "<br/><br/>\n",
    "Let's check how well this simulated sample matches our probability distribution!"
   ]
  },
  {
   "cell_type": "code",
   "execution_count": 6,
   "id": "49cc00f7-22da-4647-9507-8b0922adbe6c",
   "metadata": {},
   "outputs": [
    {
     "data": {
      "text/html": [
       "<div>\n",
       "<style scoped>\n",
       "    .dataframe tbody tr th:only-of-type {\n",
       "        vertical-align: middle;\n",
       "    }\n",
       "\n",
       "    .dataframe tbody tr th {\n",
       "        vertical-align: top;\n",
       "    }\n",
       "\n",
       "    .dataframe thead th {\n",
       "        text-align: right;\n",
       "    }\n",
       "</style>\n",
       "<table border=\"1\" class=\"dataframe\">\n",
       "  <thead>\n",
       "    <tr style=\"text-align: right;\">\n",
       "      <th></th>\n",
       "      <th>X(s)</th>\n",
       "    </tr>\n",
       "  </thead>\n",
       "  <tbody>\n",
       "    <tr>\n",
       "      <th>E[•]</th>\n",
       "      <td>5.895375</td>\n",
       "    </tr>\n",
       "    <tr>\n",
       "      <th>Var(•)</th>\n",
       "      <td>2.898915</td>\n",
       "    </tr>\n",
       "    <tr>\n",
       "      <th>SD(•)</th>\n",
       "      <td>1.702620</td>\n",
       "    </tr>\n",
       "  </tbody>\n",
       "</table>\n",
       "</div>"
      ],
      "text/plain": [
       "            X(s)\n",
       "E[•]    5.895375\n",
       "Var(•)  2.898915\n",
       "SD(•)   1.702620"
      ]
     },
     "metadata": {},
     "output_type": "display_data"
    },
    {
     "data": {
      "image/png": "[encoded data removed]",
      "text/plain": [
       "<Figure size 432x288 with 1 Axes>"
      ]
     },
     "metadata": {
      "needs_background": "light"
     },
     "output_type": "display_data"
    }
   ],
   "source": [
    "plot_simulated_dist(sim_df, \"X(s)\")\n",
    "plt.title(\"Simulated distribution of $X$\")\n",
    "plt.show()"
   ]
  },
  {
   "cell_type": "code",
   "execution_count": 7,
   "id": "c4d7ac13-7e02-48d4-b72e-5236d953f528",
   "metadata": {},
   "outputs": [
    {
     "data": {
      "text/plain": [
       "X(s)\n",
       "3    0.101525\n",
       "4    0.199525\n",
       "8    0.299500\n",
       "6    0.399450\n",
       "dtype: float64"
      ]
     },
     "execution_count": 7,
     "metadata": {},
     "output_type": "execute_result"
    }
   ],
   "source": [
    "# the tabular view of the above plot\n",
    "sim_df.value_counts(\"X(s)\").sort_values()/N"
   ]
  },
  {
   "cell_type": "markdown",
   "id": "3b57897a-0c14-4f0d-aec4-072c07b68851",
   "metadata": {},
   "source": [
    "<br/><br/>\n",
    "\n",
    "---\n",
    "\n",
    "# Die Is the Singular; Dice Is the Plural\n",
    "\n",
    "Let X be the outcome of a single die roll. X is a random variable."
   ]
  },
  {
   "cell_type": "code",
   "execution_count": 8,
   "id": "dd5a188f-391a-4e5f-ae35-f7bfd64870d4",
   "metadata": {},
   "outputs": [
    {
     "data": {
      "text/html": [
       "<div>\n",
       "<style scoped>\n",
       "    .dataframe tbody tr th:only-of-type {\n",
       "        vertical-align: middle;\n",
       "    }\n",
       "\n",
       "    .dataframe tbody tr th {\n",
       "        vertical-align: top;\n",
       "    }\n",
       "\n",
       "    .dataframe thead th {\n",
       "        text-align: right;\n",
       "    }\n",
       "</style>\n",
       "<table border=\"1\" class=\"dataframe\">\n",
       "  <thead>\n",
       "    <tr style=\"text-align: right;\">\n",
       "      <th></th>\n",
       "      <th>x</th>\n",
       "      <th>P(X = x)</th>\n",
       "    </tr>\n",
       "  </thead>\n",
       "  <tbody>\n",
       "    <tr>\n",
       "      <th>0</th>\n",
       "      <td>1</td>\n",
       "      <td>0.166667</td>\n",
       "    </tr>\n",
       "    <tr>\n",
       "      <th>1</th>\n",
       "      <td>2</td>\n",
       "      <td>0.166667</td>\n",
       "    </tr>\n",
       "    <tr>\n",
       "      <th>2</th>\n",
       "      <td>3</td>\n",
       "      <td>0.166667</td>\n",
       "    </tr>\n",
       "    <tr>\n",
       "      <th>3</th>\n",
       "      <td>4</td>\n",
       "      <td>0.166667</td>\n",
       "    </tr>\n",
       "    <tr>\n",
       "      <th>4</th>\n",
       "      <td>5</td>\n",
       "      <td>0.166667</td>\n",
       "    </tr>\n",
       "    <tr>\n",
       "      <th>5</th>\n",
       "      <td>6</td>\n",
       "      <td>0.166667</td>\n",
       "    </tr>\n",
       "  </tbody>\n",
       "</table>\n",
       "</div>"
      ],
      "text/plain": [
       "   x  P(X = x)\n",
       "0  1  0.166667\n",
       "1  2  0.166667\n",
       "2  3  0.166667\n",
       "3  4  0.166667\n",
       "4  5  0.166667\n",
       "5  6  0.166667"
      ]
     },
     "execution_count": 8,
     "metadata": {},
     "output_type": "execute_result"
    }
   ],
   "source": [
    "# our random variable X\n",
    "roll_df = pd.DataFrame({\"x\": [1, 2, 3, 4, 5, 6],\n",
    "                        \"P(X = x)\": np.ones(6)/6})\n",
    "roll_df"
   ]
  },
  {
   "cell_type": "code",
   "execution_count": 9,
   "id": "5a926d03-7eac-4f45-8b2a-23ba2faeeacb",
   "metadata": {},
   "outputs": [
    {
     "data": {
      "image/png": "[encoded data removed]",
      "text/plain": [
       "<Figure size 432x288 with 1 Axes>"
      ]
     },
     "metadata": {
      "needs_background": "light"
     },
     "output_type": "display_data"
    }
   ],
   "source": [
    "plot_dist(roll_df)"
   ]
  },
  {
   "cell_type": "markdown",
   "id": "6a05ae03-395f-4f4a-941f-35bde96375c0",
   "metadata": {
    "tags": []
   },
   "source": [
    "<br/><br/>\n",
    "\n",
    "---\n",
    "\n",
    "# Sum of 2 Dice Rolls\n",
    "\n",
    "Here's the distribution of a single die roll:"
   ]
  },
  {
   "cell_type": "code",
   "execution_count": 10,
   "id": "5fee4f2b-7f72-469e-beea-eeb21c72d70d",
   "metadata": {},
   "outputs": [
    {
     "data": {
      "text/html": [
       "<div>\n",
       "<style scoped>\n",
       "    .dataframe tbody tr th:only-of-type {\n",
       "        vertical-align: middle;\n",
       "    }\n",
       "\n",
       "    .dataframe tbody tr th {\n",
       "        vertical-align: top;\n",
       "    }\n",
       "\n",
       "    .dataframe thead th {\n",
       "        text-align: right;\n",
       "    }\n",
       "</style>\n",
       "<table border=\"1\" class=\"dataframe\">\n",
       "  <thead>\n",
       "    <tr style=\"text-align: right;\">\n",
       "      <th></th>\n",
       "      <th>x</th>\n",
       "      <th>P(X = x)</th>\n",
       "    </tr>\n",
       "  </thead>\n",
       "  <tbody>\n",
       "    <tr>\n",
       "      <th>0</th>\n",
       "      <td>1</td>\n",
       "      <td>0.166667</td>\n",
       "    </tr>\n",
       "    <tr>\n",
       "      <th>1</th>\n",
       "      <td>2</td>\n",
       "      <td>0.166667</td>\n",
       "    </tr>\n",
       "    <tr>\n",
       "      <th>2</th>\n",
       "      <td>3</td>\n",
       "      <td>0.166667</td>\n",
       "    </tr>\n",
       "    <tr>\n",
       "      <th>3</th>\n",
       "      <td>4</td>\n",
       "      <td>0.166667</td>\n",
       "    </tr>\n",
       "    <tr>\n",
       "      <th>4</th>\n",
       "      <td>5</td>\n",
       "      <td>0.166667</td>\n",
       "    </tr>\n",
       "    <tr>\n",
       "      <th>5</th>\n",
       "      <td>6</td>\n",
       "      <td>0.166667</td>\n",
       "    </tr>\n",
       "  </tbody>\n",
       "</table>\n",
       "</div>"
      ],
      "text/plain": [
       "   x  P(X = x)\n",
       "0  1  0.166667\n",
       "1  2  0.166667\n",
       "2  3  0.166667\n",
       "3  4  0.166667\n",
       "4  5  0.166667\n",
       "5  6  0.166667"
      ]
     },
     "execution_count": 10,
     "metadata": {},
     "output_type": "execute_result"
    }
   ],
   "source": [
    "roll_df = pd.DataFrame({\"x\": [1, 2, 3, 4, 5, 6],\n",
    "                        \"P(X = x)\": np.ones(6)/6})\n",
    "roll_df"
   ]
  },
  {
   "cell_type": "markdown",
   "id": "5d64b6dd-f633-4fa5-9012-0e23fce30082",
   "metadata": {},
   "source": [
    "\n",
    "Let $X_1, X_2$ are the outcomes of two dice rolls. Note $X_1$ and $X_2$ are i.i.d. (independent and identically distributed)."
   ]
  },
  {
   "cell_type": "markdown",
   "id": "3ac8aca6-5adf-48f1-a0d7-b031b8734467",
   "metadata": {},
   "source": [
    "Below I call a helper function `simulate_iid_df`, which simulates an 80,000-row table of $X_1, X_2$ values. It uses `np.random.choice(arr, size, p)` [link](https://numpy.org/doc/stable/reference/random/generated/numpy.random.choice.html) where `arr` is the array the values and `p` is the probability associated with choosing each value. If you're interested in the implementation details, scroll up."
   ]
  },
  {
   "cell_type": "code",
   "execution_count": 11,
   "id": "eb427a44-7cd7-4195-b435-6c789e4381aa",
   "metadata": {},
   "outputs": [
    {
     "data": {
      "text/html": [
       "<div>\n",
       "<style scoped>\n",
       "    .dataframe tbody tr th:only-of-type {\n",
       "        vertical-align: middle;\n",
       "    }\n",
       "\n",
       "    .dataframe tbody tr th {\n",
       "        vertical-align: top;\n",
       "    }\n",
       "\n",
       "    .dataframe thead th {\n",
       "        text-align: right;\n",
       "    }\n",
       "</style>\n",
       "<table border=\"1\" class=\"dataframe\">\n",
       "  <thead>\n",
       "    <tr style=\"text-align: right;\">\n",
       "      <th></th>\n",
       "      <th>X_1</th>\n",
       "      <th>X_2</th>\n",
       "    </tr>\n",
       "  </thead>\n",
       "  <tbody>\n",
       "    <tr>\n",
       "      <th>0</th>\n",
       "      <td>5</td>\n",
       "      <td>5</td>\n",
       "    </tr>\n",
       "    <tr>\n",
       "      <th>1</th>\n",
       "      <td>6</td>\n",
       "      <td>3</td>\n",
       "    </tr>\n",
       "    <tr>\n",
       "      <th>2</th>\n",
       "      <td>3</td>\n",
       "      <td>2</td>\n",
       "    </tr>\n",
       "    <tr>\n",
       "      <th>3</th>\n",
       "      <td>6</td>\n",
       "      <td>6</td>\n",
       "    </tr>\n",
       "    <tr>\n",
       "      <th>4</th>\n",
       "      <td>4</td>\n",
       "      <td>2</td>\n",
       "    </tr>\n",
       "    <tr>\n",
       "      <th>...</th>\n",
       "      <td>...</td>\n",
       "      <td>...</td>\n",
       "    </tr>\n",
       "    <tr>\n",
       "      <th>79995</th>\n",
       "      <td>1</td>\n",
       "      <td>4</td>\n",
       "    </tr>\n",
       "    <tr>\n",
       "      <th>79996</th>\n",
       "      <td>1</td>\n",
       "      <td>6</td>\n",
       "    </tr>\n",
       "    <tr>\n",
       "      <th>79997</th>\n",
       "      <td>1</td>\n",
       "      <td>5</td>\n",
       "    </tr>\n",
       "    <tr>\n",
       "      <th>79998</th>\n",
       "      <td>6</td>\n",
       "      <td>6</td>\n",
       "    </tr>\n",
       "    <tr>\n",
       "      <th>79999</th>\n",
       "      <td>6</td>\n",
       "      <td>3</td>\n",
       "    </tr>\n",
       "  </tbody>\n",
       "</table>\n",
       "<p>80000 rows × 2 columns</p>\n",
       "</div>"
      ],
      "text/plain": [
       "       X_1  X_2\n",
       "0        5    5\n",
       "1        6    3\n",
       "2        3    2\n",
       "3        6    6\n",
       "4        4    2\n",
       "...    ...  ...\n",
       "79995    1    4\n",
       "79996    1    6\n",
       "79997    1    5\n",
       "79998    6    6\n",
       "79999    6    3\n",
       "\n",
       "[80000 rows x 2 columns]"
      ]
     },
     "execution_count": 11,
     "metadata": {},
     "output_type": "execute_result"
    }
   ],
   "source": [
    "N = 80000\n",
    "sim_rolls_df = simulate_iid_df(roll_df, nvars=2, rows=N)\n",
    "sim_rolls_df"
   ]
  },
  {
   "cell_type": "markdown",
   "id": "e9111bc0-ae1e-43fc-a4ae-5d438b67b9f5",
   "metadata": {},
   "source": [
    "Define the following random variables, which are functions of $X_1$ and $X_2$:\n",
    "* $Y = X_1 + X_1 = 2 X_1$\n",
    "* $Z = X_1 + X_2$\n",
    "\n",
    "We can use our simulated values of $X_1, X_2$ to create new columns $Y$ and $Z$:"
   ]
  },
  {
   "cell_type": "code",
   "execution_count": 12,
   "id": "625d2c0a-895c-48a0-aee6-65e16f644531",
   "metadata": {},
   "outputs": [
    {
     "data": {
      "text/html": [
       "<div>\n",
       "<style scoped>\n",
       "    .dataframe tbody tr th:only-of-type {\n",
       "        vertical-align: middle;\n",
       "    }\n",
       "\n",
       "    .dataframe tbody tr th {\n",
       "        vertical-align: top;\n",
       "    }\n",
       "\n",
       "    .dataframe thead th {\n",
       "        text-align: right;\n",
       "    }\n",
       "</style>\n",
       "<table border=\"1\" class=\"dataframe\">\n",
       "  <thead>\n",
       "    <tr style=\"text-align: right;\">\n",
       "      <th></th>\n",
       "      <th>X_1</th>\n",
       "      <th>X_2</th>\n",
       "      <th>Y</th>\n",
       "      <th>Z</th>\n",
       "    </tr>\n",
       "  </thead>\n",
       "  <tbody>\n",
       "    <tr>\n",
       "      <th>0</th>\n",
       "      <td>5</td>\n",
       "      <td>5</td>\n",
       "      <td>10</td>\n",
       "      <td>10</td>\n",
       "    </tr>\n",
       "    <tr>\n",
       "      <th>1</th>\n",
       "      <td>6</td>\n",
       "      <td>3</td>\n",
       "      <td>12</td>\n",
       "      <td>9</td>\n",
       "    </tr>\n",
       "    <tr>\n",
       "      <th>2</th>\n",
       "      <td>3</td>\n",
       "      <td>2</td>\n",
       "      <td>6</td>\n",
       "      <td>5</td>\n",
       "    </tr>\n",
       "    <tr>\n",
       "      <th>3</th>\n",
       "      <td>6</td>\n",
       "      <td>6</td>\n",
       "      <td>12</td>\n",
       "      <td>12</td>\n",
       "    </tr>\n",
       "    <tr>\n",
       "      <th>4</th>\n",
       "      <td>4</td>\n",
       "      <td>2</td>\n",
       "      <td>8</td>\n",
       "      <td>6</td>\n",
       "    </tr>\n",
       "    <tr>\n",
       "      <th>...</th>\n",
       "      <td>...</td>\n",
       "      <td>...</td>\n",
       "      <td>...</td>\n",
       "      <td>...</td>\n",
       "    </tr>\n",
       "    <tr>\n",
       "      <th>79995</th>\n",
       "      <td>1</td>\n",
       "      <td>4</td>\n",
       "      <td>2</td>\n",
       "      <td>5</td>\n",
       "    </tr>\n",
       "    <tr>\n",
       "      <th>79996</th>\n",
       "      <td>1</td>\n",
       "      <td>6</td>\n",
       "      <td>2</td>\n",
       "      <td>7</td>\n",
       "    </tr>\n",
       "    <tr>\n",
       "      <th>79997</th>\n",
       "      <td>1</td>\n",
       "      <td>5</td>\n",
       "      <td>2</td>\n",
       "      <td>6</td>\n",
       "    </tr>\n",
       "    <tr>\n",
       "      <th>79998</th>\n",
       "      <td>6</td>\n",
       "      <td>6</td>\n",
       "      <td>12</td>\n",
       "      <td>12</td>\n",
       "    </tr>\n",
       "    <tr>\n",
       "      <th>79999</th>\n",
       "      <td>6</td>\n",
       "      <td>3</td>\n",
       "      <td>12</td>\n",
       "      <td>9</td>\n",
       "    </tr>\n",
       "  </tbody>\n",
       "</table>\n",
       "<p>80000 rows × 4 columns</p>\n",
       "</div>"
      ],
      "text/plain": [
       "       X_1  X_2   Y   Z\n",
       "0        5    5  10  10\n",
       "1        6    3  12   9\n",
       "2        3    2   6   5\n",
       "3        6    6  12  12\n",
       "4        4    2   8   6\n",
       "...    ...  ...  ..  ..\n",
       "79995    1    4   2   5\n",
       "79996    1    6   2   7\n",
       "79997    1    5   2   6\n",
       "79998    6    6  12  12\n",
       "79999    6    3  12   9\n",
       "\n",
       "[80000 rows x 4 columns]"
      ]
     },
     "execution_count": 12,
     "metadata": {},
     "output_type": "execute_result"
    }
   ],
   "source": [
    "sim_rolls_df['Y'] = 2 * sim_rolls_df['X_1']\n",
    "sim_rolls_df['Z'] = sim_rolls_df['X_1'] + sim_rolls_df['X_2']\n",
    "sim_rolls_df"
   ]
  },
  {
   "cell_type": "markdown",
   "id": "c208ce1c-12a5-4c07-8cad-b3df92098c53",
   "metadata": {},
   "source": [
    "Now that we have simulated samples of $Y$ and $Z$, we can plot histograms to see their distributions!\n",
    "\n",
    "<br/>\n",
    "Distribution of $Y$, which was twice the value of our first die roll:"
   ]
  },
  {
   "cell_type": "code",
   "execution_count": 13,
   "id": "ae821675-9a9c-4b33-bbcb-31e297d294c3",
   "metadata": {},
   "outputs": [
    {
     "data": {
      "text/html": [
       "<div>\n",
       "<style scoped>\n",
       "    .dataframe tbody tr th:only-of-type {\n",
       "        vertical-align: middle;\n",
       "    }\n",
       "\n",
       "    .dataframe tbody tr th {\n",
       "        vertical-align: top;\n",
       "    }\n",
       "\n",
       "    .dataframe thead th {\n",
       "        text-align: right;\n",
       "    }\n",
       "</style>\n",
       "<table border=\"1\" class=\"dataframe\">\n",
       "  <thead>\n",
       "    <tr style=\"text-align: right;\">\n",
       "      <th></th>\n",
       "      <th>Y</th>\n",
       "    </tr>\n",
       "  </thead>\n",
       "  <tbody>\n",
       "    <tr>\n",
       "      <th>E[•]</th>\n",
       "      <td>6.993875</td>\n",
       "    </tr>\n",
       "    <tr>\n",
       "      <th>Var(•)</th>\n",
       "      <td>11.690509</td>\n",
       "    </tr>\n",
       "    <tr>\n",
       "      <th>SD(•)</th>\n",
       "      <td>3.419139</td>\n",
       "    </tr>\n",
       "  </tbody>\n",
       "</table>\n",
       "</div>"
      ],
      "text/plain": [
       "                Y\n",
       "E[•]     6.993875\n",
       "Var(•)  11.690509\n",
       "SD(•)    3.419139"
      ]
     },
     "metadata": {},
     "output_type": "display_data"
    },
    {
     "data": {
      "image/png": "[encoded data removed]",
      "text/plain": [
       "<Figure size 432x288 with 1 Axes>"
      ]
     },
     "metadata": {
      "needs_background": "light"
     },
     "output_type": "display_data"
    }
   ],
   "source": [
    "plot_simulated_dist(sim_rolls_df, \"Y\", save=True)"
   ]
  },
  {
   "cell_type": "markdown",
   "id": "94e3797c-ce75-482a-b81f-937197dd9b18",
   "metadata": {},
   "source": [
    "Distribution of $Z$, the sum of two IID dice rolls:"
   ]
  },
  {
   "cell_type": "code",
   "execution_count": 14,
   "id": "16d76090-ae4a-4d89-b9f2-78b511942502",
   "metadata": {},
   "outputs": [
    {
     "data": {
      "text/html": [
       "<div>\n",
       "<style scoped>\n",
       "    .dataframe tbody tr th:only-of-type {\n",
       "        vertical-align: middle;\n",
       "    }\n",
       "\n",
       "    .dataframe tbody tr th {\n",
       "        vertical-align: top;\n",
       "    }\n",
       "\n",
       "    .dataframe thead th {\n",
       "        text-align: right;\n",
       "    }\n",
       "</style>\n",
       "<table border=\"1\" class=\"dataframe\">\n",
       "  <thead>\n",
       "    <tr style=\"text-align: right;\">\n",
       "      <th></th>\n",
       "      <th>Z</th>\n",
       "    </tr>\n",
       "  </thead>\n",
       "  <tbody>\n",
       "    <tr>\n",
       "      <th>E[•]</th>\n",
       "      <td>6.993025</td>\n",
       "    </tr>\n",
       "    <tr>\n",
       "      <th>Var(•)</th>\n",
       "      <td>5.840824</td>\n",
       "    </tr>\n",
       "    <tr>\n",
       "      <th>SD(•)</th>\n",
       "      <td>2.416780</td>\n",
       "    </tr>\n",
       "  </tbody>\n",
       "</table>\n",
       "</div>"
      ],
      "text/plain": [
       "               Z\n",
       "E[•]    6.993025\n",
       "Var(•)  5.840824\n",
       "SD(•)   2.416780"
      ]
     },
     "metadata": {},
     "output_type": "display_data"
    },
    {
     "data": {
      "image/png": "[encoded data removed]",
      "text/plain": [
       "<Figure size 432x288 with 1 Axes>"
      ]
     },
     "metadata": {
      "needs_background": "light"
     },
     "output_type": "display_data"
    }
   ],
   "source": [
    "plot_simulated_dist(sim_rolls_df, \"Z\", save=True, color='gold')"
   ]
  },
  {
   "cell_type": "markdown",
   "id": "aa6a2bf3-0144-4458-bc72-c9e61acdfb51",
   "metadata": {},
   "source": [
    "Let's compare the expectations and variances of these simulated distributions of $Y$ and $Z$.\n",
    "* We computed:\n",
    "    * $\\mathbb{E}[Y]$ as `np.mean(sim_rolls_df['Y'])`\n",
    "    * $\\text{Var}(Y)$ as `np.var(sim_rolls_df['Y']`\n",
    "    * etc.\n",
    "* The larger your simulated rows $N$, the closer the simulated expectation will be to the true expectation.\n",
    "* Our approach is tedious--we have to simulate an entire population, then reduce it down to expectation/variance/standard deviation. There has to be a better way!"
   ]
  },
  {
   "cell_type": "code",
   "execution_count": 15,
   "id": "b8907aa6-6384-423a-b129-06171bcce115",
   "metadata": {},
   "outputs": [
    {
     "data": {
      "text/html": [
       "<div>\n",
       "<style scoped>\n",
       "    .dataframe tbody tr th:only-of-type {\n",
       "        vertical-align: middle;\n",
       "    }\n",
       "\n",
       "    .dataframe tbody tr th {\n",
       "        vertical-align: top;\n",
       "    }\n",
       "\n",
       "    .dataframe thead th {\n",
       "        text-align: right;\n",
       "    }\n",
       "</style>\n",
       "<table border=\"1\" class=\"dataframe\">\n",
       "  <thead>\n",
       "    <tr style=\"text-align: right;\">\n",
       "      <th></th>\n",
       "      <th>Y</th>\n",
       "      <th>Z</th>\n",
       "    </tr>\n",
       "  </thead>\n",
       "  <tbody>\n",
       "    <tr>\n",
       "      <th>E[•]</th>\n",
       "      <td>6.993875</td>\n",
       "      <td>6.993025</td>\n",
       "    </tr>\n",
       "    <tr>\n",
       "      <th>Var(•)</th>\n",
       "      <td>11.690509</td>\n",
       "      <td>5.840824</td>\n",
       "    </tr>\n",
       "    <tr>\n",
       "      <th>SD(•)</th>\n",
       "      <td>3.419139</td>\n",
       "      <td>2.416780</td>\n",
       "    </tr>\n",
       "  </tbody>\n",
       "</table>\n",
       "</div>"
      ],
      "text/plain": [
       "                Y         Z\n",
       "E[•]     6.993875  6.993025\n",
       "Var(•)  11.690509  5.840824\n",
       "SD(•)    3.419139  2.416780"
      ]
     },
     "execution_count": 15,
     "metadata": {},
     "output_type": "execute_result"
    }
   ],
   "source": [
    "stats_df_multi(sim_rolls_df, [\"Y\", \"Z\"])"
   ]
  },
  {
   "cell_type": "markdown",
   "id": "f713a497-f9db-47c6-9362-7479cb6cdc23",
   "metadata": {
    "tags": []
   },
   "source": [
    "<br/><br/>\n",
    "\n",
    "---\n",
    "\n",
    "# Which would you pick?\n",
    "\n",
    "* $\\large Y_A = 10 X_1 + 10 X_2 $\n",
    "* $\\large Y_B = \\sum\\limits_{i=1}^{20} X_i$\n",
    "* $\\large Y_C = 20 X_1$"
   ]
  },
  {
   "cell_type": "markdown",
   "id": "d8e305c8-42c7-4305-b04c-8d7b31dea38a",
   "metadata": {},
   "source": [
    "First let's construct the probability distribution for a single coin. This will let us flip 20 IID coins later."
   ]
  },
  {
   "cell_type": "code",
   "execution_count": 17,
   "id": "4ca0490c-64da-4766-a7dd-925f91a4a686",
   "metadata": {},
   "outputs": [
    {
     "data": {
      "text/html": [
       "<div>\n",
       "<style scoped>\n",
       "    .dataframe tbody tr th:only-of-type {\n",
       "        vertical-align: middle;\n",
       "    }\n",
       "\n",
       "    .dataframe tbody tr th {\n",
       "        vertical-align: top;\n",
       "    }\n",
       "\n",
       "    .dataframe thead th {\n",
       "        text-align: right;\n",
       "    }\n",
       "</style>\n",
       "<table border=\"1\" class=\"dataframe\">\n",
       "  <thead>\n",
       "    <tr style=\"text-align: right;\">\n",
       "      <th></th>\n",
       "      <th>x</th>\n",
       "      <th>P(X = x)</th>\n",
       "    </tr>\n",
       "  </thead>\n",
       "  <tbody>\n",
       "    <tr>\n",
       "      <th>0</th>\n",
       "      <td>0</td>\n",
       "      <td>0.5</td>\n",
       "    </tr>\n",
       "    <tr>\n",
       "      <th>1</th>\n",
       "      <td>1</td>\n",
       "      <td>0.5</td>\n",
       "    </tr>\n",
       "  </tbody>\n",
       "</table>\n",
       "</div>"
      ],
      "text/plain": [
       "   x  P(X = x)\n",
       "0  0       0.5\n",
       "1  1       0.5"
      ]
     },
     "execution_count": 17,
     "metadata": {},
     "output_type": "execute_result"
    }
   ],
   "source": [
    "# First construct probability distribution for a single fair coin\n",
    "p = 0.5\n",
    "coin_df = pd.DataFrame({\"x\": [0, 1], # [Tails, Heads]\n",
    "                        \"P(X = x)\": [p, 1 - p]})\n",
    "coin_df"
   ]
  },
  {
   "cell_type": "markdown",
   "id": "9f95154e-c529-48f6-ba9a-3f4694703141",
   "metadata": {},
   "source": [
    "## Choice A:\n",
    "$\\large Y_A = 10 X_1 + 10 X_2 $"
   ]
  },
  {
   "cell_type": "code",
   "execution_count": 18,
   "id": "3d8c9f8e-4308-479a-a8bf-353a0000d991",
   "metadata": {},
   "outputs": [
    {
     "name": "stdout",
     "output_type": "stream",
     "text": [
      "Sample of size 1:\n"
     ]
    },
    {
     "data": {
      "text/html": [
       "<div>\n",
       "<style scoped>\n",
       "    .dataframe tbody tr th:only-of-type {\n",
       "        vertical-align: middle;\n",
       "    }\n",
       "\n",
       "    .dataframe tbody tr th {\n",
       "        vertical-align: top;\n",
       "    }\n",
       "\n",
       "    .dataframe thead th {\n",
       "        text-align: right;\n",
       "    }\n",
       "</style>\n",
       "<table border=\"1\" class=\"dataframe\">\n",
       "  <thead>\n",
       "    <tr style=\"text-align: right;\">\n",
       "      <th></th>\n",
       "      <th>X_1</th>\n",
       "      <th>X_2</th>\n",
       "      <th>X_3</th>\n",
       "      <th>X_4</th>\n",
       "      <th>X_5</th>\n",
       "      <th>X_6</th>\n",
       "      <th>X_7</th>\n",
       "      <th>X_8</th>\n",
       "      <th>X_9</th>\n",
       "      <th>X_10</th>\n",
       "      <th>...</th>\n",
       "      <th>X_12</th>\n",
       "      <th>X_13</th>\n",
       "      <th>X_14</th>\n",
       "      <th>X_15</th>\n",
       "      <th>X_16</th>\n",
       "      <th>X_17</th>\n",
       "      <th>X_18</th>\n",
       "      <th>X_19</th>\n",
       "      <th>X_20</th>\n",
       "      <th>Y_A</th>\n",
       "    </tr>\n",
       "  </thead>\n",
       "  <tbody>\n",
       "    <tr>\n",
       "      <th>0</th>\n",
       "      <td>1</td>\n",
       "      <td>1</td>\n",
       "      <td>0</td>\n",
       "      <td>0</td>\n",
       "      <td>0</td>\n",
       "      <td>0</td>\n",
       "      <td>0</td>\n",
       "      <td>1</td>\n",
       "      <td>1</td>\n",
       "      <td>0</td>\n",
       "      <td>...</td>\n",
       "      <td>0</td>\n",
       "      <td>0</td>\n",
       "      <td>1</td>\n",
       "      <td>0</td>\n",
       "      <td>0</td>\n",
       "      <td>1</td>\n",
       "      <td>1</td>\n",
       "      <td>0</td>\n",
       "      <td>1</td>\n",
       "      <td>20</td>\n",
       "    </tr>\n",
       "  </tbody>\n",
       "</table>\n",
       "<p>1 rows × 21 columns</p>\n",
       "</div>"
      ],
      "text/plain": [
       "   X_1  X_2  X_3  X_4  X_5  X_6  X_7  X_8  X_9  X_10  ...  X_12  X_13  X_14  \\\n",
       "0    1    1    0    0    0    0    0    1    1     0  ...     0     0     1   \n",
       "\n",
       "   X_15  X_16  X_17  X_18  X_19  X_20  Y_A  \n",
       "0     0     0     1     1     0     1   20  \n",
       "\n",
       "[1 rows x 21 columns]"
      ]
     },
     "metadata": {},
     "output_type": "display_data"
    },
    {
     "name": "stdout",
     "output_type": "stream",
     "text": [
      "Y_A: 20\n"
     ]
    }
   ],
   "source": [
    "# Flip 20 iid coins, each exactly once\n",
    "flips20_df = simulate_iid_df(coin_df, nvars=20, rows=1)\n",
    "\n",
    "# Construct Y_A from this sample\n",
    "flips20_df[\"Y_A\"] = 10*flips20_df[\"X_1\"] + 10*flips20_df[\"X_2\"]\n",
    "\n",
    "print(\"Sample of size 1:\")\n",
    "display(flips20_df)\n",
    "print(\"Y_A:\", flips20_df.loc[0,\"Y_A\"])"
   ]
  },
  {
   "cell_type": "markdown",
   "id": "ac698f21-1671-4e81-9f5a-2709298eab10",
   "metadata": {
    "tags": []
   },
   "source": [
    "## Choice B:\n",
    "\n",
    "$\\large Y_B = \\sum\\limits_{i=1}^{20} X_i$"
   ]
  },
  {
   "cell_type": "code",
   "execution_count": 19,
   "id": "1a87816b-54ce-45f7-88d9-4791a31f2c75",
   "metadata": {},
   "outputs": [
    {
     "data": {
      "text/html": [
       "<div>\n",
       "<style scoped>\n",
       "    .dataframe tbody tr th:only-of-type {\n",
       "        vertical-align: middle;\n",
       "    }\n",
       "\n",
       "    .dataframe tbody tr th {\n",
       "        vertical-align: top;\n",
       "    }\n",
       "\n",
       "    .dataframe thead th {\n",
       "        text-align: right;\n",
       "    }\n",
       "</style>\n",
       "<table border=\"1\" class=\"dataframe\">\n",
       "  <thead>\n",
       "    <tr style=\"text-align: right;\">\n",
       "      <th></th>\n",
       "      <th>X_1</th>\n",
       "      <th>X_2</th>\n",
       "      <th>X_3</th>\n",
       "      <th>X_4</th>\n",
       "      <th>X_5</th>\n",
       "      <th>X_6</th>\n",
       "      <th>X_7</th>\n",
       "      <th>X_8</th>\n",
       "      <th>X_9</th>\n",
       "      <th>X_10</th>\n",
       "      <th>...</th>\n",
       "      <th>X_12</th>\n",
       "      <th>X_13</th>\n",
       "      <th>X_14</th>\n",
       "      <th>X_15</th>\n",
       "      <th>X_16</th>\n",
       "      <th>X_17</th>\n",
       "      <th>X_18</th>\n",
       "      <th>X_19</th>\n",
       "      <th>X_20</th>\n",
       "      <th>Y_B</th>\n",
       "    </tr>\n",
       "  </thead>\n",
       "  <tbody>\n",
       "    <tr>\n",
       "      <th>0</th>\n",
       "      <td>0</td>\n",
       "      <td>1</td>\n",
       "      <td>0</td>\n",
       "      <td>0</td>\n",
       "      <td>1</td>\n",
       "      <td>1</td>\n",
       "      <td>0</td>\n",
       "      <td>0</td>\n",
       "      <td>0</td>\n",
       "      <td>1</td>\n",
       "      <td>...</td>\n",
       "      <td>1</td>\n",
       "      <td>0</td>\n",
       "      <td>0</td>\n",
       "      <td>1</td>\n",
       "      <td>0</td>\n",
       "      <td>1</td>\n",
       "      <td>0</td>\n",
       "      <td>0</td>\n",
       "      <td>0</td>\n",
       "      <td>8</td>\n",
       "    </tr>\n",
       "  </tbody>\n",
       "</table>\n",
       "<p>1 rows × 21 columns</p>\n",
       "</div>"
      ],
      "text/plain": [
       "   X_1  X_2  X_3  X_4  X_5  X_6  X_7  X_8  X_9  X_10  ...  X_12  X_13  X_14  \\\n",
       "0    0    1    0    0    1    1    0    0    0     1  ...     1     0     0   \n",
       "\n",
       "   X_15  X_16  X_17  X_18  X_19  X_20  Y_B  \n",
       "0     1     0     1     0     0     0    8  \n",
       "\n",
       "[1 rows x 21 columns]"
      ]
     },
     "metadata": {},
     "output_type": "display_data"
    },
    {
     "name": "stdout",
     "output_type": "stream",
     "text": [
      "Y_B: 8\n"
     ]
    }
   ],
   "source": [
    "# Flip 20 iid coins, each exactly once\n",
    "flips20_df = simulate_iid_df(coin_df, nvars=20, rows=1)\n",
    "\n",
    "# Construct Y_B from this sample\n",
    "flips20_df[\"Y_B\"] = flips20_df.sum(axis=1) # sum all coins\n",
    "\n",
    "display(flips20_df)\n",
    "print(\"Y_B:\", flips20_df.loc[0,\"Y_B\"])"
   ]
  },
  {
   "cell_type": "markdown",
   "id": "ba15caf4-4e26-4df2-9eb5-80525ca920ed",
   "metadata": {
    "tags": []
   },
   "source": [
    "## Choice C:\n",
    "\n",
    "$\\large Y_C = 20 X_1$"
   ]
  },
  {
   "cell_type": "code",
   "execution_count": 20,
   "id": "e69fa56f-5cd5-436c-b5d3-1af95bad4fe7",
   "metadata": {},
   "outputs": [
    {
     "data": {
      "text/html": [
       "<div>\n",
       "<style scoped>\n",
       "    .dataframe tbody tr th:only-of-type {\n",
       "        vertical-align: middle;\n",
       "    }\n",
       "\n",
       "    .dataframe tbody tr th {\n",
       "        vertical-align: top;\n",
       "    }\n",
       "\n",
       "    .dataframe thead th {\n",
       "        text-align: right;\n",
       "    }\n",
       "</style>\n",
       "<table border=\"1\" class=\"dataframe\">\n",
       "  <thead>\n",
       "    <tr style=\"text-align: right;\">\n",
       "      <th></th>\n",
       "      <th>X_1</th>\n",
       "      <th>Y_C</th>\n",
       "    </tr>\n",
       "  </thead>\n",
       "  <tbody>\n",
       "    <tr>\n",
       "      <th>0</th>\n",
       "      <td>0</td>\n",
       "      <td>0</td>\n",
       "    </tr>\n",
       "  </tbody>\n",
       "</table>\n",
       "</div>"
      ],
      "text/plain": [
       "   X_1  Y_C\n",
       "0    0    0"
      ]
     },
     "metadata": {},
     "output_type": "display_data"
    },
    {
     "name": "stdout",
     "output_type": "stream",
     "text": [
      "Y_C: 0\n"
     ]
    }
   ],
   "source": [
    "# Flip 20 iid coins, each exactly once\n",
    "flips20_df = simulate_iid_df(coin_df, nvars=20, rows=1)\n",
    "\n",
    "# Construct Y_C from this sample\n",
    "flips20_df[\"Y_C\"] = 20*flips20_df[\"X_1\"]\n",
    "\n",
    "display(flips20_df[[\"X_1\", \"Y_C\"]])\n",
    "print(\"Y_C:\", flips20_df.loc[0,\"Y_C\"])"
   ]
  },
  {
   "cell_type": "markdown",
   "id": "cd50867c-9dc6-47bd-bf80-4f55b3314c6c",
   "metadata": {},
   "source": [
    "<br/>\n",
    "If you're curious as to what these distributions look like, I've simulated some populations:"
   ]
  },
  {
   "cell_type": "code",
   "execution_count": 35,
   "id": "5271b807-18f4-4376-afb5-ccc00c2a36b4",
   "metadata": {},
   "outputs": [
    {
     "name": "stdout",
     "output_type": "stream",
     "text": [
      "80000 simulated samples\n"
     ]
    },
    {
     "data": {
      "text/html": [
       "<div>\n",
       "<style scoped>\n",
       "    .dataframe tbody tr th:only-of-type {\n",
       "        vertical-align: middle;\n",
       "    }\n",
       "\n",
       "    .dataframe tbody tr th {\n",
       "        vertical-align: top;\n",
       "    }\n",
       "\n",
       "    .dataframe thead th {\n",
       "        text-align: right;\n",
       "    }\n",
       "</style>\n",
       "<table border=\"1\" class=\"dataframe\">\n",
       "  <thead>\n",
       "    <tr style=\"text-align: right;\">\n",
       "      <th></th>\n",
       "      <th>Y_A</th>\n",
       "      <th>Y_B</th>\n",
       "      <th>Y_C</th>\n",
       "    </tr>\n",
       "  </thead>\n",
       "  <tbody>\n",
       "    <tr>\n",
       "      <th>E[•]</th>\n",
       "      <td>10.012250</td>\n",
       "      <td>10.014463</td>\n",
       "      <td>12.524563</td>\n",
       "    </tr>\n",
       "    <tr>\n",
       "      <th>Var(•)</th>\n",
       "      <td>50.015475</td>\n",
       "      <td>4.990516</td>\n",
       "      <td>56.250100</td>\n",
       "    </tr>\n",
       "    <tr>\n",
       "      <th>SD(•)</th>\n",
       "      <td>7.072162</td>\n",
       "      <td>2.233946</td>\n",
       "      <td>7.500007</td>\n",
       "    </tr>\n",
       "  </tbody>\n",
       "</table>\n",
       "</div>"
      ],
      "text/plain": [
       "              Y_A        Y_B        Y_C\n",
       "E[•]    10.012250  10.014463  12.524563\n",
       "Var(•)  50.015475   4.990516  56.250100\n",
       "SD(•)    7.072162   2.233946   7.500007"
      ]
     },
     "metadata": {},
     "output_type": "display_data"
    },
    {
     "data": {
      "image/png": "[encoded data removed]",
      "text/plain": [
       "<Figure size 432x576 with 3 Axes>"
      ]
     },
     "metadata": {
      "needs_background": "light"
     },
     "output_type": "display_data"
    }
   ],
   "source": [
    "# simulate one big population of 20 fair flips, N = 80,000\n",
    "N = 80000\n",
    "df_coins = simulate_iid_df(coin_df, nvars=20, rows=N)\n",
    "print(f\"{N} simulated samples\")\n",
    "\n",
    "\n",
    "# construct Y_A, Y_B, Y_C from this population\n",
    "df_coins[\"Y_A\"] = 10*df_coins[\"X_1\"] + 10*df_coins[\"X_2\"]\n",
    "df_coins[\"Y_B\"] = df_coins.loc[:,\"X_1\":\"X_20\"].sum(axis=1)\n",
    "df_coins[\"Y_C\"] = 5 + 15*df_coins[\"X_1\"]\n",
    "plot_simulated_dist_multi(df_coins, [\"Y_A\", \"Y_B\", \"Y_C\"])\n",
    "\n",
    "# adjust axes for nicer plotting\n",
    "axs = plt.gcf().axes\n",
    "axs[1].set_xlim(axs[0].get_xlim())    # Y_B\n",
    "axs[1].set_xticks([0, 5, 10, 15, 20]) # Y_B\n",
    "axs[2].set_xlim(axs[0].get_xlim())    # Y_C\n",
    "plt.show()"
   ]
  },
  {
   "cell_type": "markdown",
   "id": "59673d78-8745-40a8-80ab-c86c85902aa7",
   "metadata": {},
   "source": [
    "<br/><br/>\n",
    "\n",
    "If we flipped 100 coins, look how beautiful the Binomial distribution looks:"
   ]
  },
  {
   "cell_type": "code",
   "execution_count": 33,
   "id": "2b380e06-e8e7-4d06-81fb-0ffd7837768a",
   "metadata": {},
   "outputs": [
    {
     "data": {
      "text/html": [
       "<div>\n",
       "<style scoped>\n",
       "    .dataframe tbody tr th:only-of-type {\n",
       "        vertical-align: middle;\n",
       "    }\n",
       "\n",
       "    .dataframe tbody tr th {\n",
       "        vertical-align: top;\n",
       "    }\n",
       "\n",
       "    .dataframe thead th {\n",
       "        text-align: right;\n",
       "    }\n",
       "</style>\n",
       "<table border=\"1\" class=\"dataframe\">\n",
       "  <thead>\n",
       "    <tr style=\"text-align: right;\">\n",
       "      <th></th>\n",
       "      <th>Y_100</th>\n",
       "    </tr>\n",
       "  </thead>\n",
       "  <tbody>\n",
       "    <tr>\n",
       "      <th>E[•]</th>\n",
       "      <td>25.005425</td>\n",
       "    </tr>\n",
       "    <tr>\n",
       "      <th>Var(•)</th>\n",
       "      <td>12.545202</td>\n",
       "    </tr>\n",
       "    <tr>\n",
       "      <th>SD(•)</th>\n",
       "      <td>3.541921</td>\n",
       "    </tr>\n",
       "  </tbody>\n",
       "</table>\n",
       "</div>"
      ],
      "text/plain": [
       "            Y_100\n",
       "E[•]    25.005425\n",
       "Var(•)  12.545202\n",
       "SD(•)    3.541921"
      ]
     },
     "metadata": {},
     "output_type": "display_data"
    },
    {
     "data": {
      "image/png": "[encoded data removed]",
      "text/plain": [
       "<Figure size 432x288 with 1 Axes>"
      ]
     },
     "metadata": {
      "needs_background": "light"
     },
     "output_type": "display_data"
    }
   ],
   "source": [
    "# simulate one big population of 100 fair flips, N = 80,000\n",
    "N = 80000\n",
    "df_coins = simulate_iid_df(coin_df, nvars=50, rows=N)\n",
    "df_coins[\"Y_100\"] = df_coins.loc[:,\"X_1\":\"X_50\"].sum(axis=1)\n",
    "plot_simulated_dist(df_coins, \"Y_100\")\n",
    "plt.xticks([0, 10, 20, 30, 40, 50])\n",
    "plt.show()"
   ]
  },
  {
   "cell_type": "markdown",
   "id": "ef53164f-003f-48b6-91d9-2702331f3c83",
   "metadata": {},
   "source": [
    "<br/><br/><br/>\n",
    "\n",
    "---\n",
    "\n",
    "# From Population to Sample\n",
    "\n",
    "Remember the population distribution we looked at earlier:"
   ]
  },
  {
   "cell_type": "code",
   "execution_count": 61,
   "id": "e9686e1f-391f-423d-9be1-64b2ca2a85e8",
   "metadata": {},
   "outputs": [
    {
     "data": {
      "text/html": [
       "<div>\n",
       "<style scoped>\n",
       "    .dataframe tbody tr th:only-of-type {\n",
       "        vertical-align: middle;\n",
       "    }\n",
       "\n",
       "    .dataframe tbody tr th {\n",
       "        vertical-align: top;\n",
       "    }\n",
       "\n",
       "    .dataframe thead th {\n",
       "        text-align: right;\n",
       "    }\n",
       "</style>\n",
       "<table border=\"1\" class=\"dataframe\">\n",
       "  <thead>\n",
       "    <tr style=\"text-align: right;\">\n",
       "      <th></th>\n",
       "      <th>x</th>\n",
       "      <th>P(X = x)</th>\n",
       "    </tr>\n",
       "  </thead>\n",
       "  <tbody>\n",
       "    <tr>\n",
       "      <th>0</th>\n",
       "      <td>3</td>\n",
       "      <td>0.1</td>\n",
       "    </tr>\n",
       "    <tr>\n",
       "      <th>1</th>\n",
       "      <td>4</td>\n",
       "      <td>0.2</td>\n",
       "    </tr>\n",
       "    <tr>\n",
       "      <th>2</th>\n",
       "      <td>6</td>\n",
       "      <td>0.4</td>\n",
       "    </tr>\n",
       "    <tr>\n",
       "      <th>3</th>\n",
       "      <td>8</td>\n",
       "      <td>0.3</td>\n",
       "    </tr>\n",
       "  </tbody>\n",
       "</table>\n",
       "</div>"
      ],
      "text/plain": [
       "   x  P(X = x)\n",
       "0  3       0.1\n",
       "1  4       0.2\n",
       "2  6       0.4\n",
       "3  8       0.3"
      ]
     },
     "execution_count": 61,
     "metadata": {},
     "output_type": "execute_result"
    }
   ],
   "source": [
    "dist_df"
   ]
  },
  {
   "cell_type": "code",
   "execution_count": 96,
   "id": "612a9b8a-8aa7-48c7-800c-b395c0a16696",
   "metadata": {},
   "outputs": [
    {
     "data": {
      "text/html": [
       "<div>\n",
       "<style scoped>\n",
       "    .dataframe tbody tr th:only-of-type {\n",
       "        vertical-align: middle;\n",
       "    }\n",
       "\n",
       "    .dataframe tbody tr th {\n",
       "        vertical-align: top;\n",
       "    }\n",
       "\n",
       "    .dataframe thead th {\n",
       "        text-align: right;\n",
       "    }\n",
       "</style>\n",
       "<table border=\"1\" class=\"dataframe\">\n",
       "  <thead>\n",
       "    <tr style=\"text-align: right;\">\n",
       "      <th></th>\n",
       "      <th>X(s)</th>\n",
       "    </tr>\n",
       "  </thead>\n",
       "  <tbody>\n",
       "    <tr>\n",
       "      <th>0</th>\n",
       "      <td>6</td>\n",
       "    </tr>\n",
       "    <tr>\n",
       "      <th>1</th>\n",
       "      <td>8</td>\n",
       "    </tr>\n",
       "    <tr>\n",
       "      <th>2</th>\n",
       "      <td>8</td>\n",
       "    </tr>\n",
       "    <tr>\n",
       "      <th>3</th>\n",
       "      <td>4</td>\n",
       "    </tr>\n",
       "    <tr>\n",
       "      <th>4</th>\n",
       "      <td>8</td>\n",
       "    </tr>\n",
       "    <tr>\n",
       "      <th>...</th>\n",
       "      <td>...</td>\n",
       "    </tr>\n",
       "    <tr>\n",
       "      <th>99995</th>\n",
       "      <td>6</td>\n",
       "    </tr>\n",
       "    <tr>\n",
       "      <th>99996</th>\n",
       "      <td>8</td>\n",
       "    </tr>\n",
       "    <tr>\n",
       "      <th>99997</th>\n",
       "      <td>8</td>\n",
       "    </tr>\n",
       "    <tr>\n",
       "      <th>99998</th>\n",
       "      <td>8</td>\n",
       "    </tr>\n",
       "    <tr>\n",
       "      <th>99999</th>\n",
       "      <td>8</td>\n",
       "    </tr>\n",
       "  </tbody>\n",
       "</table>\n",
       "<p>100000 rows × 1 columns</p>\n",
       "</div>"
      ],
      "text/plain": [
       "       X(s)\n",
       "0         6\n",
       "1         8\n",
       "2         8\n",
       "3         4\n",
       "4         8\n",
       "...     ...\n",
       "99995     6\n",
       "99996     8\n",
       "99997     8\n",
       "99998     8\n",
       "99999     8\n",
       "\n",
       "[100000 rows x 1 columns]"
      ]
     },
     "execution_count": 96,
     "metadata": {},
     "output_type": "execute_result"
    }
   ],
   "source": [
    "# a population generated from the distribution\n",
    "N = 100000\n",
    "all_samples = simulate_samples(dist_df, size=N)\n",
    "sim_pop_df = pd.DataFrame({\"X(s)\": all_samples})\n",
    "sim_pop_df"
   ]
  },
  {
   "cell_type": "markdown",
   "id": "c1d899da-c3da-4c24-98a0-36154943876d",
   "metadata": {},
   "source": [
    "<br/><br/><br/>\n",
    "Suppose we draw a sample of size 100 from this giant population.\n",
    "\n",
    "We are performing **Random Sampling with Replacement:** `df.sample(n, replace=True)` ([link](https://pandas.pydata.org/docs/reference/api/pandas.DataFrame.sample.html))"
   ]
  },
  {
   "cell_type": "code",
   "execution_count": 84,
   "id": "9c35771a-0358-4d60-9745-4c3bffb13974",
   "metadata": {},
   "outputs": [
    {
     "data": {
      "text/html": [
       "<div>\n",
       "<style scoped>\n",
       "    .dataframe tbody tr th:only-of-type {\n",
       "        vertical-align: middle;\n",
       "    }\n",
       "\n",
       "    .dataframe tbody tr th {\n",
       "        vertical-align: top;\n",
       "    }\n",
       "\n",
       "    .dataframe thead th {\n",
       "        text-align: right;\n",
       "    }\n",
       "</style>\n",
       "<table border=\"1\" class=\"dataframe\">\n",
       "  <thead>\n",
       "    <tr style=\"text-align: right;\">\n",
       "      <th></th>\n",
       "      <th>X</th>\n",
       "    </tr>\n",
       "  </thead>\n",
       "  <tbody>\n",
       "    <tr>\n",
       "      <th>0</th>\n",
       "      <td>6</td>\n",
       "    </tr>\n",
       "    <tr>\n",
       "      <th>1</th>\n",
       "      <td>8</td>\n",
       "    </tr>\n",
       "    <tr>\n",
       "      <th>2</th>\n",
       "      <td>6</td>\n",
       "    </tr>\n",
       "    <tr>\n",
       "      <th>3</th>\n",
       "      <td>6</td>\n",
       "    </tr>\n",
       "    <tr>\n",
       "      <th>4</th>\n",
       "      <td>3</td>\n",
       "    </tr>\n",
       "    <tr>\n",
       "      <th>...</th>\n",
       "      <td>...</td>\n",
       "    </tr>\n",
       "    <tr>\n",
       "      <th>95</th>\n",
       "      <td>8</td>\n",
       "    </tr>\n",
       "    <tr>\n",
       "      <th>96</th>\n",
       "      <td>6</td>\n",
       "    </tr>\n",
       "    <tr>\n",
       "      <th>97</th>\n",
       "      <td>6</td>\n",
       "    </tr>\n",
       "    <tr>\n",
       "      <th>98</th>\n",
       "      <td>3</td>\n",
       "    </tr>\n",
       "    <tr>\n",
       "      <th>99</th>\n",
       "      <td>8</td>\n",
       "    </tr>\n",
       "  </tbody>\n",
       "</table>\n",
       "<p>100 rows × 1 columns</p>\n",
       "</div>"
      ],
      "text/plain": [
       "    X\n",
       "0   6\n",
       "1   8\n",
       "2   6\n",
       "3   6\n",
       "4   3\n",
       ".. ..\n",
       "95  8\n",
       "96  6\n",
       "97  6\n",
       "98  3\n",
       "99  8\n",
       "\n",
       "[100 rows x 1 columns]"
      ]
     },
     "execution_count": 84,
     "metadata": {},
     "output_type": "execute_result"
    }
   ],
   "source": [
    "n = 100      # size of our sample\n",
    "sample_df = (\n",
    "             sim_pop_df.sample(n, replace=True)\n",
    "             \n",
    "             # some reformatting below\n",
    "             .reset_index(drop=True)\n",
    "             .rename(columns={\"X(s)\": \"X\"})\n",
    "            )\n",
    "sample_df"
   ]
  },
  {
   "cell_type": "markdown",
   "id": "577c9f4d-bd78-4ea4-ac33-d708c234167a",
   "metadata": {},
   "source": [
    "Our **sample distribution** (n = 100):"
   ]
  },
  {
   "cell_type": "code",
   "execution_count": 101,
   "id": "e086ff6c-7715-427c-a0b1-ad4e6a2dba51",
   "metadata": {},
   "outputs": [
    {
     "data": {
      "image/png": "[encoded data removed]",
      "text/plain": [
       "<Figure size 432x288 with 1 Axes>"
      ]
     },
     "metadata": {
      "needs_background": "light"
     },
     "output_type": "display_data"
    },
    {
     "name": "stdout",
     "output_type": "stream",
     "text": [
      "Mean of Sample: 5.77\n"
     ]
    }
   ],
   "source": [
    "sns.histplot(data=sample_df, x='X', stat='probability')\n",
    "plt.xticks([3, 4, 6, 8])\n",
    "plt.title(f\"Sample (n = 100)\")\n",
    "plt.show()\n",
    "\n",
    "print(\"Mean of Sample:\", np.mean(sample_df['X']))"
   ]
  },
  {
   "cell_type": "markdown",
   "id": "45909bf3-7cf7-47ec-893f-299da57fd5fe",
   "metadata": {},
   "source": [
    "<br/>\n",
    "\n",
    "Compare this to our **original population** (N = 80,000):"
   ]
  },
  {
   "cell_type": "code",
   "execution_count": 97,
   "id": "0de56cfa-4303-47ba-9620-0bd9fac0f80d",
   "metadata": {},
   "outputs": [
    {
     "data": {
      "text/html": [
       "<div>\n",
       "<style scoped>\n",
       "    .dataframe tbody tr th:only-of-type {\n",
       "        vertical-align: middle;\n",
       "    }\n",
       "\n",
       "    .dataframe tbody tr th {\n",
       "        vertical-align: top;\n",
       "    }\n",
       "\n",
       "    .dataframe thead th {\n",
       "        text-align: right;\n",
       "    }\n",
       "</style>\n",
       "<table border=\"1\" class=\"dataframe\">\n",
       "  <thead>\n",
       "    <tr style=\"text-align: right;\">\n",
       "      <th></th>\n",
       "      <th>X(s)</th>\n",
       "    </tr>\n",
       "  </thead>\n",
       "  <tbody>\n",
       "    <tr>\n",
       "      <th>E[•]</th>\n",
       "      <td>5.893600</td>\n",
       "    </tr>\n",
       "    <tr>\n",
       "      <th>Var(•)</th>\n",
       "      <td>2.888465</td>\n",
       "    </tr>\n",
       "    <tr>\n",
       "      <th>SD(•)</th>\n",
       "      <td>1.699549</td>\n",
       "    </tr>\n",
       "  </tbody>\n",
       "</table>\n",
       "</div>"
      ],
      "text/plain": [
       "            X(s)\n",
       "E[•]    5.893600\n",
       "Var(•)  2.888465\n",
       "SD(•)   1.699549"
      ]
     },
     "metadata": {},
     "output_type": "display_data"
    },
    {
     "data": {
      "image/png": "[encoded data removed]",
      "text/plain": [
       "<Figure size 432x288 with 1 Axes>"
      ]
     },
     "metadata": {
      "needs_background": "light"
     },
     "output_type": "display_data"
    }
   ],
   "source": [
    "plot_simulated_dist(sim_df, \"X(s)\")\n",
    "plt.title(\"Population of $X$\")\n",
    "plt.show()"
   ]
  }
 ],
 "metadata": {
  "kernelspec": {
   "display_name": "Python 3 (ipykernel)",
   "language": "python",
   "name": "python3"
  },
  "language_info": {
   "codemirror_mode": {
    "name": "ipython",
    "version": 3
   },
   "file_extension": ".py",
   "mimetype": "text/x-python",
   "name": "python",
   "nbconvert_exporter": "python",
   "pygments_lexer": "ipython3",
   "version": "3.9.13"
  }
 },
 "nbformat": 4,
 "nbformat_minor": 5
}
