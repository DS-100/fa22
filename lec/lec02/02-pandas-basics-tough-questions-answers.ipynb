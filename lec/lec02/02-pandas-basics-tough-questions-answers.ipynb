{
 "cells": [
  {
   "cell_type": "code",
   "execution_count": 1,
   "metadata": {},
   "outputs": [],
   "source": [
    "%matplotlib inline\n",
    "import matplotlib.pyplot as plt\n",
    "import seaborn as sns\n",
    "import numpy as np\n",
    "import pandas as pd\n",
    "\n",
    "plt.style.use('fivethirtyeight')\n",
    "sns.set_context(\"notebook\")"
   ]
  },
  {
   "cell_type": "markdown",
   "metadata": {},
   "source": [
    "Now let's play around a bit with the large baby names dataset we saw in lecture 1. We'll start by loading that dataset from the social security administration's website.\n",
    "\n",
    "To keep the data small enough to avoid crashing datahub, we're going to look at only California rather than looking at the national dataset."
   ]
  },
  {
   "cell_type": "code",
   "execution_count": 2,
   "metadata": {},
   "outputs": [
    {
     "data": {
      "text/html": [
       "<div>\n",
       "<style scoped>\n",
       "    .dataframe tbody tr th:only-of-type {\n",
       "        vertical-align: middle;\n",
       "    }\n",
       "\n",
       "    .dataframe tbody tr th {\n",
       "        vertical-align: top;\n",
       "    }\n",
       "\n",
       "    .dataframe thead th {\n",
       "        text-align: right;\n",
       "    }\n",
       "</style>\n",
       "<table border=\"1\" class=\"dataframe\">\n",
       "  <thead>\n",
       "    <tr style=\"text-align: right;\">\n",
       "      <th></th>\n",
       "      <th>State</th>\n",
       "      <th>Sex</th>\n",
       "      <th>Year</th>\n",
       "      <th>Name</th>\n",
       "      <th>Count</th>\n",
       "    </tr>\n",
       "  </thead>\n",
       "  <tbody>\n",
       "    <tr>\n",
       "      <th>44592</th>\n",
       "      <td>CA</td>\n",
       "      <td>F</td>\n",
       "      <td>1961</td>\n",
       "      <td>Dixie</td>\n",
       "      <td>23</td>\n",
       "    </tr>\n",
       "    <tr>\n",
       "      <th>157567</th>\n",
       "      <td>CA</td>\n",
       "      <td>F</td>\n",
       "      <td>2002</td>\n",
       "      <td>Jasmyn</td>\n",
       "      <td>32</td>\n",
       "    </tr>\n",
       "    <tr>\n",
       "      <th>248205</th>\n",
       "      <td>CA</td>\n",
       "      <td>M</td>\n",
       "      <td>1942</td>\n",
       "      <td>Cliff</td>\n",
       "      <td>15</td>\n",
       "    </tr>\n",
       "    <tr>\n",
       "      <th>8679</th>\n",
       "      <td>CA</td>\n",
       "      <td>F</td>\n",
       "      <td>1927</td>\n",
       "      <td>Laurel</td>\n",
       "      <td>26</td>\n",
       "    </tr>\n",
       "    <tr>\n",
       "      <th>156511</th>\n",
       "      <td>CA</td>\n",
       "      <td>F</td>\n",
       "      <td>2001</td>\n",
       "      <td>Saniya</td>\n",
       "      <td>5</td>\n",
       "    </tr>\n",
       "  </tbody>\n",
       "</table>\n",
       "</div>"
      ],
      "text/plain": [
       "       State Sex  Year    Name  Count\n",
       "44592     CA   F  1961   Dixie     23\n",
       "157567    CA   F  2002  Jasmyn     32\n",
       "248205    CA   M  1942   Cliff     15\n",
       "8679      CA   F  1927  Laurel     26\n",
       "156511    CA   F  2001  Saniya      5"
      ]
     },
     "execution_count": 2,
     "metadata": {},
     "output_type": "execute_result"
    }
   ],
   "source": [
    "import urllib.request\n",
    "import os.path\n",
    "import zipfile\n",
    "\n",
    "data_url = \"https://www.ssa.gov/oact/babynames/state/namesbystate.zip\"\n",
    "local_filename = \"babynamesbystate.zip\"\n",
    "if not os.path.exists(local_filename): # if the data exists don't download again\n",
    "    with urllib.request.urlopen(data_url) as resp, open(local_filename, 'wb') as f:\n",
    "        f.write(resp.read())\n",
    "\n",
    "zf = zipfile.ZipFile(local_filename, 'r')\n",
    "\n",
    "ca_name = 'CA.TXT'\n",
    "field_names = ['State', 'Sex', 'Year', 'Name', 'Count']\n",
    "with zf.open(ca_name) as fh:\n",
    "    babynames = pd.read_csv(fh, header=None, names=field_names)\n",
    "\n",
    "babynames.sample(5)"
   ]
  },
  {
   "cell_type": "markdown",
   "metadata": {},
   "source": [
    "## Goal 1: Find the most popular baby name in California in 2018"
   ]
  },
  {
   "cell_type": "code",
   "execution_count": 3,
   "metadata": {},
   "outputs": [
    {
     "data": {
      "text/html": [
       "<div>\n",
       "<style scoped>\n",
       "    .dataframe tbody tr th:only-of-type {\n",
       "        vertical-align: middle;\n",
       "    }\n",
       "\n",
       "    .dataframe tbody tr th {\n",
       "        vertical-align: top;\n",
       "    }\n",
       "\n",
       "    .dataframe thead th {\n",
       "        text-align: right;\n",
       "    }\n",
       "</style>\n",
       "<table border=\"1\" class=\"dataframe\">\n",
       "  <thead>\n",
       "    <tr style=\"text-align: right;\">\n",
       "      <th></th>\n",
       "      <th>State</th>\n",
       "      <th>Sex</th>\n",
       "      <th>Year</th>\n",
       "      <th>Name</th>\n",
       "      <th>Count</th>\n",
       "    </tr>\n",
       "  </thead>\n",
       "  <tbody>\n",
       "    <tr>\n",
       "      <th>221160</th>\n",
       "      <td>CA</td>\n",
       "      <td>F</td>\n",
       "      <td>2018</td>\n",
       "      <td>Emma</td>\n",
       "      <td>2743</td>\n",
       "    </tr>\n",
       "    <tr>\n",
       "      <th>385701</th>\n",
       "      <td>CA</td>\n",
       "      <td>M</td>\n",
       "      <td>2018</td>\n",
       "      <td>Noah</td>\n",
       "      <td>2569</td>\n",
       "    </tr>\n",
       "    <tr>\n",
       "      <th>221161</th>\n",
       "      <td>CA</td>\n",
       "      <td>F</td>\n",
       "      <td>2018</td>\n",
       "      <td>Mia</td>\n",
       "      <td>2499</td>\n",
       "    </tr>\n",
       "    <tr>\n",
       "      <th>221162</th>\n",
       "      <td>CA</td>\n",
       "      <td>F</td>\n",
       "      <td>2018</td>\n",
       "      <td>Olivia</td>\n",
       "      <td>2465</td>\n",
       "    </tr>\n",
       "    <tr>\n",
       "      <th>385702</th>\n",
       "      <td>CA</td>\n",
       "      <td>M</td>\n",
       "      <td>2018</td>\n",
       "      <td>Liam</td>\n",
       "      <td>2413</td>\n",
       "    </tr>\n",
       "  </tbody>\n",
       "</table>\n",
       "</div>"
      ],
      "text/plain": [
       "       State Sex  Year    Name  Count\n",
       "221160    CA   F  2018    Emma   2743\n",
       "385701    CA   M  2018    Noah   2569\n",
       "221161    CA   F  2018     Mia   2499\n",
       "221162    CA   F  2018  Olivia   2465\n",
       "385702    CA   M  2018    Liam   2413"
      ]
     },
     "execution_count": 3,
     "metadata": {},
     "output_type": "execute_result"
    }
   ],
   "source": [
    "babynames[babynames[\"Year\"] == 2018].sort_values(by = \"Count\", ascending = False).head(5)"
   ]
  },
  {
   "cell_type": "markdown",
   "metadata": {},
   "source": [
    "## Goal 2: Baby names that start with j. "
   ]
  },
  {
   "cell_type": "code",
   "execution_count": 4,
   "metadata": {},
   "outputs": [
    {
     "data": {
      "text/plain": [
       "0    False\n",
       "1    False\n",
       "2    False\n",
       "3    False\n",
       "4    False\n",
       "5    False\n",
       "6    False\n",
       "7    False\n",
       "8    False\n",
       "9    False\n",
       "Name: Name, dtype: bool"
      ]
     },
     "execution_count": 4,
     "metadata": {},
     "output_type": "execute_result"
    }
   ],
   "source": [
    "starts_with_j = babynames[\"Name\"].str.startswith('J')\n",
    "starts_with_j.head(10)"
   ]
  },
  {
   "cell_type": "code",
   "execution_count": 5,
   "metadata": {},
   "outputs": [
    {
     "data": {
      "text/html": [
       "<div>\n",
       "<style scoped>\n",
       "    .dataframe tbody tr th:only-of-type {\n",
       "        vertical-align: middle;\n",
       "    }\n",
       "\n",
       "    .dataframe tbody tr th {\n",
       "        vertical-align: top;\n",
       "    }\n",
       "\n",
       "    .dataframe thead th {\n",
       "        text-align: right;\n",
       "    }\n",
       "</style>\n",
       "<table border=\"1\" class=\"dataframe\">\n",
       "  <thead>\n",
       "    <tr style=\"text-align: right;\">\n",
       "      <th></th>\n",
       "      <th>0</th>\n",
       "    </tr>\n",
       "  </thead>\n",
       "  <tbody>\n",
       "    <tr>\n",
       "      <th>991</th>\n",
       "      <td>Josh</td>\n",
       "    </tr>\n",
       "    <tr>\n",
       "      <th>1505</th>\n",
       "      <td>Jaxin</td>\n",
       "    </tr>\n",
       "    <tr>\n",
       "      <th>947</th>\n",
       "      <td>Jehilyn</td>\n",
       "    </tr>\n",
       "    <tr>\n",
       "      <th>1255</th>\n",
       "      <td>Jese</td>\n",
       "    </tr>\n",
       "    <tr>\n",
       "      <th>673</th>\n",
       "      <td>Jisel</td>\n",
       "    </tr>\n",
       "    <tr>\n",
       "      <th>791</th>\n",
       "      <td>Josefine</td>\n",
       "    </tr>\n",
       "    <tr>\n",
       "      <th>828</th>\n",
       "      <td>Jayanna</td>\n",
       "    </tr>\n",
       "    <tr>\n",
       "      <th>678</th>\n",
       "      <td>Jissell</td>\n",
       "    </tr>\n",
       "    <tr>\n",
       "      <th>631</th>\n",
       "      <td>Johnae</td>\n",
       "    </tr>\n",
       "    <tr>\n",
       "      <th>14</th>\n",
       "      <td>Jacqueline</td>\n",
       "    </tr>\n",
       "  </tbody>\n",
       "</table>\n",
       "</div>"
      ],
      "text/plain": [
       "               0\n",
       "991         Josh\n",
       "1505       Jaxin\n",
       "947      Jehilyn\n",
       "1255        Jese\n",
       "673        Jisel\n",
       "791     Josefine\n",
       "828      Jayanna\n",
       "678      Jissell\n",
       "631       Johnae\n",
       "14    Jacqueline"
      ]
     },
     "execution_count": 5,
     "metadata": {},
     "output_type": "execute_result"
    }
   ],
   "source": [
    "pd.DataFrame(babynames[starts_with_j][\"Name\"].unique()).sample(10)"
   ]
  },
  {
   "cell_type": "markdown",
   "metadata": {},
   "source": [
    "## Goal 3: Sort the DataFrame by the length of the names."
   ]
  },
  {
   "cell_type": "markdown",
   "metadata": {},
   "source": [
    "Approach 1a: Create a new series of only the lengths. Then add that series to the dataframe as a column. Then sort by that column. Then drop that column."
   ]
  },
  {
   "cell_type": "code",
   "execution_count": 11,
   "metadata": {},
   "outputs": [
    {
     "name": "stderr",
     "output_type": "stream",
     "text": [
      "/tmp/ipykernel_627/3884677794.py:11: FutureWarning: In a future version of pandas all arguments of DataFrame.drop except for the argument 'labels' will be keyword-only\n",
      "  babynames_by_length = babynames_by_length.drop(\"name_length\", 1)\n"
     ]
    },
    {
     "data": {
      "text/html": [
       "<div>\n",
       "<style scoped>\n",
       "    .dataframe tbody tr th:only-of-type {\n",
       "        vertical-align: middle;\n",
       "    }\n",
       "\n",
       "    .dataframe tbody tr th {\n",
       "        vertical-align: top;\n",
       "    }\n",
       "\n",
       "    .dataframe thead th {\n",
       "        text-align: right;\n",
       "    }\n",
       "</style>\n",
       "<table border=\"1\" class=\"dataframe\">\n",
       "  <thead>\n",
       "    <tr style=\"text-align: right;\">\n",
       "      <th></th>\n",
       "      <th>State</th>\n",
       "      <th>Sex</th>\n",
       "      <th>Year</th>\n",
       "      <th>Name</th>\n",
       "      <th>Count</th>\n",
       "      <th>name_lengths</th>\n",
       "    </tr>\n",
       "  </thead>\n",
       "  <tbody>\n",
       "    <tr>\n",
       "      <th>85197</th>\n",
       "      <td>CA</td>\n",
       "      <td>F</td>\n",
       "      <td>1980</td>\n",
       "      <td>Ai</td>\n",
       "      <td>6</td>\n",
       "      <td>2</td>\n",
       "    </tr>\n",
       "    <tr>\n",
       "      <th>95798</th>\n",
       "      <td>CA</td>\n",
       "      <td>F</td>\n",
       "      <td>1984</td>\n",
       "      <td>Ly</td>\n",
       "      <td>8</td>\n",
       "      <td>2</td>\n",
       "    </tr>\n",
       "    <tr>\n",
       "      <th>309713</th>\n",
       "      <td>CA</td>\n",
       "      <td>M</td>\n",
       "      <td>1989</td>\n",
       "      <td>Ed</td>\n",
       "      <td>5</td>\n",
       "      <td>2</td>\n",
       "    </tr>\n",
       "    <tr>\n",
       "      <th>334020</th>\n",
       "      <td>CA</td>\n",
       "      <td>M</td>\n",
       "      <td>1999</td>\n",
       "      <td>Jr</td>\n",
       "      <td>9</td>\n",
       "      <td>2</td>\n",
       "    </tr>\n",
       "    <tr>\n",
       "      <th>339817</th>\n",
       "      <td>CA</td>\n",
       "      <td>M</td>\n",
       "      <td>2001</td>\n",
       "      <td>Ed</td>\n",
       "      <td>5</td>\n",
       "      <td>2</td>\n",
       "    </tr>\n",
       "  </tbody>\n",
       "</table>\n",
       "</div>"
      ],
      "text/plain": [
       "       State Sex  Year Name  Count  name_lengths\n",
       "85197     CA   F  1980   Ai      6             2\n",
       "95798     CA   F  1984   Ly      8             2\n",
       "309713    CA   M  1989   Ed      5             2\n",
       "334020    CA   M  1999   Jr      9             2\n",
       "339817    CA   M  2001   Ed      5             2"
      ]
     },
     "execution_count": 11,
     "metadata": {},
     "output_type": "execute_result"
    }
   ],
   "source": [
    "#create a new series of only the lengths\n",
    "babyname_lengths = babynames[\"Name\"].map(len)\n",
    "\n",
    "#add that series to the dataframe as a column\n",
    "babynames[\"name_length\"] = babyname_lengths\n",
    "\n",
    "#sort by that column\n",
    "babynames_by_length = babynames.sort_values(by = \"name_length\")\n",
    "\n",
    "#drop that column\n",
    "babynames_by_length = babynames_by_length.drop(\"name_length\", axis=1)\n",
    "babynames_by_length.head(5)"
   ]
  },
  {
   "cell_type": "markdown",
   "metadata": {},
   "source": [
    "Approach 1b: Same as 1a, but use str.len() to generate the lengths of the strings."
   ]
  },
  {
   "cell_type": "code",
   "execution_count": 9,
   "metadata": {
    "scrolled": true
   },
   "outputs": [
    {
     "data": {
      "text/html": [
       "<div>\n",
       "<style scoped>\n",
       "    .dataframe tbody tr th:only-of-type {\n",
       "        vertical-align: middle;\n",
       "    }\n",
       "\n",
       "    .dataframe tbody tr th {\n",
       "        vertical-align: top;\n",
       "    }\n",
       "\n",
       "    .dataframe thead th {\n",
       "        text-align: right;\n",
       "    }\n",
       "</style>\n",
       "<table border=\"1\" class=\"dataframe\">\n",
       "  <thead>\n",
       "    <tr style=\"text-align: right;\">\n",
       "      <th></th>\n",
       "      <th>State</th>\n",
       "      <th>Sex</th>\n",
       "      <th>Year</th>\n",
       "      <th>Name</th>\n",
       "      <th>Count</th>\n",
       "      <th>name_lengths</th>\n",
       "    </tr>\n",
       "  </thead>\n",
       "  <tbody>\n",
       "    <tr>\n",
       "      <th>85197</th>\n",
       "      <td>CA</td>\n",
       "      <td>F</td>\n",
       "      <td>1980</td>\n",
       "      <td>Ai</td>\n",
       "      <td>6</td>\n",
       "      <td>2</td>\n",
       "    </tr>\n",
       "    <tr>\n",
       "      <th>95798</th>\n",
       "      <td>CA</td>\n",
       "      <td>F</td>\n",
       "      <td>1984</td>\n",
       "      <td>Ly</td>\n",
       "      <td>8</td>\n",
       "      <td>2</td>\n",
       "    </tr>\n",
       "    <tr>\n",
       "      <th>309713</th>\n",
       "      <td>CA</td>\n",
       "      <td>M</td>\n",
       "      <td>1989</td>\n",
       "      <td>Ed</td>\n",
       "      <td>5</td>\n",
       "      <td>2</td>\n",
       "    </tr>\n",
       "    <tr>\n",
       "      <th>334020</th>\n",
       "      <td>CA</td>\n",
       "      <td>M</td>\n",
       "      <td>1999</td>\n",
       "      <td>Jr</td>\n",
       "      <td>9</td>\n",
       "      <td>2</td>\n",
       "    </tr>\n",
       "    <tr>\n",
       "      <th>339817</th>\n",
       "      <td>CA</td>\n",
       "      <td>M</td>\n",
       "      <td>2001</td>\n",
       "      <td>Ed</td>\n",
       "      <td>5</td>\n",
       "      <td>2</td>\n",
       "    </tr>\n",
       "  </tbody>\n",
       "</table>\n",
       "</div>"
      ],
      "text/plain": [
       "       State Sex  Year Name  Count  name_lengths\n",
       "85197     CA   F  1980   Ai      6             2\n",
       "95798     CA   F  1984   Ly      8             2\n",
       "309713    CA   M  1989   Ed      5             2\n",
       "334020    CA   M  1999   Jr      9             2\n",
       "339817    CA   M  2001   Ed      5             2"
      ]
     },
     "execution_count": 9,
     "metadata": {},
     "output_type": "execute_result"
    }
   ],
   "source": [
    "#create a new series of only the lengths\n",
    "babyname_lengths = babynames[\"Name\"].str.len()\n",
    "\n",
    "#add that series to the dataframe as a column\n",
    "babynames[\"name_length\"] = babyname_lengths\n",
    "\n",
    "#sort by that column\n",
    "babynames_by_length = babynames.sort_values(by = \"name_length\")\n",
    "\n",
    "#drop that column\n",
    "babynames_by_length = babynames_by_length.drop(\"name_length\", axis=1)\n",
    "babynames_by_length.head(5)"
   ]
  },
  {
   "cell_type": "markdown",
   "metadata": {},
   "source": [
    "Approach 2: Generate an index that is in the order we want. Pass that index to loc."
   ]
  },
  {
   "cell_type": "code",
   "execution_count": 10,
   "metadata": {},
   "outputs": [
    {
     "data": {
      "text/html": [
       "<div>\n",
       "<style scoped>\n",
       "    .dataframe tbody tr th:only-of-type {\n",
       "        vertical-align: middle;\n",
       "    }\n",
       "\n",
       "    .dataframe tbody tr th {\n",
       "        vertical-align: top;\n",
       "    }\n",
       "\n",
       "    .dataframe thead th {\n",
       "        text-align: right;\n",
       "    }\n",
       "</style>\n",
       "<table border=\"1\" class=\"dataframe\">\n",
       "  <thead>\n",
       "    <tr style=\"text-align: right;\">\n",
       "      <th></th>\n",
       "      <th>State</th>\n",
       "      <th>Sex</th>\n",
       "      <th>Year</th>\n",
       "      <th>Name</th>\n",
       "      <th>Count</th>\n",
       "      <th>name_lengths</th>\n",
       "      <th>name_length</th>\n",
       "    </tr>\n",
       "  </thead>\n",
       "  <tbody>\n",
       "    <tr>\n",
       "      <th>85197</th>\n",
       "      <td>CA</td>\n",
       "      <td>F</td>\n",
       "      <td>1980</td>\n",
       "      <td>Ai</td>\n",
       "      <td>6</td>\n",
       "      <td>2</td>\n",
       "      <td>2</td>\n",
       "    </tr>\n",
       "    <tr>\n",
       "      <th>95798</th>\n",
       "      <td>CA</td>\n",
       "      <td>F</td>\n",
       "      <td>1984</td>\n",
       "      <td>Ly</td>\n",
       "      <td>8</td>\n",
       "      <td>2</td>\n",
       "      <td>2</td>\n",
       "    </tr>\n",
       "    <tr>\n",
       "      <th>309713</th>\n",
       "      <td>CA</td>\n",
       "      <td>M</td>\n",
       "      <td>1989</td>\n",
       "      <td>Ed</td>\n",
       "      <td>5</td>\n",
       "      <td>2</td>\n",
       "      <td>2</td>\n",
       "    </tr>\n",
       "    <tr>\n",
       "      <th>334020</th>\n",
       "      <td>CA</td>\n",
       "      <td>M</td>\n",
       "      <td>1999</td>\n",
       "      <td>Jr</td>\n",
       "      <td>9</td>\n",
       "      <td>2</td>\n",
       "      <td>2</td>\n",
       "    </tr>\n",
       "    <tr>\n",
       "      <th>339817</th>\n",
       "      <td>CA</td>\n",
       "      <td>M</td>\n",
       "      <td>2001</td>\n",
       "      <td>Ed</td>\n",
       "      <td>5</td>\n",
       "      <td>2</td>\n",
       "      <td>2</td>\n",
       "    </tr>\n",
       "  </tbody>\n",
       "</table>\n",
       "</div>"
      ],
      "text/plain": [
       "       State Sex  Year Name  Count  name_lengths  name_length\n",
       "85197     CA   F  1980   Ai      6             2            2\n",
       "95798     CA   F  1984   Ly      8             2            2\n",
       "309713    CA   M  1989   Ed      5             2            2\n",
       "334020    CA   M  1999   Jr      9             2            2\n",
       "339817    CA   M  2001   Ed      5             2            2"
      ]
     },
     "execution_count": 10,
     "metadata": {},
     "output_type": "execute_result"
    }
   ],
   "source": [
    "babynames.loc[babynames[\"Name\"].str.len().sort_values().index].head(5)"
   ]
  },
  {
   "cell_type": "markdown",
   "metadata": {},
   "source": [
    "How does this work exactly? Let's break it into pieces."
   ]
  },
  {
   "cell_type": "code",
   "execution_count": null,
   "metadata": {},
   "outputs": [],
   "source": [
    "lengths_sorted_by_length = babynames[\"Name\"].str.len().sort_values()\n",
    "lengths_sorted_by_length.head(5)"
   ]
  },
  {
   "cell_type": "code",
   "execution_count": null,
   "metadata": {},
   "outputs": [],
   "source": [
    "index_sorted_by_length = lengths_sorted_by_length.index\n",
    "index_sorted_by_length"
   ]
  },
  {
   "cell_type": "code",
   "execution_count": null,
   "metadata": {},
   "outputs": [],
   "source": [
    "# now pass the index to loc. This is yet another way \n",
    "# that loc can be used that we did not discuss in lecture!\n",
    "babynames.loc[index_sorted_by_length].head(5)"
   ]
  }
 ],
 "metadata": {
  "kernelspec": {
   "display_name": "Python 3 (ipykernel)",
   "language": "python",
   "name": "python3"
  },
  "language_info": {
   "codemirror_mode": {
    "name": "ipython",
    "version": 3
   },
   "file_extension": ".py",
   "mimetype": "text/x-python",
   "name": "python",
   "nbconvert_exporter": "python",
   "pygments_lexer": "ipython3",
   "version": "3.9.9"
  }
 },
 "nbformat": 4,
 "nbformat_minor": 4
}
