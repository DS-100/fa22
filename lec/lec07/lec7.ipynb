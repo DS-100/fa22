{
 "cells": [
  {
   "cell_type": "markdown",
   "metadata": {},
   "source": [
    "# Lecture 7 Supplemental Notebook\n",
    "\n",
    "Data 100, Summer 2022\n",
    "\n",
    "Created by Suraj Rampure, with updates by Fernando Pérez and Josh Hug"
   ]
  },
  {
   "cell_type": "code",
   "execution_count": null,
   "metadata": {},
   "outputs": [],
   "source": [
    "import matplotlib.pyplot as plt\n",
    "import numpy as np\n",
    "import pandas as pd\n",
    "import seaborn as sns\n",
    "\n",
    "sns.set_theme(style='darkgrid', font_scale = 1.5,\n",
    "              rc={'figure.figsize':(7,5)})\n",
    "\n",
    "#plt.rc('figure', dpi=100, figsize=(7, 5))\n",
    "#plt.rc('font', size=12)\n",
    "rng = np.random.default_rng()"
   ]
  },
  {
   "cell_type": "markdown",
   "metadata": {},
   "source": [
    "# KDEs"
   ]
  },
  {
   "cell_type": "code",
   "execution_count": null,
   "metadata": {},
   "outputs": [],
   "source": [
    "titanic = sns.load_dataset('titanic')\n",
    "sns.rugplot(titanic[\"age\"], height = 0.2)\n",
    "plt.gca().set_ylim([0, 1]);"
   ]
  },
  {
   "cell_type": "code",
   "execution_count": null,
   "metadata": {},
   "outputs": [],
   "source": [
    "titanic = sns.load_dataset('titanic')\n",
    "sns.histplot(titanic[\"age\"]);"
   ]
  },
  {
   "cell_type": "code",
   "execution_count": null,
   "metadata": {
    "tags": []
   },
   "outputs": [],
   "source": [
    "titanic = sns.load_dataset('titanic')\n",
    "sns.displot(titanic[\"age\"], kind = \"kde\");\n",
    "plt.savefig(\"titanic_displot.png\", bbox_inches = \"tight\", dpi = 300)"
   ]
  },
  {
   "cell_type": "code",
   "execution_count": null,
   "metadata": {},
   "outputs": [],
   "source": [
    "points = [2.2, 2.8, 3.7, 5.3, 5.7]"
   ]
  },
  {
   "cell_type": "code",
   "execution_count": null,
   "metadata": {},
   "outputs": [],
   "source": [
    "plt.hist(points, bins=range(0, 10, 2), ec='w', density=True);"
   ]
  },
  {
   "cell_type": "markdown",
   "metadata": {},
   "source": [
    "Let's define some **kernels**. We will explain these formulas momentarily. We'll also define some helper functions for visualization purposes."
   ]
  },
  {
   "cell_type": "code",
   "execution_count": null,
   "metadata": {},
   "outputs": [],
   "source": [
    "def gaussian(x, z, a):\n",
    "    # Gaussian kernel\n",
    "    return (1/np.sqrt(2*np.pi*a**2)) * np.exp((-(x - z)**2 / (2 * a**2)))\n",
    "\n",
    "def boxcar_basic(x, z, a):\n",
    "    # Boxcar kernel\n",
    "    if np.abs(x - z) <= a/2:\n",
    "        return 1/a\n",
    "    return 0\n",
    "\n",
    "def boxcar(x, z, a):\n",
    "    # Boxcar kernel\n",
    "    cond = np.abs(x - z)\n",
    "    return np.piecewise(x, [cond <= a/2, cond > a/2], [1/a, 0] )"
   ]
  },
  {
   "cell_type": "code",
   "execution_count": null,
   "metadata": {},
   "outputs": [],
   "source": [
    "def create_kde(kernel, pts, a):\n",
    "    # Takes in a kernel, set aof points, and alpha\n",
    "    # Returns the KDE as a function\n",
    "    def f(x):\n",
    "        output = 0\n",
    "        for pt in pts:\n",
    "            output += kernel(x, pt, a)\n",
    "        return output / len(pts) # Normalization factor\n",
    "    return f\n",
    "\n",
    "def plot_kde(kernel, pts, a):\n",
    "    # Calls create_kde and plots the corresponding KDE\n",
    "    f = create_kde(kernel, pts, a)\n",
    "    x = np.linspace(min(pts) - 5, max(pts) + 5, 1000)\n",
    "    y = [f(xi) for xi in x]\n",
    "    plt.plot(x, y);\n",
    "    \n",
    "def plot_separate_kernels(kernel, pts, a, norm=False):\n",
    "    # Plots individual kernels, which are then summed to create the KDE\n",
    "    x = np.linspace(min(pts) - 5, max(pts) + 5, 1000)\n",
    "    for pt in pts:\n",
    "        y = kernel(x, pt, a)\n",
    "        if norm:\n",
    "            y /= len(pts)\n",
    "        plt.plot(x, y)\n",
    "    \n",
    "    plt.show();"
   ]
  },
  {
   "cell_type": "markdown",
   "metadata": {},
   "source": [
    "Here are our five points."
   ]
  },
  {
   "cell_type": "code",
   "execution_count": null,
   "metadata": {},
   "outputs": [],
   "source": [
    "plt.xlim(-3, 10)\n",
    "plt.ylim(0, 0.5)\n",
    "sns.rugplot(points, height = 0.5);"
   ]
  },
  {
   "cell_type": "markdown",
   "metadata": {},
   "source": [
    "### Step 1: Place a kernel at each point\n",
    "\n",
    "We'll start with the Gaussian kernel."
   ]
  },
  {
   "cell_type": "code",
   "execution_count": null,
   "metadata": {},
   "outputs": [],
   "source": [
    "plt.xlim(-3, 10)\n",
    "plt.ylim(0, 0.5)\n",
    "plot_separate_kernels(gaussian, points, a = 1);"
   ]
  },
  {
   "cell_type": "markdown",
   "metadata": {},
   "source": [
    "### Step 2: Normalize kernels so that total area is 1"
   ]
  },
  {
   "cell_type": "code",
   "execution_count": null,
   "metadata": {},
   "outputs": [],
   "source": [
    "plt.xlim(-3, 10)\n",
    "plt.ylim(0, 0.5)\n",
    "plot_separate_kernels(gaussian, points, a = 1, norm = True);"
   ]
  },
  {
   "cell_type": "markdown",
   "metadata": {},
   "source": [
    "### Step 3: Sum all kernels together"
   ]
  },
  {
   "cell_type": "code",
   "execution_count": null,
   "metadata": {},
   "outputs": [],
   "source": [
    "plt.xlim(-3, 10)\n",
    "plt.ylim(0, 0.5)\n",
    "plot_kde(gaussian, points, a = 1)"
   ]
  },
  {
   "cell_type": "markdown",
   "metadata": {},
   "source": [
    "This looks identical to the smooth curve that `sns.distplot` gives us (when we set the appropriate parameter):"
   ]
  },
  {
   "cell_type": "code",
   "execution_count": null,
   "metadata": {},
   "outputs": [],
   "source": [
    "plt.xlim(-3, 10)\n",
    "plt.ylim(0, 0.5)\n",
    "sns.distplot(points, kde_kws={'bw': 1});"
   ]
  },
  {
   "cell_type": "code",
   "execution_count": null,
   "metadata": {},
   "outputs": [],
   "source": [
    "sns.kdeplot(points)\n",
    "sns.histplot(points, stat='density');"
   ]
  },
  {
   "cell_type": "code",
   "execution_count": null,
   "metadata": {},
   "outputs": [],
   "source": [
    "sns.kdeplot(points, bw_adjust=2)\n",
    "sns.histplot(points, stat='density');"
   ]
  },
  {
   "cell_type": "markdown",
   "metadata": {},
   "source": [
    "## Kernels\n",
    "\n",
    "**Gaussian**\n",
    "\n",
    "$$K_{\\alpha}(x, x_i) = \\frac{1}{\\sqrt{2 \\pi \\alpha^2}} e^{-\\frac{(x - x_i)^2}{2\\alpha^2}}$$\n",
    "\n",
    "\n",
    "**Boxcar**\n",
    "\n",
    "\n",
    "$$K_{\\alpha}(x, x_i) = \\begin {cases}\n",
    "\t\t\t\\frac{1}{\\alpha}, \\: \\: \\: |x - x_i| \\leq \\frac{\\alpha}{2}\\\\\n",
    "\t\t\t0, \\: \\: \\: \\text{else}\n",
    "\t\t\t\\end{cases}$$"
   ]
  },
  {
   "cell_type": "code",
   "execution_count": null,
   "metadata": {},
   "outputs": [],
   "source": [
    "plt.xlim(-3, 10)\n",
    "plt.ylim(0, 0.5)\n",
    "plt.title(r'KDE of toy data with Gaussian kernel and $\\alpha$ = 1')\n",
    "plot_kde(gaussian, points, a = 1)"
   ]
  },
  {
   "cell_type": "code",
   "execution_count": null,
   "metadata": {},
   "outputs": [],
   "source": [
    "plt.xlim(-3, 10)\n",
    "plt.ylim(0, 0.5)\n",
    "plt.title(r'KDE of toy data with Boxcar kernel and $\\alpha$ = 1')\n",
    "plot_kde(boxcar, points, a = 1)"
   ]
  },
  {
   "cell_type": "markdown",
   "metadata": {},
   "source": [
    "## Effect of bandwidth hyperparameter $\\alpha$\n",
    "\n",
    "Let's bring in some (different) toy data."
   ]
  },
  {
   "cell_type": "code",
   "execution_count": null,
   "metadata": {},
   "outputs": [],
   "source": [
    "tips = sns.load_dataset('tips')"
   ]
  },
  {
   "cell_type": "code",
   "execution_count": null,
   "metadata": {},
   "outputs": [],
   "source": [
    "tips.head()"
   ]
  },
  {
   "cell_type": "code",
   "execution_count": null,
   "metadata": {},
   "outputs": [],
   "source": [
    "vals = tips['total_bill']"
   ]
  },
  {
   "cell_type": "code",
   "execution_count": null,
   "metadata": {},
   "outputs": [],
   "source": [
    "ax = sns.histplot(vals)\n",
    "sns.rugplot(vals, color='orange', ax=ax);"
   ]
  },
  {
   "cell_type": "code",
   "execution_count": null,
   "metadata": {},
   "outputs": [],
   "source": [
    "plt.figure(figsize=(8, 5))\n",
    "plt.ylim(0, 0.15)\n",
    "plt.title(r'KDE of tips with Gaussian kernel and $\\alpha$ = 0.1')\n",
    "plot_kde(gaussian, vals, a = 0.1)"
   ]
  },
  {
   "cell_type": "code",
   "execution_count": null,
   "metadata": {},
   "outputs": [],
   "source": [
    "plt.ylim(0, 0.1)\n",
    "plt.title(r'KDE of tips with Gaussian kernel and $\\alpha$ = 1')\n",
    "plot_kde(gaussian, vals, a = 1)"
   ]
  },
  {
   "cell_type": "code",
   "execution_count": null,
   "metadata": {},
   "outputs": [],
   "source": [
    "plt.ylim(0, 0.1)\n",
    "plt.title(r'KDE of tips with Gaussian kernel and $\\alpha$ = 2')\n",
    "plot_kde(gaussian, vals, a = 2)"
   ]
  },
  {
   "cell_type": "code",
   "execution_count": null,
   "metadata": {},
   "outputs": [],
   "source": [
    "plt.ylim(0, 0.1)\n",
    "plt.title(r'KDE of tips with Gaussian kernel and $\\alpha$ = 10')\n",
    "plot_kde(gaussian, vals, a = 5)"
   ]
  },
  {
   "cell_type": "markdown",
   "metadata": {},
   "source": [
    "### KDE Formula\n",
    "\n",
    "$$f_{\\alpha}(x) = \\sum_{i = 1}^n \\frac{1}{n} \\cdot K_{\\alpha}(x, x_i) =  \\frac{1}{n} \\sum_{i = 1}^n K_{\\alpha}(x, x_i)$$"
   ]
  },
  {
   "cell_type": "markdown",
   "metadata": {
    "tags": []
   },
   "source": [
    "# Scale"
   ]
  },
  {
   "cell_type": "code",
   "execution_count": null,
   "metadata": {},
   "outputs": [],
   "source": [
    "ppdf = pd.DataFrame(dict(Cancer=[2007371, 935573], Abortion=[289750, 327000]), \n",
    "                    index=pd.Series([2006, 2013], \n",
    "                    name=\"Year\"))\n",
    "ppdf"
   ]
  },
  {
   "cell_type": "code",
   "execution_count": null,
   "metadata": {},
   "outputs": [],
   "source": [
    "ax = sns.lineplot(data=ppdf, markers=True)\n",
    "ax.set_title(\"Planned Parenthood Procedures\")\n",
    "ax.set_xticks([2006, 2013])\n",
    "ax.set_ylabel(\"Service count\");"
   ]
  },
  {
   "cell_type": "markdown",
   "metadata": {},
   "source": [
    "Let's now compute the relative change between the two years..."
   ]
  },
  {
   "cell_type": "code",
   "execution_count": null,
   "metadata": {},
   "outputs": [],
   "source": [
    "rel_change = 100*(ppdf.loc[2013] - ppdf.loc[2006])/ppdf.loc[2006]\n",
    "rel_change.name = \"Percent Change\"\n",
    "rel_change"
   ]
  },
  {
   "cell_type": "code",
   "execution_count": null,
   "metadata": {},
   "outputs": [],
   "source": [
    "ax = sns.barplot(x=rel_change.index, y=rel_change)\n",
    "ax.axhline(0, color='black')\n",
    "ax.set_title(\"Percent Change in Number of Procedures\");"
   ]
  },
  {
   "cell_type": "markdown",
   "metadata": {},
   "source": [
    "## Current Population Survey"
   ]
  },
  {
   "cell_type": "code",
   "execution_count": null,
   "metadata": {},
   "outputs": [],
   "source": [
    "cps = pd.read_csv(\"edInc2.csv\")\n",
    "cps"
   ]
  },
  {
   "cell_type": "code",
   "execution_count": null,
   "metadata": {},
   "outputs": [],
   "source": [
    "cps = cps.replace({'educ':{1:\"<HS\", 2:\"HS\", 3:\"<BA\", 4:\"BA\", 5:\">BA\"}})\n",
    "cps.columns = ['Education', 'Gender', 'Income']\n",
    "cps"
   ]
  },
  {
   "cell_type": "code",
   "execution_count": null,
   "metadata": {},
   "outputs": [],
   "source": [
    "# Let's pick our colors specifically using color_palette()\n",
    "blue_red = [\"#397eb7\", \"#bf1518\"]\n",
    "with sns.color_palette(sns.color_palette(blue_red)):\n",
    "    ax = sns.pointplot(data=cps, x = \"Education\", y = \"Income\", hue = \"Gender\")\n",
    "\n",
    "ax.set_title(\"2014 Median Weekly Earnings\\nFull-Time Workers over 25 years old\");"
   ]
  },
  {
   "cell_type": "markdown",
   "metadata": {},
   "source": [
    "Now, let's compute the income gap as a relative quantity between men and women. Recall that the structure of the dataframe is as follows:"
   ]
  },
  {
   "cell_type": "code",
   "execution_count": null,
   "metadata": {},
   "outputs": [],
   "source": [
    "cps.head()"
   ]
  },
  {
   "cell_type": "markdown",
   "metadata": {},
   "source": [
    "This calls for using `groupby` by Gender, so that we can separate the data for both genders, and then compute the ratio:"
   ]
  },
  {
   "cell_type": "code",
   "execution_count": null,
   "metadata": {},
   "outputs": [],
   "source": [
    "cg = cps.set_index(\"Education\").groupby(\"Gender\")\n",
    "men = cg.get_group(\"Men\").drop(\"Gender\", \"columns\")\n",
    "women = cg.get_group(\"Women\").drop(\"Gender\", \"columns\")\n",
    "display(men, women)"
   ]
  },
  {
   "cell_type": "code",
   "execution_count": null,
   "metadata": {},
   "outputs": [],
   "source": [
    "mfratio = men/women\n",
    "mfratio.columns = [\"Income Ratio (M/F)\"]\n",
    "mfratio"
   ]
  },
  {
   "cell_type": "code",
   "execution_count": null,
   "metadata": {},
   "outputs": [],
   "source": [
    "ax = sns.lineplot(data=mfratio, markers=True, legend=False);\n",
    "ax.set_ylabel(\"Ratio\")\n",
    "ax.set_title(\"M/F Income Ratio as a function of education level\");"
   ]
  },
  {
   "cell_type": "markdown",
   "metadata": {},
   "source": [
    "Let's now compute the alternate ratio, F/M instead:"
   ]
  },
  {
   "cell_type": "code",
   "execution_count": null,
   "metadata": {},
   "outputs": [],
   "source": [
    "fmratio = women/men\n",
    "fmratio.columns = [\"Income Ratio (F/M)\"]\n",
    "fmratio"
   ]
  },
  {
   "cell_type": "code",
   "execution_count": null,
   "metadata": {},
   "outputs": [],
   "source": [
    "ax = sns.lineplot(data=fmratio, markers=True, legend=False);\n",
    "ax.set_ylabel(\"Ratio\")\n",
    "ax.set_title(\"F/M Income Ratio as a function of education level\");"
   ]
  },
  {
   "cell_type": "markdown",
   "metadata": {},
   "source": [
    "## CO2 Emissions "
   ]
  },
  {
   "cell_type": "code",
   "execution_count": null,
   "metadata": {},
   "outputs": [],
   "source": [
    "co2 = pd.read_csv(\"CAITcountryCO2.csv\", skiprows = 2,\n",
    "                  names = [\"Country\", \"Year\", \"CO2\"], encoding = \"ISO-8859-1\")\n",
    "co2.tail()"
   ]
  },
  {
   "cell_type": "code",
   "execution_count": null,
   "metadata": {},
   "outputs": [],
   "source": [
    "last_year = co2.Year.iloc[-1]\n",
    "last_year"
   ]
  },
  {
   "cell_type": "code",
   "execution_count": null,
   "metadata": {},
   "outputs": [],
   "source": [
    "q = f\"Country != 'World' and Country != 'European Union (15)' and Year == {last_year}\"\n",
    "top14_lasty = co2.query(q).sort_values('CO2', ascending=False).iloc[:14]\n",
    "top14_lasty"
   ]
  },
  {
   "cell_type": "code",
   "execution_count": null,
   "metadata": {},
   "outputs": [],
   "source": [
    "top14 = co2[co2.Country.isin(top14_lasty.Country) & (co2.Year >= 1950)]\n",
    "print(len(top14.Country.unique()))\n",
    "top14.head()"
   ]
  },
  {
   "cell_type": "code",
   "execution_count": null,
   "metadata": {},
   "outputs": [],
   "source": [
    "from cycler import cycler\n",
    "\n",
    "linestyles = ['-', '--', ':', '-.' ]\n",
    "colors = plt.cm.Dark2.colors\n",
    "lines_c = cycler('linestyle', linestyles)\n",
    "color_c = cycler('color', colors)\n",
    "\n",
    "fig, ax = plt.subplots(figsize=(8, 8))\n",
    "ax.set_prop_cycle(color_c * lines_c)\n",
    "\n",
    "x, y ='Year', 'CO2'\n",
    "for name, df in top14.groupby('Country'):\n",
    "    ax.semilogy(df[x], df[y], label=name)\n",
    "\n",
    "ax.set_xlabel(x)\n",
    "ax.set_ylabel(f\"{y} Emissions (million tons)\")\n",
    "ax.legend(ncol=2, frameon=True, fontsize=11);"
   ]
  },
  {
   "cell_type": "markdown",
   "metadata": {
    "tags": []
   },
   "source": [
    "# Transformations Demo"
   ]
  },
  {
   "cell_type": "markdown",
   "metadata": {},
   "source": [
    "## Kepler's third law\n",
    "\n",
    "Details and data [can be found on Wikipedia](https://en.wikipedia.org/wiki/Kepler%27s_laws_of_planetary_motion#Third_law_of_Kepler)."
   ]
  },
  {
   "cell_type": "code",
   "execution_count": null,
   "metadata": {},
   "outputs": [],
   "source": [
    "planets = pd.read_csv(\"planets.data\", delim_whitespace=True, comment=\"#\")\n",
    "planets"
   ]
  },
  {
   "cell_type": "code",
   "execution_count": null,
   "metadata": {},
   "outputs": [],
   "source": [
    "ax = sns.scatterplot(x='mean_dist', y='period', data=planets);\n",
    "ax.set_title('Relation between period and mean distance to the Sun')\n",
    "ax.set_xlabel('mean distance [AU]')\n",
    "ax.set_ylabel('period [days]');"
   ]
  },
  {
   "cell_type": "markdown",
   "metadata": {},
   "source": [
    "The data appears to curve up, i.e. is not linear. We can verify this by trying the `regplot` function, which we have not yet discussed."
   ]
  },
  {
   "cell_type": "code",
   "execution_count": null,
   "metadata": {},
   "outputs": [],
   "source": [
    "sns.regplot(x='mean_dist', y='period', data=planets, ci=False);"
   ]
  },
  {
   "cell_type": "markdown",
   "metadata": {},
   "source": [
    "However, if we plot the log-log relationship, we see a very linear looking relationship."
   ]
  },
  {
   "cell_type": "code",
   "execution_count": null,
   "metadata": {},
   "outputs": [],
   "source": [
    "ax = sns.scatterplot(x=np.log(planets['mean_dist']), y=np.log(planets['period']))\n",
    "ax.set_title('Log-Log relation between period and mean distance to the Sun')\n",
    "ax.set_xlabel('Log(mean distance [AU])')\n",
    "ax.set_ylabel('Log(period [days])');"
   ]
  },
  {
   "cell_type": "markdown",
   "metadata": {},
   "source": [
    "This time if we use `regplot`, the plot looks almost perfect."
   ]
  },
  {
   "cell_type": "code",
   "execution_count": null,
   "metadata": {},
   "outputs": [],
   "source": [
    "ax = sns.regplot(x=np.log(planets['mean_dist']), y=np.log(planets['period']), ci=False)\n",
    "ax.set_title('Log-Log relation between period and mean distance to the Sun')\n",
    "ax.set_xlabel('Log(mean distance [AU])')\n",
    "ax.set_ylabel('Log(period [days])');"
   ]
  },
  {
   "cell_type": "markdown",
   "metadata": {},
   "source": [
    "The slope of this line is approximately (9 - 6) / 2 = 1.5."
   ]
  },
  {
   "cell_type": "markdown",
   "metadata": {},
   "source": [
    "This suggests that $$T \\propto R^{3/2}$$. "
   ]
  },
  {
   "cell_type": "markdown",
   "metadata": {},
   "source": [
    "Kepler's third law actually states this in a slightly different format by squaring both sides:\n",
    "\n",
    "\n",
    "$$\n",
    "T^2\\propto R^3\n",
    "$$\n",
    "\n",
    "For Kepler this was a data-driven phenomenological law, formulated in 1619. It could only be explained dynamically once Newton introduced his law of universal gravitation in 1687."
   ]
  }
 ],
 "metadata": {
  "kernelspec": {
   "display_name": "Python 3 (ipykernel)",
   "language": "python",
   "name": "python3"
  },
  "language_info": {
   "codemirror_mode": {
    "name": "ipython",
    "version": 3
   },
   "file_extension": ".py",
   "mimetype": "text/x-python",
   "name": "python",
   "nbconvert_exporter": "python",
   "pygments_lexer": "ipython3",
   "version": "3.9.13"
  }
 },
 "nbformat": 4,
 "nbformat_minor": 4
}
