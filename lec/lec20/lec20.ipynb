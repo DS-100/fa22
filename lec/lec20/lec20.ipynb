{
 "cells": [
  {
   "cell_type": "markdown",
   "id": "a750c9e0",
   "metadata": {},
   "source": [
    "# Introduction to SQL, inside a Python-based Jupyter Notebook\n",
    "\n",
    "This Notebook focuses on SQL, while using the Python-based IPython kernel. For this, we take advantage of the [extensible IPython magic command system](https://ipython.readthedocs.io/en/stable/interactive/magics.html), as described below.\n",
    "\n",
    "Our first step is to load the [ipython-sql extension](https://github.com/catherinedevlin/ipython-sql), which exposes the `%%sql` cell magic."
   ]
  },
  {
   "cell_type": "markdown",
   "id": "288ab110-e68d-4ed6-8fc3-9cde80f4e094",
   "metadata": {},
   "source": [
    "## One-time setup - temporary fix\n",
    "\n",
    "_Note:_ I accidentally missed updating the hub to include the SQL IPython support. We've [requested a fix on the hub](https://github.com/berkeley-dsep-infra/datahub/issues/3897), but in the meantime, the cell below will do an install if necessary.\n",
    "\n",
    "Please use similar code in your other uses of SQL on the hub til we get this fixed (should happen soon).  Once this is fixed, the cell below can be replaced with simply\n",
    "\n",
    "```python\n",
    "%load_ext sql\n",
    "```"
   ]
  },
  {
   "cell_type": "code",
   "execution_count": 1,
   "id": "355ada36-94de-49f6-981a-004b09419633",
   "metadata": {},
   "outputs": [
    {
     "data": {
      "text/plain": [
       "\u001b[0;31mType:\u001b[0m        module\n",
       "\u001b[0;31mString form:\u001b[0m <module 'sql' from '/home/jovyan/.local/lib/python3.9/site-packages/sql/__init__.py'>\n",
       "\u001b[0;31mFile:\u001b[0m        ~/.local/lib/python3.9/site-packages/sql/__init__.py\n",
       "\u001b[0;31mSource:\u001b[0m      \u001b[0;32mfrom\u001b[0m \u001b[0;34m.\u001b[0m\u001b[0mmagic\u001b[0m \u001b[0;32mimport\u001b[0m \u001b[0;34m*\u001b[0m\u001b[0;34m\u001b[0m\u001b[0;34m\u001b[0m\u001b[0m\n"
      ]
     },
     "metadata": {},
     "output_type": "display_data"
    }
   ],
   "source": [
    "import sql\n",
    "sql??"
   ]
  },
  {
   "cell_type": "code",
   "execution_count": 2,
   "id": "f668fddc-d59f-42e8-a3b1-6ebaa2dcca06",
   "metadata": {},
   "outputs": [],
   "source": [
    "try:\n",
    "    %load_ext sql\n",
    "except ModuleNotFoundError:\n",
    "    %pip install ipython-sql\n",
    "    import sys\n",
    "    print('#'*80 + \n",
    "          '\\n\\nPlease restart your kernel before continuing.\\n\\n' + \n",
    "          '#'*80 ,\n",
    "          file=sys.stderr)"
   ]
  },
  {
   "cell_type": "code",
   "execution_count": 3,
   "id": "c50be35c-5af8-41fe-8a8e-d1b7e9a74646",
   "metadata": {},
   "outputs": [],
   "source": [
    "# %load_ext sql\n",
    "\n",
    "# We'll also connect directly to our DB with Pandas later\n",
    "import sqlalchemy\n",
    "import pandas as pd"
   ]
  },
  {
   "cell_type": "markdown",
   "id": "04005eed",
   "metadata": {},
   "source": [
    "## Connection and basic queries\n",
    "\n",
    "Then we will connect to the database. In this lecture example, the database is stored in a single file on our own computer called lec18_basic_examples.db.\n",
    "\n",
    "Note that starting a cell with `%%sql` tells Jupyter that you are running SQL code, not Python code.\n",
    "\n",
    "In actual practice, you'd usually connect to some database server via a network connection, e.g. hosted on some computer on the internet."
   ]
  },
  {
   "cell_type": "code",
   "execution_count": 4,
   "id": "2e6b0837",
   "metadata": {},
   "outputs": [],
   "source": [
    "%%sql\n",
    "sqlite:///data/lec18_basic_examples.db"
   ]
  },
  {
   "cell_type": "markdown",
   "id": "e42634bb",
   "metadata": {},
   "source": [
    "Now that we're connected, we can, for example, display the contents of the Dragon table."
   ]
  },
  {
   "cell_type": "code",
   "execution_count": 5,
   "id": "5275c8df",
   "metadata": {},
   "outputs": [
    {
     "name": "stdout",
     "output_type": "stream",
     "text": [
      " * sqlite:///data/lec18_basic_examples.db\n",
      "Done.\n"
     ]
    },
    {
     "data": {
      "text/html": [
       "<table>\n",
       "    <tr>\n",
       "        <th>name</th>\n",
       "        <th>year</th>\n",
       "        <th>cute</th>\n",
       "    </tr>\n",
       "    <tr>\n",
       "        <td>hiccup</td>\n",
       "        <td>2010</td>\n",
       "        <td>10</td>\n",
       "    </tr>\n",
       "    <tr>\n",
       "        <td>drogon</td>\n",
       "        <td>2011</td>\n",
       "        <td>-100</td>\n",
       "    </tr>\n",
       "    <tr>\n",
       "        <td>dragon 2</td>\n",
       "        <td>2019</td>\n",
       "        <td>0</td>\n",
       "    </tr>\n",
       "</table>"
      ],
      "text/plain": [
       "[('hiccup', 2010, 10), ('drogon', 2011, -100), ('dragon 2', 2019, 0)]"
      ]
     },
     "execution_count": 5,
     "metadata": {},
     "output_type": "execute_result"
    }
   ],
   "source": [
    "%%sql\n",
    "SELECT * FROM Dragon;"
   ]
  },
  {
   "cell_type": "code",
   "execution_count": 6,
   "id": "f32da741",
   "metadata": {
    "tags": []
   },
   "outputs": [
    {
     "name": "stdout",
     "output_type": "stream",
     "text": [
      " * sqlite:///data/lec18_basic_examples.db\n",
      "Done.\n"
     ]
    },
    {
     "data": {
      "text/html": [
       "<table>\n",
       "    <tr>\n",
       "        <th>type</th>\n",
       "        <th>name</th>\n",
       "        <th>tbl_name</th>\n",
       "        <th>rootpage</th>\n",
       "        <th>sql</th>\n",
       "    </tr>\n",
       "    <tr>\n",
       "        <td>table</td>\n",
       "        <td>sqlite_sequence</td>\n",
       "        <td>sqlite_sequence</td>\n",
       "        <td>7</td>\n",
       "        <td>CREATE TABLE sqlite_sequence(name,seq)</td>\n",
       "    </tr>\n",
       "    <tr>\n",
       "        <td>table</td>\n",
       "        <td>Dragon</td>\n",
       "        <td>Dragon</td>\n",
       "        <td>2</td>\n",
       "        <td>CREATE TABLE Dragon (<br>    name TEXT PRIMARY KEY,<br>    year INTEGER CHECK (year &gt;= 2000),<br>    cute INTEGER<br>)</td>\n",
       "    </tr>\n",
       "    <tr>\n",
       "        <td>table</td>\n",
       "        <td>Dish</td>\n",
       "        <td>Dish</td>\n",
       "        <td>4</td>\n",
       "        <td>CREATE TABLE Dish (<br>    name TEXT PRIMARY KEY,<br>    type TEXT,<br>    cost INTEGER CHECK (cost &gt;= 0)<br>)</td>\n",
       "    </tr>\n",
       "    <tr>\n",
       "        <td>table</td>\n",
       "        <td>Scene</td>\n",
       "        <td>Scene</td>\n",
       "        <td>6</td>\n",
       "        <td>CREATE TABLE Scene (<br>    id INTEGER PRIMARY KEY AUTOINCREMENT,<br>    biome TEXT NOT NULL,<br>    city TEXT NOT NULL,<br>    visitors INTEGER CHECK (visitors &gt;= 0),<br>    created_at DATETIME DEFAULT (DATETIME(&#x27;now&#x27;))<br>)</td>\n",
       "    </tr>\n",
       "</table>"
      ],
      "text/plain": [
       "[('table', 'sqlite_sequence', 'sqlite_sequence', 7, 'CREATE TABLE sqlite_sequence(name,seq)'),\n",
       " ('table', 'Dragon', 'Dragon', 2, 'CREATE TABLE Dragon (\\n    name TEXT PRIMARY KEY,\\n    year INTEGER CHECK (year >= 2000),\\n    cute INTEGER\\n)'),\n",
       " ('table', 'Dish', 'Dish', 4, 'CREATE TABLE Dish (\\n    name TEXT PRIMARY KEY,\\n    type TEXT,\\n    cost INTEGER CHECK (cost >= 0)\\n)'),\n",
       " ('table', 'Scene', 'Scene', 6, \"CREATE TABLE Scene (\\n    id INTEGER PRIMARY KEY AUTOINCREMENT,\\n    biome TEXT NOT NULL,\\n    city TEXT NOT NULL,\\n    visitors INTEGER CHECK (visitors >= 0),\\n    created_at DATETIME DEFAULT (DATETIME('now'))\\n)\")]"
      ]
     },
     "execution_count": 6,
     "metadata": {},
     "output_type": "execute_result"
    }
   ],
   "source": [
    "%%sql\n",
    "SELECT * FROM sqlite_master WHERE type='table'"
   ]
  },
  {
   "cell_type": "code",
   "execution_count": 7,
   "id": "8b10641e",
   "metadata": {},
   "outputs": [
    {
     "name": "stdout",
     "output_type": "stream",
     "text": [
      " * sqlite:///data/lec18_basic_examples.db\n",
      "Done.\n"
     ]
    },
    {
     "data": {
      "text/html": [
       "<table>\n",
       "    <tr>\n",
       "        <th>name</th>\n",
       "        <th>year</th>\n",
       "        <th>cute</th>\n",
       "    </tr>\n",
       "    <tr>\n",
       "        <td>hiccup</td>\n",
       "        <td>2010</td>\n",
       "        <td>10</td>\n",
       "    </tr>\n",
       "    <tr>\n",
       "        <td>drogon</td>\n",
       "        <td>2011</td>\n",
       "        <td>-100</td>\n",
       "    </tr>\n",
       "    <tr>\n",
       "        <td>dragon 2</td>\n",
       "        <td>2019</td>\n",
       "        <td>0</td>\n",
       "    </tr>\n",
       "</table>"
      ],
      "text/plain": [
       "[('hiccup', 2010, 10), ('drogon', 2011, -100), ('dragon 2', 2019, 0)]"
      ]
     },
     "execution_count": 7,
     "metadata": {},
     "output_type": "execute_result"
    }
   ],
   "source": [
    "%%sql\n",
    "SELECT * FROM Dragon;"
   ]
  },
  {
   "cell_type": "code",
   "execution_count": 8,
   "id": "0db25a51",
   "metadata": {},
   "outputs": [
    {
     "name": "stdout",
     "output_type": "stream",
     "text": [
      " * sqlite:///data/lec18_basic_examples.db\n",
      "Done.\n"
     ]
    },
    {
     "data": {
      "text/html": [
       "<table>\n",
       "    <tr>\n",
       "        <th>cute</th>\n",
       "        <th>year</th>\n",
       "    </tr>\n",
       "    <tr>\n",
       "        <td>10</td>\n",
       "        <td>2010</td>\n",
       "    </tr>\n",
       "    <tr>\n",
       "        <td>-100</td>\n",
       "        <td>2011</td>\n",
       "    </tr>\n",
       "    <tr>\n",
       "        <td>0</td>\n",
       "        <td>2019</td>\n",
       "    </tr>\n",
       "</table>"
      ],
      "text/plain": [
       "[(10, 2010), (-100, 2011), (0, 2019)]"
      ]
     },
     "execution_count": 8,
     "metadata": {},
     "output_type": "execute_result"
    }
   ],
   "source": [
    "%%sql\n",
    "SELECT cute, year FROM Dragon;"
   ]
  },
  {
   "cell_type": "code",
   "execution_count": 9,
   "id": "75596c85-eb17-4d19-b065-984524dec1d8",
   "metadata": {},
   "outputs": [
    {
     "name": "stdout",
     "output_type": "stream",
     "text": [
      " * sqlite:///data/lec18_basic_examples.db\n",
      "Done.\n"
     ]
    },
    {
     "data": {
      "text/html": [
       "<table>\n",
       "    <tr>\n",
       "        <th>cuteness</th>\n",
       "        <th>birth</th>\n",
       "    </tr>\n",
       "    <tr>\n",
       "        <td>10</td>\n",
       "        <td>2010</td>\n",
       "    </tr>\n",
       "    <tr>\n",
       "        <td>-100</td>\n",
       "        <td>2011</td>\n",
       "    </tr>\n",
       "    <tr>\n",
       "        <td>0</td>\n",
       "        <td>2019</td>\n",
       "    </tr>\n",
       "</table>"
      ],
      "text/plain": [
       "[(10, 2010), (-100, 2011), (0, 2019)]"
      ]
     },
     "execution_count": 9,
     "metadata": {},
     "output_type": "execute_result"
    }
   ],
   "source": [
    "%%sql\n",
    "SELECT cute AS cuteness, year AS birth FROM Dragon;"
   ]
  },
  {
   "cell_type": "code",
   "execution_count": 10,
   "id": "734189f7-de89-42ca-84e3-306cb564f34e",
   "metadata": {},
   "outputs": [
    {
     "name": "stdout",
     "output_type": "stream",
     "text": [
      " * sqlite:///data/lec18_basic_examples.db\n",
      "Done.\n"
     ]
    },
    {
     "data": {
      "text/html": [
       "<table>\n",
       "    <tr>\n",
       "        <th>cuteness</th>\n",
       "        <th>birth</th>\n",
       "    </tr>\n",
       "    <tr>\n",
       "        <td>10</td>\n",
       "        <td>2010</td>\n",
       "    </tr>\n",
       "    <tr>\n",
       "        <td>-100</td>\n",
       "        <td>2011</td>\n",
       "    </tr>\n",
       "    <tr>\n",
       "        <td>0</td>\n",
       "        <td>2019</td>\n",
       "    </tr>\n",
       "</table>"
      ],
      "text/plain": [
       "[(10, 2010), (-100, 2011), (0, 2019)]"
      ]
     },
     "execution_count": 10,
     "metadata": {},
     "output_type": "execute_result"
    }
   ],
   "source": [
    "%%sql\n",
    "SELECT cute AS cuteness,\n",
    "       year AS birth \n",
    "FROM Dragon;"
   ]
  },
  {
   "cell_type": "code",
   "execution_count": 11,
   "id": "2a28705b-7d0d-4252-b544-346194d2eea0",
   "metadata": {},
   "outputs": [
    {
     "name": "stdout",
     "output_type": "stream",
     "text": [
      " * sqlite:///data/lec18_basic_examples.db\n",
      "Done.\n"
     ]
    },
    {
     "data": {
      "text/html": [
       "<table>\n",
       "    <tr>\n",
       "        <th>name</th>\n",
       "        <th>year</th>\n",
       "    </tr>\n",
       "    <tr>\n",
       "        <td>hiccup</td>\n",
       "        <td>2010</td>\n",
       "    </tr>\n",
       "</table>"
      ],
      "text/plain": [
       "[('hiccup', 2010)]"
      ]
     },
     "execution_count": 11,
     "metadata": {},
     "output_type": "execute_result"
    }
   ],
   "source": [
    "%%sql\n",
    "SELECT name, year\n",
    "FROM Dragon\n",
    "WHERE cute > 0;"
   ]
  },
  {
   "cell_type": "code",
   "execution_count": 12,
   "id": "b8a3e2ce-9be3-41fa-8fcb-02b63095d269",
   "metadata": {},
   "outputs": [
    {
     "name": "stdout",
     "output_type": "stream",
     "text": [
      " * sqlite:///data/lec18_basic_examples.db\n",
      "Done.\n"
     ]
    },
    {
     "data": {
      "text/html": [
       "<table>\n",
       "    <tr>\n",
       "        <th>name</th>\n",
       "        <th>cute</th>\n",
       "        <th>year</th>\n",
       "    </tr>\n",
       "    <tr>\n",
       "        <td>hiccup</td>\n",
       "        <td>10</td>\n",
       "        <td>2010</td>\n",
       "    </tr>\n",
       "    <tr>\n",
       "        <td>dragon 2</td>\n",
       "        <td>0</td>\n",
       "        <td>2019</td>\n",
       "    </tr>\n",
       "</table>"
      ],
      "text/plain": [
       "[('hiccup', 10, 2010), ('dragon 2', 0, 2019)]"
      ]
     },
     "execution_count": 12,
     "metadata": {},
     "output_type": "execute_result"
    }
   ],
   "source": [
    "%%sql\n",
    "SELECT name, cute, year\n",
    "FROM Dragon\n",
    "WHERE cute > 0 OR year > 2015;"
   ]
  },
  {
   "cell_type": "code",
   "execution_count": 13,
   "id": "e92fcdcb-7b45-486c-a1f7-8d6c7e25413c",
   "metadata": {},
   "outputs": [
    {
     "name": "stdout",
     "output_type": "stream",
     "text": [
      " * sqlite:///data/lec18_basic_examples.db\n",
      "Done.\n"
     ]
    },
    {
     "data": {
      "text/html": [
       "<table>\n",
       "    <tr>\n",
       "        <th>name</th>\n",
       "        <th>year</th>\n",
       "        <th>cute</th>\n",
       "    </tr>\n",
       "    <tr>\n",
       "        <td>hiccup</td>\n",
       "        <td>2010</td>\n",
       "        <td>10</td>\n",
       "    </tr>\n",
       "    <tr>\n",
       "        <td>dragon 2</td>\n",
       "        <td>2019</td>\n",
       "        <td>0</td>\n",
       "    </tr>\n",
       "    <tr>\n",
       "        <td>drogon</td>\n",
       "        <td>2011</td>\n",
       "        <td>-100</td>\n",
       "    </tr>\n",
       "</table>"
      ],
      "text/plain": [
       "[('hiccup', 2010, 10), ('dragon 2', 2019, 0), ('drogon', 2011, -100)]"
      ]
     },
     "execution_count": 13,
     "metadata": {},
     "output_type": "execute_result"
    }
   ],
   "source": [
    "%%sql\n",
    "SELECT *\n",
    "FROM Dragon\n",
    "ORDER BY cute DESC;"
   ]
  },
  {
   "cell_type": "code",
   "execution_count": 14,
   "id": "afc34d86-ab22-4b0b-aad2-959247fe2494",
   "metadata": {},
   "outputs": [
    {
     "name": "stdout",
     "output_type": "stream",
     "text": [
      " * sqlite:///data/lec18_basic_examples.db\n",
      "Done.\n"
     ]
    },
    {
     "data": {
      "text/html": [
       "<table>\n",
       "    <tr>\n",
       "        <th>name</th>\n",
       "        <th>year</th>\n",
       "        <th>cute</th>\n",
       "    </tr>\n",
       "    <tr>\n",
       "        <td>hiccup</td>\n",
       "        <td>2010</td>\n",
       "        <td>10</td>\n",
       "    </tr>\n",
       "    <tr>\n",
       "        <td>drogon</td>\n",
       "        <td>2011</td>\n",
       "        <td>-100</td>\n",
       "    </tr>\n",
       "</table>"
      ],
      "text/plain": [
       "[('hiccup', 2010, 10), ('drogon', 2011, -100)]"
      ]
     },
     "execution_count": 14,
     "metadata": {},
     "output_type": "execute_result"
    }
   ],
   "source": [
    "%%sql\n",
    "SELECT *\n",
    "FROM Dragon\n",
    "LIMIT 2;"
   ]
  },
  {
   "cell_type": "code",
   "execution_count": 15,
   "id": "80802839-9169-4768-b2b1-49368ded674b",
   "metadata": {},
   "outputs": [
    {
     "name": "stdout",
     "output_type": "stream",
     "text": [
      " * sqlite:///data/lec18_basic_examples.db\n",
      "Done.\n"
     ]
    },
    {
     "data": {
      "text/html": [
       "<table>\n",
       "    <tr>\n",
       "        <th>name</th>\n",
       "        <th>year</th>\n",
       "        <th>cute</th>\n",
       "    </tr>\n",
       "    <tr>\n",
       "        <td>drogon</td>\n",
       "        <td>2011</td>\n",
       "        <td>-100</td>\n",
       "    </tr>\n",
       "    <tr>\n",
       "        <td>dragon 2</td>\n",
       "        <td>2019</td>\n",
       "        <td>0</td>\n",
       "    </tr>\n",
       "</table>"
      ],
      "text/plain": [
       "[('drogon', 2011, -100), ('dragon 2', 2019, 0)]"
      ]
     },
     "execution_count": 15,
     "metadata": {},
     "output_type": "execute_result"
    }
   ],
   "source": [
    "%%sql\n",
    "SELECT *\n",
    "FROM Dragon\n",
    "LIMIT 2\n",
    "OFFSET 1;"
   ]
  },
  {
   "cell_type": "markdown",
   "id": "de524341-78fd-4bad-92bb-a3e5b1c0d3f9",
   "metadata": {},
   "source": [
    "## Python-SQL combinations\n",
    "\n",
    "Using the syntax\n",
    "\n",
    "```python\n",
    "%%sql PYTHON_VARIABLE <<\n",
    "BODY OF QUERY\n",
    "```\n",
    "\n",
    "lets us capture the result of the SQL statement into a Python variable. [The docs provide more details](https://github.com/catherinedevlin/ipython-sql#assignment).\n",
    "\n",
    "For example, let's run the same query above but storing the output into a variable named `drag2`:"
   ]
  },
  {
   "cell_type": "code",
   "execution_count": 16,
   "id": "d7479229-9599-484c-a8a1-047086b17535",
   "metadata": {},
   "outputs": [
    {
     "name": "stdout",
     "output_type": "stream",
     "text": [
      " * sqlite:///data/lec18_basic_examples.db\n",
      "Done.\n",
      "Returning data to local variable drag2\n"
     ]
    }
   ],
   "source": [
    "%%sql drag2 << \n",
    "SELECT *\n",
    "FROM Dragon\n",
    "LIMIT 2\n",
    "OFFSET 1;"
   ]
  },
  {
   "cell_type": "markdown",
   "id": "5e11ba72-1709-4299-a1ce-bec72b186f1f",
   "metadata": {},
   "source": [
    "We can now see this variable and what type it is. While it looks a lot like a data frame, it's not one:"
   ]
  },
  {
   "cell_type": "code",
   "execution_count": 17,
   "id": "f810354c-7fe6-4f63-a068-d3a4cb655871",
   "metadata": {},
   "outputs": [
    {
     "data": {
      "text/html": [
       "<table>\n",
       "    <tr>\n",
       "        <th>name</th>\n",
       "        <th>year</th>\n",
       "        <th>cute</th>\n",
       "    </tr>\n",
       "    <tr>\n",
       "        <td>drogon</td>\n",
       "        <td>2011</td>\n",
       "        <td>-100</td>\n",
       "    </tr>\n",
       "    <tr>\n",
       "        <td>dragon 2</td>\n",
       "        <td>2019</td>\n",
       "        <td>0</td>\n",
       "    </tr>\n",
       "</table>"
      ],
      "text/plain": [
       "[('drogon', 2011, -100), ('dragon 2', 2019, 0)]"
      ]
     },
     "execution_count": 17,
     "metadata": {},
     "output_type": "execute_result"
    }
   ],
   "source": [
    "drag2"
   ]
  },
  {
   "cell_type": "code",
   "execution_count": 18,
   "id": "1b68f9f1-d78d-4adc-8a44-cf053a9486a7",
   "metadata": {},
   "outputs": [
    {
     "data": {
      "text/plain": [
       "sql.run.ResultSet"
      ]
     },
     "execution_count": 18,
     "metadata": {},
     "output_type": "execute_result"
    }
   ],
   "source": [
    "type(drag2)"
   ]
  },
  {
   "cell_type": "markdown",
   "id": "b3582713-92ae-473f-9c45-25c9d6d98db2",
   "metadata": {},
   "source": [
    "### Pandas-SQL interplay\n",
    "\n",
    "First, the above SQL results can be easily converted into true Pandas DataFrames, by calling their `DataFrame` method:"
   ]
  },
  {
   "cell_type": "code",
   "execution_count": 19,
   "id": "88147010-a59f-43ce-bf48-202f05df2dd0",
   "metadata": {},
   "outputs": [
    {
     "data": {
      "text/html": [
       "<div>\n",
       "<style scoped>\n",
       "    .dataframe tbody tr th:only-of-type {\n",
       "        vertical-align: middle;\n",
       "    }\n",
       "\n",
       "    .dataframe tbody tr th {\n",
       "        vertical-align: top;\n",
       "    }\n",
       "\n",
       "    .dataframe thead th {\n",
       "        text-align: right;\n",
       "    }\n",
       "</style>\n",
       "<table border=\"1\" class=\"dataframe\">\n",
       "  <thead>\n",
       "    <tr style=\"text-align: right;\">\n",
       "      <th></th>\n",
       "      <th>name</th>\n",
       "      <th>year</th>\n",
       "      <th>cute</th>\n",
       "    </tr>\n",
       "  </thead>\n",
       "  <tbody>\n",
       "    <tr>\n",
       "      <th>0</th>\n",
       "      <td>drogon</td>\n",
       "      <td>2011</td>\n",
       "      <td>-100</td>\n",
       "    </tr>\n",
       "    <tr>\n",
       "      <th>1</th>\n",
       "      <td>dragon 2</td>\n",
       "      <td>2019</td>\n",
       "      <td>0</td>\n",
       "    </tr>\n",
       "  </tbody>\n",
       "</table>\n",
       "</div>"
      ],
      "text/plain": [
       "       name  year  cute\n",
       "0    drogon  2011  -100\n",
       "1  dragon 2  2019     0"
      ]
     },
     "execution_count": 19,
     "metadata": {},
     "output_type": "execute_result"
    }
   ],
   "source": [
    "drag2.DataFrame()"
   ]
  },
  {
   "cell_type": "markdown",
   "id": "918d9c0d-56c8-4b41-a134-38d145e6f48d",
   "metadata": {},
   "source": [
    "But we can also use Pandas to connect to the same database, in pure Python. Sometimes this may be more convenient than using the SQL magic syntax - in the homework you'll practice some of this as well. You should be familiar with both methods, and use the one that best fits your needs."
   ]
  },
  {
   "cell_type": "code",
   "execution_count": 20,
   "id": "e07408d8-a86c-4704-a650-210022a48140",
   "metadata": {},
   "outputs": [],
   "source": [
    "engine = sqlalchemy.create_engine(\"sqlite:///data/lec18_basic_examples.db\")\n",
    "connection = engine.connect()"
   ]
  },
  {
   "cell_type": "code",
   "execution_count": 22,
   "id": "25e95493-86f9-47d1-bb2a-53d21a651883",
   "metadata": {},
   "outputs": [
    {
     "data": {
      "text/html": [
       "<div>\n",
       "<style scoped>\n",
       "    .dataframe tbody tr th:only-of-type {\n",
       "        vertical-align: middle;\n",
       "    }\n",
       "\n",
       "    .dataframe tbody tr th {\n",
       "        vertical-align: top;\n",
       "    }\n",
       "\n",
       "    .dataframe thead th {\n",
       "        text-align: right;\n",
       "    }\n",
       "</style>\n",
       "<table border=\"1\" class=\"dataframe\">\n",
       "  <thead>\n",
       "    <tr style=\"text-align: right;\">\n",
       "      <th></th>\n",
       "      <th>name</th>\n",
       "      <th>year</th>\n",
       "      <th>cute</th>\n",
       "    </tr>\n",
       "  </thead>\n",
       "  <tbody>\n",
       "    <tr>\n",
       "      <th>0</th>\n",
       "      <td>drogon</td>\n",
       "      <td>2011</td>\n",
       "      <td>-100</td>\n",
       "    </tr>\n",
       "    <tr>\n",
       "      <th>1</th>\n",
       "      <td>dragon 2</td>\n",
       "      <td>2019</td>\n",
       "      <td>0</td>\n",
       "    </tr>\n",
       "  </tbody>\n",
       "</table>\n",
       "</div>"
      ],
      "text/plain": [
       "       name  year  cute\n",
       "0    drogon  2011  -100\n",
       "1  dragon 2  2019     0"
      ]
     },
     "execution_count": 22,
     "metadata": {},
     "output_type": "execute_result"
    }
   ],
   "source": [
    "query = \"\"\"\n",
    "SELECT *\n",
    "FROM Dragon\n",
    "LIMIT 2\n",
    "OFFSET 1;\n",
    "\"\"\"\n",
    "\n",
    "pd.read_sql(query, connection)"
   ]
  },
  {
   "cell_type": "markdown",
   "id": "8da53d86-db0b-4c54-bc96-357386548eed",
   "metadata": {},
   "source": [
    "As you can see, both the direct pandas query, and converting `drag2` to a DataFrame, produce identical results (as they should!).\n",
    "\n",
    "Finally, now that we have the `query` variable with the contents of our query, we can use it directly in the SQL magic too! It supports `{var}` syntax (as well as `$var` and will expand the python `var` variable into its value before making the query:"
   ]
  },
  {
   "cell_type": "code",
   "execution_count": 26,
   "id": "a5fbbf27-4b78-4a72-bb78-f736d0466178",
   "metadata": {},
   "outputs": [
    {
     "name": "stdout",
     "output_type": "stream",
     "text": [
      " * sqlite:///data/lec18_basic_examples.db\n",
      "Done.\n"
     ]
    },
    {
     "data": {
      "text/html": [
       "<table>\n",
       "    <tr>\n",
       "        <th>name</th>\n",
       "        <th>year</th>\n",
       "        <th>cute</th>\n",
       "    </tr>\n",
       "    <tr>\n",
       "        <td>drogon</td>\n",
       "        <td>2011</td>\n",
       "        <td>-100</td>\n",
       "    </tr>\n",
       "    <tr>\n",
       "        <td>dragon 2</td>\n",
       "        <td>2019</td>\n",
       "        <td>0</td>\n",
       "    </tr>\n",
       "</table>"
      ],
      "text/plain": [
       "[('drogon', 2011, -100), ('dragon 2', 2019, 0)]"
      ]
     },
     "execution_count": 26,
     "metadata": {},
     "output_type": "execute_result"
    }
   ],
   "source": [
    "%%sql\n",
    "{query}"
   ]
  },
  {
   "cell_type": "code",
   "execution_count": 27,
   "id": "becc9681",
   "metadata": {},
   "outputs": [
    {
     "name": "stdout",
     "output_type": "stream",
     "text": [
      " * sqlite:///data/lec18_basic_examples.db\n",
      "Done.\n"
     ]
    },
    {
     "data": {
      "text/html": [
       "<table>\n",
       "    <tr>\n",
       "        <th>name</th>\n",
       "        <th>year</th>\n",
       "        <th>cute</th>\n",
       "    </tr>\n",
       "    <tr>\n",
       "        <td>drogon</td>\n",
       "        <td>2011</td>\n",
       "        <td>-100</td>\n",
       "    </tr>\n",
       "    <tr>\n",
       "        <td>dragon 2</td>\n",
       "        <td>2019</td>\n",
       "        <td>0</td>\n",
       "    </tr>\n",
       "</table>"
      ],
      "text/plain": [
       "[('drogon', 2011, -100), ('dragon 2', 2019, 0)]"
      ]
     },
     "execution_count": 27,
     "metadata": {},
     "output_type": "execute_result"
    }
   ],
   "source": [
    "%%sql\n",
    "$query"
   ]
  },
  {
   "cell_type": "code",
   "execution_count": 33,
   "id": "eb39d37d-d61a-4857-93b5-a811c21e386b",
   "metadata": {},
   "outputs": [
    {
     "name": "stdout",
     "output_type": "stream",
     "text": [
      "\n",
      "SELECT *\n",
      "FROM Dragon\n",
      "LIMIT 3\n",
      "OFFSET 1;\n",
      "\n"
     ]
    }
   ],
   "source": [
    "query = \"\"\"\n",
    "SELECT *\n",
    "FROM Dragon\n",
    "LIMIT {limit}\n",
    "OFFSET 1;\n",
    "\"\"\"\n",
    "print(query.format(limit=3))"
   ]
  },
  {
   "cell_type": "code",
   "execution_count": 32,
   "id": "f6b23c33-61a4-4970-af75-382c8abacaa9",
   "metadata": {},
   "outputs": [
    {
     "name": "stdout",
     "output_type": "stream",
     "text": [
      " * sqlite:///data/lec18_basic_examples.db\n",
      "Done.\n"
     ]
    },
    {
     "data": {
      "text/html": [
       "<table>\n",
       "    <tr>\n",
       "        <th>name</th>\n",
       "        <th>year</th>\n",
       "        <th>cute</th>\n",
       "    </tr>\n",
       "    <tr>\n",
       "        <td>drogon</td>\n",
       "        <td>2011</td>\n",
       "        <td>-100</td>\n",
       "    </tr>\n",
       "</table>"
      ],
      "text/plain": [
       "[('drogon', 2011, -100)]"
      ]
     },
     "execution_count": 32,
     "metadata": {},
     "output_type": "execute_result"
    }
   ],
   "source": [
    "%%sql\n",
    "{query.format(limit=1)}"
   ]
  },
  {
   "cell_type": "markdown",
   "id": "62f0b944-eead-44e7-8c3c-35a2326cbe01",
   "metadata": {},
   "source": [
    "## GROUP BY operations"
   ]
  },
  {
   "cell_type": "code",
   "execution_count": 24,
   "id": "660cd78d-7639-4875-aa3e-7a840d0d37a4",
   "metadata": {},
   "outputs": [
    {
     "name": "stdout",
     "output_type": "stream",
     "text": [
      " * sqlite:///data/lec18_basic_examples.db\n",
      "Done.\n"
     ]
    },
    {
     "data": {
      "text/html": [
       "<table>\n",
       "    <tr>\n",
       "        <th>name</th>\n",
       "        <th>type</th>\n",
       "        <th>cost</th>\n",
       "    </tr>\n",
       "    <tr>\n",
       "        <td>ravioli</td>\n",
       "        <td>entree</td>\n",
       "        <td>10</td>\n",
       "    </tr>\n",
       "    <tr>\n",
       "        <td>pork bun</td>\n",
       "        <td>entree</td>\n",
       "        <td>7</td>\n",
       "    </tr>\n",
       "    <tr>\n",
       "        <td>taco</td>\n",
       "        <td>entree</td>\n",
       "        <td>7</td>\n",
       "    </tr>\n",
       "    <tr>\n",
       "        <td>edamame</td>\n",
       "        <td>appetizer</td>\n",
       "        <td>4</td>\n",
       "    </tr>\n",
       "    <tr>\n",
       "        <td>fries</td>\n",
       "        <td>appetizer</td>\n",
       "        <td>4</td>\n",
       "    </tr>\n",
       "    <tr>\n",
       "        <td>potsticker</td>\n",
       "        <td>appetizer</td>\n",
       "        <td>4</td>\n",
       "    </tr>\n",
       "    <tr>\n",
       "        <td>ice cream</td>\n",
       "        <td>dessert</td>\n",
       "        <td>5</td>\n",
       "    </tr>\n",
       "</table>"
      ],
      "text/plain": [
       "[('ravioli', 'entree', 10),\n",
       " ('pork bun', 'entree', 7),\n",
       " ('taco', 'entree', 7),\n",
       " ('edamame', 'appetizer', 4),\n",
       " ('fries', 'appetizer', 4),\n",
       " ('potsticker', 'appetizer', 4),\n",
       " ('ice cream', 'dessert', 5)]"
      ]
     },
     "execution_count": 24,
     "metadata": {},
     "output_type": "execute_result"
    }
   ],
   "source": [
    "%%sql\n",
    "SELECT *\n",
    "FROM Dish;"
   ]
  },
  {
   "cell_type": "code",
   "execution_count": 25,
   "id": "b8fdab3a-0f93-4e39-b344-3a5068ae228b",
   "metadata": {},
   "outputs": [
    {
     "name": "stdout",
     "output_type": "stream",
     "text": [
      " * sqlite:///data/lec18_basic_examples.db\n",
      "Done.\n"
     ]
    },
    {
     "data": {
      "text/html": [
       "<table>\n",
       "    <tr>\n",
       "        <th>type</th>\n",
       "    </tr>\n",
       "    <tr>\n",
       "        <td>entree</td>\n",
       "    </tr>\n",
       "    <tr>\n",
       "        <td>entree</td>\n",
       "    </tr>\n",
       "    <tr>\n",
       "        <td>entree</td>\n",
       "    </tr>\n",
       "    <tr>\n",
       "        <td>appetizer</td>\n",
       "    </tr>\n",
       "    <tr>\n",
       "        <td>appetizer</td>\n",
       "    </tr>\n",
       "    <tr>\n",
       "        <td>appetizer</td>\n",
       "    </tr>\n",
       "    <tr>\n",
       "        <td>dessert</td>\n",
       "    </tr>\n",
       "</table>"
      ],
      "text/plain": [
       "[('entree',),\n",
       " ('entree',),\n",
       " ('entree',),\n",
       " ('appetizer',),\n",
       " ('appetizer',),\n",
       " ('appetizer',),\n",
       " ('dessert',)]"
      ]
     },
     "execution_count": 25,
     "metadata": {},
     "output_type": "execute_result"
    }
   ],
   "source": [
    "%%sql\n",
    "SELECT type\n",
    "FROM Dish;"
   ]
  },
  {
   "cell_type": "code",
   "execution_count": 26,
   "id": "6369bcf3-c7ae-46e3-8b63-c6adfd6e9611",
   "metadata": {},
   "outputs": [
    {
     "name": "stdout",
     "output_type": "stream",
     "text": [
      " * sqlite:///data/lec18_basic_examples.db\n",
      "Done.\n"
     ]
    },
    {
     "data": {
      "text/html": [
       "<table>\n",
       "    <tr>\n",
       "        <th>type</th>\n",
       "    </tr>\n",
       "    <tr>\n",
       "        <td>appetizer</td>\n",
       "    </tr>\n",
       "    <tr>\n",
       "        <td>dessert</td>\n",
       "    </tr>\n",
       "    <tr>\n",
       "        <td>entree</td>\n",
       "    </tr>\n",
       "</table>"
      ],
      "text/plain": [
       "[('appetizer',), ('dessert',), ('entree',)]"
      ]
     },
     "execution_count": 26,
     "metadata": {},
     "output_type": "execute_result"
    }
   ],
   "source": [
    "%%sql\n",
    "SELECT type\n",
    "FROM Dish\n",
    "GROUP BY type;"
   ]
  },
  {
   "cell_type": "code",
   "execution_count": 27,
   "id": "50792e27-c504-43a3-9e65-a1f2aa891828",
   "metadata": {},
   "outputs": [
    {
     "name": "stdout",
     "output_type": "stream",
     "text": [
      " * sqlite:///data/lec18_basic_examples.db\n",
      "Done.\n"
     ]
    },
    {
     "data": {
      "text/html": [
       "<table>\n",
       "    <tr>\n",
       "        <th>type</th>\n",
       "        <th>MAX(cost)</th>\n",
       "    </tr>\n",
       "    <tr>\n",
       "        <td>appetizer</td>\n",
       "        <td>4</td>\n",
       "    </tr>\n",
       "    <tr>\n",
       "        <td>dessert</td>\n",
       "        <td>5</td>\n",
       "    </tr>\n",
       "    <tr>\n",
       "        <td>entree</td>\n",
       "        <td>10</td>\n",
       "    </tr>\n",
       "</table>"
      ],
      "text/plain": [
       "[('appetizer', 4), ('dessert', 5), ('entree', 10)]"
      ]
     },
     "execution_count": 27,
     "metadata": {},
     "output_type": "execute_result"
    }
   ],
   "source": [
    "%%sql\n",
    "SELECT type, MAX(cost)\n",
    "FROM Dish\n",
    "GROUP BY type;"
   ]
  },
  {
   "cell_type": "code",
   "execution_count": 28,
   "id": "cd7495a5-0008-49ba-abb7-4e9da953f5a6",
   "metadata": {},
   "outputs": [
    {
     "name": "stdout",
     "output_type": "stream",
     "text": [
      " * sqlite:///data/lec18_basic_examples.db\n",
      "Done.\n"
     ]
    },
    {
     "data": {
      "text/html": [
       "<table>\n",
       "    <tr>\n",
       "        <th>type</th>\n",
       "        <th>SUM(cost)</th>\n",
       "        <th>MIN(cost)</th>\n",
       "        <th>MAX(name)</th>\n",
       "    </tr>\n",
       "    <tr>\n",
       "        <td>appetizer</td>\n",
       "        <td>12</td>\n",
       "        <td>4</td>\n",
       "        <td>potsticker</td>\n",
       "    </tr>\n",
       "    <tr>\n",
       "        <td>dessert</td>\n",
       "        <td>5</td>\n",
       "        <td>5</td>\n",
       "        <td>ice cream</td>\n",
       "    </tr>\n",
       "    <tr>\n",
       "        <td>entree</td>\n",
       "        <td>24</td>\n",
       "        <td>7</td>\n",
       "        <td>taco</td>\n",
       "    </tr>\n",
       "</table>"
      ],
      "text/plain": [
       "[('appetizer', 12, 4, 'potsticker'),\n",
       " ('dessert', 5, 5, 'ice cream'),\n",
       " ('entree', 24, 7, 'taco')]"
      ]
     },
     "execution_count": 28,
     "metadata": {},
     "output_type": "execute_result"
    }
   ],
   "source": [
    "%%sql\n",
    "SELECT type, \n",
    "       SUM(cost), \n",
    "       MIN(cost),\n",
    "       MAX(name)\n",
    "FROM Dish\n",
    "GROUP BY type;"
   ]
  },
  {
   "cell_type": "markdown",
   "id": "e83745a8-25df-4af3-9f87-4c18e6c05634",
   "metadata": {
    "tags": []
   },
   "source": [
    "## Trickier GROUP BY"
   ]
  },
  {
   "cell_type": "code",
   "execution_count": 29,
   "id": "1407feff-4c68-4d26-a72c-dfb4e5a03603",
   "metadata": {},
   "outputs": [
    {
     "name": "stdout",
     "output_type": "stream",
     "text": [
      " * sqlite:///data/lec18_basic_examples.db\n",
      "Done.\n"
     ]
    },
    {
     "data": {
      "text/html": [
       "<table>\n",
       "    <tr>\n",
       "        <th>type</th>\n",
       "        <th>COUNT(cost)</th>\n",
       "    </tr>\n",
       "    <tr>\n",
       "        <td>appetizer</td>\n",
       "        <td>3</td>\n",
       "    </tr>\n",
       "    <tr>\n",
       "        <td>dessert</td>\n",
       "        <td>1</td>\n",
       "    </tr>\n",
       "    <tr>\n",
       "        <td>entree</td>\n",
       "        <td>3</td>\n",
       "    </tr>\n",
       "</table>"
      ],
      "text/plain": [
       "[('appetizer', 3), ('dessert', 1), ('entree', 3)]"
      ]
     },
     "execution_count": 29,
     "metadata": {},
     "output_type": "execute_result"
    }
   ],
   "source": [
    "%%sql\n",
    "SELECT type, COUNT(cost)\n",
    "FROM Dish\n",
    "GROUP BY type;"
   ]
  },
  {
   "cell_type": "code",
   "execution_count": 30,
   "id": "7f1460e5-ccb1-448c-bcde-cc32081e6741",
   "metadata": {},
   "outputs": [
    {
     "name": "stdout",
     "output_type": "stream",
     "text": [
      " * sqlite:///data/lec18_basic_examples.db\n",
      "Done.\n"
     ]
    },
    {
     "data": {
      "text/html": [
       "<table>\n",
       "    <tr>\n",
       "        <th>type</th>\n",
       "        <th>COUNT(cost)</th>\n",
       "    </tr>\n",
       "    <tr>\n",
       "        <td>appetizer</td>\n",
       "        <td>3</td>\n",
       "    </tr>\n",
       "    <tr>\n",
       "        <td>dessert</td>\n",
       "        <td>1</td>\n",
       "    </tr>\n",
       "    <tr>\n",
       "        <td>entree</td>\n",
       "        <td>3</td>\n",
       "    </tr>\n",
       "</table>"
      ],
      "text/plain": [
       "[('appetizer', 3), ('dessert', 1), ('entree', 3)]"
      ]
     },
     "execution_count": 30,
     "metadata": {},
     "output_type": "execute_result"
    }
   ],
   "source": [
    "%%sql\n",
    "SELECT type, COUNT(cost)\n",
    "FROM Dish\n",
    "GROUP BY type;"
   ]
  },
  {
   "cell_type": "code",
   "execution_count": 31,
   "id": "1e7bdea2-a922-40f1-b28c-42f27bf1e9ba",
   "metadata": {},
   "outputs": [
    {
     "name": "stdout",
     "output_type": "stream",
     "text": [
      " * sqlite:///data/lec18_basic_examples.db\n",
      "Done.\n"
     ]
    },
    {
     "data": {
      "text/html": [
       "<table>\n",
       "    <tr>\n",
       "        <th>type</th>\n",
       "        <th>COUNT(*)</th>\n",
       "    </tr>\n",
       "    <tr>\n",
       "        <td>appetizer</td>\n",
       "        <td>3</td>\n",
       "    </tr>\n",
       "    <tr>\n",
       "        <td>dessert</td>\n",
       "        <td>1</td>\n",
       "    </tr>\n",
       "    <tr>\n",
       "        <td>entree</td>\n",
       "        <td>3</td>\n",
       "    </tr>\n",
       "</table>"
      ],
      "text/plain": [
       "[('appetizer', 3), ('dessert', 1), ('entree', 3)]"
      ]
     },
     "execution_count": 31,
     "metadata": {},
     "output_type": "execute_result"
    }
   ],
   "source": [
    "%%sql\n",
    "SELECT type, COUNT(*)\n",
    "FROM Dish\n",
    "GROUP BY type;"
   ]
  },
  {
   "cell_type": "code",
   "execution_count": 32,
   "id": "fefff59d-237b-4b0b-bf87-834e97c9099d",
   "metadata": {},
   "outputs": [
    {
     "name": "stdout",
     "output_type": "stream",
     "text": [
      " * sqlite:///data/lec18_basic_examples.db\n",
      "Done.\n"
     ]
    },
    {
     "data": {
      "text/html": [
       "<table>\n",
       "    <tr>\n",
       "        <th>type</th>\n",
       "        <th>cost</th>\n",
       "    </tr>\n",
       "    <tr>\n",
       "        <td>appetizer</td>\n",
       "        <td>4</td>\n",
       "    </tr>\n",
       "    <tr>\n",
       "        <td>dessert</td>\n",
       "        <td>5</td>\n",
       "    </tr>\n",
       "    <tr>\n",
       "        <td>entree</td>\n",
       "        <td>7</td>\n",
       "    </tr>\n",
       "    <tr>\n",
       "        <td>entree</td>\n",
       "        <td>10</td>\n",
       "    </tr>\n",
       "</table>"
      ],
      "text/plain": [
       "[('appetizer', 4), ('dessert', 5), ('entree', 7), ('entree', 10)]"
      ]
     },
     "execution_count": 32,
     "metadata": {},
     "output_type": "execute_result"
    }
   ],
   "source": [
    "%%sql\n",
    "SELECT type, cost\n",
    "FROM Dish\n",
    "GROUP BY type, cost;"
   ]
  },
  {
   "cell_type": "code",
   "execution_count": 34,
   "id": "4327b690-5de7-47b7-8b9e-538f957641c6",
   "metadata": {},
   "outputs": [
    {
     "name": "stdout",
     "output_type": "stream",
     "text": [
      " * sqlite:///data/lec18_basic_examples.db\n",
      "Done.\n"
     ]
    },
    {
     "data": {
      "text/html": [
       "<table>\n",
       "    <tr>\n",
       "        <th>type</th>\n",
       "        <th>cost</th>\n",
       "        <th>size</th>\n",
       "    </tr>\n",
       "    <tr>\n",
       "        <td>appetizer</td>\n",
       "        <td>4</td>\n",
       "        <td>3</td>\n",
       "    </tr>\n",
       "    <tr>\n",
       "        <td>dessert</td>\n",
       "        <td>5</td>\n",
       "        <td>1</td>\n",
       "    </tr>\n",
       "    <tr>\n",
       "        <td>entree</td>\n",
       "        <td>7</td>\n",
       "        <td>2</td>\n",
       "    </tr>\n",
       "    <tr>\n",
       "        <td>entree</td>\n",
       "        <td>10</td>\n",
       "        <td>1</td>\n",
       "    </tr>\n",
       "</table>"
      ],
      "text/plain": [
       "[('appetizer', 4, 3), ('dessert', 5, 1), ('entree', 7, 2), ('entree', 10, 1)]"
      ]
     },
     "execution_count": 34,
     "metadata": {},
     "output_type": "execute_result"
    }
   ],
   "source": [
    "%%sql\n",
    "SELECT type, cost, COUNT(*) as size\n",
    "FROM Dish\n",
    "GROUP BY type, cost;"
   ]
  },
  {
   "cell_type": "markdown",
   "id": "c250c67f-3d88-40f7-9ea1-a29927e24dce",
   "metadata": {},
   "source": [
    "Remember you can rename columns if you want, so instead of seeing a column named `COUNT(*)`, we get something more descriptive:"
   ]
  },
  {
   "cell_type": "code",
   "execution_count": 34,
   "id": "73b19ba1",
   "metadata": {},
   "outputs": [
    {
     "name": "stdout",
     "output_type": "stream",
     "text": [
      " * sqlite:///data/lec18_basic_examples.db\n",
      "Done.\n"
     ]
    },
    {
     "data": {
      "text/html": [
       "<table>\n",
       "    <tr>\n",
       "        <th>type</th>\n",
       "        <th>cost</th>\n",
       "        <th>size</th>\n",
       "    </tr>\n",
       "    <tr>\n",
       "        <td>appetizer</td>\n",
       "        <td>4</td>\n",
       "        <td>3</td>\n",
       "    </tr>\n",
       "    <tr>\n",
       "        <td>dessert</td>\n",
       "        <td>5</td>\n",
       "        <td>1</td>\n",
       "    </tr>\n",
       "    <tr>\n",
       "        <td>entree</td>\n",
       "        <td>7</td>\n",
       "        <td>2</td>\n",
       "    </tr>\n",
       "    <tr>\n",
       "        <td>entree</td>\n",
       "        <td>10</td>\n",
       "        <td>1</td>\n",
       "    </tr>\n",
       "</table>"
      ],
      "text/plain": [
       "[('appetizer', 4, 3), ('dessert', 5, 1), ('entree', 7, 2), ('entree', 10, 1)]"
      ]
     },
     "execution_count": 34,
     "metadata": {},
     "output_type": "execute_result"
    }
   ],
   "source": [
    "%%sql\n",
    "SELECT type, cost, COUNT(*) as size\n",
    "FROM Dish\n",
    "GROUP BY type, cost;"
   ]
  },
  {
   "cell_type": "code",
   "execution_count": 35,
   "id": "148a6cc8-5e05-41dd-8edf-af5fa9bdf416",
   "metadata": {},
   "outputs": [
    {
     "name": "stdout",
     "output_type": "stream",
     "text": [
      " * sqlite:///data/lec18_basic_examples.db\n",
      "Done.\n"
     ]
    },
    {
     "data": {
      "text/html": [
       "<table>\n",
       "    <tr>\n",
       "        <th>type</th>\n",
       "        <th>COUNT(*)</th>\n",
       "    </tr>\n",
       "    <tr>\n",
       "        <td>appetizer</td>\n",
       "        <td>3</td>\n",
       "    </tr>\n",
       "    <tr>\n",
       "        <td>dessert</td>\n",
       "        <td>1</td>\n",
       "    </tr>\n",
       "    <tr>\n",
       "        <td>entree</td>\n",
       "        <td>3</td>\n",
       "    </tr>\n",
       "</table>"
      ],
      "text/plain": [
       "[('appetizer', 3), ('dessert', 1), ('entree', 3)]"
      ]
     },
     "execution_count": 35,
     "metadata": {},
     "output_type": "execute_result"
    }
   ],
   "source": [
    "%%sql\n",
    "SELECT type, COUNT(*)\n",
    "FROM Dish\n",
    "GROUP BY type;"
   ]
  },
  {
   "cell_type": "code",
   "execution_count": 36,
   "id": "b9639502-ebb7-4a4b-9944-146a59373658",
   "metadata": {},
   "outputs": [
    {
     "name": "stdout",
     "output_type": "stream",
     "text": [
      " * sqlite:///data/lec18_basic_examples.db\n",
      "Done.\n"
     ]
    },
    {
     "data": {
      "text/html": [
       "<table>\n",
       "    <tr>\n",
       "        <th>type</th>\n",
       "        <th>COUNT(*)</th>\n",
       "    </tr>\n",
       "    <tr>\n",
       "        <td>appetizer</td>\n",
       "        <td>3</td>\n",
       "    </tr>\n",
       "    <tr>\n",
       "        <td>dessert</td>\n",
       "        <td>1</td>\n",
       "    </tr>\n",
       "</table>"
      ],
      "text/plain": [
       "[('appetizer', 3), ('dessert', 1)]"
      ]
     },
     "execution_count": 36,
     "metadata": {},
     "output_type": "execute_result"
    }
   ],
   "source": [
    "%%sql\n",
    "SELECT type, COUNT(*)\n",
    "FROM Dish\n",
    "GROUP BY type\n",
    "HAVING MAX(cost) < 8"
   ]
  },
  {
   "cell_type": "code",
   "execution_count": 37,
   "id": "c31bba82-bf75-433b-8e52-9c61dc7c4144",
   "metadata": {},
   "outputs": [
    {
     "name": "stdout",
     "output_type": "stream",
     "text": [
      " * sqlite:///data/lec18_basic_examples.db\n",
      "Done.\n"
     ]
    },
    {
     "data": {
      "text/html": [
       "<table>\n",
       "    <tr>\n",
       "        <th>type</th>\n",
       "        <th>COUNT(*)</th>\n",
       "    </tr>\n",
       "    <tr>\n",
       "        <td>appetizer</td>\n",
       "        <td>3</td>\n",
       "    </tr>\n",
       "    <tr>\n",
       "        <td>dessert</td>\n",
       "        <td>1</td>\n",
       "    </tr>\n",
       "    <tr>\n",
       "        <td>entree</td>\n",
       "        <td>2</td>\n",
       "    </tr>\n",
       "</table>"
      ],
      "text/plain": [
       "[('appetizer', 3), ('dessert', 1), ('entree', 2)]"
      ]
     },
     "execution_count": 37,
     "metadata": {},
     "output_type": "execute_result"
    }
   ],
   "source": [
    "%%sql\n",
    "SELECT type, COUNT(*)\n",
    "FROM Dish\n",
    "WHERE cost < 8\n",
    "GROUP BY type;"
   ]
  },
  {
   "cell_type": "markdown",
   "id": "e767616e-1087-43b6-a6c2-556e109f0237",
   "metadata": {},
   "source": [
    "## DISTINCT"
   ]
  },
  {
   "cell_type": "code",
   "execution_count": 38,
   "id": "a72b2386-2a83-48f4-8709-961869ba968e",
   "metadata": {},
   "outputs": [
    {
     "name": "stdout",
     "output_type": "stream",
     "text": [
      " * sqlite:///data/lec18_basic_examples.db\n",
      "Done.\n"
     ]
    },
    {
     "data": {
      "text/html": [
       "<table>\n",
       "    <tr>\n",
       "        <th>cost</th>\n",
       "    </tr>\n",
       "    <tr>\n",
       "        <td>10</td>\n",
       "    </tr>\n",
       "    <tr>\n",
       "        <td>7</td>\n",
       "    </tr>\n",
       "    <tr>\n",
       "        <td>4</td>\n",
       "    </tr>\n",
       "    <tr>\n",
       "        <td>5</td>\n",
       "    </tr>\n",
       "</table>"
      ],
      "text/plain": [
       "[(10,), (7,), (4,), (5,)]"
      ]
     },
     "execution_count": 38,
     "metadata": {},
     "output_type": "execute_result"
    }
   ],
   "source": [
    "%%sql\n",
    "SELECT DISTINCT cost\n",
    "FROM Dish;"
   ]
  },
  {
   "cell_type": "code",
   "execution_count": 39,
   "id": "905b30fa-10bc-48fe-baf4-9c73db0db7ee",
   "metadata": {},
   "outputs": [
    {
     "name": "stdout",
     "output_type": "stream",
     "text": [
      " * sqlite:///data/lec18_basic_examples.db\n",
      "Done.\n"
     ]
    },
    {
     "data": {
      "text/html": [
       "<table>\n",
       "    <tr>\n",
       "        <th>type</th>\n",
       "    </tr>\n",
       "    <tr>\n",
       "        <td>entree</td>\n",
       "    </tr>\n",
       "    <tr>\n",
       "        <td>appetizer</td>\n",
       "    </tr>\n",
       "    <tr>\n",
       "        <td>dessert</td>\n",
       "    </tr>\n",
       "</table>"
      ],
      "text/plain": [
       "[('entree',), ('appetizer',), ('dessert',)]"
      ]
     },
     "execution_count": 39,
     "metadata": {},
     "output_type": "execute_result"
    }
   ],
   "source": [
    "%%sql\n",
    "SELECT DISTINCT type \n",
    "FROM Dish\n",
    "WHERE cost < 9;"
   ]
  },
  {
   "cell_type": "code",
   "execution_count": 40,
   "id": "18404330-26ef-4391-b897-d3e9323821b4",
   "metadata": {},
   "outputs": [
    {
     "name": "stdout",
     "output_type": "stream",
     "text": [
      " * sqlite:///data/lec18_basic_examples.db\n",
      "Done.\n"
     ]
    },
    {
     "data": {
      "text/html": [
       "<table>\n",
       "    <tr>\n",
       "        <th>type</th>\n",
       "        <th>cost</th>\n",
       "    </tr>\n",
       "    <tr>\n",
       "        <td>entree</td>\n",
       "        <td>7</td>\n",
       "    </tr>\n",
       "    <tr>\n",
       "        <td>appetizer</td>\n",
       "        <td>4</td>\n",
       "    </tr>\n",
       "    <tr>\n",
       "        <td>dessert</td>\n",
       "        <td>5</td>\n",
       "    </tr>\n",
       "</table>"
      ],
      "text/plain": [
       "[('entree', 7), ('appetizer', 4), ('dessert', 5)]"
      ]
     },
     "execution_count": 40,
     "metadata": {},
     "output_type": "execute_result"
    }
   ],
   "source": [
    "%%sql\n",
    "SELECT DISTINCT type, cost \n",
    "FROM Dish\n",
    "WHERE cost < 9;"
   ]
  },
  {
   "cell_type": "code",
   "execution_count": 41,
   "id": "45126bc3-f1c8-4b07-97a8-ec61a42c32f1",
   "metadata": {},
   "outputs": [
    {
     "name": "stdout",
     "output_type": "stream",
     "text": [
      " * sqlite:///data/lec18_basic_examples.db\n",
      "Done.\n"
     ]
    },
    {
     "data": {
      "text/html": [
       "<table>\n",
       "    <tr>\n",
       "        <th>type</th>\n",
       "        <th>cost</th>\n",
       "    </tr>\n",
       "    <tr>\n",
       "        <td>entree</td>\n",
       "        <td>10</td>\n",
       "    </tr>\n",
       "    <tr>\n",
       "        <td>entree</td>\n",
       "        <td>7</td>\n",
       "    </tr>\n",
       "    <tr>\n",
       "        <td>appetizer</td>\n",
       "        <td>4</td>\n",
       "    </tr>\n",
       "    <tr>\n",
       "        <td>dessert</td>\n",
       "        <td>5</td>\n",
       "    </tr>\n",
       "</table>"
      ],
      "text/plain": [
       "[('entree', 10), ('entree', 7), ('appetizer', 4), ('dessert', 5)]"
      ]
     },
     "execution_count": 41,
     "metadata": {},
     "output_type": "execute_result"
    }
   ],
   "source": [
    "%%sql\n",
    "SELECT DISTINCT type, cost \n",
    "FROM Dish;"
   ]
  },
  {
   "cell_type": "code",
   "execution_count": 42,
   "id": "d0944aaa-a110-4515-8c95-1bab68f901e8",
   "metadata": {},
   "outputs": [
    {
     "name": "stdout",
     "output_type": "stream",
     "text": [
      " * sqlite:///data/lec18_basic_examples.db\n",
      "Done.\n"
     ]
    },
    {
     "data": {
      "text/html": [
       "<table>\n",
       "    <tr>\n",
       "        <th>type</th>\n",
       "        <th>AVG(cost)</th>\n",
       "    </tr>\n",
       "    <tr>\n",
       "        <td>appetizer</td>\n",
       "        <td>4.0</td>\n",
       "    </tr>\n",
       "    <tr>\n",
       "        <td>dessert</td>\n",
       "        <td>5.0</td>\n",
       "    </tr>\n",
       "    <tr>\n",
       "        <td>entree</td>\n",
       "        <td>8.0</td>\n",
       "    </tr>\n",
       "</table>"
      ],
      "text/plain": [
       "[('appetizer', 4.0), ('dessert', 5.0), ('entree', 8.0)]"
      ]
     },
     "execution_count": 42,
     "metadata": {},
     "output_type": "execute_result"
    }
   ],
   "source": [
    "%%sql\n",
    "SELECT type, AVG(cost)\n",
    "FROM Dish\n",
    "GROUP BY type;"
   ]
  },
  {
   "cell_type": "code",
   "execution_count": 43,
   "id": "af495338-0f4c-4488-a0ea-3177b8246543",
   "metadata": {},
   "outputs": [
    {
     "name": "stdout",
     "output_type": "stream",
     "text": [
      " * sqlite:///data/lec18_basic_examples.db\n",
      "Done.\n"
     ]
    },
    {
     "data": {
      "text/html": [
       "<table>\n",
       "    <tr>\n",
       "        <th>type</th>\n",
       "        <th>AVG(DISTINCT cost)</th>\n",
       "    </tr>\n",
       "    <tr>\n",
       "        <td>appetizer</td>\n",
       "        <td>4.0</td>\n",
       "    </tr>\n",
       "    <tr>\n",
       "        <td>dessert</td>\n",
       "        <td>5.0</td>\n",
       "    </tr>\n",
       "    <tr>\n",
       "        <td>entree</td>\n",
       "        <td>8.5</td>\n",
       "    </tr>\n",
       "</table>"
      ],
      "text/plain": [
       "[('appetizer', 4.0), ('dessert', 5.0), ('entree', 8.5)]"
      ]
     },
     "execution_count": 43,
     "metadata": {},
     "output_type": "execute_result"
    }
   ],
   "source": [
    "%%sql\n",
    "SELECT type, AVG(DISTINCT cost)\n",
    "FROM Dish\n",
    "GROUP BY type;"
   ]
  }
 ],
 "metadata": {
  "kernelspec": {
   "display_name": "Python 3 (ipykernel)",
   "language": "python",
   "name": "python3"
  },
  "language_info": {
   "codemirror_mode": {
    "name": "ipython",
    "version": 3
   },
   "file_extension": ".py",
   "mimetype": "text/x-python",
   "name": "python",
   "nbconvert_exporter": "python",
   "pygments_lexer": "ipython3",
   "version": "3.9.0"
  }
 },
 "nbformat": 4,
 "nbformat_minor": 5
}
