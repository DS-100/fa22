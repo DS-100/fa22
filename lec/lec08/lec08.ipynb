{
 "cells": [
  {
   "cell_type": "markdown",
   "id": "8848a155-69fb-4e89-b179-ebc52a2d9009",
   "metadata": {},
   "source": [
    "# Lecture 8 Supplemental Notebook\n",
    "\n",
    "Data 100, Fall 2022\n",
    "\n",
    "Created by Will Fithian"
   ]
  },
  {
   "cell_type": "code",
   "execution_count": 2,
   "id": "69c92aba-18f9-43d7-90a7-9c850375cbaf",
   "metadata": {},
   "outputs": [],
   "source": [
    "import matplotlib.pyplot as plt\n",
    "import numpy as np\n",
    "import pandas as pd\n",
    "import seaborn as sns\n",
    "\n",
    "sns.set_theme(style='darkgrid', font_scale = 1.5,\n",
    "              rc={'figure.figsize':(7,5)})\n",
    "\n",
    "rng = np.random.default_rng()"
   ]
  },
  {
   "cell_type": "markdown",
   "id": "6fc02f3c-6adc-445a-9419-cd0c1b264e62",
   "metadata": {},
   "source": [
    "## A fake election data set\n",
    "\n",
    "Suppose that we are trying to run a poll to predict the mayoral election in Gotham City. First, let's grab a data set that has every single voter in Gotham"
   ]
  },
  {
   "cell_type": "code",
   "execution_count": 38,
   "id": "a0e6a94f-2abf-4e5a-9d78-85840812ed9d",
   "metadata": {},
   "outputs": [
    {
     "data": {
      "text/html": [
       "<div>\n",
       "<style scoped>\n",
       "    .dataframe tbody tr th:only-of-type {\n",
       "        vertical-align: middle;\n",
       "    }\n",
       "\n",
       "    .dataframe tbody tr th {\n",
       "        vertical-align: top;\n",
       "    }\n",
       "\n",
       "    .dataframe thead th {\n",
       "        text-align: right;\n",
       "    }\n",
       "</style>\n",
       "<table border=\"1\" class=\"dataframe\">\n",
       "  <thead>\n",
       "    <tr style=\"text-align: right;\">\n",
       "      <th></th>\n",
       "      <th>age</th>\n",
       "      <th>is.male</th>\n",
       "      <th>vote</th>\n",
       "      <th>vote.dem</th>\n",
       "    </tr>\n",
       "  </thead>\n",
       "  <tbody>\n",
       "    <tr>\n",
       "      <th>0</th>\n",
       "      <td>35</td>\n",
       "      <td>0</td>\n",
       "      <td>Dem</td>\n",
       "      <td>1</td>\n",
       "    </tr>\n",
       "    <tr>\n",
       "      <th>1</th>\n",
       "      <td>42</td>\n",
       "      <td>1</td>\n",
       "      <td>Rep</td>\n",
       "      <td>0</td>\n",
       "    </tr>\n",
       "    <tr>\n",
       "      <th>2</th>\n",
       "      <td>55</td>\n",
       "      <td>0</td>\n",
       "      <td>Dem</td>\n",
       "      <td>1</td>\n",
       "    </tr>\n",
       "    <tr>\n",
       "      <th>3</th>\n",
       "      <td>77</td>\n",
       "      <td>1</td>\n",
       "      <td>Rep</td>\n",
       "      <td>0</td>\n",
       "    </tr>\n",
       "    <tr>\n",
       "      <th>4</th>\n",
       "      <td>31</td>\n",
       "      <td>0</td>\n",
       "      <td>Rep</td>\n",
       "      <td>0</td>\n",
       "    </tr>\n",
       "    <tr>\n",
       "      <th>...</th>\n",
       "      <td>...</td>\n",
       "      <td>...</td>\n",
       "      <td>...</td>\n",
       "      <td>...</td>\n",
       "    </tr>\n",
       "    <tr>\n",
       "      <th>1299995</th>\n",
       "      <td>62</td>\n",
       "      <td>1</td>\n",
       "      <td>Dem</td>\n",
       "      <td>1</td>\n",
       "    </tr>\n",
       "    <tr>\n",
       "      <th>1299996</th>\n",
       "      <td>78</td>\n",
       "      <td>1</td>\n",
       "      <td>Dem</td>\n",
       "      <td>1</td>\n",
       "    </tr>\n",
       "    <tr>\n",
       "      <th>1299997</th>\n",
       "      <td>68</td>\n",
       "      <td>0</td>\n",
       "      <td>Rep</td>\n",
       "      <td>0</td>\n",
       "    </tr>\n",
       "    <tr>\n",
       "      <th>1299998</th>\n",
       "      <td>82</td>\n",
       "      <td>1</td>\n",
       "      <td>Rep</td>\n",
       "      <td>0</td>\n",
       "    </tr>\n",
       "    <tr>\n",
       "      <th>1299999</th>\n",
       "      <td>23</td>\n",
       "      <td>0</td>\n",
       "      <td>Dem</td>\n",
       "      <td>1</td>\n",
       "    </tr>\n",
       "  </tbody>\n",
       "</table>\n",
       "<p>1300000 rows × 4 columns</p>\n",
       "</div>"
      ],
      "text/plain": [
       "         age  is.male vote  vote.dem\n",
       "0         35        0  Dem         1\n",
       "1         42        1  Rep         0\n",
       "2         55        0  Dem         1\n",
       "3         77        1  Rep         0\n",
       "4         31        0  Rep         0\n",
       "...      ...      ...  ...       ...\n",
       "1299995   62        1  Dem         1\n",
       "1299996   78        1  Dem         1\n",
       "1299997   68        0  Rep         0\n",
       "1299998   82        1  Rep         0\n",
       "1299999   23        0  Dem         1\n",
       "\n",
       "[1300000 rows x 4 columns]"
      ]
     },
     "execution_count": 38,
     "metadata": {},
     "output_type": "execute_result"
    }
   ],
   "source": [
    "gotham = pd.read_csv(\"gotham.csv\")\n",
    "gotham"
   ]
  },
  {
   "cell_type": "markdown",
   "id": "14cdfb3b-6ad8-462d-81cc-32f05e263cdd",
   "metadata": {},
   "source": [
    "What percentage of Gotham voters are planning to vote for the Democratic candidate?"
   ]
  },
  {
   "cell_type": "code",
   "execution_count": 55,
   "id": "16c4d531-8207-4f2a-99b1-9276eb70feef",
   "metadata": {},
   "outputs": [
    {
     "data": {
      "text/plain": [
       "53.03669230769231"
      ]
     },
     "execution_count": 55,
     "metadata": {},
     "output_type": "execute_result"
    }
   ],
   "source": [
    "100 * np.mean(gotham[\"vote.dem\"])"
   ]
  },
  {
   "cell_type": "markdown",
   "id": "d6e1e2aa-db21-4826-bb93-5da256891e18",
   "metadata": {},
   "source": [
    "Suppose we take a convenience sample of everyone who is retired?"
   ]
  },
  {
   "cell_type": "code",
   "execution_count": 62,
   "id": "82557452-d991-4815-9452-7708a3e96eca",
   "metadata": {},
   "outputs": [
    {
     "data": {
      "text/plain": [
       "37.36992064463711"
      ]
     },
     "execution_count": 62,
     "metadata": {},
     "output_type": "execute_result"
    }
   ],
   "source": [
    "convenience_sample = gotham.query(\"age >= 65\")\n",
    "\n",
    "100 * np.mean(convenience_sample[\"vote.dem\"])"
   ]
  },
  {
   "cell_type": "markdown",
   "id": "766bdf34-bcbb-43fe-a797-5b7065aa0e91",
   "metadata": {},
   "source": [
    "Is the sample too small / noisy?"
   ]
  },
  {
   "cell_type": "code",
   "execution_count": 63,
   "id": "81e06573-8521-4deb-88ef-64206154217e",
   "metadata": {},
   "outputs": [
    {
     "data": {
      "text/plain": [
       "359396"
      ]
     },
     "execution_count": 63,
     "metadata": {},
     "output_type": "execute_result"
    }
   ],
   "source": [
    "convenience_sample.shape[0]"
   ]
  },
  {
   "cell_type": "code",
   "execution_count": 56,
   "id": "02d1e1ff-13d0-4e08-a3ac-ddb5537b209e",
   "metadata": {},
   "outputs": [
    {
     "data": {
      "text/html": [
       "<div>\n",
       "<style scoped>\n",
       "    .dataframe tbody tr th:only-of-type {\n",
       "        vertical-align: middle;\n",
       "    }\n",
       "\n",
       "    .dataframe tbody tr th {\n",
       "        vertical-align: top;\n",
       "    }\n",
       "\n",
       "    .dataframe thead th {\n",
       "        text-align: right;\n",
       "    }\n",
       "</style>\n",
       "<table border=\"1\" class=\"dataframe\">\n",
       "  <thead>\n",
       "    <tr style=\"text-align: right;\">\n",
       "      <th></th>\n",
       "      <th>age</th>\n",
       "      <th>is.male</th>\n",
       "      <th>vote.dem</th>\n",
       "    </tr>\n",
       "  </thead>\n",
       "  <tbody>\n",
       "    <tr>\n",
       "      <th>0</th>\n",
       "      <td>18</td>\n",
       "      <td>0</td>\n",
       "      <td>0.669848</td>\n",
       "    </tr>\n",
       "    <tr>\n",
       "      <th>1</th>\n",
       "      <td>18</td>\n",
       "      <td>1</td>\n",
       "      <td>0.816259</td>\n",
       "    </tr>\n",
       "    <tr>\n",
       "      <th>2</th>\n",
       "      <td>19</td>\n",
       "      <td>0</td>\n",
       "      <td>0.661966</td>\n",
       "    </tr>\n",
       "    <tr>\n",
       "      <th>3</th>\n",
       "      <td>19</td>\n",
       "      <td>1</td>\n",
       "      <td>0.812896</td>\n",
       "    </tr>\n",
       "    <tr>\n",
       "      <th>4</th>\n",
       "      <td>20</td>\n",
       "      <td>0</td>\n",
       "      <td>0.655657</td>\n",
       "    </tr>\n",
       "    <tr>\n",
       "      <th>...</th>\n",
       "      <td>...</td>\n",
       "      <td>...</td>\n",
       "      <td>...</td>\n",
       "    </tr>\n",
       "    <tr>\n",
       "      <th>125</th>\n",
       "      <td>80</td>\n",
       "      <td>1</td>\n",
       "      <td>0.406733</td>\n",
       "    </tr>\n",
       "    <tr>\n",
       "      <th>126</th>\n",
       "      <td>81</td>\n",
       "      <td>0</td>\n",
       "      <td>0.250378</td>\n",
       "    </tr>\n",
       "    <tr>\n",
       "      <th>127</th>\n",
       "      <td>81</td>\n",
       "      <td>1</td>\n",
       "      <td>0.402704</td>\n",
       "    </tr>\n",
       "    <tr>\n",
       "      <th>128</th>\n",
       "      <td>82</td>\n",
       "      <td>0</td>\n",
       "      <td>0.246038</td>\n",
       "    </tr>\n",
       "    <tr>\n",
       "      <th>129</th>\n",
       "      <td>82</td>\n",
       "      <td>1</td>\n",
       "      <td>0.385243</td>\n",
       "    </tr>\n",
       "  </tbody>\n",
       "</table>\n",
       "<p>130 rows × 3 columns</p>\n",
       "</div>"
      ],
      "text/plain": [
       "     age  is.male  vote.dem\n",
       "0     18        0  0.669848\n",
       "1     18        1  0.816259\n",
       "2     19        0  0.661966\n",
       "3     19        1  0.812896\n",
       "4     20        0  0.655657\n",
       "..   ...      ...       ...\n",
       "125   80        1  0.406733\n",
       "126   81        0  0.250378\n",
       "127   81        1  0.402704\n",
       "128   82        0  0.246038\n",
       "129   82        1  0.385243\n",
       "\n",
       "[130 rows x 3 columns]"
      ]
     },
     "execution_count": 56,
     "metadata": {},
     "output_type": "execute_result"
    }
   ],
   "source": [
    "votes_by_demo = gotham.groupby([\"age\",\"is.male\"]).agg(\"mean\")\n",
    "votes_by_demo = votes_by_demo.reset_index()\n",
    "votes_by_demo"
   ]
  },
  {
   "cell_type": "code",
   "execution_count": 94,
   "id": "0ede26e2-0a87-48ce-af49-6acd98af1357",
   "metadata": {},
   "outputs": [
    {
     "data": {
      "image/png": "[encoded data removed]",
      "text/plain": [
       "<Figure size 700x500 with 1 Axes>"
      ]
     },
     "metadata": {},
     "output_type": "display_data"
    }
   ],
   "source": [
    "import matplotlib.ticker as ticker\n",
    "fig = plt.figure();\n",
    "ed_blue = [\"#bf1518\", \"#397eb7\"]\n",
    "with sns.color_palette(sns.color_palette(red_blue)):\n",
    "    ax = sns.pointplot(data=votes_by_demo, x = \"age\", y = \"vote.dem\", hue = \"is.male\")\n",
    "\n",
    "ax.set_title(\"Voting preferences by demographics\")\n",
    "fig.canvas.draw()\n",
    "new_ticks = [i.get_text() for i in ax.get_xticklabels()];\n",
    "plt.xticks(range(0, len(new_ticks), 10), new_ticks[::10]);\n"
   ]
  },
  {
   "cell_type": "markdown",
   "id": "b2ed52f3-8683-4d54-85ba-efb5c53d7663",
   "metadata": {},
   "source": [
    "What if we instead took a simple random sample? How big would it need to be to outperform our convenience sample?"
   ]
  },
  {
   "cell_type": "code",
   "execution_count": 72,
   "id": "76e18d6e-f0d4-412f-9c06-45c186c7f5c1",
   "metadata": {},
   "outputs": [
    {
     "data": {
      "text/plain": [
       "54.0"
      ]
     },
     "execution_count": 72,
     "metadata": {},
     "output_type": "execute_result"
    }
   ],
   "source": [
    "## By default, replace = False\n",
    "random_sample = gotham.sample(1000, replace = False)\n",
    "\n",
    "100 * np.mean(random_sample[\"vote.dem\"])"
   ]
  },
  {
   "cell_type": "markdown",
   "id": "f1385e2b-c23a-496f-a273-815d6fe79b17",
   "metadata": {},
   "source": [
    "### Question:\n",
    "\n",
    "What if older voters are more likely to answer the phone??"
   ]
  },
  {
   "cell_type": "code",
   "execution_count": null,
   "id": "089dafd3-2432-477b-bf22-d7020198a8e3",
   "metadata": {},
   "outputs": [],
   "source": []
  }
 ],
 "metadata": {
  "kernelspec": {
   "display_name": "Python 3 (ipykernel)",
   "language": "python",
   "name": "python3"
  },
  "language_info": {
   "codemirror_mode": {
    "name": "ipython",
    "version": 3
   },
   "file_extension": ".py",
   "mimetype": "text/x-python",
   "name": "python",
   "nbconvert_exporter": "python",
   "pygments_lexer": "ipython3",
   "version": "3.9.13"
  }
 },
 "nbformat": 4,
 "nbformat_minor": 5
}
