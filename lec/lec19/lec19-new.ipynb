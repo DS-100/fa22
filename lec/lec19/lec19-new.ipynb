{
 "cells": [
  {
   "cell_type": "code",
   "execution_count": 1,
   "metadata": {},
   "outputs": [],
   "source": [
    "import pandas as pd\n",
    "import seaborn as sns\n",
    "import matplotlib.pyplot as plt\n",
    "import numpy as np\n",
    "np.random.seed(23) #kallisti"
   ]
  },
  {
   "cell_type": "markdown",
   "metadata": {},
   "source": [
    "## SVD Demo"
   ]
  },
  {
   "cell_type": "code",
   "execution_count": 2,
   "metadata": {},
   "outputs": [
    {
     "data": {
      "text/html": [
       "<div>\n",
       "<style scoped>\n",
       "    .dataframe tbody tr th:only-of-type {\n",
       "        vertical-align: middle;\n",
       "    }\n",
       "\n",
       "    .dataframe tbody tr th {\n",
       "        vertical-align: top;\n",
       "    }\n",
       "\n",
       "    .dataframe thead th {\n",
       "        text-align: right;\n",
       "    }\n",
       "</style>\n",
       "<table border=\"1\" class=\"dataframe\">\n",
       "  <thead>\n",
       "    <tr style=\"text-align: right;\">\n",
       "      <th></th>\n",
       "      <th>width</th>\n",
       "      <th>height</th>\n",
       "      <th>area</th>\n",
       "      <th>perimeter</th>\n",
       "    </tr>\n",
       "  </thead>\n",
       "  <tbody>\n",
       "    <tr>\n",
       "      <th>0</th>\n",
       "      <td>8</td>\n",
       "      <td>6</td>\n",
       "      <td>48</td>\n",
       "      <td>28</td>\n",
       "    </tr>\n",
       "    <tr>\n",
       "      <th>1</th>\n",
       "      <td>2</td>\n",
       "      <td>4</td>\n",
       "      <td>8</td>\n",
       "      <td>12</td>\n",
       "    </tr>\n",
       "    <tr>\n",
       "      <th>2</th>\n",
       "      <td>1</td>\n",
       "      <td>3</td>\n",
       "      <td>3</td>\n",
       "      <td>8</td>\n",
       "    </tr>\n",
       "    <tr>\n",
       "      <th>3</th>\n",
       "      <td>9</td>\n",
       "      <td>3</td>\n",
       "      <td>27</td>\n",
       "      <td>24</td>\n",
       "    </tr>\n",
       "    <tr>\n",
       "      <th>4</th>\n",
       "      <td>9</td>\n",
       "      <td>8</td>\n",
       "      <td>72</td>\n",
       "      <td>34</td>\n",
       "    </tr>\n",
       "  </tbody>\n",
       "</table>\n",
       "</div>"
      ],
      "text/plain": [
       "   width  height  area  perimeter\n",
       "0      8       6    48         28\n",
       "1      2       4     8         12\n",
       "2      1       3     3          8\n",
       "3      9       3    27         24\n",
       "4      9       8    72         34"
      ]
     },
     "execution_count": 2,
     "metadata": {},
     "output_type": "execute_result"
    }
   ],
   "source": [
    "rectangle = pd.read_csv(\"rectangle_data.csv\")\n",
    "rectangle.head(5)"
   ]
  },
  {
   "cell_type": "markdown",
   "metadata": {},
   "source": [
    "Singular value decomposition is a numerical technique to automatically decompose matrix into two matrices. Given an input matrix X, SVD will return $U\\Sigma$ and $V^T$ such that $ X = U \\Sigma V^T $."
   ]
  },
  {
   "cell_type": "code",
   "execution_count": 3,
   "metadata": {},
   "outputs": [],
   "source": [
    "u, s, vt = np.linalg.svd(rectangle, full_matrices = False)"
   ]
  },
  {
   "cell_type": "code",
   "execution_count": 4,
   "metadata": {},
   "outputs": [
    {
     "data": {
      "text/plain": [
       "array([3.62932568e+02, 6.29904732e+01, 2.56544651e+01, 7.67147618e-15])"
      ]
     },
     "execution_count": 4,
     "metadata": {},
     "output_type": "execute_result"
    }
   ],
   "source": [
    "s"
   ]
  },
  {
   "cell_type": "markdown",
   "metadata": {},
   "source": [
    "The SVD routine returns $U$ and $\\Sigma$ as two separate variables. To compute $U \\Sigma$ we simply write:"
   ]
  },
  {
   "cell_type": "code",
   "execution_count": 5,
   "metadata": {},
   "outputs": [],
   "source": [
    "usig = u * s"
   ]
  },
  {
   "cell_type": "markdown",
   "metadata": {},
   "source": [
    "The two key pieces of the decomposition are $U\\Sigma$ and $V^T$, which we can think of for now as analogous to our 'data' and 'transformation operation' from our manual decomposition earlier."
   ]
  },
  {
   "cell_type": "markdown",
   "metadata": {},
   "source": [
    "As we did before with our manual decomposition, we can recover our original rectangle data by multiplying the left matrix $U\\Sigma$ by the right matrix $V^T$."
   ]
  },
  {
   "cell_type": "code",
   "execution_count": 6,
   "metadata": {},
   "outputs": [
    {
     "data": {
      "text/html": [
       "<div>\n",
       "<style scoped>\n",
       "    .dataframe tbody tr th:only-of-type {\n",
       "        vertical-align: middle;\n",
       "    }\n",
       "\n",
       "    .dataframe tbody tr th {\n",
       "        vertical-align: top;\n",
       "    }\n",
       "\n",
       "    .dataframe thead th {\n",
       "        text-align: right;\n",
       "    }\n",
       "</style>\n",
       "<table border=\"1\" class=\"dataframe\">\n",
       "  <thead>\n",
       "    <tr style=\"text-align: right;\">\n",
       "      <th></th>\n",
       "      <th>0</th>\n",
       "      <th>1</th>\n",
       "      <th>2</th>\n",
       "      <th>3</th>\n",
       "    </tr>\n",
       "  </thead>\n",
       "  <tbody>\n",
       "    <tr>\n",
       "      <th>0</th>\n",
       "      <td>8.0</td>\n",
       "      <td>6.0</td>\n",
       "      <td>48.0</td>\n",
       "      <td>28.0</td>\n",
       "    </tr>\n",
       "    <tr>\n",
       "      <th>1</th>\n",
       "      <td>2.0</td>\n",
       "      <td>4.0</td>\n",
       "      <td>8.0</td>\n",
       "      <td>12.0</td>\n",
       "    </tr>\n",
       "    <tr>\n",
       "      <th>2</th>\n",
       "      <td>1.0</td>\n",
       "      <td>3.0</td>\n",
       "      <td>3.0</td>\n",
       "      <td>8.0</td>\n",
       "    </tr>\n",
       "    <tr>\n",
       "      <th>3</th>\n",
       "      <td>9.0</td>\n",
       "      <td>3.0</td>\n",
       "      <td>27.0</td>\n",
       "      <td>24.0</td>\n",
       "    </tr>\n",
       "  </tbody>\n",
       "</table>\n",
       "</div>"
      ],
      "text/plain": [
       "     0    1     2     3\n",
       "0  8.0  6.0  48.0  28.0\n",
       "1  2.0  4.0   8.0  12.0\n",
       "2  1.0  3.0   3.0   8.0\n",
       "3  9.0  3.0  27.0  24.0"
      ]
     },
     "execution_count": 6,
     "metadata": {},
     "output_type": "execute_result"
    }
   ],
   "source": [
    "pd.DataFrame(usig @ vt).head(4)"
   ]
  },
  {
   "cell_type": "code",
   "execution_count": 7,
   "metadata": {},
   "outputs": [
    {
     "data": {
      "text/plain": [
       "array([[-56.30926787,   4.08369641,  -0.76796869,   0.        ],\n",
       "       [-13.92587137,  -5.61592446,   1.59106852,  -0.        ],\n",
       "       [ -7.3883695 ,  -5.11089273,   1.51352951,   0.        ],\n",
       "       [-36.84443159,  -4.80005945,  -3.80095908,  -0.        ],\n",
       "       [-79.47260546,  13.00269827,   0.18659785,  -0.        ],\n",
       "       [ -7.42135662,  -5.11810904,  -1.31469604,   0.        ],\n",
       "       [-13.95885849,  -5.62314077,  -1.23715703,   0.        ],\n",
       "       [-37.98955728,  -1.31360807,  -0.26071277,   0.        ],\n",
       "       [-15.6692269 ,  -9.65347804,  -4.03555325,   0.        ],\n",
       "       [-25.44680915,  -7.81311695,  -3.92620778,  -0.        ],\n",
       "       [-32.68750933,  -2.52515864,   0.38769508,  -0.        ],\n",
       "       [-53.89570114,   2.32104364,  -2.20593631,  -0.        ],\n",
       "       [-40.87803851,  -1.86471027,  -2.34708823,  -0.        ],\n",
       "       [ -5.34289549,  -3.98065864,   0.77963103,   0.        ],\n",
       "       [-28.2033419 ,  -8.33535389,   5.30031897,   0.        ],\n",
       "       [-64.00838899,   7.0615079 ,   1.43570386,  -0.        ],\n",
       "       [-43.29160524,  -0.1020575 ,  -0.90912062,   0.        ],\n",
       "       [-13.92587137,  -5.61592446,   1.59106852,  -0.        ],\n",
       "       [-16.78136548,  -6.15981034,   2.33291861,   0.        ],\n",
       "       [-18.43439279,  -4.99433025,  -0.47940371,   0.        ],\n",
       "       [-17.73119447, -10.78732028,  -4.71576755,  -0.        ],\n",
       "       [-48.59365319,   1.10949307,  -1.55752846,  -0.        ],\n",
       "       [-79.47260546,  13.00269827,   0.18659785,  -0.        ],\n",
       "       [-29.48041607,  -4.87776777,  -2.47233693,   0.        ],\n",
       "       [-33.16242383,  -4.83891361,  -3.13664801,   0.        ],\n",
       "       [-44.08513177,   0.48789886,   0.51294377,   0.        ],\n",
       "       [-31.8939828 ,  -3.115115  ,  -1.03436931,   0.        ],\n",
       "       [-40.87803851,  -1.86471027,  -2.34708823,  -0.        ],\n",
       "       [-22.57482149,  -7.2656229 ,  -3.25394509,   0.        ],\n",
       "       [-22.90992708,  -4.36551973,   0.27834961,  -0.        ],\n",
       "       [ -9.48332419,  -6.25195129,  -1.99491034,   0.        ],\n",
       "       [-70.94697069,   9.44214673,  -0.61091354,  -0.        ],\n",
       "       [-13.95885849,  -5.62314077,  -1.23715703,   0.        ],\n",
       "       [ -5.34289549,  -3.98065864,   0.77963103,   0.        ],\n",
       "       [-17.73119447, -10.78732028,  -4.71576755,  -0.        ],\n",
       "       [-27.40195494,  -3.74031736,  -0.37800985,  -0.        ],\n",
       "       [-53.89570114,   2.32104364,  -2.20593631,  -0.        ],\n",
       "       [-62.37185523,   5.89241965,   2.83391341,  -0.        ],\n",
       "       [-29.41444183,  -4.86333514,   3.18411417,  -0.        ],\n",
       "       [-29.48041607,  -4.87776777,  -2.47233693,   0.        ],\n",
       "       [-57.1027944 ,   4.67365277,   0.6540957 ,  -0.        ],\n",
       "       [-14.75238503,  -5.03318441,   0.18490736,   0.        ],\n",
       "       [-32.68750933,  -2.52515864,   0.38769508,  -0.        ],\n",
       "       [-29.48041607,  -4.87776777,  -2.47233693,   0.        ],\n",
       "       [-25.44680915,  -7.81311695,  -3.92620778,  -0.        ],\n",
       "       [-19.63685958,  -6.70369623,   3.0747687 ,   0.        ],\n",
       "       [-15.6692269 ,  -9.65347804,  -4.03555325,   0.        ],\n",
       "       [ -5.34289549,  -3.98065864,   0.77963103,   0.        ],\n",
       "       [-22.08341343,  -4.94825977,   1.68451077,   0.        ],\n",
       "       [-19.63685958,  -6.70369623,   3.0747687 ,   0.        ],\n",
       "       [-37.97306372,  -1.30999991,   1.15340001,  -0.        ],\n",
       "       [-19.79316204, -11.92116253,  -5.39598185,  -0.        ],\n",
       "       [-25.79840831,  -4.91662193,  -1.80802586,   0.        ],\n",
       "       [-19.63685958,  -6.70369623,   3.0747687 ,   0.        ],\n",
       "       [-56.27628075,   4.09091272,   2.06025686,   0.        ],\n",
       "       [-19.79316204, -11.92116253,  -5.39598185,  -0.        ],\n",
       "       [-25.34784779,  -7.79146801,   4.55846888,   0.        ],\n",
       "       [-29.41444183,  -4.86333514,   3.18411417,  -0.        ],\n",
       "       [-37.98955728,  -1.31360807,  -0.26071277,   0.        ],\n",
       "       [-56.30926787,   4.08369641,  -0.76796869,  -0.        ],\n",
       "       [-28.31879682,  -8.36061099,  -4.59847046,  -0.        ],\n",
       "       [-36.74547023,  -4.77841051,   4.68371758,  -0.        ],\n",
       "       [-16.78136548,  -6.15981034,   2.33291861,   0.        ],\n",
       "       [ -9.43384352,  -6.24112682,   2.24742798,   0.        ],\n",
       "       [-14.75238503,  -5.03318441,   0.18490736,   0.        ],\n",
       "       [-28.2033419 ,  -8.33535389,   5.30031897,   0.        ],\n",
       "       [-31.8939828 ,  -3.115115  ,  -1.03436931,   0.        ],\n",
       "       [-16.83084616,  -6.17063481,  -1.90941971,  -0.        ],\n",
       "       [-19.63685958,  -6.70369623,   3.0747687 ,   0.        ],\n",
       "       [-16.78136548,  -6.15981034,   2.33291861,   0.        ],\n",
       "       [ -7.3883695 ,  -5.11089273,   1.51352951,   0.        ],\n",
       "       [ -7.3883695 ,  -5.11089273,   1.51352951,   0.        ],\n",
       "       [-50.18070626,   2.28940579,   1.28660032,   0.        ],\n",
       "       [-56.30926787,   4.08369641,  -0.76796869,  -0.        ],\n",
       "       [-22.49235369,  -7.24758212,   3.81661879,   0.        ],\n",
       "       [-31.86099568,  -3.10789868,   1.79385624,  -0.        ],\n",
       "       [ -3.29742148,  -2.85042454,   0.04573256,   0.        ],\n",
       "       [-79.47260546,  13.00269827,   0.18659785,  -0.        ],\n",
       "       [-32.68750933,  -2.52515864,   0.38769508,  -0.        ],\n",
       "       [-36.74547023,  -4.77841051,   4.68371758,  -0.        ],\n",
       "       [-25.34784779,  -7.79146801,   4.55846888,   0.        ],\n",
       "       [ -8.21488316,  -4.52815268,   0.10736835,   0.        ],\n",
       "       [-33.16242383,  -4.83891361,  -3.13664801,   0.        ],\n",
       "       [-17.61573956, -10.76206319,   5.18302188,   0.        ],\n",
       "       [-11.54529176,  -7.38579354,  -2.67512465,  -0.        ],\n",
       "       [-43.25861812,  -0.09484119,   1.91910494,  -0.        ],\n",
       "       [-53.89570114,   2.32104364,  -2.20593631,  -0.        ],\n",
       "       [ -7.42135662,  -5.11810904,  -1.31469604,   0.        ],\n",
       "       [-70.94697069,   9.44214673,  -0.61091354,  -0.        ],\n",
       "       [-48.59365319,   1.10949307,  -1.55752846,  -0.        ],\n",
       "       [-79.47260546,  13.00269827,   0.18659785,  -0.        ],\n",
       "       [-27.38546138,  -3.73670921,   1.03610292,  -0.        ],\n",
       "       [-27.38546138,  -3.73670921,   1.03610292,  -0.        ],\n",
       "       [-11.47931753,  -7.37136091,   2.98132646,   0.        ],\n",
       "       [-44.08513177,   0.48789886,   0.51294377,   0.        ],\n",
       "       [-48.59365319,   1.10949307,  -1.55752846,  -0.        ],\n",
       "       [-64.02488255,   7.05789975,   0.02159108,  -0.        ],\n",
       "       [ -9.43384352,  -6.24112682,   2.24742798,   0.        ],\n",
       "       [-13.52479154,  -8.501595  ,   3.71522493,  -0.        ],\n",
       "       [-19.63685958,  -6.70369623,   3.0747687 ,  -0.        ]])"
      ]
     },
     "execution_count": 7,
     "metadata": {},
     "output_type": "execute_result"
    }
   ],
   "source": [
    "np.set_printoptions(suppress=True)\n",
    "usig"
   ]
  },
  {
   "cell_type": "markdown",
   "metadata": {},
   "source": [
    "Naturally, we can instead use only the first 3 columns of $U\\Sigma$ and first 3 rows of $V^{\\top}$ and get back the exactly correct result. This is because the last column of $U\\Sigma$ is 0."
   ]
  },
  {
   "cell_type": "code",
   "execution_count": 8,
   "metadata": {},
   "outputs": [
    {
     "data": {
      "text/html": [
       "<div>\n",
       "<style scoped>\n",
       "    .dataframe tbody tr th:only-of-type {\n",
       "        vertical-align: middle;\n",
       "    }\n",
       "\n",
       "    .dataframe tbody tr th {\n",
       "        vertical-align: top;\n",
       "    }\n",
       "\n",
       "    .dataframe thead th {\n",
       "        text-align: right;\n",
       "    }\n",
       "</style>\n",
       "<table border=\"1\" class=\"dataframe\">\n",
       "  <thead>\n",
       "    <tr style=\"text-align: right;\">\n",
       "      <th></th>\n",
       "      <th>0</th>\n",
       "      <th>1</th>\n",
       "      <th>2</th>\n",
       "      <th>3</th>\n",
       "    </tr>\n",
       "  </thead>\n",
       "  <tbody>\n",
       "    <tr>\n",
       "      <th>0</th>\n",
       "      <td>8.0</td>\n",
       "      <td>6.0</td>\n",
       "      <td>48.0</td>\n",
       "      <td>28.0</td>\n",
       "    </tr>\n",
       "    <tr>\n",
       "      <th>1</th>\n",
       "      <td>2.0</td>\n",
       "      <td>4.0</td>\n",
       "      <td>8.0</td>\n",
       "      <td>12.0</td>\n",
       "    </tr>\n",
       "    <tr>\n",
       "      <th>2</th>\n",
       "      <td>1.0</td>\n",
       "      <td>3.0</td>\n",
       "      <td>3.0</td>\n",
       "      <td>8.0</td>\n",
       "    </tr>\n",
       "    <tr>\n",
       "      <th>3</th>\n",
       "      <td>9.0</td>\n",
       "      <td>3.0</td>\n",
       "      <td>27.0</td>\n",
       "      <td>24.0</td>\n",
       "    </tr>\n",
       "  </tbody>\n",
       "</table>\n",
       "</div>"
      ],
      "text/plain": [
       "     0    1     2     3\n",
       "0  8.0  6.0  48.0  28.0\n",
       "1  2.0  4.0   8.0  12.0\n",
       "2  1.0  3.0   3.0   8.0\n",
       "3  9.0  3.0  27.0  24.0"
      ]
     },
     "execution_count": 8,
     "metadata": {},
     "output_type": "execute_result"
    }
   ],
   "source": [
    "pd.DataFrame(usig[:, 0:3] @ vt[0:3, ]).head(4)"
   ]
  },
  {
   "cell_type": "markdown",
   "metadata": {},
   "source": [
    "## Low Rank Approximation"
   ]
  },
  {
   "cell_type": "markdown",
   "metadata": {},
   "source": [
    "If we use only the first 2 rows of $U\\Sigma$ and first 2 columns of $V^{\\top}$, we end up with an imperfect reconstruction, but it's surprisingly not bad."
   ]
  },
  {
   "cell_type": "code",
   "execution_count": 9,
   "metadata": {
    "tags": []
   },
   "outputs": [
    {
     "data": {
      "text/html": [
       "<div>\n",
       "<style scoped>\n",
       "    .dataframe tbody tr th:only-of-type {\n",
       "        vertical-align: middle;\n",
       "    }\n",
       "\n",
       "    .dataframe tbody tr th {\n",
       "        vertical-align: top;\n",
       "    }\n",
       "\n",
       "    .dataframe thead th {\n",
       "        text-align: right;\n",
       "    }\n",
       "</style>\n",
       "<table border=\"1\" class=\"dataframe\">\n",
       "  <thead>\n",
       "    <tr style=\"text-align: right;\">\n",
       "      <th></th>\n",
       "      <th>0</th>\n",
       "      <th>1</th>\n",
       "      <th>2</th>\n",
       "      <th>3</th>\n",
       "    </tr>\n",
       "  </thead>\n",
       "  <tbody>\n",
       "    <tr>\n",
       "      <th>96</th>\n",
       "      <td>8.015221</td>\n",
       "      <td>6.984689</td>\n",
       "      <td>55.999828</td>\n",
       "      <td>29.999819</td>\n",
       "    </tr>\n",
       "    <tr>\n",
       "      <th>97</th>\n",
       "      <td>2.584341</td>\n",
       "      <td>2.406224</td>\n",
       "      <td>3.982129</td>\n",
       "      <td>9.981131</td>\n",
       "    </tr>\n",
       "    <tr>\n",
       "      <th>98</th>\n",
       "      <td>3.619075</td>\n",
       "      <td>3.365328</td>\n",
       "      <td>5.970458</td>\n",
       "      <td>13.968808</td>\n",
       "    </tr>\n",
       "    <tr>\n",
       "      <th>99</th>\n",
       "      <td>4.167581</td>\n",
       "      <td>3.819511</td>\n",
       "      <td>11.975551</td>\n",
       "      <td>15.974185</td>\n",
       "    </tr>\n",
       "  </tbody>\n",
       "</table>\n",
       "</div>"
      ],
      "text/plain": [
       "           0         1          2          3\n",
       "96  8.015221  6.984689  55.999828  29.999819\n",
       "97  2.584341  2.406224   3.982129   9.981131\n",
       "98  3.619075  3.365328   5.970458  13.968808\n",
       "99  4.167581  3.819511  11.975551  15.974185"
      ]
     },
     "execution_count": 9,
     "metadata": {},
     "output_type": "execute_result"
    }
   ],
   "source": [
    "pd.DataFrame(usig[:, 0:2] @ vt[0:2, ]).tail(4)"
   ]
  },
  {
   "cell_type": "markdown",
   "metadata": {},
   "source": [
    "Even the one dimensional approximation is better than you might expect."
   ]
  },
  {
   "cell_type": "code",
   "execution_count": 10,
   "metadata": {},
   "outputs": [
    {
     "data": {
      "text/html": [
       "<div>\n",
       "<style scoped>\n",
       "    .dataframe tbody tr th:only-of-type {\n",
       "        vertical-align: middle;\n",
       "    }\n",
       "\n",
       "    .dataframe tbody tr th {\n",
       "        vertical-align: top;\n",
       "    }\n",
       "\n",
       "    .dataframe thead th {\n",
       "        text-align: right;\n",
       "    }\n",
       "</style>\n",
       "<table border=\"1\" class=\"dataframe\">\n",
       "  <thead>\n",
       "    <tr style=\"text-align: right;\">\n",
       "      <th></th>\n",
       "      <th>0</th>\n",
       "      <th>1</th>\n",
       "      <th>2</th>\n",
       "      <th>3</th>\n",
       "    </tr>\n",
       "  </thead>\n",
       "  <tbody>\n",
       "    <tr>\n",
       "      <th>96</th>\n",
       "      <td>9.375531</td>\n",
       "      <td>8.319533</td>\n",
       "      <td>51.861441</td>\n",
       "      <td>35.390129</td>\n",
       "    </tr>\n",
       "    <tr>\n",
       "      <th>97</th>\n",
       "      <td>1.381452</td>\n",
       "      <td>1.225854</td>\n",
       "      <td>7.641603</td>\n",
       "      <td>5.214612</td>\n",
       "    </tr>\n",
       "    <tr>\n",
       "      <th>98</th>\n",
       "      <td>1.980513</td>\n",
       "      <td>1.757441</td>\n",
       "      <td>10.955353</td>\n",
       "      <td>7.475908</td>\n",
       "    </tr>\n",
       "    <tr>\n",
       "      <th>99</th>\n",
       "      <td>2.875538</td>\n",
       "      <td>2.551656</td>\n",
       "      <td>15.906251</td>\n",
       "      <td>10.854389</td>\n",
       "    </tr>\n",
       "  </tbody>\n",
       "</table>\n",
       "</div>"
      ],
      "text/plain": [
       "           0         1          2          3\n",
       "96  9.375531  8.319533  51.861441  35.390129\n",
       "97  1.381452  1.225854   7.641603   5.214612\n",
       "98  1.980513  1.757441  10.955353   7.475908\n",
       "99  2.875538  2.551656  15.906251  10.854389"
      ]
     },
     "execution_count": 10,
     "metadata": {},
     "output_type": "execute_result"
    }
   ],
   "source": [
    "pd.DataFrame(usig[:, 0:1] @ vt[0:1, ]).tail(4)"
   ]
  },
  {
   "cell_type": "markdown",
   "metadata": {},
   "source": [
    "    "
   ]
  },
  {
   "cell_type": "markdown",
   "metadata": {},
   "source": [
    "   "
   ]
  },
  {
   "cell_type": "markdown",
   "metadata": {},
   "source": [
    "   "
   ]
  },
  {
   "cell_type": "markdown",
   "metadata": {},
   "source": [
    "  "
   ]
  },
  {
   "cell_type": "markdown",
   "metadata": {},
   "source": [
    "## Rank 1 Approximation of 2D Data, Data Centering"
   ]
  },
  {
   "cell_type": "code",
   "execution_count": 11,
   "metadata": {},
   "outputs": [
    {
     "data": {
      "text/html": [
       "<div>\n",
       "<style scoped>\n",
       "    .dataframe tbody tr th:only-of-type {\n",
       "        vertical-align: middle;\n",
       "    }\n",
       "\n",
       "    .dataframe tbody tr th {\n",
       "        vertical-align: top;\n",
       "    }\n",
       "\n",
       "    .dataframe thead th {\n",
       "        text-align: right;\n",
       "    }\n",
       "</style>\n",
       "<table border=\"1\" class=\"dataframe\">\n",
       "  <thead>\n",
       "    <tr style=\"text-align: right;\">\n",
       "      <th></th>\n",
       "      <th>mortality</th>\n",
       "      <th>fertility</th>\n",
       "    </tr>\n",
       "    <tr>\n",
       "      <th>country</th>\n",
       "      <th></th>\n",
       "      <th></th>\n",
       "    </tr>\n",
       "  </thead>\n",
       "  <tbody>\n",
       "    <tr>\n",
       "      <th>Afghanistan</th>\n",
       "      <td>6.820</td>\n",
       "      <td>4.48</td>\n",
       "    </tr>\n",
       "    <tr>\n",
       "      <th>Albania</th>\n",
       "      <td>1.330</td>\n",
       "      <td>1.71</td>\n",
       "    </tr>\n",
       "    <tr>\n",
       "      <th>Algeria</th>\n",
       "      <td>2.390</td>\n",
       "      <td>2.71</td>\n",
       "    </tr>\n",
       "    <tr>\n",
       "      <th>Angola</th>\n",
       "      <td>8.310</td>\n",
       "      <td>5.62</td>\n",
       "    </tr>\n",
       "    <tr>\n",
       "      <th>Antigua and Barbuda</th>\n",
       "      <td>0.816</td>\n",
       "      <td>2.04</td>\n",
       "    </tr>\n",
       "  </tbody>\n",
       "</table>\n",
       "</div>"
      ],
      "text/plain": [
       "                     mortality  fertility\n",
       "country                                  \n",
       "Afghanistan              6.820       4.48\n",
       "Albania                  1.330       1.71\n",
       "Algeria                  2.390       2.71\n",
       "Angola                   8.310       5.62\n",
       "Antigua and Barbuda      0.816       2.04"
      ]
     },
     "execution_count": 11,
     "metadata": {},
     "output_type": "execute_result"
    }
   ],
   "source": [
    "# Downloads from https://www.gapminder.org/data/\n",
    "cm_path = 'child_mortality_0_5_year_olds_dying_per_1000_born.csv'\n",
    "fe_path = 'children_per_woman_total_fertility.csv'\n",
    "cm = pd.read_csv(cm_path).set_index('country')['2017'].to_frame()/10\n",
    "fe = pd.read_csv(fe_path).set_index('country')['2017'].to_frame()\n",
    "child_data = cm.merge(fe, left_index=True, right_index=True).dropna()\n",
    "child_data.columns = ['mortality', 'fertility']\n",
    "child_data.head()"
   ]
  },
  {
   "cell_type": "code",
   "execution_count": 12,
   "metadata": {},
   "outputs": [
    {
     "data": {
      "image/png": "[encoded data removed]",
      "text/plain": [
       "<Figure size 432x288 with 1 Axes>"
      ]
     },
     "metadata": {
      "needs_background": "light"
     },
     "output_type": "display_data"
    }
   ],
   "source": [
    "def scatter14(data):\n",
    "    sns.scatterplot(x='mortality', y='fertility', data=data)\n",
    "    plt.xlim([0, 14])\n",
    "    plt.ylim([0, 14])\n",
    "    plt.xticks(np.arange(0, 14, 2))\n",
    "    plt.yticks(np.arange(0, 14, 2))    \n",
    "    \n",
    "scatter14(child_data)"
   ]
  },
  {
   "cell_type": "code",
   "execution_count": 13,
   "metadata": {},
   "outputs": [
    {
     "data": {
      "image/png": "[encoded data removed]",
      "text/plain": [
       "<Figure size 432x288 with 1 Axes>"
      ]
     },
     "metadata": {
      "needs_background": "light"
     },
     "output_type": "display_data"
    }
   ],
   "source": [
    "sns.scatterplot(x='mortality', y='fertility', data=child_data);"
   ]
  },
  {
   "cell_type": "code",
   "execution_count": 14,
   "metadata": {},
   "outputs": [],
   "source": [
    "u, s, vt = np.linalg.svd(child_data, full_matrices = False)"
   ]
  },
  {
   "cell_type": "code",
   "execution_count": 15,
   "metadata": {},
   "outputs": [],
   "source": [
    "child_data_reconstructed = pd.DataFrame(u @ np.diag(s) @ vt, columns = [\"mortality\", \"fertility\"], index=child_data.index)"
   ]
  },
  {
   "cell_type": "markdown",
   "metadata": {},
   "source": [
    "As we'd expect, the product of $U$, $\\Sigma$, and $V^T$ recovers the original data perfectly."
   ]
  },
  {
   "cell_type": "code",
   "execution_count": 16,
   "metadata": {},
   "outputs": [
    {
     "data": {
      "text/html": [
       "<div>\n",
       "<style scoped>\n",
       "    .dataframe tbody tr th:only-of-type {\n",
       "        vertical-align: middle;\n",
       "    }\n",
       "\n",
       "    .dataframe tbody tr th {\n",
       "        vertical-align: top;\n",
       "    }\n",
       "\n",
       "    .dataframe thead th {\n",
       "        text-align: right;\n",
       "    }\n",
       "</style>\n",
       "<table border=\"1\" class=\"dataframe\">\n",
       "  <thead>\n",
       "    <tr style=\"text-align: right;\">\n",
       "      <th></th>\n",
       "      <th>mortality</th>\n",
       "      <th>fertility</th>\n",
       "    </tr>\n",
       "    <tr>\n",
       "      <th>country</th>\n",
       "      <th></th>\n",
       "      <th></th>\n",
       "    </tr>\n",
       "  </thead>\n",
       "  <tbody>\n",
       "    <tr>\n",
       "      <th>Afghanistan</th>\n",
       "      <td>6.820</td>\n",
       "      <td>4.48</td>\n",
       "    </tr>\n",
       "    <tr>\n",
       "      <th>Albania</th>\n",
       "      <td>1.330</td>\n",
       "      <td>1.71</td>\n",
       "    </tr>\n",
       "    <tr>\n",
       "      <th>Algeria</th>\n",
       "      <td>2.390</td>\n",
       "      <td>2.71</td>\n",
       "    </tr>\n",
       "    <tr>\n",
       "      <th>Angola</th>\n",
       "      <td>8.310</td>\n",
       "      <td>5.62</td>\n",
       "    </tr>\n",
       "    <tr>\n",
       "      <th>Antigua and Barbuda</th>\n",
       "      <td>0.816</td>\n",
       "      <td>2.04</td>\n",
       "    </tr>\n",
       "  </tbody>\n",
       "</table>\n",
       "</div>"
      ],
      "text/plain": [
       "                     mortality  fertility\n",
       "country                                  \n",
       "Afghanistan              6.820       4.48\n",
       "Albania                  1.330       1.71\n",
       "Algeria                  2.390       2.71\n",
       "Angola                   8.310       5.62\n",
       "Antigua and Barbuda      0.816       2.04"
      ]
     },
     "execution_count": 16,
     "metadata": {},
     "output_type": "execute_result"
    }
   ],
   "source": [
    "child_data_reconstructed.head(5)"
   ]
  },
  {
   "cell_type": "markdown",
   "metadata": {},
   "source": [
    "What happens if we throw away a column of $U$, a singular value from $\\Sigma$, and a row from $V^T$? In this case we end up with the \"rank 1 approximation\" of the data.\n",
    "\n",
    "Looking at the data, we see that it does a surprisingly good job."
   ]
  },
  {
   "cell_type": "code",
   "execution_count": 17,
   "metadata": {},
   "outputs": [],
   "source": [
    "#Rather than manually invoking linalg.svd over and over, let's just\n",
    "#define a function that does the rank approximation in one function call\n",
    "def compute_rank_k_approximation(data, k):\n",
    "    u, s, vt = np.linalg.svd(data, full_matrices = False)\n",
    "    return pd.DataFrame(u[:, 0:k] @ np.diag(s[0:k]) @ vt[0:k, :], columns = data.columns)"
   ]
  },
  {
   "cell_type": "code",
   "execution_count": 18,
   "metadata": {
    "scrolled": true
   },
   "outputs": [
    {
     "data": {
      "text/html": [
       "<div>\n",
       "<style scoped>\n",
       "    .dataframe tbody tr th:only-of-type {\n",
       "        vertical-align: middle;\n",
       "    }\n",
       "\n",
       "    .dataframe tbody tr th {\n",
       "        vertical-align: top;\n",
       "    }\n",
       "\n",
       "    .dataframe thead th {\n",
       "        text-align: right;\n",
       "    }\n",
       "</style>\n",
       "<table border=\"1\" class=\"dataframe\">\n",
       "  <thead>\n",
       "    <tr style=\"text-align: right;\">\n",
       "      <th></th>\n",
       "      <th>mortality</th>\n",
       "      <th>fertility</th>\n",
       "    </tr>\n",
       "  </thead>\n",
       "  <tbody>\n",
       "    <tr>\n",
       "      <th>0</th>\n",
       "      <td>6.694067</td>\n",
       "      <td>4.660869</td>\n",
       "    </tr>\n",
       "    <tr>\n",
       "      <th>1</th>\n",
       "      <td>1.697627</td>\n",
       "      <td>1.182004</td>\n",
       "    </tr>\n",
       "    <tr>\n",
       "      <th>2</th>\n",
       "      <td>2.880467</td>\n",
       "      <td>2.005579</td>\n",
       "    </tr>\n",
       "    <tr>\n",
       "      <th>3</th>\n",
       "      <td>8.232160</td>\n",
       "      <td>5.731795</td>\n",
       "    </tr>\n",
       "    <tr>\n",
       "      <th>4</th>\n",
       "      <td>1.506198</td>\n",
       "      <td>1.048719</td>\n",
       "    </tr>\n",
       "  </tbody>\n",
       "</table>\n",
       "</div>"
      ],
      "text/plain": [
       "   mortality  fertility\n",
       "0   6.694067   4.660869\n",
       "1   1.697627   1.182004\n",
       "2   2.880467   2.005579\n",
       "3   8.232160   5.731795\n",
       "4   1.506198   1.048719"
      ]
     },
     "execution_count": 18,
     "metadata": {},
     "output_type": "execute_result"
    }
   ],
   "source": [
    "#child_data_rank_1_approximation = pd.DataFrame(u[:, :-1] @ np.diag(s[:-1]) @ vt[:-1, :], columns = [\"mortality\", \"fertility\"], index=child_data.index)\n",
    "\n",
    "child_data_rank_1_approximation = compute_rank_k_approximation(child_data, 1)\n",
    "child_data_rank_1_approximation.head(5)"
   ]
  },
  {
   "cell_type": "markdown",
   "metadata": {},
   "source": [
    "We can see the PC1 values for countries, but what do they mean?"
   ]
  },
  {
   "cell_type": "code",
   "execution_count": 19,
   "metadata": {},
   "outputs": [
    {
     "data": {
      "text/plain": [
       "array([ -8.15685155,  -2.06859158,  -3.50990499, -10.03104894,\n",
       "        -1.83533203])"
      ]
     },
     "execution_count": 19,
     "metadata": {},
     "output_type": "execute_result"
    }
   ],
   "source": [
    "u, s, vt = np.linalg.svd(child_data, full_matrices=False)\n",
    "usig=u*s\n",
    "usig[0:5, 0]"
   ]
  },
  {
   "cell_type": "markdown",
   "metadata": {},
   "source": [
    "By plotting the data in a 2D space, we can see what's going on. We're simply getting the original data projected on to some 1 dimensional subspace."
   ]
  },
  {
   "cell_type": "code",
   "execution_count": 20,
   "metadata": {
    "scrolled": true,
    "tags": []
   },
   "outputs": [
    {
     "data": {
      "image/png": "[encoded data removed]",
      "text/plain": [
       "<Figure size 432x288 with 1 Axes>"
      ]
     },
     "metadata": {
      "needs_background": "light"
     },
     "output_type": "display_data"
    }
   ],
   "source": [
    "sns.scatterplot(x='mortality', y='fertility', data=child_data_rank_1_approximation);"
   ]
  },
  {
   "cell_type": "markdown",
   "metadata": {
    "tags": []
   },
   "source": [
    "There's one significant issue with our projection, which we can see by plotting both the original data and our reconstruction on the same axis. The issue is that the projection goes through the origin but our data has a non-zero y-intercept."
   ]
  },
  {
   "cell_type": "code",
   "execution_count": 21,
   "metadata": {},
   "outputs": [
    {
     "data": {
      "image/png": "[encoded data removed]",
      "text/plain": [
       "<Figure size 432x288 with 1 Axes>"
      ]
     },
     "metadata": {
      "needs_background": "light"
     },
     "output_type": "display_data"
    }
   ],
   "source": [
    "sns.scatterplot(x='mortality', y='fertility', data=child_data);\n",
    "sns.scatterplot(x='mortality', y='fertility', data=child_data_rank_1_approximation);"
   ]
  },
  {
   "cell_type": "markdown",
   "metadata": {},
   "source": [
    "While this y-intercept misalignment isn't terrible here, it can be really bad. For example, consider the 2D dataset below."
   ]
  },
  {
   "cell_type": "code",
   "execution_count": 22,
   "metadata": {},
   "outputs": [
    {
     "data": {
      "text/html": [
       "<div>\n",
       "<style scoped>\n",
       "    .dataframe tbody tr th:only-of-type {\n",
       "        vertical-align: middle;\n",
       "    }\n",
       "\n",
       "    .dataframe tbody tr th {\n",
       "        vertical-align: top;\n",
       "    }\n",
       "\n",
       "    .dataframe thead th {\n",
       "        text-align: right;\n",
       "    }\n",
       "</style>\n",
       "<table border=\"1\" class=\"dataframe\">\n",
       "  <thead>\n",
       "    <tr style=\"text-align: right;\">\n",
       "      <th></th>\n",
       "      <th>% brozek fat</th>\n",
       "      <th>% siri fat</th>\n",
       "      <th>density</th>\n",
       "      <th>age</th>\n",
       "      <th>weight</th>\n",
       "      <th>height</th>\n",
       "      <th>adiposity</th>\n",
       "      <th>fat free weight</th>\n",
       "      <th>neck</th>\n",
       "      <th>chest</th>\n",
       "      <th>abdomen</th>\n",
       "      <th>hip</th>\n",
       "      <th>thigh</th>\n",
       "      <th>knee</th>\n",
       "      <th>ankle</th>\n",
       "      <th>bicep</th>\n",
       "      <th>forearm</th>\n",
       "      <th>wrist</th>\n",
       "    </tr>\n",
       "  </thead>\n",
       "  <tbody>\n",
       "    <tr>\n",
       "      <th>0</th>\n",
       "      <td>12.6</td>\n",
       "      <td>12.3</td>\n",
       "      <td>1.0708</td>\n",
       "      <td>23</td>\n",
       "      <td>154.25</td>\n",
       "      <td>67.75</td>\n",
       "      <td>23.7</td>\n",
       "      <td>134.9</td>\n",
       "      <td>36.2</td>\n",
       "      <td>93.1</td>\n",
       "      <td>85.2</td>\n",
       "      <td>94.5</td>\n",
       "      <td>59.0</td>\n",
       "      <td>37.3</td>\n",
       "      <td>21.9</td>\n",
       "      <td>32.0</td>\n",
       "      <td>27.4</td>\n",
       "      <td>17.1</td>\n",
       "    </tr>\n",
       "    <tr>\n",
       "      <th>1</th>\n",
       "      <td>6.9</td>\n",
       "      <td>6.1</td>\n",
       "      <td>1.0853</td>\n",
       "      <td>22</td>\n",
       "      <td>173.25</td>\n",
       "      <td>72.25</td>\n",
       "      <td>23.4</td>\n",
       "      <td>161.3</td>\n",
       "      <td>38.5</td>\n",
       "      <td>93.6</td>\n",
       "      <td>83.0</td>\n",
       "      <td>98.7</td>\n",
       "      <td>58.7</td>\n",
       "      <td>37.3</td>\n",
       "      <td>23.4</td>\n",
       "      <td>30.5</td>\n",
       "      <td>28.9</td>\n",
       "      <td>18.2</td>\n",
       "    </tr>\n",
       "    <tr>\n",
       "      <th>2</th>\n",
       "      <td>24.6</td>\n",
       "      <td>25.3</td>\n",
       "      <td>1.0414</td>\n",
       "      <td>22</td>\n",
       "      <td>154.00</td>\n",
       "      <td>66.25</td>\n",
       "      <td>24.7</td>\n",
       "      <td>116.0</td>\n",
       "      <td>34.0</td>\n",
       "      <td>95.8</td>\n",
       "      <td>87.9</td>\n",
       "      <td>99.2</td>\n",
       "      <td>59.6</td>\n",
       "      <td>38.9</td>\n",
       "      <td>24.0</td>\n",
       "      <td>28.8</td>\n",
       "      <td>25.2</td>\n",
       "      <td>16.6</td>\n",
       "    </tr>\n",
       "    <tr>\n",
       "      <th>3</th>\n",
       "      <td>10.9</td>\n",
       "      <td>10.4</td>\n",
       "      <td>1.0751</td>\n",
       "      <td>26</td>\n",
       "      <td>184.75</td>\n",
       "      <td>72.25</td>\n",
       "      <td>24.9</td>\n",
       "      <td>164.7</td>\n",
       "      <td>37.4</td>\n",
       "      <td>101.8</td>\n",
       "      <td>86.4</td>\n",
       "      <td>101.2</td>\n",
       "      <td>60.1</td>\n",
       "      <td>37.3</td>\n",
       "      <td>22.8</td>\n",
       "      <td>32.4</td>\n",
       "      <td>29.4</td>\n",
       "      <td>18.2</td>\n",
       "    </tr>\n",
       "    <tr>\n",
       "      <th>4</th>\n",
       "      <td>27.8</td>\n",
       "      <td>28.7</td>\n",
       "      <td>1.0340</td>\n",
       "      <td>24</td>\n",
       "      <td>184.25</td>\n",
       "      <td>71.25</td>\n",
       "      <td>25.6</td>\n",
       "      <td>133.1</td>\n",
       "      <td>34.4</td>\n",
       "      <td>97.3</td>\n",
       "      <td>100.0</td>\n",
       "      <td>101.9</td>\n",
       "      <td>63.2</td>\n",
       "      <td>42.2</td>\n",
       "      <td>24.0</td>\n",
       "      <td>32.2</td>\n",
       "      <td>27.7</td>\n",
       "      <td>17.7</td>\n",
       "    </tr>\n",
       "  </tbody>\n",
       "</table>\n",
       "</div>"
      ],
      "text/plain": [
       "   % brozek fat  % siri fat  density  age  weight  height  adiposity  \\\n",
       "0          12.6        12.3   1.0708   23  154.25   67.75       23.7   \n",
       "1           6.9         6.1   1.0853   22  173.25   72.25       23.4   \n",
       "2          24.6        25.3   1.0414   22  154.00   66.25       24.7   \n",
       "3          10.9        10.4   1.0751   26  184.75   72.25       24.9   \n",
       "4          27.8        28.7   1.0340   24  184.25   71.25       25.6   \n",
       "\n",
       "   fat free weight  neck  chest  abdomen    hip  thigh  knee  ankle  bicep  \\\n",
       "0            134.9  36.2   93.1     85.2   94.5   59.0  37.3   21.9   32.0   \n",
       "1            161.3  38.5   93.6     83.0   98.7   58.7  37.3   23.4   30.5   \n",
       "2            116.0  34.0   95.8     87.9   99.2   59.6  38.9   24.0   28.8   \n",
       "3            164.7  37.4  101.8     86.4  101.2   60.1  37.3   22.8   32.4   \n",
       "4            133.1  34.4   97.3    100.0  101.9   63.2  42.2   24.0   32.2   \n",
       "\n",
       "   forearm  wrist  \n",
       "0     27.4   17.1  \n",
       "1     28.9   18.2  \n",
       "2     25.2   16.6  \n",
       "3     29.4   18.2  \n",
       "4     27.7   17.7  "
      ]
     },
     "execution_count": 22,
     "metadata": {},
     "output_type": "execute_result"
    }
   ],
   "source": [
    "#http://jse.amstat.org/datasets/fat.txt\n",
    "body_data = pd.read_fwf(\"fat.dat.txt\", colspecs = [(9, 13), (17, 21), (23, 29), (35, 37),\n",
    "                                             (39, 45), (48, 53), (57, 61), (64, 69),\n",
    "                                             (73, 77), (80, 85), (88, 93), (96, 101),\n",
    "                                             (105, 109), (113, 117), (121, 125), (129, 133),\n",
    "                                             (137, 141), (145, 149)], \n",
    "                  \n",
    "                  \n",
    "                  header=None, names = [\"% brozek fat\", \"% siri fat\", \"density\", \"age\", \n",
    "                                       \"weight\", \"height\", \"adiposity\", \"fat free weight\",\n",
    "                                       \"neck\", \"chest\", \"abdomen\", \"hip\", \"thigh\",\n",
    "                                       \"knee\", \"ankle\", \"bicep\", \"forearm\",\n",
    "                                       \"wrist\"])\n",
    "#body_data = body_data.drop(41) #drop the weird record\n",
    "body_data.head()"
   ]
  },
  {
   "cell_type": "code",
   "execution_count": 23,
   "metadata": {},
   "outputs": [
    {
     "data": {
      "text/html": [
       "<div>\n",
       "<style scoped>\n",
       "    .dataframe tbody tr th:only-of-type {\n",
       "        vertical-align: middle;\n",
       "    }\n",
       "\n",
       "    .dataframe tbody tr th {\n",
       "        vertical-align: top;\n",
       "    }\n",
       "\n",
       "    .dataframe thead th {\n",
       "        text-align: right;\n",
       "    }\n",
       "</style>\n",
       "<table border=\"1\" class=\"dataframe\">\n",
       "  <thead>\n",
       "    <tr style=\"text-align: right;\">\n",
       "      <th></th>\n",
       "      <th>density</th>\n",
       "      <th>abdomen</th>\n",
       "    </tr>\n",
       "  </thead>\n",
       "  <tbody>\n",
       "    <tr>\n",
       "      <th>0</th>\n",
       "      <td>1.0708</td>\n",
       "      <td>85.2</td>\n",
       "    </tr>\n",
       "    <tr>\n",
       "      <th>1</th>\n",
       "      <td>1.0853</td>\n",
       "      <td>83.0</td>\n",
       "    </tr>\n",
       "    <tr>\n",
       "      <th>2</th>\n",
       "      <td>1.0414</td>\n",
       "      <td>87.9</td>\n",
       "    </tr>\n",
       "    <tr>\n",
       "      <th>3</th>\n",
       "      <td>1.0751</td>\n",
       "      <td>86.4</td>\n",
       "    </tr>\n",
       "    <tr>\n",
       "      <th>4</th>\n",
       "      <td>1.0340</td>\n",
       "      <td>100.0</td>\n",
       "    </tr>\n",
       "  </tbody>\n",
       "</table>\n",
       "</div>"
      ],
      "text/plain": [
       "   density  abdomen\n",
       "0   1.0708     85.2\n",
       "1   1.0853     83.0\n",
       "2   1.0414     87.9\n",
       "3   1.0751     86.4\n",
       "4   1.0340    100.0"
      ]
     },
     "execution_count": 23,
     "metadata": {},
     "output_type": "execute_result"
    }
   ],
   "source": [
    "density_and_abdomen = body_data[[\"density\", \"abdomen\"]]\n",
    "density_and_abdomen.head(5)"
   ]
  },
  {
   "cell_type": "markdown",
   "metadata": {},
   "source": [
    "If we look at the data, the rank 1 approximation looks at least vaguely sane from the table. "
   ]
  },
  {
   "cell_type": "code",
   "execution_count": 24,
   "metadata": {},
   "outputs": [
    {
     "data": {
      "text/html": [
       "<div>\n",
       "<style scoped>\n",
       "    .dataframe tbody tr th:only-of-type {\n",
       "        vertical-align: middle;\n",
       "    }\n",
       "\n",
       "    .dataframe tbody tr th {\n",
       "        vertical-align: top;\n",
       "    }\n",
       "\n",
       "    .dataframe thead th {\n",
       "        text-align: right;\n",
       "    }\n",
       "</style>\n",
       "<table border=\"1\" class=\"dataframe\">\n",
       "  <thead>\n",
       "    <tr style=\"text-align: right;\">\n",
       "      <th></th>\n",
       "      <th>density</th>\n",
       "      <th>abdomen</th>\n",
       "    </tr>\n",
       "  </thead>\n",
       "  <tbody>\n",
       "    <tr>\n",
       "      <th>0</th>\n",
       "      <td>0.957134</td>\n",
       "      <td>85.201277</td>\n",
       "    </tr>\n",
       "    <tr>\n",
       "      <th>1</th>\n",
       "      <td>0.932425</td>\n",
       "      <td>83.001717</td>\n",
       "    </tr>\n",
       "    <tr>\n",
       "      <th>2</th>\n",
       "      <td>0.987458</td>\n",
       "      <td>87.900606</td>\n",
       "    </tr>\n",
       "    <tr>\n",
       "      <th>3</th>\n",
       "      <td>0.970613</td>\n",
       "      <td>86.401174</td>\n",
       "    </tr>\n",
       "    <tr>\n",
       "      <th>4</th>\n",
       "      <td>1.123369</td>\n",
       "      <td>99.998996</td>\n",
       "    </tr>\n",
       "  </tbody>\n",
       "</table>\n",
       "</div>"
      ],
      "text/plain": [
       "    density    abdomen\n",
       "0  0.957134  85.201277\n",
       "1  0.932425  83.001717\n",
       "2  0.987458  87.900606\n",
       "3  0.970613  86.401174\n",
       "4  1.123369  99.998996"
      ]
     },
     "execution_count": 24,
     "metadata": {},
     "output_type": "execute_result"
    }
   ],
   "source": [
    "density_and_abdomen_rank_1_approximation = compute_rank_k_approximation(density_and_abdomen, 1)\n",
    "density_and_abdomen_rank_1_approximation.head(5)"
   ]
  },
  {
   "cell_type": "markdown",
   "metadata": {},
   "source": [
    "But if we plot on 2D axes, we'll see that things are very wrong."
   ]
  },
  {
   "cell_type": "code",
   "execution_count": 25,
   "metadata": {},
   "outputs": [
    {
     "data": {
      "image/png": "[encoded data removed]",
      "text/plain": [
       "<Figure size 432x288 with 1 Axes>"
      ]
     },
     "metadata": {
      "needs_background": "light"
     },
     "output_type": "display_data"
    }
   ],
   "source": [
    "sns.scatterplot(x=\"density\", y=\"abdomen\", data=body_data);"
   ]
  },
  {
   "cell_type": "code",
   "execution_count": 26,
   "metadata": {},
   "outputs": [
    {
     "data": {
      "image/png": "[encoded data removed]",
      "text/plain": [
       "<Figure size 432x288 with 1 Axes>"
      ]
     },
     "metadata": {
      "needs_background": "light"
     },
     "output_type": "display_data"
    }
   ],
   "source": [
    "density_and_abdomen_rank_1_approximation = compute_rank_k_approximation(density_and_abdomen, 1)\n",
    "sns.scatterplot(x=\"density\", y=\"abdomen\", data=body_data);\n",
    "sns.scatterplot(x=\"density\", y=\"abdomen\", data=density_and_abdomen_rank_1_approximation);"
   ]
  },
  {
   "cell_type": "markdown",
   "metadata": {},
   "source": [
    "Since the subspace that we're projecting on to is off and to the right, we end up with a bizarre result where our rank 1 approximation believes that density increases with abdomen size, even though the data shows the opposite."
   ]
  },
  {
   "cell_type": "markdown",
   "metadata": {},
   "source": [
    "To fix this issue, we should always start the SVD process by zero-centering our data. That is, for each column, we should subtract the mean of that column."
   ]
  },
  {
   "cell_type": "code",
   "execution_count": 27,
   "metadata": {},
   "outputs": [
    {
     "data": {
      "text/plain": [
       "density     1.055574\n",
       "abdomen    92.555952\n",
       "dtype: float64"
      ]
     },
     "execution_count": 27,
     "metadata": {},
     "output_type": "execute_result"
    }
   ],
   "source": [
    "np.mean(density_and_abdomen, axis = 0)"
   ]
  },
  {
   "cell_type": "code",
   "execution_count": 28,
   "metadata": {},
   "outputs": [
    {
     "data": {
      "text/html": [
       "<div>\n",
       "<style scoped>\n",
       "    .dataframe tbody tr th:only-of-type {\n",
       "        vertical-align: middle;\n",
       "    }\n",
       "\n",
       "    .dataframe tbody tr th {\n",
       "        vertical-align: top;\n",
       "    }\n",
       "\n",
       "    .dataframe thead th {\n",
       "        text-align: right;\n",
       "    }\n",
       "</style>\n",
       "<table border=\"1\" class=\"dataframe\">\n",
       "  <thead>\n",
       "    <tr style=\"text-align: right;\">\n",
       "      <th></th>\n",
       "      <th>density</th>\n",
       "      <th>abdomen</th>\n",
       "    </tr>\n",
       "  </thead>\n",
       "  <tbody>\n",
       "    <tr>\n",
       "      <th>0</th>\n",
       "      <td>0.015226</td>\n",
       "      <td>-7.355952</td>\n",
       "    </tr>\n",
       "    <tr>\n",
       "      <th>1</th>\n",
       "      <td>0.029726</td>\n",
       "      <td>-9.555952</td>\n",
       "    </tr>\n",
       "    <tr>\n",
       "      <th>2</th>\n",
       "      <td>-0.014174</td>\n",
       "      <td>-4.655952</td>\n",
       "    </tr>\n",
       "    <tr>\n",
       "      <th>3</th>\n",
       "      <td>0.019526</td>\n",
       "      <td>-6.155952</td>\n",
       "    </tr>\n",
       "    <tr>\n",
       "      <th>4</th>\n",
       "      <td>-0.021574</td>\n",
       "      <td>7.444048</td>\n",
       "    </tr>\n",
       "  </tbody>\n",
       "</table>\n",
       "</div>"
      ],
      "text/plain": [
       "    density   abdomen\n",
       "0  0.015226 -7.355952\n",
       "1  0.029726 -9.555952\n",
       "2 -0.014174 -4.655952\n",
       "3  0.019526 -6.155952\n",
       "4 -0.021574  7.444048"
      ]
     },
     "execution_count": 28,
     "metadata": {},
     "output_type": "execute_result"
    }
   ],
   "source": [
    "density_and_abdomen_centered = density_and_abdomen - np.mean(density_and_abdomen, axis = 0)\n",
    "density_and_abdomen_centered.head(5)"
   ]
  },
  {
   "cell_type": "markdown",
   "metadata": {},
   "source": [
    "Now when we do the approximation, things work much better."
   ]
  },
  {
   "cell_type": "code",
   "execution_count": 29,
   "metadata": {},
   "outputs": [
    {
     "data": {
      "image/png": "[encoded data removed]",
      "text/plain": [
       "<Figure size 432x288 with 1 Axes>"
      ]
     },
     "metadata": {
      "needs_background": "light"
     },
     "output_type": "display_data"
    }
   ],
   "source": [
    "density_and_abdomen_centered_rank_1_approximation = compute_rank_k_approximation(density_and_abdomen_centered, 1)\n",
    "sns.scatterplot(x=\"density\", y=\"abdomen\", data=density_and_abdomen_centered)\n",
    "sns.scatterplot(x=\"density\", y=\"abdomen\", data=density_and_abdomen_centered_rank_1_approximation);"
   ]
  },
  {
   "cell_type": "markdown",
   "metadata": {},
   "source": [
    "### Interpreting Principal Components"
   ]
  },
  {
   "cell_type": "markdown",
   "metadata": {},
   "source": [
    "Let's revisit our child mortality and maternal fertility data from before."
   ]
  },
  {
   "cell_type": "code",
   "execution_count": 30,
   "metadata": {},
   "outputs": [
    {
     "data": {
      "image/png": "[encoded data removed]",
      "text/plain": [
       "<Figure size 432x288 with 1 Axes>"
      ]
     },
     "metadata": {
      "needs_background": "light"
     },
     "output_type": "display_data"
    }
   ],
   "source": [
    "sns.scatterplot(data = child_data, x = \"mortality\", y= \"fertility\")\n",
    "plt.xlim([0, 14])\n",
    "plt.ylim([0, 14])\n",
    "plt.xticks(np.arange(0, 14, 2))\n",
    "plt.yticks(np.arange(0, 14, 2));"
   ]
  },
  {
   "cell_type": "markdown",
   "metadata": {},
   "source": [
    "Since we're going to be doing SVD, let's make sure to center our data first."
   ]
  },
  {
   "cell_type": "code",
   "execution_count": 31,
   "metadata": {},
   "outputs": [
    {
     "data": {
      "text/plain": [
       "mortality    3.034590\n",
       "fertility    2.775956\n",
       "dtype: float64"
      ]
     },
     "execution_count": 31,
     "metadata": {},
     "output_type": "execute_result"
    }
   ],
   "source": [
    "np.mean(child_data, axis = 0)"
   ]
  },
  {
   "cell_type": "code",
   "execution_count": 32,
   "metadata": {},
   "outputs": [
    {
     "data": {
      "image/png": "[encoded data removed]",
      "text/plain": [
       "<Figure size 432x288 with 1 Axes>"
      ]
     },
     "metadata": {
      "needs_background": "light"
     },
     "output_type": "display_data"
    }
   ],
   "source": [
    "child_means = np.mean(child_data, axis = 0)\n",
    "child_data_centered = child_data - child_means\n",
    "sns.scatterplot(data = child_data_centered, x = \"mortality\", y= \"fertility\")\n",
    "\n",
    "\n",
    "plt.xlim([-3, 11])\n",
    "plt.ylim([-3, 11])\n",
    "plt.xticks(np.arange(-3, 11, 2))\n",
    "plt.yticks(np.arange(-3, 11, 2));\n",
    "plt.gcf().savefig(\"mortality_fertility_centered.png\", dpi=300, bbox_inches=\"tight\")"
   ]
  },
  {
   "cell_type": "markdown",
   "metadata": {},
   "source": [
    "Tie in with the manual computation slides."
   ]
  },
  {
   "cell_type": "markdown",
   "metadata": {},
   "source": [
    "## Principal Components and Singular Values"
   ]
  },
  {
   "cell_type": "markdown",
   "metadata": {},
   "source": [
    "###  Singular Values and Variance"
   ]
  },
  {
   "cell_type": "code",
   "execution_count": 33,
   "metadata": {},
   "outputs": [],
   "source": [
    "rectangle_centered = rectangle - np.mean(rectangle, axis = 0)"
   ]
  },
  {
   "cell_type": "code",
   "execution_count": 34,
   "metadata": {},
   "outputs": [
    {
     "data": {
      "text/plain": [
       "width          7.6891\n",
       "height         5.3475\n",
       "area         338.7316\n",
       "perimeter     50.7904\n",
       "dtype: float64"
      ]
     },
     "execution_count": 34,
     "metadata": {},
     "output_type": "execute_result"
    }
   ],
   "source": [
    "np.var(rectangle_centered)"
   ]
  },
  {
   "cell_type": "code",
   "execution_count": 35,
   "metadata": {},
   "outputs": [
    {
     "data": {
      "text/plain": [
       "402.5586000000001"
      ]
     },
     "execution_count": 35,
     "metadata": {},
     "output_type": "execute_result"
    }
   ],
   "source": [
    "sum(np.var(rectangle_centered))"
   ]
  },
  {
   "cell_type": "code",
   "execution_count": 36,
   "metadata": {},
   "outputs": [],
   "source": [
    "u, s, vt = np.linalg.svd(rectangle_centered, full_matrices = False)"
   ]
  },
  {
   "cell_type": "code",
   "execution_count": 37,
   "metadata": {},
   "outputs": [
    {
     "data": {
      "text/plain": [
       "array([[-0.1339099 ,  0.00592996,  0.03473374, -0.29683623],\n",
       "       [ 0.08635418, -0.07951453,  0.01494809,  0.71147825],\n",
       "       [ 0.11776646, -0.12896256,  0.08577428, -0.06531837],\n",
       "       [-0.02727392,  0.1831771 ,  0.01089507, -0.03105541],\n",
       "       [-0.258806  , -0.09429499,  0.09027015, -0.03281766]])"
      ]
     },
     "execution_count": 37,
     "metadata": {},
     "output_type": "execute_result"
    }
   ],
   "source": [
    "u[0:5, :]"
   ]
  },
  {
   "cell_type": "code",
   "execution_count": 38,
   "metadata": {},
   "outputs": [
    {
     "data": {
      "text/plain": [
       "array([[197.38807512,   0.        ,   0.        ,   0.        ],\n",
       "       [  0.        ,  27.43462569,   0.        ,   0.        ],\n",
       "       [  0.        ,   0.        ,  23.26261195,   0.        ],\n",
       "       [  0.        ,   0.        ,   0.        ,   0.        ]])"
      ]
     },
     "execution_count": 38,
     "metadata": {},
     "output_type": "execute_result"
    }
   ],
   "source": [
    "np.diag(s)"
   ]
  },
  {
   "cell_type": "code",
   "execution_count": 39,
   "metadata": {},
   "outputs": [
    {
     "data": {
      "text/plain": [
       "array([389.62052198,   7.52658687,   5.41149115,   0.        ])"
      ]
     },
     "execution_count": 39,
     "metadata": {},
     "output_type": "execute_result"
    }
   ],
   "source": [
    "s**2/rectangle_centered.shape[0]"
   ]
  },
  {
   "cell_type": "code",
   "execution_count": 40,
   "metadata": {},
   "outputs": [
    {
     "data": {
      "text/plain": [
       "402.55860000000007"
      ]
     },
     "execution_count": 40,
     "metadata": {},
     "output_type": "execute_result"
    }
   ],
   "source": [
    "sum(s**2/rectangle_centered.shape[0])"
   ]
  },
  {
   "cell_type": "markdown",
   "metadata": {},
   "source": [
    "## Practical PCA"
   ]
  },
  {
   "cell_type": "markdown",
   "metadata": {},
   "source": [
    "Let's now step back and try to use PCA on our body measurement and congressional voting datasets."
   ]
  },
  {
   "cell_type": "code",
   "execution_count": 41,
   "metadata": {},
   "outputs": [
    {
     "data": {
      "text/html": [
       "<div>\n",
       "<style scoped>\n",
       "    .dataframe tbody tr th:only-of-type {\n",
       "        vertical-align: middle;\n",
       "    }\n",
       "\n",
       "    .dataframe tbody tr th {\n",
       "        vertical-align: top;\n",
       "    }\n",
       "\n",
       "    .dataframe thead th {\n",
       "        text-align: right;\n",
       "    }\n",
       "</style>\n",
       "<table border=\"1\" class=\"dataframe\">\n",
       "  <thead>\n",
       "    <tr style=\"text-align: right;\">\n",
       "      <th></th>\n",
       "      <th>% brozek fat</th>\n",
       "      <th>% siri fat</th>\n",
       "      <th>density</th>\n",
       "      <th>age</th>\n",
       "      <th>weight</th>\n",
       "      <th>height</th>\n",
       "      <th>adiposity</th>\n",
       "      <th>fat free weight</th>\n",
       "      <th>neck</th>\n",
       "      <th>chest</th>\n",
       "      <th>abdomen</th>\n",
       "      <th>hip</th>\n",
       "      <th>thigh</th>\n",
       "      <th>knee</th>\n",
       "      <th>ankle</th>\n",
       "      <th>bicep</th>\n",
       "      <th>forearm</th>\n",
       "      <th>wrist</th>\n",
       "    </tr>\n",
       "  </thead>\n",
       "  <tbody>\n",
       "    <tr>\n",
       "      <th>0</th>\n",
       "      <td>12.6</td>\n",
       "      <td>12.3</td>\n",
       "      <td>1.0708</td>\n",
       "      <td>23</td>\n",
       "      <td>154.25</td>\n",
       "      <td>67.75</td>\n",
       "      <td>23.7</td>\n",
       "      <td>134.9</td>\n",
       "      <td>36.2</td>\n",
       "      <td>93.1</td>\n",
       "      <td>85.2</td>\n",
       "      <td>94.5</td>\n",
       "      <td>59.0</td>\n",
       "      <td>37.3</td>\n",
       "      <td>21.9</td>\n",
       "      <td>32.0</td>\n",
       "      <td>27.4</td>\n",
       "      <td>17.1</td>\n",
       "    </tr>\n",
       "    <tr>\n",
       "      <th>1</th>\n",
       "      <td>6.9</td>\n",
       "      <td>6.1</td>\n",
       "      <td>1.0853</td>\n",
       "      <td>22</td>\n",
       "      <td>173.25</td>\n",
       "      <td>72.25</td>\n",
       "      <td>23.4</td>\n",
       "      <td>161.3</td>\n",
       "      <td>38.5</td>\n",
       "      <td>93.6</td>\n",
       "      <td>83.0</td>\n",
       "      <td>98.7</td>\n",
       "      <td>58.7</td>\n",
       "      <td>37.3</td>\n",
       "      <td>23.4</td>\n",
       "      <td>30.5</td>\n",
       "      <td>28.9</td>\n",
       "      <td>18.2</td>\n",
       "    </tr>\n",
       "    <tr>\n",
       "      <th>2</th>\n",
       "      <td>24.6</td>\n",
       "      <td>25.3</td>\n",
       "      <td>1.0414</td>\n",
       "      <td>22</td>\n",
       "      <td>154.00</td>\n",
       "      <td>66.25</td>\n",
       "      <td>24.7</td>\n",
       "      <td>116.0</td>\n",
       "      <td>34.0</td>\n",
       "      <td>95.8</td>\n",
       "      <td>87.9</td>\n",
       "      <td>99.2</td>\n",
       "      <td>59.6</td>\n",
       "      <td>38.9</td>\n",
       "      <td>24.0</td>\n",
       "      <td>28.8</td>\n",
       "      <td>25.2</td>\n",
       "      <td>16.6</td>\n",
       "    </tr>\n",
       "    <tr>\n",
       "      <th>3</th>\n",
       "      <td>10.9</td>\n",
       "      <td>10.4</td>\n",
       "      <td>1.0751</td>\n",
       "      <td>26</td>\n",
       "      <td>184.75</td>\n",
       "      <td>72.25</td>\n",
       "      <td>24.9</td>\n",
       "      <td>164.7</td>\n",
       "      <td>37.4</td>\n",
       "      <td>101.8</td>\n",
       "      <td>86.4</td>\n",
       "      <td>101.2</td>\n",
       "      <td>60.1</td>\n",
       "      <td>37.3</td>\n",
       "      <td>22.8</td>\n",
       "      <td>32.4</td>\n",
       "      <td>29.4</td>\n",
       "      <td>18.2</td>\n",
       "    </tr>\n",
       "    <tr>\n",
       "      <th>4</th>\n",
       "      <td>27.8</td>\n",
       "      <td>28.7</td>\n",
       "      <td>1.0340</td>\n",
       "      <td>24</td>\n",
       "      <td>184.25</td>\n",
       "      <td>71.25</td>\n",
       "      <td>25.6</td>\n",
       "      <td>133.1</td>\n",
       "      <td>34.4</td>\n",
       "      <td>97.3</td>\n",
       "      <td>100.0</td>\n",
       "      <td>101.9</td>\n",
       "      <td>63.2</td>\n",
       "      <td>42.2</td>\n",
       "      <td>24.0</td>\n",
       "      <td>32.2</td>\n",
       "      <td>27.7</td>\n",
       "      <td>17.7</td>\n",
       "    </tr>\n",
       "  </tbody>\n",
       "</table>\n",
       "</div>"
      ],
      "text/plain": [
       "   % brozek fat  % siri fat  density  age  weight  height  adiposity  \\\n",
       "0          12.6        12.3   1.0708   23  154.25   67.75       23.7   \n",
       "1           6.9         6.1   1.0853   22  173.25   72.25       23.4   \n",
       "2          24.6        25.3   1.0414   22  154.00   66.25       24.7   \n",
       "3          10.9        10.4   1.0751   26  184.75   72.25       24.9   \n",
       "4          27.8        28.7   1.0340   24  184.25   71.25       25.6   \n",
       "\n",
       "   fat free weight  neck  chest  abdomen    hip  thigh  knee  ankle  bicep  \\\n",
       "0            134.9  36.2   93.1     85.2   94.5   59.0  37.3   21.9   32.0   \n",
       "1            161.3  38.5   93.6     83.0   98.7   58.7  37.3   23.4   30.5   \n",
       "2            116.0  34.0   95.8     87.9   99.2   59.6  38.9   24.0   28.8   \n",
       "3            164.7  37.4  101.8     86.4  101.2   60.1  37.3   22.8   32.4   \n",
       "4            133.1  34.4   97.3    100.0  101.9   63.2  42.2   24.0   32.2   \n",
       "\n",
       "   forearm  wrist  \n",
       "0     27.4   17.1  \n",
       "1     28.9   18.2  \n",
       "2     25.2   16.6  \n",
       "3     29.4   18.2  \n",
       "4     27.7   17.7  "
      ]
     },
     "execution_count": 41,
     "metadata": {},
     "output_type": "execute_result"
    }
   ],
   "source": [
    "body_data.head(5)"
   ]
  },
  {
   "cell_type": "code",
   "execution_count": 42,
   "metadata": {},
   "outputs": [],
   "source": [
    "u, s, vt = np.linalg.svd(body_data, full_matrices = False)"
   ]
  },
  {
   "cell_type": "markdown",
   "metadata": {},
   "source": [
    "We see that some of our singular values capture more variance than others."
   ]
  },
  {
   "cell_type": "code",
   "execution_count": 43,
   "metadata": {
    "scrolled": true
   },
   "outputs": [
    {
     "data": {
      "text/plain": [
       "array([5020.52705061,  262.08505563,  254.54343189,  141.81242773,\n",
       "         59.87838101,   52.91069761,   41.65678998,   31.28233064,\n",
       "         26.02717253,   24.49195578,   22.11282152,   20.52806948,\n",
       "         18.66671232,   16.7184654 ,   12.42776311,    7.7927621 ,\n",
       "          1.9706795 ,    0.27219341])"
      ]
     },
     "execution_count": 43,
     "metadata": {},
     "output_type": "execute_result"
    }
   ],
   "source": [
    "s"
   ]
  },
  {
   "cell_type": "markdown",
   "metadata": {},
   "source": [
    "Or we can compute the fraction of the variance captured by each principal component. The result seems shocking at first, as our data appears to be effectively rank 1."
   ]
  },
  {
   "cell_type": "code",
   "execution_count": 44,
   "metadata": {},
   "outputs": [
    {
     "data": {
      "text/plain": [
       "array([0.99, 0.  , 0.  , 0.  , 0.  , 0.  , 0.  , 0.  , 0.  , 0.  , 0.  ,\n",
       "       0.  , 0.  , 0.  , 0.  , 0.  , 0.  , 0.  ])"
      ]
     },
     "execution_count": 44,
     "metadata": {},
     "output_type": "execute_result"
    }
   ],
   "source": [
    "np.round(s**2 / sum(s**2), 2)"
   ]
  },
  {
   "cell_type": "markdown",
   "metadata": {},
   "source": [
    "This seems absurd, as clearly there are several variables that we expect to be show significant variation independent of each other, e.g. weight, height, and age. If this happens to you, it's probably because you forgot to center your data!"
   ]
  },
  {
   "cell_type": "code",
   "execution_count": 45,
   "metadata": {},
   "outputs": [
    {
     "data": {
      "text/html": [
       "<div>\n",
       "<style scoped>\n",
       "    .dataframe tbody tr th:only-of-type {\n",
       "        vertical-align: middle;\n",
       "    }\n",
       "\n",
       "    .dataframe tbody tr th {\n",
       "        vertical-align: top;\n",
       "    }\n",
       "\n",
       "    .dataframe thead th {\n",
       "        text-align: right;\n",
       "    }\n",
       "</style>\n",
       "<table border=\"1\" class=\"dataframe\">\n",
       "  <thead>\n",
       "    <tr style=\"text-align: right;\">\n",
       "      <th></th>\n",
       "      <th>% brozek fat</th>\n",
       "      <th>% siri fat</th>\n",
       "      <th>density</th>\n",
       "      <th>age</th>\n",
       "      <th>weight</th>\n",
       "      <th>height</th>\n",
       "      <th>adiposity</th>\n",
       "      <th>fat free weight</th>\n",
       "      <th>neck</th>\n",
       "      <th>chest</th>\n",
       "      <th>abdomen</th>\n",
       "      <th>hip</th>\n",
       "      <th>thigh</th>\n",
       "      <th>knee</th>\n",
       "      <th>ankle</th>\n",
       "      <th>bicep</th>\n",
       "      <th>forearm</th>\n",
       "      <th>wrist</th>\n",
       "    </tr>\n",
       "  </thead>\n",
       "  <tbody>\n",
       "    <tr>\n",
       "      <th>0</th>\n",
       "      <td>-6.338492</td>\n",
       "      <td>-6.850794</td>\n",
       "      <td>0.015226</td>\n",
       "      <td>-21.884921</td>\n",
       "      <td>-24.674405</td>\n",
       "      <td>-2.39881</td>\n",
       "      <td>-1.736905</td>\n",
       "      <td>-8.813889</td>\n",
       "      <td>-1.792063</td>\n",
       "      <td>-7.724206</td>\n",
       "      <td>-7.355952</td>\n",
       "      <td>-5.404762</td>\n",
       "      <td>-0.405952</td>\n",
       "      <td>-1.290476</td>\n",
       "      <td>-1.202381</td>\n",
       "      <td>-0.273413</td>\n",
       "      <td>-1.263889</td>\n",
       "      <td>-1.129762</td>\n",
       "    </tr>\n",
       "    <tr>\n",
       "      <th>1</th>\n",
       "      <td>-12.038492</td>\n",
       "      <td>-13.050794</td>\n",
       "      <td>0.029726</td>\n",
       "      <td>-22.884921</td>\n",
       "      <td>-5.674405</td>\n",
       "      <td>2.10119</td>\n",
       "      <td>-2.036905</td>\n",
       "      <td>17.586111</td>\n",
       "      <td>0.507937</td>\n",
       "      <td>-7.224206</td>\n",
       "      <td>-9.555952</td>\n",
       "      <td>-1.204762</td>\n",
       "      <td>-0.705952</td>\n",
       "      <td>-1.290476</td>\n",
       "      <td>0.297619</td>\n",
       "      <td>-1.773413</td>\n",
       "      <td>0.236111</td>\n",
       "      <td>-0.029762</td>\n",
       "    </tr>\n",
       "    <tr>\n",
       "      <th>2</th>\n",
       "      <td>5.661508</td>\n",
       "      <td>6.149206</td>\n",
       "      <td>-0.014174</td>\n",
       "      <td>-22.884921</td>\n",
       "      <td>-24.924405</td>\n",
       "      <td>-3.89881</td>\n",
       "      <td>-0.736905</td>\n",
       "      <td>-27.713889</td>\n",
       "      <td>-3.992063</td>\n",
       "      <td>-5.024206</td>\n",
       "      <td>-4.655952</td>\n",
       "      <td>-0.704762</td>\n",
       "      <td>0.194048</td>\n",
       "      <td>0.309524</td>\n",
       "      <td>0.897619</td>\n",
       "      <td>-3.473413</td>\n",
       "      <td>-3.463889</td>\n",
       "      <td>-1.629762</td>\n",
       "    </tr>\n",
       "    <tr>\n",
       "      <th>3</th>\n",
       "      <td>-8.038492</td>\n",
       "      <td>-8.750794</td>\n",
       "      <td>0.019526</td>\n",
       "      <td>-18.884921</td>\n",
       "      <td>5.825595</td>\n",
       "      <td>2.10119</td>\n",
       "      <td>-0.536905</td>\n",
       "      <td>20.986111</td>\n",
       "      <td>-0.592063</td>\n",
       "      <td>0.975794</td>\n",
       "      <td>-6.155952</td>\n",
       "      <td>1.295238</td>\n",
       "      <td>0.694048</td>\n",
       "      <td>-1.290476</td>\n",
       "      <td>-0.302381</td>\n",
       "      <td>0.126587</td>\n",
       "      <td>0.736111</td>\n",
       "      <td>-0.029762</td>\n",
       "    </tr>\n",
       "    <tr>\n",
       "      <th>4</th>\n",
       "      <td>8.861508</td>\n",
       "      <td>9.549206</td>\n",
       "      <td>-0.021574</td>\n",
       "      <td>-20.884921</td>\n",
       "      <td>5.325595</td>\n",
       "      <td>1.10119</td>\n",
       "      <td>0.163095</td>\n",
       "      <td>-10.613889</td>\n",
       "      <td>-3.592063</td>\n",
       "      <td>-3.524206</td>\n",
       "      <td>7.444048</td>\n",
       "      <td>1.995238</td>\n",
       "      <td>3.794048</td>\n",
       "      <td>3.609524</td>\n",
       "      <td>0.897619</td>\n",
       "      <td>-0.073413</td>\n",
       "      <td>-0.963889</td>\n",
       "      <td>-0.529762</td>\n",
       "    </tr>\n",
       "  </tbody>\n",
       "</table>\n",
       "</div>"
      ],
      "text/plain": [
       "   % brozek fat  % siri fat   density        age     weight   height  \\\n",
       "0     -6.338492   -6.850794  0.015226 -21.884921 -24.674405 -2.39881   \n",
       "1    -12.038492  -13.050794  0.029726 -22.884921  -5.674405  2.10119   \n",
       "2      5.661508    6.149206 -0.014174 -22.884921 -24.924405 -3.89881   \n",
       "3     -8.038492   -8.750794  0.019526 -18.884921   5.825595  2.10119   \n",
       "4      8.861508    9.549206 -0.021574 -20.884921   5.325595  1.10119   \n",
       "\n",
       "   adiposity  fat free weight      neck     chest   abdomen       hip  \\\n",
       "0  -1.736905        -8.813889 -1.792063 -7.724206 -7.355952 -5.404762   \n",
       "1  -2.036905        17.586111  0.507937 -7.224206 -9.555952 -1.204762   \n",
       "2  -0.736905       -27.713889 -3.992063 -5.024206 -4.655952 -0.704762   \n",
       "3  -0.536905        20.986111 -0.592063  0.975794 -6.155952  1.295238   \n",
       "4   0.163095       -10.613889 -3.592063 -3.524206  7.444048  1.995238   \n",
       "\n",
       "      thigh      knee     ankle     bicep   forearm     wrist  \n",
       "0 -0.405952 -1.290476 -1.202381 -0.273413 -1.263889 -1.129762  \n",
       "1 -0.705952 -1.290476  0.297619 -1.773413  0.236111 -0.029762  \n",
       "2  0.194048  0.309524  0.897619 -3.473413 -3.463889 -1.629762  \n",
       "3  0.694048 -1.290476 -0.302381  0.126587  0.736111 -0.029762  \n",
       "4  3.794048  3.609524  0.897619 -0.073413 -0.963889 -0.529762  "
      ]
     },
     "execution_count": 45,
     "metadata": {},
     "output_type": "execute_result"
    }
   ],
   "source": [
    "body_data_centered = body_data - np.mean(body_data, axis = 0)\n",
    "body_data_centered.head(5)"
   ]
  },
  {
   "cell_type": "code",
   "execution_count": 46,
   "metadata": {},
   "outputs": [],
   "source": [
    "u, s, vt = np.linalg.svd(body_data_centered, full_matrices = False)"
   ]
  },
  {
   "cell_type": "markdown",
   "metadata": {},
   "source": [
    "This time, we see that the top singular value is no longer as dominant."
   ]
  },
  {
   "cell_type": "code",
   "execution_count": 47,
   "metadata": {},
   "outputs": [
    {
     "data": {
      "text/plain": [
       "array([586.34726844, 261.81908925, 167.11383507,  59.97080768,\n",
       "        53.33024862,  42.24150036,  34.80110599,  29.28559968,\n",
       "        25.54261691,  23.91816652,  20.83965308,  20.47360977,\n",
       "        18.54040972,  16.27886966,  12.37794822,   7.72010337,\n",
       "         1.95363897,   0.04487061])"
      ]
     },
     "execution_count": 47,
     "metadata": {},
     "output_type": "execute_result"
    }
   ],
   "source": [
    "s"
   ]
  },
  {
   "cell_type": "markdown",
   "metadata": {},
   "source": [
    "Looking now at the fraction of the variance captured by each principal component, we see that the top 2 or 3 principal components capture quite a lot of the variance."
   ]
  },
  {
   "cell_type": "code",
   "execution_count": 48,
   "metadata": {},
   "outputs": [
    {
     "data": {
      "text/plain": [
       "array([0.76, 0.15, 0.06, 0.01, 0.01, 0.  , 0.  , 0.  , 0.  , 0.  , 0.  ,\n",
       "       0.  , 0.  , 0.  , 0.  , 0.  , 0.  , 0.  ])"
      ]
     },
     "execution_count": 48,
     "metadata": {},
     "output_type": "execute_result"
    }
   ],
   "source": [
    "np.round(s**2 / sum(s**2), 2)"
   ]
  },
  {
   "cell_type": "markdown",
   "metadata": {},
   "source": [
    "We can also show this in the form of what is usually called a \"scree plot\"."
   ]
  },
  {
   "cell_type": "code",
   "execution_count": 49,
   "metadata": {},
   "outputs": [
    {
     "data": {
      "image/png": "[encoded data removed]",
      "text/plain": [
       "<Figure size 432x288 with 1 Axes>"
      ]
     },
     "metadata": {
      "needs_background": "light"
     },
     "output_type": "display_data"
    }
   ],
   "source": [
    "plt.plot(s**2);"
   ]
  },
  {
   "cell_type": "markdown",
   "metadata": {},
   "source": [
    "Thus, we expect that if we were to do a rank 3 approximation, we should get back data that's pretty close to where we started, as just those 3 dimensions capture 97% of the variance."
   ]
  },
  {
   "cell_type": "code",
   "execution_count": 50,
   "metadata": {},
   "outputs": [
    {
     "data": {
      "text/html": [
       "<div>\n",
       "<style scoped>\n",
       "    .dataframe tbody tr th:only-of-type {\n",
       "        vertical-align: middle;\n",
       "    }\n",
       "\n",
       "    .dataframe tbody tr th {\n",
       "        vertical-align: top;\n",
       "    }\n",
       "\n",
       "    .dataframe thead th {\n",
       "        text-align: right;\n",
       "    }\n",
       "</style>\n",
       "<table border=\"1\" class=\"dataframe\">\n",
       "  <thead>\n",
       "    <tr style=\"text-align: right;\">\n",
       "      <th></th>\n",
       "      <th>% brozek fat</th>\n",
       "      <th>% siri fat</th>\n",
       "      <th>density</th>\n",
       "      <th>age</th>\n",
       "      <th>weight</th>\n",
       "      <th>height</th>\n",
       "      <th>adiposity</th>\n",
       "      <th>fat free weight</th>\n",
       "      <th>neck</th>\n",
       "      <th>chest</th>\n",
       "      <th>abdomen</th>\n",
       "      <th>hip</th>\n",
       "      <th>thigh</th>\n",
       "      <th>knee</th>\n",
       "      <th>ankle</th>\n",
       "      <th>bicep</th>\n",
       "      <th>forearm</th>\n",
       "      <th>wrist</th>\n",
       "    </tr>\n",
       "  </thead>\n",
       "  <tbody>\n",
       "    <tr>\n",
       "      <th>0</th>\n",
       "      <td>13.732084</td>\n",
       "      <td>13.499443</td>\n",
       "      <td>1.067647</td>\n",
       "      <td>23.406671</td>\n",
       "      <td>155.524219</td>\n",
       "      <td>69.685017</td>\n",
       "      <td>22.382014</td>\n",
       "      <td>134.660313</td>\n",
       "      <td>35.750451</td>\n",
       "      <td>92.404761</td>\n",
       "      <td>81.663261</td>\n",
       "      <td>95.367676</td>\n",
       "      <td>57.832005</td>\n",
       "      <td>36.807149</td>\n",
       "      <td>22.471102</td>\n",
       "      <td>30.513755</td>\n",
       "      <td>27.871398</td>\n",
       "      <td>17.221299</td>\n",
       "    </tr>\n",
       "    <tr>\n",
       "      <th>1</th>\n",
       "      <td>6.949481</td>\n",
       "      <td>6.177696</td>\n",
       "      <td>1.084653</td>\n",
       "      <td>22.136786</td>\n",
       "      <td>173.262498</td>\n",
       "      <td>72.818426</td>\n",
       "      <td>22.848506</td>\n",
       "      <td>161.108343</td>\n",
       "      <td>37.281215</td>\n",
       "      <td>94.764794</td>\n",
       "      <td>81.952662</td>\n",
       "      <td>98.256188</td>\n",
       "      <td>59.629903</td>\n",
       "      <td>38.251464</td>\n",
       "      <td>23.494178</td>\n",
       "      <td>31.990484</td>\n",
       "      <td>28.799694</td>\n",
       "      <td>18.014750</td>\n",
       "    </tr>\n",
       "    <tr>\n",
       "      <th>2</th>\n",
       "      <td>24.388640</td>\n",
       "      <td>24.995400</td>\n",
       "      <td>1.041272</td>\n",
       "      <td>22.012988</td>\n",
       "      <td>155.515375</td>\n",
       "      <td>66.961498</td>\n",
       "      <td>24.013328</td>\n",
       "      <td>115.107332</td>\n",
       "      <td>35.327536</td>\n",
       "      <td>94.623409</td>\n",
       "      <td>87.487254</td>\n",
       "      <td>96.824325</td>\n",
       "      <td>59.191562</td>\n",
       "      <td>36.564650</td>\n",
       "      <td>22.049234</td>\n",
       "      <td>30.526265</td>\n",
       "      <td>27.727128</td>\n",
       "      <td>16.734867</td>\n",
       "    </tr>\n",
       "    <tr>\n",
       "      <th>3</th>\n",
       "      <td>10.535884</td>\n",
       "      <td>10.053321</td>\n",
       "      <td>1.076052</td>\n",
       "      <td>26.287526</td>\n",
       "      <td>185.315285</td>\n",
       "      <td>72.840641</td>\n",
       "      <td>24.486712</td>\n",
       "      <td>164.078362</td>\n",
       "      <td>38.187196</td>\n",
       "      <td>98.649630</td>\n",
       "      <td>87.304458</td>\n",
       "      <td>101.045858</td>\n",
       "      <td>61.263963</td>\n",
       "      <td>39.095345</td>\n",
       "      <td>23.826619</td>\n",
       "      <td>32.953935</td>\n",
       "      <td>29.261160</td>\n",
       "      <td>18.327856</td>\n",
       "    </tr>\n",
       "    <tr>\n",
       "      <th>4</th>\n",
       "      <td>27.324362</td>\n",
       "      <td>28.164091</td>\n",
       "      <td>1.034484</td>\n",
       "      <td>23.983222</td>\n",
       "      <td>184.352508</td>\n",
       "      <td>68.475540</td>\n",
       "      <td>26.973751</td>\n",
       "      <td>132.523943</td>\n",
       "      <td>37.446408</td>\n",
       "      <td>101.921954</td>\n",
       "      <td>96.240973</td>\n",
       "      <td>103.147363</td>\n",
       "      <td>63.286670</td>\n",
       "      <td>38.642499</td>\n",
       "      <td>23.123048</td>\n",
       "      <td>32.896046</td>\n",
       "      <td>28.991277</td>\n",
       "      <td>17.530191</td>\n",
       "    </tr>\n",
       "  </tbody>\n",
       "</table>\n",
       "</div>"
      ],
      "text/plain": [
       "   % brozek fat  % siri fat   density        age      weight     height  \\\n",
       "0     13.732084   13.499443  1.067647  23.406671  155.524219  69.685017   \n",
       "1      6.949481    6.177696  1.084653  22.136786  173.262498  72.818426   \n",
       "2     24.388640   24.995400  1.041272  22.012988  155.515375  66.961498   \n",
       "3     10.535884   10.053321  1.076052  26.287526  185.315285  72.840641   \n",
       "4     27.324362   28.164091  1.034484  23.983222  184.352508  68.475540   \n",
       "\n",
       "   adiposity  fat free weight       neck       chest    abdomen         hip  \\\n",
       "0  22.382014       134.660313  35.750451   92.404761  81.663261   95.367676   \n",
       "1  22.848506       161.108343  37.281215   94.764794  81.952662   98.256188   \n",
       "2  24.013328       115.107332  35.327536   94.623409  87.487254   96.824325   \n",
       "3  24.486712       164.078362  38.187196   98.649630  87.304458  101.045858   \n",
       "4  26.973751       132.523943  37.446408  101.921954  96.240973  103.147363   \n",
       "\n",
       "       thigh       knee      ankle      bicep    forearm      wrist  \n",
       "0  57.832005  36.807149  22.471102  30.513755  27.871398  17.221299  \n",
       "1  59.629903  38.251464  23.494178  31.990484  28.799694  18.014750  \n",
       "2  59.191562  36.564650  22.049234  30.526265  27.727128  16.734867  \n",
       "3  61.263963  39.095345  23.826619  32.953935  29.261160  18.327856  \n",
       "4  63.286670  38.642499  23.123048  32.896046  28.991277  17.530191  "
      ]
     },
     "execution_count": 50,
     "metadata": {},
     "output_type": "execute_result"
    }
   ],
   "source": [
    "body_data_rank_3_approximation = compute_rank_k_approximation(body_data_centered, 3) +  np.mean(body_data, axis = 0)\n",
    "body_data_rank_3_approximation.head(5)"
   ]
  },
  {
   "cell_type": "code",
   "execution_count": 51,
   "metadata": {
    "scrolled": true
   },
   "outputs": [
    {
     "data": {
      "text/html": [
       "<div>\n",
       "<style scoped>\n",
       "    .dataframe tbody tr th:only-of-type {\n",
       "        vertical-align: middle;\n",
       "    }\n",
       "\n",
       "    .dataframe tbody tr th {\n",
       "        vertical-align: top;\n",
       "    }\n",
       "\n",
       "    .dataframe thead th {\n",
       "        text-align: right;\n",
       "    }\n",
       "</style>\n",
       "<table border=\"1\" class=\"dataframe\">\n",
       "  <thead>\n",
       "    <tr style=\"text-align: right;\">\n",
       "      <th></th>\n",
       "      <th>% brozek fat</th>\n",
       "      <th>% siri fat</th>\n",
       "      <th>density</th>\n",
       "      <th>age</th>\n",
       "      <th>weight</th>\n",
       "      <th>height</th>\n",
       "      <th>adiposity</th>\n",
       "      <th>fat free weight</th>\n",
       "      <th>neck</th>\n",
       "      <th>chest</th>\n",
       "      <th>abdomen</th>\n",
       "      <th>hip</th>\n",
       "      <th>thigh</th>\n",
       "      <th>knee</th>\n",
       "      <th>ankle</th>\n",
       "      <th>bicep</th>\n",
       "      <th>forearm</th>\n",
       "      <th>wrist</th>\n",
       "    </tr>\n",
       "  </thead>\n",
       "  <tbody>\n",
       "    <tr>\n",
       "      <th>0</th>\n",
       "      <td>12.6</td>\n",
       "      <td>12.3</td>\n",
       "      <td>1.0708</td>\n",
       "      <td>23</td>\n",
       "      <td>154.25</td>\n",
       "      <td>67.75</td>\n",
       "      <td>23.7</td>\n",
       "      <td>134.9</td>\n",
       "      <td>36.2</td>\n",
       "      <td>93.1</td>\n",
       "      <td>85.2</td>\n",
       "      <td>94.5</td>\n",
       "      <td>59.0</td>\n",
       "      <td>37.3</td>\n",
       "      <td>21.9</td>\n",
       "      <td>32.0</td>\n",
       "      <td>27.4</td>\n",
       "      <td>17.1</td>\n",
       "    </tr>\n",
       "    <tr>\n",
       "      <th>1</th>\n",
       "      <td>6.9</td>\n",
       "      <td>6.1</td>\n",
       "      <td>1.0853</td>\n",
       "      <td>22</td>\n",
       "      <td>173.25</td>\n",
       "      <td>72.25</td>\n",
       "      <td>23.4</td>\n",
       "      <td>161.3</td>\n",
       "      <td>38.5</td>\n",
       "      <td>93.6</td>\n",
       "      <td>83.0</td>\n",
       "      <td>98.7</td>\n",
       "      <td>58.7</td>\n",
       "      <td>37.3</td>\n",
       "      <td>23.4</td>\n",
       "      <td>30.5</td>\n",
       "      <td>28.9</td>\n",
       "      <td>18.2</td>\n",
       "    </tr>\n",
       "    <tr>\n",
       "      <th>2</th>\n",
       "      <td>24.6</td>\n",
       "      <td>25.3</td>\n",
       "      <td>1.0414</td>\n",
       "      <td>22</td>\n",
       "      <td>154.00</td>\n",
       "      <td>66.25</td>\n",
       "      <td>24.7</td>\n",
       "      <td>116.0</td>\n",
       "      <td>34.0</td>\n",
       "      <td>95.8</td>\n",
       "      <td>87.9</td>\n",
       "      <td>99.2</td>\n",
       "      <td>59.6</td>\n",
       "      <td>38.9</td>\n",
       "      <td>24.0</td>\n",
       "      <td>28.8</td>\n",
       "      <td>25.2</td>\n",
       "      <td>16.6</td>\n",
       "    </tr>\n",
       "    <tr>\n",
       "      <th>3</th>\n",
       "      <td>10.9</td>\n",
       "      <td>10.4</td>\n",
       "      <td>1.0751</td>\n",
       "      <td>26</td>\n",
       "      <td>184.75</td>\n",
       "      <td>72.25</td>\n",
       "      <td>24.9</td>\n",
       "      <td>164.7</td>\n",
       "      <td>37.4</td>\n",
       "      <td>101.8</td>\n",
       "      <td>86.4</td>\n",
       "      <td>101.2</td>\n",
       "      <td>60.1</td>\n",
       "      <td>37.3</td>\n",
       "      <td>22.8</td>\n",
       "      <td>32.4</td>\n",
       "      <td>29.4</td>\n",
       "      <td>18.2</td>\n",
       "    </tr>\n",
       "    <tr>\n",
       "      <th>4</th>\n",
       "      <td>27.8</td>\n",
       "      <td>28.7</td>\n",
       "      <td>1.0340</td>\n",
       "      <td>24</td>\n",
       "      <td>184.25</td>\n",
       "      <td>71.25</td>\n",
       "      <td>25.6</td>\n",
       "      <td>133.1</td>\n",
       "      <td>34.4</td>\n",
       "      <td>97.3</td>\n",
       "      <td>100.0</td>\n",
       "      <td>101.9</td>\n",
       "      <td>63.2</td>\n",
       "      <td>42.2</td>\n",
       "      <td>24.0</td>\n",
       "      <td>32.2</td>\n",
       "      <td>27.7</td>\n",
       "      <td>17.7</td>\n",
       "    </tr>\n",
       "  </tbody>\n",
       "</table>\n",
       "</div>"
      ],
      "text/plain": [
       "   % brozek fat  % siri fat  density  age  weight  height  adiposity  \\\n",
       "0          12.6        12.3   1.0708   23  154.25   67.75       23.7   \n",
       "1           6.9         6.1   1.0853   22  173.25   72.25       23.4   \n",
       "2          24.6        25.3   1.0414   22  154.00   66.25       24.7   \n",
       "3          10.9        10.4   1.0751   26  184.75   72.25       24.9   \n",
       "4          27.8        28.7   1.0340   24  184.25   71.25       25.6   \n",
       "\n",
       "   fat free weight  neck  chest  abdomen    hip  thigh  knee  ankle  bicep  \\\n",
       "0            134.9  36.2   93.1     85.2   94.5   59.0  37.3   21.9   32.0   \n",
       "1            161.3  38.5   93.6     83.0   98.7   58.7  37.3   23.4   30.5   \n",
       "2            116.0  34.0   95.8     87.9   99.2   59.6  38.9   24.0   28.8   \n",
       "3            164.7  37.4  101.8     86.4  101.2   60.1  37.3   22.8   32.4   \n",
       "4            133.1  34.4   97.3    100.0  101.9   63.2  42.2   24.0   32.2   \n",
       "\n",
       "   forearm  wrist  \n",
       "0     27.4   17.1  \n",
       "1     28.9   18.2  \n",
       "2     25.2   16.6  \n",
       "3     29.4   18.2  \n",
       "4     27.7   17.7  "
      ]
     },
     "execution_count": 51,
     "metadata": {},
     "output_type": "execute_result"
    }
   ],
   "source": [
    "body_data.head(5)"
   ]
  },
  {
   "cell_type": "markdown",
   "metadata": {},
   "source": [
    "One very interesting thing we can do is try to plot the principal components themselves. In this case, let's plot only the first two."
   ]
  },
  {
   "cell_type": "code",
   "execution_count": 52,
   "metadata": {},
   "outputs": [
    {
     "data": {
      "image/png": "[encoded data removed]",
      "text/plain": [
       "<Figure size 432x288 with 1 Axes>"
      ]
     },
     "metadata": {
      "needs_background": "light"
     },
     "output_type": "display_data"
    }
   ],
   "source": [
    "u, s, vt = np.linalg.svd(body_data_centered, full_matrices = False)\n",
    "pcs = u * s\n",
    "sns.scatterplot(x=pcs[:, 0], y=pcs[:, 1]);"
   ]
  },
  {
   "cell_type": "code",
   "execution_count": 53,
   "metadata": {},
   "outputs": [
    {
     "data": {
      "text/plain": [
       "38"
      ]
     },
     "execution_count": 53,
     "metadata": {},
     "output_type": "execute_result"
    }
   ],
   "source": [
    "np.argmax(pcs[:, 0])"
   ]
  },
  {
   "cell_type": "code",
   "execution_count": 54,
   "metadata": {
    "scrolled": true
   },
   "outputs": [
    {
     "data": {
      "text/plain": [
       "% brozek fat        33.8000\n",
       "% siri fat          35.2000\n",
       "density              1.0202\n",
       "age                 46.0000\n",
       "weight             363.1500\n",
       "height              72.2500\n",
       "adiposity           48.9000\n",
       "fat free weight    240.5000\n",
       "neck                51.2000\n",
       "chest              136.2000\n",
       "abdomen            148.1000\n",
       "hip                147.7000\n",
       "thigh               87.3000\n",
       "knee                49.1000\n",
       "ankle               29.6000\n",
       "bicep               45.0000\n",
       "forearm             29.0000\n",
       "wrist               21.4000\n",
       "Name: 38, dtype: float64"
      ]
     },
     "execution_count": 54,
     "metadata": {},
     "output_type": "execute_result"
    }
   ],
   "source": [
    "body_data.iloc[38, :]"
   ]
  },
  {
   "cell_type": "markdown",
   "metadata": {},
   "source": [
    "## Election Data"
   ]
  },
  {
   "cell_type": "code",
   "execution_count": 55,
   "metadata": {},
   "outputs": [
    {
     "data": {
      "text/html": [
       "<div>\n",
       "<style scoped>\n",
       "    .dataframe tbody tr th:only-of-type {\n",
       "        vertical-align: middle;\n",
       "    }\n",
       "\n",
       "    .dataframe tbody tr th {\n",
       "        vertical-align: top;\n",
       "    }\n",
       "\n",
       "    .dataframe thead th {\n",
       "        text-align: right;\n",
       "    }\n",
       "</style>\n",
       "<table border=\"1\" class=\"dataframe\">\n",
       "  <thead>\n",
       "    <tr style=\"text-align: right;\">\n",
       "      <th></th>\n",
       "      <th>leg_id</th>\n",
       "      <th>first</th>\n",
       "      <th>last</th>\n",
       "      <th>gender</th>\n",
       "      <th>state</th>\n",
       "      <th>chamber</th>\n",
       "      <th>party</th>\n",
       "      <th>birthday</th>\n",
       "    </tr>\n",
       "  </thead>\n",
       "  <tbody>\n",
       "    <tr>\n",
       "      <th>0</th>\n",
       "      <td>B000944</td>\n",
       "      <td>Sherrod</td>\n",
       "      <td>Brown</td>\n",
       "      <td>M</td>\n",
       "      <td>OH</td>\n",
       "      <td>sen</td>\n",
       "      <td>Democrat</td>\n",
       "      <td>1952-11-09</td>\n",
       "    </tr>\n",
       "    <tr>\n",
       "      <th>1</th>\n",
       "      <td>C000127</td>\n",
       "      <td>Maria</td>\n",
       "      <td>Cantwell</td>\n",
       "      <td>F</td>\n",
       "      <td>WA</td>\n",
       "      <td>sen</td>\n",
       "      <td>Democrat</td>\n",
       "      <td>1958-10-13</td>\n",
       "    </tr>\n",
       "    <tr>\n",
       "      <th>2</th>\n",
       "      <td>C000141</td>\n",
       "      <td>Benjamin</td>\n",
       "      <td>Cardin</td>\n",
       "      <td>M</td>\n",
       "      <td>MD</td>\n",
       "      <td>sen</td>\n",
       "      <td>Democrat</td>\n",
       "      <td>1943-10-05</td>\n",
       "    </tr>\n",
       "  </tbody>\n",
       "</table>\n",
       "</div>"
      ],
      "text/plain": [
       "    leg_id     first      last gender state chamber     party   birthday\n",
       "0  B000944   Sherrod     Brown      M    OH     sen  Democrat 1952-11-09\n",
       "1  C000127     Maria  Cantwell      F    WA     sen  Democrat 1958-10-13\n",
       "2  C000141  Benjamin    Cardin      M    MD     sen  Democrat 1943-10-05"
      ]
     },
     "execution_count": 55,
     "metadata": {},
     "output_type": "execute_result"
    }
   ],
   "source": [
    "from ds100_utils import fetch_and_cache\n",
    "import yaml\n",
    "from datetime import datetime\n",
    "\n",
    "\n",
    "#base_url = 'https://github.com/unitedstates/congress-legislators/raw/master/'\n",
    "#legislators_path = 'legislators-current.yaml'\n",
    "#f = fetch_and_cache(base_url + legislators_path, legislators_path)\n",
    "legislators_data = yaml.safe_load(open(\"./data/legislators-current.yaml\"))\n",
    "\n",
    "def to_date(s):\n",
    "    return datetime.strptime(s, '%Y-%m-%d')\n",
    "\n",
    "legs = pd.DataFrame(\n",
    "    columns=['leg_id', 'first', 'last', 'gender', 'state', 'chamber', 'party', 'birthday'],\n",
    "    data=[[x['id']['bioguide'], \n",
    "           x['name']['first'],\n",
    "           x['name']['last'],\n",
    "           x['bio']['gender'],\n",
    "           x['terms'][-1]['state'],\n",
    "           x['terms'][-1]['type'],\n",
    "           x['terms'][-1]['party'],\n",
    "           to_date(x['bio']['birthday'])] for x in legislators_data])\n",
    "\n",
    "legs.head(3)"
   ]
  },
  {
   "cell_type": "code",
   "execution_count": 56,
   "metadata": {},
   "outputs": [
    {
     "data": {
      "text/html": [
       "<div>\n",
       "<style scoped>\n",
       "    .dataframe tbody tr th:only-of-type {\n",
       "        vertical-align: middle;\n",
       "    }\n",
       "\n",
       "    .dataframe tbody tr th {\n",
       "        vertical-align: top;\n",
       "    }\n",
       "\n",
       "    .dataframe thead th {\n",
       "        text-align: right;\n",
       "    }\n",
       "</style>\n",
       "<table border=\"1\" class=\"dataframe\">\n",
       "  <thead>\n",
       "    <tr style=\"text-align: right;\">\n",
       "      <th></th>\n",
       "      <th>chamber</th>\n",
       "      <th>session</th>\n",
       "      <th>roll call</th>\n",
       "      <th>member</th>\n",
       "      <th>vote</th>\n",
       "    </tr>\n",
       "  </thead>\n",
       "  <tbody>\n",
       "    <tr>\n",
       "      <th>0</th>\n",
       "      <td>House</td>\n",
       "      <td>1</td>\n",
       "      <td>555</td>\n",
       "      <td>A000374</td>\n",
       "      <td>Not Voting</td>\n",
       "    </tr>\n",
       "    <tr>\n",
       "      <th>1</th>\n",
       "      <td>House</td>\n",
       "      <td>1</td>\n",
       "      <td>555</td>\n",
       "      <td>A000370</td>\n",
       "      <td>Yes</td>\n",
       "    </tr>\n",
       "    <tr>\n",
       "      <th>2</th>\n",
       "      <td>House</td>\n",
       "      <td>1</td>\n",
       "      <td>555</td>\n",
       "      <td>A000055</td>\n",
       "      <td>No</td>\n",
       "    </tr>\n",
       "    <tr>\n",
       "      <th>3</th>\n",
       "      <td>House</td>\n",
       "      <td>1</td>\n",
       "      <td>555</td>\n",
       "      <td>A000371</td>\n",
       "      <td>Yes</td>\n",
       "    </tr>\n",
       "    <tr>\n",
       "      <th>4</th>\n",
       "      <td>House</td>\n",
       "      <td>1</td>\n",
       "      <td>555</td>\n",
       "      <td>A000372</td>\n",
       "      <td>No</td>\n",
       "    </tr>\n",
       "  </tbody>\n",
       "</table>\n",
       "</div>"
      ],
      "text/plain": [
       "  chamber  session roll call   member        vote\n",
       "0   House        1       555  A000374  Not Voting\n",
       "1   House        1       555  A000370         Yes\n",
       "2   House        1       555  A000055          No\n",
       "3   House        1       555  A000371         Yes\n",
       "4   House        1       555  A000372          No"
      ]
     },
     "execution_count": 56,
     "metadata": {},
     "output_type": "execute_result"
    }
   ],
   "source": [
    "# February 2019 House of Representatives roll call votes\n",
    "# Downloaded using https://github.com/eyeseast/propublica-congress\n",
    "votes = pd.read_csv('votes.csv')\n",
    "votes = votes.astype({\"roll call\": str}) \n",
    "votes.head()"
   ]
  },
  {
   "cell_type": "code",
   "execution_count": 57,
   "metadata": {},
   "outputs": [
    {
     "name": "stdout",
     "output_type": "stream",
     "text": [
      "(441, 41)\n"
     ]
    },
    {
     "data": {
      "text/html": [
       "<div>\n",
       "<style scoped>\n",
       "    .dataframe tbody tr th:only-of-type {\n",
       "        vertical-align: middle;\n",
       "    }\n",
       "\n",
       "    .dataframe tbody tr th {\n",
       "        vertical-align: top;\n",
       "    }\n",
       "\n",
       "    .dataframe thead th {\n",
       "        text-align: right;\n",
       "    }\n",
       "</style>\n",
       "<table border=\"1\" class=\"dataframe\">\n",
       "  <thead>\n",
       "    <tr style=\"text-align: right;\">\n",
       "      <th>roll call</th>\n",
       "      <th>515</th>\n",
       "      <th>516</th>\n",
       "      <th>517</th>\n",
       "      <th>518</th>\n",
       "      <th>519</th>\n",
       "      <th>520</th>\n",
       "      <th>521</th>\n",
       "      <th>522</th>\n",
       "      <th>523</th>\n",
       "      <th>524</th>\n",
       "      <th>...</th>\n",
       "      <th>546</th>\n",
       "      <th>547</th>\n",
       "      <th>548</th>\n",
       "      <th>549</th>\n",
       "      <th>550</th>\n",
       "      <th>551</th>\n",
       "      <th>552</th>\n",
       "      <th>553</th>\n",
       "      <th>554</th>\n",
       "      <th>555</th>\n",
       "    </tr>\n",
       "    <tr>\n",
       "      <th>member</th>\n",
       "      <th></th>\n",
       "      <th></th>\n",
       "      <th></th>\n",
       "      <th></th>\n",
       "      <th></th>\n",
       "      <th></th>\n",
       "      <th></th>\n",
       "      <th></th>\n",
       "      <th></th>\n",
       "      <th></th>\n",
       "      <th></th>\n",
       "      <th></th>\n",
       "      <th></th>\n",
       "      <th></th>\n",
       "      <th></th>\n",
       "      <th></th>\n",
       "      <th></th>\n",
       "      <th></th>\n",
       "      <th></th>\n",
       "      <th></th>\n",
       "      <th></th>\n",
       "    </tr>\n",
       "  </thead>\n",
       "  <tbody>\n",
       "    <tr>\n",
       "      <th>A000055</th>\n",
       "      <td>1</td>\n",
       "      <td>0</td>\n",
       "      <td>0</td>\n",
       "      <td>0</td>\n",
       "      <td>1</td>\n",
       "      <td>1</td>\n",
       "      <td>0</td>\n",
       "      <td>1</td>\n",
       "      <td>1</td>\n",
       "      <td>1</td>\n",
       "      <td>...</td>\n",
       "      <td>0</td>\n",
       "      <td>0</td>\n",
       "      <td>1</td>\n",
       "      <td>0</td>\n",
       "      <td>0</td>\n",
       "      <td>1</td>\n",
       "      <td>0</td>\n",
       "      <td>0</td>\n",
       "      <td>1</td>\n",
       "      <td>0</td>\n",
       "    </tr>\n",
       "    <tr>\n",
       "      <th>A000367</th>\n",
       "      <td>0</td>\n",
       "      <td>0</td>\n",
       "      <td>0</td>\n",
       "      <td>0</td>\n",
       "      <td>0</td>\n",
       "      <td>0</td>\n",
       "      <td>0</td>\n",
       "      <td>0</td>\n",
       "      <td>0</td>\n",
       "      <td>0</td>\n",
       "      <td>...</td>\n",
       "      <td>0</td>\n",
       "      <td>1</td>\n",
       "      <td>1</td>\n",
       "      <td>1</td>\n",
       "      <td>1</td>\n",
       "      <td>0</td>\n",
       "      <td>1</td>\n",
       "      <td>1</td>\n",
       "      <td>0</td>\n",
       "      <td>1</td>\n",
       "    </tr>\n",
       "    <tr>\n",
       "      <th>A000369</th>\n",
       "      <td>1</td>\n",
       "      <td>1</td>\n",
       "      <td>0</td>\n",
       "      <td>0</td>\n",
       "      <td>1</td>\n",
       "      <td>1</td>\n",
       "      <td>0</td>\n",
       "      <td>1</td>\n",
       "      <td>1</td>\n",
       "      <td>1</td>\n",
       "      <td>...</td>\n",
       "      <td>0</td>\n",
       "      <td>0</td>\n",
       "      <td>1</td>\n",
       "      <td>0</td>\n",
       "      <td>0</td>\n",
       "      <td>1</td>\n",
       "      <td>0</td>\n",
       "      <td>0</td>\n",
       "      <td>1</td>\n",
       "      <td>0</td>\n",
       "    </tr>\n",
       "    <tr>\n",
       "      <th>A000370</th>\n",
       "      <td>1</td>\n",
       "      <td>1</td>\n",
       "      <td>1</td>\n",
       "      <td>1</td>\n",
       "      <td>1</td>\n",
       "      <td>0</td>\n",
       "      <td>1</td>\n",
       "      <td>0</td>\n",
       "      <td>0</td>\n",
       "      <td>0</td>\n",
       "      <td>...</td>\n",
       "      <td>1</td>\n",
       "      <td>1</td>\n",
       "      <td>1</td>\n",
       "      <td>1</td>\n",
       "      <td>1</td>\n",
       "      <td>0</td>\n",
       "      <td>1</td>\n",
       "      <td>1</td>\n",
       "      <td>1</td>\n",
       "      <td>1</td>\n",
       "    </tr>\n",
       "    <tr>\n",
       "      <th>A000371</th>\n",
       "      <td>1</td>\n",
       "      <td>1</td>\n",
       "      <td>1</td>\n",
       "      <td>1</td>\n",
       "      <td>1</td>\n",
       "      <td>0</td>\n",
       "      <td>1</td>\n",
       "      <td>0</td>\n",
       "      <td>0</td>\n",
       "      <td>0</td>\n",
       "      <td>...</td>\n",
       "      <td>1</td>\n",
       "      <td>1</td>\n",
       "      <td>1</td>\n",
       "      <td>1</td>\n",
       "      <td>1</td>\n",
       "      <td>0</td>\n",
       "      <td>1</td>\n",
       "      <td>1</td>\n",
       "      <td>1</td>\n",
       "      <td>1</td>\n",
       "    </tr>\n",
       "  </tbody>\n",
       "</table>\n",
       "<p>5 rows × 41 columns</p>\n",
       "</div>"
      ],
      "text/plain": [
       "roll call  515  516  517  518  519  520  521  522  523  524  ...  546  547  \\\n",
       "member                                                       ...             \n",
       "A000055      1    0    0    0    1    1    0    1    1    1  ...    0    0   \n",
       "A000367      0    0    0    0    0    0    0    0    0    0  ...    0    1   \n",
       "A000369      1    1    0    0    1    1    0    1    1    1  ...    0    0   \n",
       "A000370      1    1    1    1    1    0    1    0    0    0  ...    1    1   \n",
       "A000371      1    1    1    1    1    0    1    0    0    0  ...    1    1   \n",
       "\n",
       "roll call  548  549  550  551  552  553  554  555  \n",
       "member                                             \n",
       "A000055      1    0    0    1    0    0    1    0  \n",
       "A000367      1    1    1    0    1    1    0    1  \n",
       "A000369      1    0    0    1    0    0    1    0  \n",
       "A000370      1    1    1    0    1    1    1    1  \n",
       "A000371      1    1    1    0    1    1    1    1  \n",
       "\n",
       "[5 rows x 41 columns]"
      ]
     },
     "execution_count": 57,
     "metadata": {},
     "output_type": "execute_result"
    }
   ],
   "source": [
    "def was_yes(s):\n",
    "    if s.iloc[0] == 'Yes':\n",
    "        return 1\n",
    "    else:\n",
    "        return 0\n",
    "    \n",
    "vote_pivot = votes.pivot_table(index='member', \n",
    "                                columns='roll call', \n",
    "                                values='vote', \n",
    "                                aggfunc=was_yes, \n",
    "                                fill_value=0)\n",
    "print(vote_pivot.shape)\n",
    "vote_pivot.head()    "
   ]
  },
  {
   "cell_type": "code",
   "execution_count": 58,
   "metadata": {},
   "outputs": [
    {
     "data": {
      "text/html": [
       "<div>\n",
       "<style scoped>\n",
       "    .dataframe tbody tr th:only-of-type {\n",
       "        vertical-align: middle;\n",
       "    }\n",
       "\n",
       "    .dataframe tbody tr th {\n",
       "        vertical-align: top;\n",
       "    }\n",
       "\n",
       "    .dataframe thead th {\n",
       "        text-align: right;\n",
       "    }\n",
       "</style>\n",
       "<table border=\"1\" class=\"dataframe\">\n",
       "  <thead>\n",
       "    <tr style=\"text-align: right;\">\n",
       "      <th>roll call</th>\n",
       "      <th>515</th>\n",
       "      <th>516</th>\n",
       "      <th>517</th>\n",
       "      <th>518</th>\n",
       "      <th>519</th>\n",
       "      <th>520</th>\n",
       "      <th>521</th>\n",
       "      <th>522</th>\n",
       "      <th>523</th>\n",
       "      <th>524</th>\n",
       "      <th>...</th>\n",
       "      <th>546</th>\n",
       "      <th>547</th>\n",
       "      <th>548</th>\n",
       "      <th>549</th>\n",
       "      <th>550</th>\n",
       "      <th>551</th>\n",
       "      <th>552</th>\n",
       "      <th>553</th>\n",
       "      <th>554</th>\n",
       "      <th>555</th>\n",
       "    </tr>\n",
       "    <tr>\n",
       "      <th>member</th>\n",
       "      <th></th>\n",
       "      <th></th>\n",
       "      <th></th>\n",
       "      <th></th>\n",
       "      <th></th>\n",
       "      <th></th>\n",
       "      <th></th>\n",
       "      <th></th>\n",
       "      <th></th>\n",
       "      <th></th>\n",
       "      <th></th>\n",
       "      <th></th>\n",
       "      <th></th>\n",
       "      <th></th>\n",
       "      <th></th>\n",
       "      <th></th>\n",
       "      <th></th>\n",
       "      <th></th>\n",
       "      <th></th>\n",
       "      <th></th>\n",
       "      <th></th>\n",
       "    </tr>\n",
       "  </thead>\n",
       "  <tbody>\n",
       "    <tr>\n",
       "      <th>A000055</th>\n",
       "      <td>0.129252</td>\n",
       "      <td>-0.668934</td>\n",
       "      <td>-0.526077</td>\n",
       "      <td>-0.52381</td>\n",
       "      <td>0.049887</td>\n",
       "      <td>0.587302</td>\n",
       "      <td>-0.562358</td>\n",
       "      <td>0.634921</td>\n",
       "      <td>0.594104</td>\n",
       "      <td>0.560091</td>\n",
       "      <td>...</td>\n",
       "      <td>-0.521542</td>\n",
       "      <td>-0.526077</td>\n",
       "      <td>0.045351</td>\n",
       "      <td>-0.521542</td>\n",
       "      <td>-0.519274</td>\n",
       "      <td>0.54195</td>\n",
       "      <td>-0.521542</td>\n",
       "      <td>-0.535147</td>\n",
       "      <td>0.086168</td>\n",
       "      <td>-0.503401</td>\n",
       "    </tr>\n",
       "    <tr>\n",
       "      <th>A000367</th>\n",
       "      <td>-0.870748</td>\n",
       "      <td>-0.668934</td>\n",
       "      <td>-0.526077</td>\n",
       "      <td>-0.52381</td>\n",
       "      <td>-0.950113</td>\n",
       "      <td>-0.412698</td>\n",
       "      <td>-0.562358</td>\n",
       "      <td>-0.365079</td>\n",
       "      <td>-0.405896</td>\n",
       "      <td>-0.439909</td>\n",
       "      <td>...</td>\n",
       "      <td>-0.521542</td>\n",
       "      <td>0.473923</td>\n",
       "      <td>0.045351</td>\n",
       "      <td>0.478458</td>\n",
       "      <td>0.480726</td>\n",
       "      <td>-0.45805</td>\n",
       "      <td>0.478458</td>\n",
       "      <td>0.464853</td>\n",
       "      <td>-0.913832</td>\n",
       "      <td>0.496599</td>\n",
       "    </tr>\n",
       "    <tr>\n",
       "      <th>A000369</th>\n",
       "      <td>0.129252</td>\n",
       "      <td>0.331066</td>\n",
       "      <td>-0.526077</td>\n",
       "      <td>-0.52381</td>\n",
       "      <td>0.049887</td>\n",
       "      <td>0.587302</td>\n",
       "      <td>-0.562358</td>\n",
       "      <td>0.634921</td>\n",
       "      <td>0.594104</td>\n",
       "      <td>0.560091</td>\n",
       "      <td>...</td>\n",
       "      <td>-0.521542</td>\n",
       "      <td>-0.526077</td>\n",
       "      <td>0.045351</td>\n",
       "      <td>-0.521542</td>\n",
       "      <td>-0.519274</td>\n",
       "      <td>0.54195</td>\n",
       "      <td>-0.521542</td>\n",
       "      <td>-0.535147</td>\n",
       "      <td>0.086168</td>\n",
       "      <td>-0.503401</td>\n",
       "    </tr>\n",
       "    <tr>\n",
       "      <th>A000370</th>\n",
       "      <td>0.129252</td>\n",
       "      <td>0.331066</td>\n",
       "      <td>0.473923</td>\n",
       "      <td>0.47619</td>\n",
       "      <td>0.049887</td>\n",
       "      <td>-0.412698</td>\n",
       "      <td>0.437642</td>\n",
       "      <td>-0.365079</td>\n",
       "      <td>-0.405896</td>\n",
       "      <td>-0.439909</td>\n",
       "      <td>...</td>\n",
       "      <td>0.478458</td>\n",
       "      <td>0.473923</td>\n",
       "      <td>0.045351</td>\n",
       "      <td>0.478458</td>\n",
       "      <td>0.480726</td>\n",
       "      <td>-0.45805</td>\n",
       "      <td>0.478458</td>\n",
       "      <td>0.464853</td>\n",
       "      <td>0.086168</td>\n",
       "      <td>0.496599</td>\n",
       "    </tr>\n",
       "    <tr>\n",
       "      <th>A000371</th>\n",
       "      <td>0.129252</td>\n",
       "      <td>0.331066</td>\n",
       "      <td>0.473923</td>\n",
       "      <td>0.47619</td>\n",
       "      <td>0.049887</td>\n",
       "      <td>-0.412698</td>\n",
       "      <td>0.437642</td>\n",
       "      <td>-0.365079</td>\n",
       "      <td>-0.405896</td>\n",
       "      <td>-0.439909</td>\n",
       "      <td>...</td>\n",
       "      <td>0.478458</td>\n",
       "      <td>0.473923</td>\n",
       "      <td>0.045351</td>\n",
       "      <td>0.478458</td>\n",
       "      <td>0.480726</td>\n",
       "      <td>-0.45805</td>\n",
       "      <td>0.478458</td>\n",
       "      <td>0.464853</td>\n",
       "      <td>0.086168</td>\n",
       "      <td>0.496599</td>\n",
       "    </tr>\n",
       "  </tbody>\n",
       "</table>\n",
       "<p>5 rows × 41 columns</p>\n",
       "</div>"
      ],
      "text/plain": [
       "roll call       515       516       517      518       519       520  \\\n",
       "member                                                                 \n",
       "A000055    0.129252 -0.668934 -0.526077 -0.52381  0.049887  0.587302   \n",
       "A000367   -0.870748 -0.668934 -0.526077 -0.52381 -0.950113 -0.412698   \n",
       "A000369    0.129252  0.331066 -0.526077 -0.52381  0.049887  0.587302   \n",
       "A000370    0.129252  0.331066  0.473923  0.47619  0.049887 -0.412698   \n",
       "A000371    0.129252  0.331066  0.473923  0.47619  0.049887 -0.412698   \n",
       "\n",
       "roll call       521       522       523       524  ...       546       547  \\\n",
       "member                                             ...                       \n",
       "A000055   -0.562358  0.634921  0.594104  0.560091  ... -0.521542 -0.526077   \n",
       "A000367   -0.562358 -0.365079 -0.405896 -0.439909  ... -0.521542  0.473923   \n",
       "A000369   -0.562358  0.634921  0.594104  0.560091  ... -0.521542 -0.526077   \n",
       "A000370    0.437642 -0.365079 -0.405896 -0.439909  ...  0.478458  0.473923   \n",
       "A000371    0.437642 -0.365079 -0.405896 -0.439909  ...  0.478458  0.473923   \n",
       "\n",
       "roll call       548       549       550      551       552       553  \\\n",
       "member                                                                 \n",
       "A000055    0.045351 -0.521542 -0.519274  0.54195 -0.521542 -0.535147   \n",
       "A000367    0.045351  0.478458  0.480726 -0.45805  0.478458  0.464853   \n",
       "A000369    0.045351 -0.521542 -0.519274  0.54195 -0.521542 -0.535147   \n",
       "A000370    0.045351  0.478458  0.480726 -0.45805  0.478458  0.464853   \n",
       "A000371    0.045351  0.478458  0.480726 -0.45805  0.478458  0.464853   \n",
       "\n",
       "roll call       554       555  \n",
       "member                         \n",
       "A000055    0.086168 -0.503401  \n",
       "A000367   -0.913832  0.496599  \n",
       "A000369    0.086168 -0.503401  \n",
       "A000370    0.086168  0.496599  \n",
       "A000371    0.086168  0.496599  \n",
       "\n",
       "[5 rows x 41 columns]"
      ]
     },
     "execution_count": 58,
     "metadata": {},
     "output_type": "execute_result"
    }
   ],
   "source": [
    "vote_pivot_centered = vote_pivot - np.mean(vote_pivot, axis = 0)\n",
    "vote_pivot_centered.head(5)"
   ]
  },
  {
   "cell_type": "code",
   "execution_count": 59,
   "metadata": {},
   "outputs": [],
   "source": [
    "u, s, vt = np.linalg.svd(vote_pivot_centered, full_matrices = False)"
   ]
  },
  {
   "cell_type": "code",
   "execution_count": 60,
   "metadata": {},
   "outputs": [
    {
     "data": {
      "text/plain": [
       "array([0.8 , 0.05, 0.02, 0.01, 0.01, 0.01, 0.01, 0.01, 0.01, 0.01, 0.01,\n",
       "       0.01, 0.  , 0.  , 0.  , 0.  , 0.  , 0.  , 0.  , 0.  , 0.  , 0.  ,\n",
       "       0.  , 0.  , 0.  , 0.  , 0.  , 0.  , 0.  , 0.  , 0.  , 0.  , 0.  ,\n",
       "       0.  , 0.  , 0.  , 0.  , 0.  , 0.  , 0.  , 0.  ])"
      ]
     },
     "execution_count": 60,
     "metadata": {},
     "output_type": "execute_result"
    }
   ],
   "source": [
    "np.round(s**2 / sum(s**2), 2)"
   ]
  },
  {
   "cell_type": "code",
   "execution_count": 61,
   "metadata": {},
   "outputs": [
    {
     "data": {
      "text/plain": [
       "[<matplotlib.lines.Line2D at 0x7fa825119df0>]"
      ]
     },
     "execution_count": 61,
     "metadata": {},
     "output_type": "execute_result"
    },
    {
     "data": {
      "image/png": "[encoded data removed]",
      "text/plain": [
       "<Figure size 432x288 with 1 Axes>"
      ]
     },
     "metadata": {
      "needs_background": "light"
     },
     "output_type": "display_data"
    }
   ],
   "source": [
    "plt.plot(s**2)"
   ]
  },
  {
   "cell_type": "code",
   "execution_count": 62,
   "metadata": {},
   "outputs": [
    {
     "data": {
      "image/png": "[encoded data removed]",
      "text/plain": [
       "<Figure size 432x288 with 1 Axes>"
      ]
     },
     "metadata": {
      "needs_background": "light"
     },
     "output_type": "display_data"
    }
   ],
   "source": [
    "pcs = u * s\n",
    "sns.scatterplot(x=pcs[:, 0], y=pcs[:, 1]);"
   ]
  },
  {
   "cell_type": "code",
   "execution_count": 63,
   "metadata": {},
   "outputs": [
    {
     "data": {
      "text/plain": [
       "Democrat    231\n",
       "Name: party, dtype: int64"
      ]
     },
     "execution_count": 63,
     "metadata": {},
     "output_type": "execute_result"
    }
   ],
   "source": [
    "vote2d = pd.DataFrame({\n",
    "    'member': vote_pivot.index,\n",
    "    'pc1': pcs[:, 0],\n",
    "    'pc2': pcs[:, 1]\n",
    "}).merge(legs, left_on='member', right_on='leg_id')\n",
    "\n",
    "vote2d[vote2d['pc1'] < 0]['party'].value_counts()"
   ]
  },
  {
   "cell_type": "code",
   "execution_count": 64,
   "metadata": {},
   "outputs": [
    {
     "data": {
      "image/png": "[encoded data removed]",
      "text/plain": [
       "<Figure size 432x288 with 1 Axes>"
      ]
     },
     "metadata": {
      "needs_background": "light"
     },
     "output_type": "display_data"
    }
   ],
   "source": [
    "sns.scatterplot(x=\"pc1\", y=\"pc2\", hue=\"party\", data = vote2d);"
   ]
  },
  {
   "cell_type": "code",
   "execution_count": 65,
   "metadata": {},
   "outputs": [],
   "source": [
    "vote2d['pc1_jittered'] = vote2d['pc1'] + np.random.normal(loc = 0, scale = 0.1, size = vote2d.shape[0])\n",
    "vote2d['pc2_jittered'] = vote2d['pc2'] + np.random.normal(loc = 0, scale = 0.1, size = vote2d.shape[0])"
   ]
  },
  {
   "cell_type": "code",
   "execution_count": 66,
   "metadata": {},
   "outputs": [
    {
     "data": {
      "image/png": "[encoded data removed]",
      "text/plain": [
       "<Figure size 432x288 with 1 Axes>"
      ]
     },
     "metadata": {
      "needs_background": "light"
     },
     "output_type": "display_data"
    }
   ],
   "source": [
    "sns.scatterplot(x=\"pc1_jittered\", y=\"pc2_jittered\", hue=\"party\", data = vote2d);"
   ]
  },
  {
   "cell_type": "markdown",
   "metadata": {},
   "source": [
    "### Let's look at only people who have voted more than 15 times lately"
   ]
  },
  {
   "cell_type": "code",
   "execution_count": 67,
   "metadata": {},
   "outputs": [
    {
     "data": {
      "text/html": [
       "<div>\n",
       "<style scoped>\n",
       "    .dataframe tbody tr th:only-of-type {\n",
       "        vertical-align: middle;\n",
       "    }\n",
       "\n",
       "    .dataframe tbody tr th {\n",
       "        vertical-align: top;\n",
       "    }\n",
       "\n",
       "    .dataframe thead th {\n",
       "        text-align: right;\n",
       "    }\n",
       "</style>\n",
       "<table border=\"1\" class=\"dataframe\">\n",
       "  <thead>\n",
       "    <tr style=\"text-align: right;\">\n",
       "      <th></th>\n",
       "      <th>chamber</th>\n",
       "      <th>session</th>\n",
       "      <th>roll call</th>\n",
       "      <th>member</th>\n",
       "      <th>vote</th>\n",
       "    </tr>\n",
       "  </thead>\n",
       "  <tbody>\n",
       "    <tr>\n",
       "      <th>0</th>\n",
       "      <td>House</td>\n",
       "      <td>1</td>\n",
       "      <td>555</td>\n",
       "      <td>A000374</td>\n",
       "      <td>Not Voting</td>\n",
       "    </tr>\n",
       "    <tr>\n",
       "      <th>1</th>\n",
       "      <td>House</td>\n",
       "      <td>1</td>\n",
       "      <td>555</td>\n",
       "      <td>A000370</td>\n",
       "      <td>Yes</td>\n",
       "    </tr>\n",
       "    <tr>\n",
       "      <th>2</th>\n",
       "      <td>House</td>\n",
       "      <td>1</td>\n",
       "      <td>555</td>\n",
       "      <td>A000055</td>\n",
       "      <td>No</td>\n",
       "    </tr>\n",
       "    <tr>\n",
       "      <th>3</th>\n",
       "      <td>House</td>\n",
       "      <td>1</td>\n",
       "      <td>555</td>\n",
       "      <td>A000371</td>\n",
       "      <td>Yes</td>\n",
       "    </tr>\n",
       "    <tr>\n",
       "      <th>4</th>\n",
       "      <td>House</td>\n",
       "      <td>1</td>\n",
       "      <td>555</td>\n",
       "      <td>A000372</td>\n",
       "      <td>No</td>\n",
       "    </tr>\n",
       "  </tbody>\n",
       "</table>\n",
       "</div>"
      ],
      "text/plain": [
       "  chamber  session roll call   member        vote\n",
       "0   House        1       555  A000374  Not Voting\n",
       "1   House        1       555  A000370         Yes\n",
       "2   House        1       555  A000055          No\n",
       "3   House        1       555  A000371         Yes\n",
       "4   House        1       555  A000372          No"
      ]
     },
     "execution_count": 67,
     "metadata": {},
     "output_type": "execute_result"
    }
   ],
   "source": [
    "votes.head(5)"
   ]
  },
  {
   "cell_type": "code",
   "execution_count": 68,
   "metadata": {
    "scrolled": true
   },
   "outputs": [
    {
     "data": {
      "text/plain": [
       "member\n",
       "A000055    40\n",
       "A000367    41\n",
       "A000369    41\n",
       "A000370    41\n",
       "A000371    41\n",
       "dtype: int64"
      ]
     },
     "execution_count": 68,
     "metadata": {},
     "output_type": "execute_result"
    }
   ],
   "source": [
    "num_yes_or_no_votes_per_member = votes.query(\"vote == 'Yes' or vote == 'No'\").groupby(\"member\").size()\n",
    "num_yes_or_no_votes_per_member.head(5)"
   ]
  },
  {
   "cell_type": "code",
   "execution_count": 69,
   "metadata": {},
   "outputs": [
    {
     "data": {
      "text/html": [
       "<div>\n",
       "<style scoped>\n",
       "    .dataframe tbody tr th:only-of-type {\n",
       "        vertical-align: middle;\n",
       "    }\n",
       "\n",
       "    .dataframe tbody tr th {\n",
       "        vertical-align: top;\n",
       "    }\n",
       "\n",
       "    .dataframe thead th {\n",
       "        text-align: right;\n",
       "    }\n",
       "</style>\n",
       "<table border=\"1\" class=\"dataframe\">\n",
       "  <thead>\n",
       "    <tr style=\"text-align: right;\">\n",
       "      <th></th>\n",
       "      <th>515</th>\n",
       "      <th>516</th>\n",
       "      <th>517</th>\n",
       "      <th>518</th>\n",
       "      <th>519</th>\n",
       "      <th>520</th>\n",
       "      <th>521</th>\n",
       "      <th>522</th>\n",
       "      <th>523</th>\n",
       "      <th>524</th>\n",
       "      <th>...</th>\n",
       "      <th>547</th>\n",
       "      <th>548</th>\n",
       "      <th>549</th>\n",
       "      <th>550</th>\n",
       "      <th>551</th>\n",
       "      <th>552</th>\n",
       "      <th>553</th>\n",
       "      <th>554</th>\n",
       "      <th>555</th>\n",
       "      <th>yes_no_count</th>\n",
       "    </tr>\n",
       "    <tr>\n",
       "      <th>member</th>\n",
       "      <th></th>\n",
       "      <th></th>\n",
       "      <th></th>\n",
       "      <th></th>\n",
       "      <th></th>\n",
       "      <th></th>\n",
       "      <th></th>\n",
       "      <th></th>\n",
       "      <th></th>\n",
       "      <th></th>\n",
       "      <th></th>\n",
       "      <th></th>\n",
       "      <th></th>\n",
       "      <th></th>\n",
       "      <th></th>\n",
       "      <th></th>\n",
       "      <th></th>\n",
       "      <th></th>\n",
       "      <th></th>\n",
       "      <th></th>\n",
       "      <th></th>\n",
       "    </tr>\n",
       "  </thead>\n",
       "  <tbody>\n",
       "    <tr>\n",
       "      <th>A000055</th>\n",
       "      <td>1</td>\n",
       "      <td>0</td>\n",
       "      <td>0</td>\n",
       "      <td>0</td>\n",
       "      <td>1</td>\n",
       "      <td>1</td>\n",
       "      <td>0</td>\n",
       "      <td>1</td>\n",
       "      <td>1</td>\n",
       "      <td>1</td>\n",
       "      <td>...</td>\n",
       "      <td>0</td>\n",
       "      <td>1</td>\n",
       "      <td>0</td>\n",
       "      <td>0</td>\n",
       "      <td>1</td>\n",
       "      <td>0</td>\n",
       "      <td>0</td>\n",
       "      <td>1</td>\n",
       "      <td>0</td>\n",
       "      <td>40.0</td>\n",
       "    </tr>\n",
       "    <tr>\n",
       "      <th>A000367</th>\n",
       "      <td>0</td>\n",
       "      <td>0</td>\n",
       "      <td>0</td>\n",
       "      <td>0</td>\n",
       "      <td>0</td>\n",
       "      <td>0</td>\n",
       "      <td>0</td>\n",
       "      <td>0</td>\n",
       "      <td>0</td>\n",
       "      <td>0</td>\n",
       "      <td>...</td>\n",
       "      <td>1</td>\n",
       "      <td>1</td>\n",
       "      <td>1</td>\n",
       "      <td>1</td>\n",
       "      <td>0</td>\n",
       "      <td>1</td>\n",
       "      <td>1</td>\n",
       "      <td>0</td>\n",
       "      <td>1</td>\n",
       "      <td>41.0</td>\n",
       "    </tr>\n",
       "    <tr>\n",
       "      <th>A000369</th>\n",
       "      <td>1</td>\n",
       "      <td>1</td>\n",
       "      <td>0</td>\n",
       "      <td>0</td>\n",
       "      <td>1</td>\n",
       "      <td>1</td>\n",
       "      <td>0</td>\n",
       "      <td>1</td>\n",
       "      <td>1</td>\n",
       "      <td>1</td>\n",
       "      <td>...</td>\n",
       "      <td>0</td>\n",
       "      <td>1</td>\n",
       "      <td>0</td>\n",
       "      <td>0</td>\n",
       "      <td>1</td>\n",
       "      <td>0</td>\n",
       "      <td>0</td>\n",
       "      <td>1</td>\n",
       "      <td>0</td>\n",
       "      <td>41.0</td>\n",
       "    </tr>\n",
       "    <tr>\n",
       "      <th>A000370</th>\n",
       "      <td>1</td>\n",
       "      <td>1</td>\n",
       "      <td>1</td>\n",
       "      <td>1</td>\n",
       "      <td>1</td>\n",
       "      <td>0</td>\n",
       "      <td>1</td>\n",
       "      <td>0</td>\n",
       "      <td>0</td>\n",
       "      <td>0</td>\n",
       "      <td>...</td>\n",
       "      <td>1</td>\n",
       "      <td>1</td>\n",
       "      <td>1</td>\n",
       "      <td>1</td>\n",
       "      <td>0</td>\n",
       "      <td>1</td>\n",
       "      <td>1</td>\n",
       "      <td>1</td>\n",
       "      <td>1</td>\n",
       "      <td>41.0</td>\n",
       "    </tr>\n",
       "    <tr>\n",
       "      <th>A000371</th>\n",
       "      <td>1</td>\n",
       "      <td>1</td>\n",
       "      <td>1</td>\n",
       "      <td>1</td>\n",
       "      <td>1</td>\n",
       "      <td>0</td>\n",
       "      <td>1</td>\n",
       "      <td>0</td>\n",
       "      <td>0</td>\n",
       "      <td>0</td>\n",
       "      <td>...</td>\n",
       "      <td>1</td>\n",
       "      <td>1</td>\n",
       "      <td>1</td>\n",
       "      <td>1</td>\n",
       "      <td>0</td>\n",
       "      <td>1</td>\n",
       "      <td>1</td>\n",
       "      <td>1</td>\n",
       "      <td>1</td>\n",
       "      <td>41.0</td>\n",
       "    </tr>\n",
       "  </tbody>\n",
       "</table>\n",
       "<p>5 rows × 42 columns</p>\n",
       "</div>"
      ],
      "text/plain": [
       "         515  516  517  518  519  520  521  522  523  524  ...  547  548  549  \\\n",
       "member                                                     ...                  \n",
       "A000055    1    0    0    0    1    1    0    1    1    1  ...    0    1    0   \n",
       "A000367    0    0    0    0    0    0    0    0    0    0  ...    1    1    1   \n",
       "A000369    1    1    0    0    1    1    0    1    1    1  ...    0    1    0   \n",
       "A000370    1    1    1    1    1    0    1    0    0    0  ...    1    1    1   \n",
       "A000371    1    1    1    1    1    0    1    0    0    0  ...    1    1    1   \n",
       "\n",
       "         550  551  552  553  554  555  yes_no_count  \n",
       "member                                               \n",
       "A000055    0    1    0    0    1    0          40.0  \n",
       "A000367    1    0    1    1    0    1          41.0  \n",
       "A000369    0    1    0    0    1    0          41.0  \n",
       "A000370    1    0    1    1    1    1          41.0  \n",
       "A000371    1    0    1    1    1    1          41.0  \n",
       "\n",
       "[5 rows x 42 columns]"
      ]
     },
     "execution_count": 69,
     "metadata": {},
     "output_type": "execute_result"
    }
   ],
   "source": [
    "vote_pivot_with_yes_no_count = vote_pivot.merge(num_yes_or_no_votes_per_member.to_frame(), left_index = True, right_index = True, how=\"outer\", ).fillna(0)\n",
    "vote_pivot_with_yes_no_count = vote_pivot_with_yes_no_count.rename(columns = {0: 'yes_no_count'})\n",
    "vote_pivot_with_yes_no_count.head(5)"
   ]
  },
  {
   "cell_type": "code",
   "execution_count": 70,
   "metadata": {},
   "outputs": [
    {
     "name": "stderr",
     "output_type": "stream",
     "text": [
      "/tmp/ipykernel_91/3052268403.py:2: FutureWarning: In a future version of pandas all arguments of DataFrame.drop except for the argument 'labels' will be keyword-only\n",
      "  regulars = regulars.drop('yes_no_count', 1)\n"
     ]
    },
    {
     "data": {
      "text/plain": [
       "(425, 41)"
      ]
     },
     "execution_count": 70,
     "metadata": {},
     "output_type": "execute_result"
    }
   ],
   "source": [
    "regulars = vote_pivot_with_yes_no_count.query('yes_no_count >= 30')\n",
    "regulars = regulars.drop('yes_no_count', 1)\n",
    "regulars.shape"
   ]
  },
  {
   "cell_type": "code",
   "execution_count": 71,
   "metadata": {},
   "outputs": [
    {
     "data": {
      "text/html": [
       "<div>\n",
       "<style scoped>\n",
       "    .dataframe tbody tr th:only-of-type {\n",
       "        vertical-align: middle;\n",
       "    }\n",
       "\n",
       "    .dataframe tbody tr th {\n",
       "        vertical-align: top;\n",
       "    }\n",
       "\n",
       "    .dataframe thead th {\n",
       "        text-align: right;\n",
       "    }\n",
       "</style>\n",
       "<table border=\"1\" class=\"dataframe\">\n",
       "  <thead>\n",
       "    <tr style=\"text-align: right;\">\n",
       "      <th></th>\n",
       "      <th>515</th>\n",
       "      <th>516</th>\n",
       "      <th>517</th>\n",
       "      <th>518</th>\n",
       "      <th>519</th>\n",
       "      <th>520</th>\n",
       "      <th>521</th>\n",
       "      <th>522</th>\n",
       "      <th>523</th>\n",
       "      <th>524</th>\n",
       "      <th>...</th>\n",
       "      <th>546</th>\n",
       "      <th>547</th>\n",
       "      <th>548</th>\n",
       "      <th>549</th>\n",
       "      <th>550</th>\n",
       "      <th>551</th>\n",
       "      <th>552</th>\n",
       "      <th>553</th>\n",
       "      <th>554</th>\n",
       "      <th>555</th>\n",
       "    </tr>\n",
       "    <tr>\n",
       "      <th>member</th>\n",
       "      <th></th>\n",
       "      <th></th>\n",
       "      <th></th>\n",
       "      <th></th>\n",
       "      <th></th>\n",
       "      <th></th>\n",
       "      <th></th>\n",
       "      <th></th>\n",
       "      <th></th>\n",
       "      <th></th>\n",
       "      <th></th>\n",
       "      <th></th>\n",
       "      <th></th>\n",
       "      <th></th>\n",
       "      <th></th>\n",
       "      <th></th>\n",
       "      <th></th>\n",
       "      <th></th>\n",
       "      <th></th>\n",
       "      <th></th>\n",
       "      <th></th>\n",
       "    </tr>\n",
       "  </thead>\n",
       "  <tbody>\n",
       "    <tr>\n",
       "      <th>A000055</th>\n",
       "      <td>0.101176</td>\n",
       "      <td>-0.691765</td>\n",
       "      <td>-0.543529</td>\n",
       "      <td>-0.541176</td>\n",
       "      <td>0.023529</td>\n",
       "      <td>0.581176</td>\n",
       "      <td>-0.581176</td>\n",
       "      <td>0.625882</td>\n",
       "      <td>0.588235</td>\n",
       "      <td>0.550588</td>\n",
       "      <td>...</td>\n",
       "      <td>-0.541176</td>\n",
       "      <td>-0.545882</td>\n",
       "      <td>0.014118</td>\n",
       "      <td>-0.538824</td>\n",
       "      <td>-0.536471</td>\n",
       "      <td>0.529412</td>\n",
       "      <td>-0.538824</td>\n",
       "      <td>-0.555294</td>\n",
       "      <td>0.056471</td>\n",
       "      <td>-0.522353</td>\n",
       "    </tr>\n",
       "    <tr>\n",
       "      <th>A000367</th>\n",
       "      <td>-0.898824</td>\n",
       "      <td>-0.691765</td>\n",
       "      <td>-0.543529</td>\n",
       "      <td>-0.541176</td>\n",
       "      <td>-0.976471</td>\n",
       "      <td>-0.418824</td>\n",
       "      <td>-0.581176</td>\n",
       "      <td>-0.374118</td>\n",
       "      <td>-0.411765</td>\n",
       "      <td>-0.449412</td>\n",
       "      <td>...</td>\n",
       "      <td>-0.541176</td>\n",
       "      <td>0.454118</td>\n",
       "      <td>0.014118</td>\n",
       "      <td>0.461176</td>\n",
       "      <td>0.463529</td>\n",
       "      <td>-0.470588</td>\n",
       "      <td>0.461176</td>\n",
       "      <td>0.444706</td>\n",
       "      <td>-0.943529</td>\n",
       "      <td>0.477647</td>\n",
       "    </tr>\n",
       "    <tr>\n",
       "      <th>A000369</th>\n",
       "      <td>0.101176</td>\n",
       "      <td>0.308235</td>\n",
       "      <td>-0.543529</td>\n",
       "      <td>-0.541176</td>\n",
       "      <td>0.023529</td>\n",
       "      <td>0.581176</td>\n",
       "      <td>-0.581176</td>\n",
       "      <td>0.625882</td>\n",
       "      <td>0.588235</td>\n",
       "      <td>0.550588</td>\n",
       "      <td>...</td>\n",
       "      <td>-0.541176</td>\n",
       "      <td>-0.545882</td>\n",
       "      <td>0.014118</td>\n",
       "      <td>-0.538824</td>\n",
       "      <td>-0.536471</td>\n",
       "      <td>0.529412</td>\n",
       "      <td>-0.538824</td>\n",
       "      <td>-0.555294</td>\n",
       "      <td>0.056471</td>\n",
       "      <td>-0.522353</td>\n",
       "    </tr>\n",
       "    <tr>\n",
       "      <th>A000370</th>\n",
       "      <td>0.101176</td>\n",
       "      <td>0.308235</td>\n",
       "      <td>0.456471</td>\n",
       "      <td>0.458824</td>\n",
       "      <td>0.023529</td>\n",
       "      <td>-0.418824</td>\n",
       "      <td>0.418824</td>\n",
       "      <td>-0.374118</td>\n",
       "      <td>-0.411765</td>\n",
       "      <td>-0.449412</td>\n",
       "      <td>...</td>\n",
       "      <td>0.458824</td>\n",
       "      <td>0.454118</td>\n",
       "      <td>0.014118</td>\n",
       "      <td>0.461176</td>\n",
       "      <td>0.463529</td>\n",
       "      <td>-0.470588</td>\n",
       "      <td>0.461176</td>\n",
       "      <td>0.444706</td>\n",
       "      <td>0.056471</td>\n",
       "      <td>0.477647</td>\n",
       "    </tr>\n",
       "    <tr>\n",
       "      <th>A000371</th>\n",
       "      <td>0.101176</td>\n",
       "      <td>0.308235</td>\n",
       "      <td>0.456471</td>\n",
       "      <td>0.458824</td>\n",
       "      <td>0.023529</td>\n",
       "      <td>-0.418824</td>\n",
       "      <td>0.418824</td>\n",
       "      <td>-0.374118</td>\n",
       "      <td>-0.411765</td>\n",
       "      <td>-0.449412</td>\n",
       "      <td>...</td>\n",
       "      <td>0.458824</td>\n",
       "      <td>0.454118</td>\n",
       "      <td>0.014118</td>\n",
       "      <td>0.461176</td>\n",
       "      <td>0.463529</td>\n",
       "      <td>-0.470588</td>\n",
       "      <td>0.461176</td>\n",
       "      <td>0.444706</td>\n",
       "      <td>0.056471</td>\n",
       "      <td>0.477647</td>\n",
       "    </tr>\n",
       "  </tbody>\n",
       "</table>\n",
       "<p>5 rows × 41 columns</p>\n",
       "</div>"
      ],
      "text/plain": [
       "              515       516       517       518       519       520       521  \\\n",
       "member                                                                          \n",
       "A000055  0.101176 -0.691765 -0.543529 -0.541176  0.023529  0.581176 -0.581176   \n",
       "A000367 -0.898824 -0.691765 -0.543529 -0.541176 -0.976471 -0.418824 -0.581176   \n",
       "A000369  0.101176  0.308235 -0.543529 -0.541176  0.023529  0.581176 -0.581176   \n",
       "A000370  0.101176  0.308235  0.456471  0.458824  0.023529 -0.418824  0.418824   \n",
       "A000371  0.101176  0.308235  0.456471  0.458824  0.023529 -0.418824  0.418824   \n",
       "\n",
       "              522       523       524  ...       546       547       548  \\\n",
       "member                                 ...                                 \n",
       "A000055  0.625882  0.588235  0.550588  ... -0.541176 -0.545882  0.014118   \n",
       "A000367 -0.374118 -0.411765 -0.449412  ... -0.541176  0.454118  0.014118   \n",
       "A000369  0.625882  0.588235  0.550588  ... -0.541176 -0.545882  0.014118   \n",
       "A000370 -0.374118 -0.411765 -0.449412  ...  0.458824  0.454118  0.014118   \n",
       "A000371 -0.374118 -0.411765 -0.449412  ...  0.458824  0.454118  0.014118   \n",
       "\n",
       "              549       550       551       552       553       554       555  \n",
       "member                                                                         \n",
       "A000055 -0.538824 -0.536471  0.529412 -0.538824 -0.555294  0.056471 -0.522353  \n",
       "A000367  0.461176  0.463529 -0.470588  0.461176  0.444706 -0.943529  0.477647  \n",
       "A000369 -0.538824 -0.536471  0.529412 -0.538824 -0.555294  0.056471 -0.522353  \n",
       "A000370  0.461176  0.463529 -0.470588  0.461176  0.444706  0.056471  0.477647  \n",
       "A000371  0.461176  0.463529 -0.470588  0.461176  0.444706  0.056471  0.477647  \n",
       "\n",
       "[5 rows x 41 columns]"
      ]
     },
     "execution_count": 71,
     "metadata": {},
     "output_type": "execute_result"
    }
   ],
   "source": [
    "regulars_centered = regulars - np.mean(regulars, axis = 0)\n",
    "regulars_centered.head(5)"
   ]
  },
  {
   "cell_type": "code",
   "execution_count": 72,
   "metadata": {},
   "outputs": [],
   "source": [
    "u, s, vt = np.linalg.svd(regulars_centered, full_matrices = False)"
   ]
  },
  {
   "cell_type": "code",
   "execution_count": 73,
   "metadata": {},
   "outputs": [
    {
     "data": {
      "text/plain": [
       "array([0.84, 0.02, 0.02, 0.01, 0.01, 0.01, 0.01, 0.01, 0.01, 0.01, 0.01,\n",
       "       0.01, 0.  , 0.  , 0.  , 0.  , 0.  , 0.  , 0.  , 0.  , 0.  , 0.  ,\n",
       "       0.  , 0.  , 0.  , 0.  , 0.  , 0.  , 0.  , 0.  , 0.  , 0.  , 0.  ,\n",
       "       0.  , 0.  , 0.  , 0.  , 0.  , 0.  , 0.  , 0.  ])"
      ]
     },
     "execution_count": 73,
     "metadata": {},
     "output_type": "execute_result"
    }
   ],
   "source": [
    "np.round(s**2 / sum(s**2), 2)"
   ]
  },
  {
   "cell_type": "code",
   "execution_count": 74,
   "metadata": {},
   "outputs": [
    {
     "data": {
      "image/png": "[encoded data removed]",
      "text/plain": [
       "<Figure size 432x288 with 1 Axes>"
      ]
     },
     "metadata": {
      "needs_background": "light"
     },
     "output_type": "display_data"
    }
   ],
   "source": [
    "pcs = u * s\n",
    "sns.scatterplot(x=pcs[:, 0], y=pcs[:, 1]);"
   ]
  },
  {
   "cell_type": "code",
   "execution_count": 75,
   "metadata": {},
   "outputs": [],
   "source": [
    "vote2d = pd.DataFrame({\n",
    "    'member': regulars_centered.index,\n",
    "    'pc1': pcs[:, 0],\n",
    "    'pc2': pcs[:, 1]\n",
    "}).merge(legs, left_on='member', right_on='leg_id')\n",
    "\n",
    "vote2d['pc1_jittered'] = vote2d['pc1'] + np.random.normal(loc = 0, scale = 0.1, size = vote2d.shape[0])\n",
    "vote2d['pc2_jittered'] = vote2d['pc2'] + np.random.normal(loc = 0, scale = 0.1, size = vote2d.shape[0])"
   ]
  },
  {
   "cell_type": "code",
   "execution_count": 76,
   "metadata": {
    "scrolled": true
   },
   "outputs": [
    {
     "data": {
      "image/png": "[encoded data removed]",
      "text/plain": [
       "<Figure size 432x288 with 1 Axes>"
      ]
     },
     "metadata": {
      "needs_background": "light"
     },
     "output_type": "display_data"
    }
   ],
   "source": [
    "sns.scatterplot(x=\"pc1_jittered\", y=\"pc2_jittered\", hue=\"party\", data = vote2d);"
   ]
  },
  {
   "cell_type": "markdown",
   "metadata": {},
   "source": [
    "## Exploring $V^T$"
   ]
  },
  {
   "cell_type": "markdown",
   "metadata": {},
   "source": [
    "We can also look at Vt directly to try to gain insight into why each component is as it is."
   ]
  },
  {
   "cell_type": "code",
   "execution_count": 77,
   "metadata": {},
   "outputs": [
    {
     "data": {
      "image/png": "[encoded data removed]",
      "text/plain": [
       "<Figure size 864x288 with 1 Axes>"
      ]
     },
     "metadata": {
      "needs_background": "light"
     },
     "output_type": "display_data"
    }
   ],
   "source": [
    "num_votes = vt.shape[1]\n",
    "votes = regulars.columns\n",
    "\n",
    "def plot_pc(k):\n",
    "    plt.bar(votes, vt[k, :], alpha=0.7)\n",
    "    plt.xticks(votes, rotation=90);\n",
    "\n",
    "with plt.rc_context({\"figure.figsize\": (12, 4)}):\n",
    "    #plot_pc(0)\n",
    "    plot_pc(1)\n"
   ]
  },
  {
   "cell_type": "markdown",
   "metadata": {},
   "source": [
    "Using SVD for PCA may lead to hard to interpret $V^T$ matrices for two reasons:\n",
    "1. Each row tends to include many many attributes. What does it mean that the first PC is driven by this specific set of 30 votes?\n",
    "2. Later rows (i.e. less important PCs) will be driven more by the orthogonality constraint than the data itself.\n",
    "\n",
    "There are exist other methods for doing PCA, e.g. Sparse PCA, that will try to lead to an interpretable version of $V^T$."
   ]
  },
  {
   "cell_type": "markdown",
   "metadata": {
    "tags": []
   },
   "source": [
    "## PCA vs. Linear Regression (Extra)"
   ]
  },
  {
   "cell_type": "markdown",
   "metadata": {},
   "source": [
    "Let's compare PCA to Linear Regression"
   ]
  },
  {
   "cell_type": "markdown",
   "metadata": {},
   "source": [
    "Returning to our child mortality data from before, if we zero-center the child data, we see get back a better result. Note that we have to add back in the mean of each column to get things back into the right units."
   ]
  },
  {
   "cell_type": "code",
   "execution_count": null,
   "metadata": {},
   "outputs": [],
   "source": [
    "means = np.mean(child_data, axis = 0)\n",
    "child_data_centered = child_data - np.mean(child_data, axis = 0)\n",
    "child_data_rank_1_approximation = compute_rank_k_approximation(child_data_centered, 1) + means"
   ]
  },
  {
   "cell_type": "code",
   "execution_count": null,
   "metadata": {},
   "outputs": [],
   "source": [
    "sns.scatterplot('mortality', 'fertility', data=child_data)\n",
    "sns.scatterplot('mortality', 'fertility', data=child_data_rank_1_approximation)\n",
    "plt.legend(['data', 'rank 1 approx'])\n",
    "plt.xlim([0, 14])\n",
    "plt.ylim([0, 14])\n",
    "plt.xticks(np.arange(0, 14, 2))\n",
    "plt.yticks(np.arange(0, 14, 2));"
   ]
  },
  {
   "cell_type": "markdown",
   "metadata": {},
   "source": [
    "We can also give our rank 1 approximation as a line, showing the 1D subspace (in black) that our data is being projected onto."
   ]
  },
  {
   "cell_type": "code",
   "execution_count": null,
   "metadata": {},
   "outputs": [],
   "source": [
    "sns.scatterplot('mortality', 'fertility', data=child_data)\n",
    "sns.lineplot('mortality', 'fertility', data=child_data_rank_1_approximation, color='black')\n",
    "plt.legend(['rank 1 approx', 'data']);\n",
    "plt.xlim([0, 14])\n",
    "plt.ylim([0, 14])\n",
    "plt.xticks(np.arange(0, 14, 2))\n",
    "plt.yticks(np.arange(0, 14, 2));"
   ]
  },
  {
   "cell_type": "markdown",
   "metadata": {},
   "source": [
    "This plot probably brings to mind linear regression from Data 8. But PCA is NOT the same thing linear regression. Let's plot the regression lines for this data for comparison. Recall that the regression line gives us, e.g. the best possible linear prediction of the fertility given the mortality."
   ]
  },
  {
   "cell_type": "code",
   "execution_count": null,
   "metadata": {},
   "outputs": [],
   "source": [
    "x, y = child_data['mortality'], child_data['fertility']\n",
    "slope_x, intercept_x = np.polyfit(x, y, 1) # simple linear regression\n",
    "\n",
    "scatter14(child_data)\n",
    "\n",
    "plt.plot(x, slope_x * x + intercept_x, c = 'g')\n",
    "for _, row in child_data.sample(20).iterrows():\n",
    "    tx, ty = row['mortality'], row['fertility']\n",
    "    plt.plot([tx, tx], [slope_x * tx + intercept_x, ty], c='red')\n",
    "    \n",
    "plt.legend(['predicted fertility']);"
   ]
  },
  {
   "cell_type": "markdown",
   "metadata": {},
   "source": [
    "In the plot above, the green regression line given minimizes the sum of the squared errors, given as red vertical lines."
   ]
  },
  {
   "cell_type": "markdown",
   "metadata": {},
   "source": [
    "We could also do the opposite thing, and try to predict fertility from mortality."
   ]
  },
  {
   "cell_type": "code",
   "execution_count": null,
   "metadata": {},
   "outputs": [],
   "source": [
    "x, y = child_data['mortality'], child_data['fertility']\n",
    "slope_y, intercept_y = np.polyfit(y, x, 1) # simple linear regression\n",
    "\n",
    "scatter14(child_data)\n",
    "\n",
    "plt.plot(slope_y * y + intercept_y, y, c = 'purple')\n",
    "for _, row in child_data.sample(20).iterrows():\n",
    "    tx, ty = row['mortality'], row['fertility']\n",
    "    plt.plot([tx, slope_y * ty + intercept_y], [ty, ty], c='red')\n",
    "    \n",
    "plt.legend(['predicted mortality']);"
   ]
  },
  {
   "cell_type": "markdown",
   "metadata": {},
   "source": [
    "In the plot above, the green regression line given minimizes the sum of the squared errors, given as red horizontal lines."
   ]
  },
  {
   "cell_type": "markdown",
   "metadata": {},
   "source": [
    "Plotting the two regression lines and the 1D subspace chosen by PCA, we see that all 3 are distinct!"
   ]
  },
  {
   "cell_type": "code",
   "execution_count": null,
   "metadata": {},
   "outputs": [],
   "source": [
    "sns.lineplot('mortality', 'fertility', data=child_data_rank_1_approximation, color=\"black\")\n",
    "plt.plot(x, slope_x * x + intercept_x, c = 'g')\n",
    "plt.plot(slope_y * y + intercept_y, y, c = 'purple');\n",
    "sns.scatterplot('mortality', 'fertility', data=child_data)\n",
    "plt.legend(['rank 1 approx', 'predicted fertility', 'predicted mortality'])\n",
    "plt.xlim([0, 14])\n",
    "plt.ylim([0, 14])\n",
    "plt.xticks(np.arange(0, 14, 2))\n",
    "plt.yticks(np.arange(0, 14, 2));"
   ]
  },
  {
   "cell_type": "markdown",
   "metadata": {},
   "source": [
    "Given that the green line minimizes the \"vertical error\" and the purple line minimizes the \"horizontal error\". You might wonder what the black line minimizes. It turns out, it minimizes the \"diagonal\" error, i.e. the error in the direction perpendicular to itself."
   ]
  },
  {
   "cell_type": "code",
   "execution_count": null,
   "metadata": {
    "scrolled": true
   },
   "outputs": [],
   "source": [
    "sns.lineplot('mortality', 'fertility', data=child_data_rank_1_approximation, color=\"black\")\n",
    "plt.plot(x, slope_x * x + intercept_x, c = 'g')\n",
    "plt.plot(slope_y * y + intercept_y, y, c = 'purple');\n",
    "sns.scatterplot('mortality', 'fertility', data=child_data)\n",
    "\n",
    "for idx, tdata in child_data.reset_index().sample(20).iterrows():\n",
    "    tx = tdata[\"mortality\"]\n",
    "    ty = tdata[\"fertility\"]\n",
    "    tx_projected = child_data_rank_1_approximation.iloc[idx, 0]\n",
    "    ty_projected = child_data_rank_1_approximation.iloc[idx, 1]\n",
    "    plt.plot([tx, tx_projected], [ty, ty_projected], c='red')\n",
    "    \n",
    "plt.xlim([0, 14])\n",
    "plt.ylim([0, 14])\n",
    "plt.xticks(np.arange(0, 14, 2))\n",
    "plt.yticks(np.arange(0, 14, 2));\n",
    "plt.legend(['rank 1 approx', 'predicted fertility', 'predicted mortality']);"
   ]
  },
  {
   "cell_type": "markdown",
   "metadata": {},
   "source": [
    "The function in the following cell makes it easy to make similar plots for whatever dataset you might be interested in."
   ]
  },
  {
   "cell_type": "code",
   "execution_count": null,
   "metadata": {},
   "outputs": [],
   "source": [
    "def plot_x_regression_y_regression_1d_approximation(data): \n",
    "    xname = data.columns[0]\n",
    "    yname = data.columns[1]\n",
    "    \n",
    "    x, y = data[xname], data[yname]\n",
    "    slope_x, intercept_x = np.polyfit(x, y, 1) # simple linear regression\n",
    "    \n",
    "    x, y = data[xname], data[yname]\n",
    "    slope_y, intercept_y = np.polyfit(y, x, 1) # simple linear regression\n",
    "    \n",
    "    means = np.mean(data, axis = 0)\n",
    "    rank_1_approximation = compute_rank_k_approximation(data - means, 1) + means\n",
    "    \n",
    "    sns.lineplot(x=xname, y=yname, data=rank_1_approximation, color=\"black\")\n",
    "    plt.plot(x, slope_x * x + intercept_x, c = 'g')\n",
    "    plt.plot(slope_y * y + intercept_y, y, c = 'purple');\n",
    "    sns.scatterplot(xname, yname, data=data)\n",
    "    \n",
    "   \n",
    "    for idx, tdata in data.reset_index().sample(20).iterrows():\n",
    "        tx = tdata[xname]\n",
    "        ty = tdata[yname]\n",
    "        \n",
    "        tx_projected = rank_1_approximation.iloc[idx, 0]\n",
    "        ty_projected = rank_1_approximation.iloc[idx, 1]\n",
    "        plt.plot([tx, tx_projected], [ty, ty_projected], c='red') \n",
    "    \n",
    "    plt.legend(['1D PCA Subspace', 'predicted ' + xname, 'predicted ' + yname])"
   ]
  },
  {
   "cell_type": "code",
   "execution_count": null,
   "metadata": {},
   "outputs": [],
   "source": [
    "plot_x_regression_y_regression_1d_approximation(body_data.drop(41)[[\"adiposity\", \"bicep\"]])"
   ]
  },
  {
   "cell_type": "code",
   "execution_count": null,
   "metadata": {},
   "outputs": [],
   "source": []
  }
 ],
 "metadata": {
  "kernelspec": {
   "display_name": "Python 3 (ipykernel)",
   "language": "python",
   "name": "python3"
  },
  "language_info": {
   "codemirror_mode": {
    "name": "ipython",
    "version": 3
   },
   "file_extension": ".py",
   "mimetype": "text/x-python",
   "name": "python",
   "nbconvert_exporter": "python",
   "pygments_lexer": "ipython3",
   "version": "3.9.13"
  }
 },
 "nbformat": 4,
 "nbformat_minor": 4
}
