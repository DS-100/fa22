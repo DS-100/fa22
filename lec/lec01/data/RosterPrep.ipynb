{
 "cells": [
  {
   "cell_type": "code",
   "execution_count": 1,
   "id": "purple-canyon",
   "metadata": {},
   "outputs": [],
   "source": [
    "import pandas as pd\n",
    "import numpy as np\n",
    "\n",
    "np.random.seed(42)"
   ]
  },
  {
   "cell_type": "code",
   "execution_count": 2,
   "id": "continuous-communication",
   "metadata": {},
   "outputs": [
    {
     "data": {
      "text/html": [
       "<div>\n",
       "<style scoped>\n",
       "    .dataframe tbody tr th:only-of-type {\n",
       "        vertical-align: middle;\n",
       "    }\n",
       "\n",
       "    .dataframe tbody tr th {\n",
       "        vertical-align: top;\n",
       "    }\n",
       "\n",
       "    .dataframe thead th {\n",
       "        text-align: right;\n",
       "    }\n",
       "</style>\n",
       "<table border=\"1\" class=\"dataframe\">\n",
       "  <thead>\n",
       "    <tr style=\"text-align: right;\">\n",
       "      <th></th>\n",
       "      <th>Name</th>\n",
       "      <th>Role</th>\n",
       "      <th>Majors</th>\n",
       "      <th>Terms in Attendance</th>\n",
       "    </tr>\n",
       "  </thead>\n",
       "  <tbody>\n",
       "    <tr>\n",
       "      <th>0</th>\n",
       "      <td>Sarah</td>\n",
       "      <td>Student</td>\n",
       "      <td>Applied Mathematics BA, Data Science BA</td>\n",
       "      <td>8</td>\n",
       "    </tr>\n",
       "    <tr>\n",
       "      <th>1</th>\n",
       "      <td>Tahir</td>\n",
       "      <td>Student</td>\n",
       "      <td>Letters &amp; Sci Undeclared UG</td>\n",
       "      <td>5</td>\n",
       "    </tr>\n",
       "    <tr>\n",
       "      <th>2</th>\n",
       "      <td>Chase</td>\n",
       "      <td>Student</td>\n",
       "      <td>Letters &amp; Sci Undeclared UG</td>\n",
       "      <td>7</td>\n",
       "    </tr>\n",
       "    <tr>\n",
       "      <th>3</th>\n",
       "      <td>Jerry</td>\n",
       "      <td>Student</td>\n",
       "      <td>Applied Mathematics BA</td>\n",
       "      <td>8</td>\n",
       "    </tr>\n",
       "    <tr>\n",
       "      <th>4</th>\n",
       "      <td>Saroj</td>\n",
       "      <td>Student</td>\n",
       "      <td>Data Science BA</td>\n",
       "      <td>8</td>\n",
       "    </tr>\n",
       "    <tr>\n",
       "      <th>5</th>\n",
       "      <td>Catherine</td>\n",
       "      <td>Student</td>\n",
       "      <td>Letters &amp; Sci Undeclared UG</td>\n",
       "      <td>8</td>\n",
       "    </tr>\n",
       "    <tr>\n",
       "      <th>6</th>\n",
       "      <td>Isaac</td>\n",
       "      <td>Student</td>\n",
       "      <td>Letters &amp; Sci Undeclared UG</td>\n",
       "      <td>3</td>\n",
       "    </tr>\n",
       "    <tr>\n",
       "      <th>7</th>\n",
       "      <td>Charles</td>\n",
       "      <td>Student</td>\n",
       "      <td>Business Administration BS, Data Science BA, L...</td>\n",
       "      <td>7</td>\n",
       "    </tr>\n",
       "    <tr>\n",
       "      <th>8</th>\n",
       "      <td>Yehchan</td>\n",
       "      <td>Student</td>\n",
       "      <td>Political Economy BA, Statistics BA</td>\n",
       "      <td>6</td>\n",
       "    </tr>\n",
       "    <tr>\n",
       "      <th>9</th>\n",
       "      <td>Jaewon</td>\n",
       "      <td>Student</td>\n",
       "      <td>Computer Science BA</td>\n",
       "      <td>5</td>\n",
       "    </tr>\n",
       "  </tbody>\n",
       "</table>\n",
       "</div>"
      ],
      "text/plain": [
       "        Name     Role                                             Majors  \\\n",
       "0      Sarah  Student            Applied Mathematics BA, Data Science BA   \n",
       "1      Tahir  Student                        Letters & Sci Undeclared UG   \n",
       "2      Chase  Student                        Letters & Sci Undeclared UG   \n",
       "3      Jerry  Student                             Applied Mathematics BA   \n",
       "4      Saroj  Student                                    Data Science BA   \n",
       "5  Catherine  Student                        Letters & Sci Undeclared UG   \n",
       "6      Isaac  Student                        Letters & Sci Undeclared UG   \n",
       "7    Charles  Student  Business Administration BS, Data Science BA, L...   \n",
       "8    Yehchan  Student                Political Economy BA, Statistics BA   \n",
       "9     Jaewon  Student                                Computer Science BA   \n",
       "\n",
       "  Terms in Attendance  \n",
       "0                   8  \n",
       "1                   5  \n",
       "2                   7  \n",
       "3                   8  \n",
       "4                   8  \n",
       "5                   8  \n",
       "6                   3  \n",
       "7                   7  \n",
       "8                   6  \n",
       "9                   5  "
      ]
     },
     "execution_count": 2,
     "metadata": {},
     "output_type": "execute_result"
    }
   ],
   "source": [
    "df = pd.concat([\n",
    "    pd.read_csv(\"rosters/compsci-c100-2022-D_rosters.csv\"),\n",
    "    pd.read_csv(\"rosters/compsci-c200a-2022-D_rosters.csv\")\n",
    "])\n",
    "# Select only the needed columns for lecture\n",
    "df = df[[\"Name\", \"Role\", \"Majors\", \"Terms in Attendance\"]]\n",
    "# Drop last name.\n",
    "df['Name'] = df['Name'].str.split(\",\").str[1].str.strip()\n",
    "# Drop middle name\n",
    "df['Name'] = df['Name'].str.split(\" \").str[0]\n",
    "\n",
    "# add #REF\n",
    "ref_df = pd.DataFrame([[\"#REF!\"] * len(df.columns)], columns=df.columns)\n",
    "df = pd.concat([df, ref_df])\n",
    "df.head(10)"
   ]
  },
  {
   "cell_type": "markdown",
   "id": "adopted-alexander",
   "metadata": {},
   "source": [
    "## Export Just Major and Terms in Attendance"
   ]
  },
  {
   "cell_type": "code",
   "execution_count": 3,
   "id": "informal-tonight",
   "metadata": {},
   "outputs": [],
   "source": [
    "df.sample(frac=1)[[\"Majors\", \"Terms in Attendance\"]].to_csv(\"majors.csv\", index=False)"
   ]
  },
  {
   "cell_type": "markdown",
   "id": "precious-saudi",
   "metadata": {},
   "source": [
    "## Reorder the data to put more common names at the top"
   ]
  },
  {
   "cell_type": "code",
   "execution_count": 4,
   "id": "separate-affiliation",
   "metadata": {},
   "outputs": [],
   "source": [
    "ct_col = df.merge(df['Name'].value_counts().rename(\"Count\"), how=\"left\", left_on=\"Name\", right_index=True)[\"Count\"]\n",
    "ordering_col = 5*np.random.randn(ct_col.shape[0]) + ct_col"
   ]
  },
  {
   "cell_type": "code",
   "execution_count": 5,
   "id": "becoming-quantity",
   "metadata": {},
   "outputs": [],
   "source": [
    "df[\"Order\"] = ordering_col\n",
    "final = df.sort_values(\"Order\", ascending=False).reset_index(drop=True)[[\"Name\", \"Role\"]]"
   ]
  },
  {
   "cell_type": "markdown",
   "id": "spatial-finger",
   "metadata": {},
   "source": [
    "## Corrupt the Data"
   ]
  },
  {
   "cell_type": "code",
   "execution_count": 6,
   "id": "numerous-collaboration",
   "metadata": {},
   "outputs": [],
   "source": [
    "final.iloc[3,0] = final.iloc[3,0].upper()\n",
    "final.iloc[7,0] = final.iloc[7,0].upper()"
   ]
  },
  {
   "cell_type": "code",
   "execution_count": 7,
   "id": "advanced-bracelet",
   "metadata": {},
   "outputs": [
    {
     "data": {
      "text/html": [
       "<div>\n",
       "<style scoped>\n",
       "    .dataframe tbody tr th:only-of-type {\n",
       "        vertical-align: middle;\n",
       "    }\n",
       "\n",
       "    .dataframe tbody tr th {\n",
       "        vertical-align: top;\n",
       "    }\n",
       "\n",
       "    .dataframe thead th {\n",
       "        text-align: right;\n",
       "    }\n",
       "</style>\n",
       "<table border=\"1\" class=\"dataframe\">\n",
       "  <thead>\n",
       "    <tr style=\"text-align: right;\">\n",
       "      <th></th>\n",
       "      <th>Name</th>\n",
       "      <th>Role</th>\n",
       "    </tr>\n",
       "  </thead>\n",
       "  <tbody>\n",
       "    <tr>\n",
       "      <th>0</th>\n",
       "      <td>Sean</td>\n",
       "      <td>Student</td>\n",
       "    </tr>\n",
       "    <tr>\n",
       "      <th>1</th>\n",
       "      <td>Ryan</td>\n",
       "      <td>Student</td>\n",
       "    </tr>\n",
       "    <tr>\n",
       "      <th>2</th>\n",
       "      <td>Jason</td>\n",
       "      <td>Student</td>\n",
       "    </tr>\n",
       "    <tr>\n",
       "      <th>3</th>\n",
       "      <td>ANDREW</td>\n",
       "      <td>Student</td>\n",
       "    </tr>\n",
       "    <tr>\n",
       "      <th>4</th>\n",
       "      <td>Victor</td>\n",
       "      <td>Student</td>\n",
       "    </tr>\n",
       "    <tr>\n",
       "      <th>5</th>\n",
       "      <td>Manuel</td>\n",
       "      <td>Student</td>\n",
       "    </tr>\n",
       "    <tr>\n",
       "      <th>6</th>\n",
       "      <td>David</td>\n",
       "      <td>Student</td>\n",
       "    </tr>\n",
       "    <tr>\n",
       "      <th>7</th>\n",
       "      <td>ANDY</td>\n",
       "      <td>Student</td>\n",
       "    </tr>\n",
       "    <tr>\n",
       "      <th>8</th>\n",
       "      <td>Beiqi</td>\n",
       "      <td>Student</td>\n",
       "    </tr>\n",
       "    <tr>\n",
       "      <th>9</th>\n",
       "      <td>Ryan</td>\n",
       "      <td>Student</td>\n",
       "    </tr>\n",
       "  </tbody>\n",
       "</table>\n",
       "</div>"
      ],
      "text/plain": [
       "     Name     Role\n",
       "0    Sean  Student\n",
       "1    Ryan  Student\n",
       "2   Jason  Student\n",
       "3  ANDREW  Student\n",
       "4  Victor  Student\n",
       "5  Manuel  Student\n",
       "6   David  Student\n",
       "7    ANDY  Student\n",
       "8   Beiqi  Student\n",
       "9    Ryan  Student"
      ]
     },
     "execution_count": 7,
     "metadata": {},
     "output_type": "execute_result"
    }
   ],
   "source": [
    "final.head(10)"
   ]
  },
  {
   "cell_type": "markdown",
   "id": "visible-means",
   "metadata": {},
   "source": [
    "## Save the data"
   ]
  },
  {
   "cell_type": "code",
   "execution_count": 8,
   "id": "roman-modern",
   "metadata": {},
   "outputs": [],
   "source": [
    "final.to_csv(\"names.csv\",index=False)"
   ]
  }
 ],
 "metadata": {
  "kernelspec": {
   "display_name": "Python 3 (ipykernel)",
   "language": "python",
   "name": "python3"
  },
  "language_info": {
   "codemirror_mode": {
    "name": "ipython",
    "version": 3
   },
   "file_extension": ".py",
   "mimetype": "text/x-python",
   "name": "python",
   "nbconvert_exporter": "python",
   "pygments_lexer": "ipython3",
   "version": "3.9.13"
  }
 },
 "nbformat": 4,
 "nbformat_minor": 5
}
