{
 "cells": [
  {
   "cell_type": "code",
   "execution_count": null,
   "id": "83b71506",
   "metadata": {
    "deletable": false,
    "editable": false
   },
   "outputs": [],
   "source": [
    "# Initialize Otter\n",
    "import otter\n",
    "grader = otter.Notebook(\"hw09.ipynb\")"
   ]
  },
  {
   "cell_type": "markdown",
   "id": "cdbc35a9",
   "metadata": {
    "tags": []
   },
   "source": [
    "<a id=\"top\"></a>\n",
    "\n",
    "# Homework 9:  PCA\n",
    "## Due Date\n",
    "\n",
    "This assignment is due **Thursday, November 17th at 11:59 PST**.\n",
    "\n",
    "**Collaboration Policy**\n",
    "\n",
    "Data science is a collaborative activity. While you may talk with others about\n",
    "the homework, we ask that you **write your solutions individually**. If you do\n",
    "discuss the assignments with others please **include their names** below."
   ]
  },
  {
   "cell_type": "markdown",
   "id": "73aa8bd7",
   "metadata": {},
   "source": [
    "**Collaborators**: *list collaborators here*"
   ]
  },
  {
   "cell_type": "markdown",
   "id": "2fb420cd",
   "metadata": {},
   "source": [
    "## Grading\n",
    "Grading is broken down into autograded answers and free response. For autograded answers, the results of your code are compared to provided and/or hidden tests. For free response, readers will evaluate how well you answered the question and/or fulfilled the requirements of the question.\n",
    "\n",
    "<!--\n",
    "<details>\n",
    "    <summary>[Click to Expand] <b>Scoring Breakdown</b></summary>-->\n",
    "|Question|Points|\n",
    "|---|---|\n",
    "|Q1a | 1 |\n",
    "|Q1b | 1 |\n",
    "|Q1c | 1 |\n",
    "|Q1d | 1 |\n",
    "|Q1e | 2 |\n",
    "|Q2a | 2 |\n",
    "|Q2b | 2 |\n",
    "|Q3a | 1 |\n",
    "|Q3b | 2 |\n",
    "|Q3c | 2 |\n",
    "|Total | 15 |\n",
    "</details>"
   ]
  },
  {
   "cell_type": "code",
   "execution_count": null,
   "id": "4a29f3fb",
   "metadata": {},
   "outputs": [],
   "source": [
    "# Run this cell to set up your notebook\n",
    "\n",
    "import pandas as pd\n",
    "import numpy as np\n",
    "import matplotlib.pyplot as plt\n",
    "import plotly.express as px\n",
    "import seaborn as sns\n",
    "import sqlalchemy\n",
    "from pathlib import Path\n",
    "\n",
    "plt.style.use('fivethirtyeight') # Use plt.style.available to see more styles\n",
    "sns.set()\n",
    "sns.set_context(\"talk\")\n",
    "np.set_printoptions(threshold=5) # avoid printing out big matrices\n",
    "%matplotlib inline"
   ]
  },
  {
   "cell_type": "markdown",
   "id": "633acbeb",
   "metadata": {
    "tags": []
   },
   "source": [
    "<br/><br/><br/>\n",
    "<hr style=\"border: 5px solid #003262;\" />\n",
    "<hr style=\"border: 1px solid #fdb515;\" />\n",
    "\n",
    "\n",
    "# U.S. Presidential Elections By State\n",
    "\n",
    "If you haven't worked with Principal Component Analysis before, we highly encourage you to take a look at the PCA lab first. PCA really shines on data where you have reason to believe that the data is relatively low in rank. \n",
    "\n",
    "We'll look at how states voted in presidential elections between 1972 and 2016. **Our ultimate goal is to show how 2D PCA scatterplots can allow us to identify clusters in a high dimensional dataset.** For this example, that means finding groups of states that vote similarly by plotting their 1st and 2nd principal components.\n",
    "\n",
    "<br/><br/>\n",
    "\n",
    "<hr style=\"border: 5px solid #003262;\" />\n",
    "<hr style=\"border: 1px solid #fdb515;\" />\n",
    "\n",
    "## Question 1\n",
    "\n",
    "We explore a dataset on U.S. Presidential Elections by State since 1789, as taken from [Wikipedia](https://en.wikipedia.org/wiki/List_of_United_States_presidential_election_results_by_state)."
   ]
  },
  {
   "cell_type": "code",
   "execution_count": null,
   "id": "8e75f12b",
   "metadata": {
    "scrolled": true
   },
   "outputs": [],
   "source": [
    "df = pd.read_csv(\"data/presidential_elections.csv\")\n",
    "df.head(5)"
   ]
  },
  {
   "cell_type": "markdown",
   "id": "51dc4ce8",
   "metadata": {},
   "source": [
    "The data in this table is pretty messy (missing records, inconsistent field naming, etc.), so let's create a clean version.\n",
    "\n",
    "Running the cell below will produce a clean table, which contains exactly 51 rows (corresponding to the 50 states plus Washington DC) and 13 columns (one for each of the election years from 1972 to 2020). The index of this dataframe is the state name."
   ]
  },
  {
   "cell_type": "code",
   "execution_count": null,
   "id": "6c21e40c",
   "metadata": {},
   "outputs": [],
   "source": [
    "# just run this cell\n",
    "df_clean = ( \n",
    "        df.iloc[:, -15:]    \n",
    "        .drop(['Unnamed: 60'], axis = 1) \n",
    "        .rename(columns = {\"2000 ‡\": \"2000\", \"2016 ‡\": \"2016\", \"State.1\": \"State\"}) \n",
    "        .drop([51]) \n",
    "        .set_index(\"State\")\n",
    ")\n",
    "df_clean"
   ]
  },
  {
   "cell_type": "markdown",
   "id": "e14943e4",
   "metadata": {},
   "source": [
    "Side note: We produced the data cleaning function chain above by inspecting the CSV file. In your personal projects, you may be tempted to use Excel or Google Sheets (What You See Is What You Get, or WYSIWYG) to clean data. While sometimes more convenient, the downside of this is that you have no record of what you did—and if you have to redownload the data, you have to redo the manual data cleaning process."
   ]
  },
  {
   "cell_type": "markdown",
   "id": "fb594577",
   "metadata": {},
   "source": [
    "<!-- BEGIN QUESTION -->\n",
    "\n",
    "<br/>\n",
    "\n",
    "<hr style=\"border: 1px solid #fdb515;\" />\n",
    "\n",
    "### Question 1a\n",
    "\n",
    "What does each row in `df_clean` represent?"
   ]
  },
  {
   "cell_type": "markdown",
   "id": "71f3f87f",
   "metadata": {},
   "source": [
    "_Type your answer here, replacing this text._"
   ]
  },
  {
   "cell_type": "markdown",
   "id": "955caeec",
   "metadata": {},
   "source": [
    "<!-- END QUESTION -->\n",
    "\n",
    "<br/>\n",
    "\n",
    "<hr style=\"border: 1px solid #fdb515;\" />\n",
    "\n",
    "### Question 1b\n",
    "\n",
    "To perform PCA, we need to convert our data into numerical values. Create a `df_numerical` dataframe that replaces all of the \"D\" characters in `df_clean` with the number 0, and all of the \"R\" characters with the number 1. \n",
    "\n",
    "*Hint:* Use `df.replace` ([documentation](https://pandas.pydata.org/docs/reference/api/pandas.DataFrame.replace.html))."
   ]
  },
  {
   "cell_type": "code",
   "execution_count": null,
   "id": "9567dab2",
   "metadata": {
    "tags": []
   },
   "outputs": [],
   "source": [
    "df_numerical = ..."
   ]
  },
  {
   "cell_type": "code",
   "execution_count": null,
   "id": "48fed3d5",
   "metadata": {
    "deletable": false,
    "editable": false
   },
   "outputs": [],
   "source": [
    "grader.check(\"q1b\")"
   ]
  },
  {
   "cell_type": "markdown",
   "id": "99f2d786",
   "metadata": {},
   "source": [
    "<br/>\n",
    "\n",
    "<hr style=\"border: 1px solid #fdb515;\" />\n",
    "\n",
    "### Question 1c\n",
    "\n",
    "Now **standardize the data**: Center the data so that each column's mean is 0, and scale the data so that each column's variance is 1. Store your result in `df_standardized`."
   ]
  },
  {
   "cell_type": "code",
   "execution_count": null,
   "id": "36dd4882",
   "metadata": {
    "tags": []
   },
   "outputs": [],
   "source": [
    "df_standardized = ..."
   ]
  },
  {
   "cell_type": "code",
   "execution_count": null,
   "id": "015aa951",
   "metadata": {
    "deletable": false,
    "editable": false
   },
   "outputs": [],
   "source": [
    "grader.check(\"q1c\")"
   ]
  },
  {
   "cell_type": "markdown",
   "id": "46bbe9b3",
   "metadata": {},
   "source": [
    "<br/>\n",
    "\n",
    "We now have our data in a nice and tidy centered and scaled format. Phew! We are now ready to do PCA.\n",
    "\n",
    "<br/>\n",
    "<hr style=\"border: 1px solid #fdb515;\" />\n",
    "\n",
    "### Question 1d: SVD\n",
    "\n",
    "In the following cell, compute the SVD of `df_standardized`:\n",
    "\n",
    "$$\\texttt{df}\\_\\texttt{standardized}=U\\Sigma V^{T}$$\n",
    "\n",
    "\n",
    "Store the $U$, $\\Sigma$, and $V^T$ matrices in `u`, `s`, and `vt` respectively. This is one line of simple code (exactly like what we saw in lecture and what you did in lab) using the [`np.linalg.svd`](https://docs.scipy.org/doc/numpy/reference/generated/numpy.linalg.svd.html) function with the `full_matrices` argument set to `False`."
   ]
  },
  {
   "cell_type": "code",
   "execution_count": null,
   "id": "8f5a699c",
   "metadata": {
    "tags": []
   },
   "outputs": [],
   "source": [
    "...\n",
    "u, s, vt"
   ]
  },
  {
   "cell_type": "code",
   "execution_count": null,
   "id": "e67f76a3",
   "metadata": {
    "deletable": false,
    "editable": false
   },
   "outputs": [],
   "source": [
    "grader.check(\"q1d\")"
   ]
  },
  {
   "cell_type": "markdown",
   "id": "2e6e5ab6",
   "metadata": {},
   "source": [
    "<br/>\n",
    "\n",
    "<hr style=\"border: 1px solid #fdb515;\" />\n",
    "\n",
    "### Question 1e: Get Principal Components\n",
    "\n",
    "Using your results from the previous part, create a new `first_2_pcs` **dataframe** ([documentation](https://pandas.pydata.org/docs/reference/api/pandas.DataFrame.html)) that contains exactly the first two columns of the principal components matrix. The first column should be labeled `pc1` and the second column should be labeled `pc2`. Store your result in `first_2_pcs`, and make sure to set the index to be the default numerical range index (i.e. 0, 1, 2, ...)."
   ]
  },
  {
   "cell_type": "code",
   "execution_count": null,
   "id": "f5bb3e63",
   "metadata": {
    "scrolled": true,
    "tags": []
   },
   "outputs": [],
   "source": [
    "first_2_pcs = ...\n",
    "first_2_pcs.head()"
   ]
  },
  {
   "cell_type": "code",
   "execution_count": null,
   "id": "709c3ad0",
   "metadata": {
    "deletable": false,
    "editable": false
   },
   "outputs": [],
   "source": [
    "grader.check(\"q1e\")"
   ]
  },
  {
   "cell_type": "markdown",
   "id": "9061b38b",
   "metadata": {},
   "source": [
    "<br/><br/>\n",
    "\n",
    "<hr style=\"border: 5px solid #003262;\" />\n",
    "<hr style=\"border: 1px solid #fdb515;\" />\n",
    "\n",
    "## Question 2\n",
    "\n",
    "The cell below plots the 1st and 2nd principal components of our 50 states + Washington DC."
   ]
  },
  {
   "cell_type": "code",
   "execution_count": null,
   "id": "adb6c058",
   "metadata": {
    "scrolled": true
   },
   "outputs": [],
   "source": [
    "# just run this cell\n",
    "sns.scatterplot(data = first_2_pcs, x = \"pc1\", y = \"pc2\");"
   ]
  },
  {
   "cell_type": "markdown",
   "id": "591693c7",
   "metadata": {},
   "source": [
    "<!-- BEGIN QUESTION -->\n",
    "\n",
    "Unfortunately, we have two problems:\n",
    "\n",
    "1. There is a lot of overplotting, with only 28 distinct dots (out of 104 points). This means that at least some states voted exactly alike in these elections.\n",
    "2. We don't know which state is which because the points are unlabeled.\n",
    "\n",
    "<br/>\n",
    "\n",
    "<hr style=\"border: 1px solid #fdb515;\" />\n",
    "\n",
    "### Question 2a: Jitter\n",
    "\n",
    "Let's start by addressing problem 1. \n",
    "\n",
    "**In the cell below, create a new dataframe `first_2_pcs_jittered` with a small amount of random noise added to each principal component. In this same cell, create a scatterplot.**\n",
    "\n",
    "To reduce overplotting, we **jitter** the first two principal components:\n",
    "* Add a small amount of random, unbiased Gaussian noise to each value using `np.random.normal` ([documentation](https://numpy.org/doc/stable/reference/random/generated/numpy.random.normal.html)) with mean 0 and standard deviation less than 1.\n",
    "* Don't get caught up on the exact details of your noise generation; it's fine as long as your plot looks roughly the same as the original scatterplot, but without overplotting.\n",
    "* The amount of noise you add *should not significantly affect* the appearance of the plot; it should simply serve to separate overlapping observations."
   ]
  },
  {
   "cell_type": "code",
   "execution_count": null,
   "id": "c6f4641d",
   "metadata": {
    "scrolled": true,
    "tags": []
   },
   "outputs": [],
   "source": [
    "# first, jitter the data\n",
    "first_2_pcs_jittered = ...\n",
    "\n",
    "# then, create a scatter plot\n",
    "..."
   ]
  },
  {
   "cell_type": "markdown",
   "id": "23f06292",
   "metadata": {},
   "source": [
    "<!-- END QUESTION -->\n",
    "\n",
    "<br/>\n",
    "\n",
    "<hr style=\"border: 1px solid #fdb515;\" />\n",
    "\n",
    "### Question 2b\n",
    "\n",
    "To address Problem 2, we can turn to Plotly. The below cell uses these Plotly guides ([example 1](https://plot.ly/python/text-and-annotations/), [example 2](https://plotly.com/python/hover-text-and-formatting/#disabling-or-customizing-hover-of-columns-in-plotly-express)) to create a scatter plot of the jittered ."
   ]
  },
  {
   "cell_type": "code",
   "execution_count": null,
   "id": "a65cec58",
   "metadata": {},
   "outputs": [],
   "source": [
    "# just run this cell\n",
    "import plotly.express as px\n",
    "\n",
    "# get the state names from the standardized dataframe's index\n",
    "first_2_pcs_jittered['state'] = df_standardized.index\n",
    "\n",
    "# show state names on hover\n",
    "fig = px.scatter(first_2_pcs_jittered, x=\"pc1\", y=\"pc2\",\n",
    "                hover_data={\"state\": True}); \n",
    "\n",
    "fig.show(); "
   ]
  },
  {
   "cell_type": "markdown",
   "id": "e7c07254",
   "metadata": {},
   "source": [
    "<!-- BEGIN QUESTION -->\n",
    "\n",
    "Analyze the above plot. In the below cell, address the following two points:\n",
    "1. Give an example of a cluster of states that vote a similar way. Does the composition of this cluster surprise you? If you're not familiar with U.S. politics, it's fine to just say \"No, I'm not surprised because I don't know anything about U.S. politics.\"\n",
    "1. Include anything interesting that you observe. You will get credit for this as long as you write something reasonable that you can takeaway from the plot."
   ]
  },
  {
   "cell_type": "markdown",
   "id": "c0739999",
   "metadata": {},
   "source": [
    "_Type your answer here, replacing this text._"
   ]
  },
  {
   "cell_type": "markdown",
   "id": "16041f19",
   "metadata": {},
   "source": [
    "<!-- END QUESTION -->\n",
    "\n",
    "<br/><br/>\n",
    "\n",
    "<hr style=\"border: 5px solid #003262;\" />\n",
    "<hr style=\"border: 1px solid #fdb515;\" />\n",
    "\n",
    "## Question 3\n",
    "\n",
    "We can also look at the contributions of each year's elections results on the values for our principal components.\n",
    "\n",
    "Below, we define the `plot_pc` function that plots and labels the rows of $V^T$. We then call this function to plot the 1st row of $V^T$, i.e., the row of $V^T$ that corresponds to `pc1`.\n",
    "\n",
    "**Note**: If you get an error when running this cell, make sure you are properly assigning the `vt` variable from Question 1."
   ]
  },
  {
   "cell_type": "code",
   "execution_count": null,
   "id": "975f1872",
   "metadata": {},
   "outputs": [],
   "source": [
    "# just run this cell\n",
    "\n",
    "def plot_pc(col_names, row_mat_vt, k):\n",
    "    plt.bar(col_names, row_mat_vt[k, :], alpha=0.7)\n",
    "    plt.xticks(col_names, rotation=90);\n",
    "    \n",
    "plt.figure(figsize=(12, 4)) # adjusts size of plot\n",
    "plot_pc(list(df_standardized.columns), vt, 0);"
   ]
  },
  {
   "cell_type": "markdown",
   "id": "1bfb03fe",
   "metadata": {},
   "source": [
    "<!-- BEGIN QUESTION -->\n",
    "\n",
    "\n",
    "<br/>\n",
    "\n",
    "<hr style=\"border: 1px solid #fdb515;\" />\n",
    "\n",
    "### Question 3a\n",
    "\n",
    "In the cell below, plot the the 2nd row of $V^T$, i.e., the row of $V^T$ that correpsonds to `pc2`."
   ]
  },
  {
   "cell_type": "code",
   "execution_count": null,
   "id": "1a7a14f9",
   "metadata": {
    "tags": []
   },
   "outputs": [],
   "source": [
    "..."
   ]
  },
  {
   "cell_type": "markdown",
   "id": "3bfad9b1",
   "metadata": {},
   "source": [
    "<!-- END QUESTION -->\n",
    "\n",
    "<!-- BEGIN QUESTION -->\n",
    "\n",
    "\n",
    "<br/>\n",
    "\n",
    "<hr style=\"border: 1px solid #fdb515;\" />\n",
    "\n",
    "### Question 3b\n",
    "\n",
    "Using the two above plots of the rows of $V^T$ as well as the original table, give a description of what it means for a point to be in the top-right quadrant of the 2-D scatter plot from Question 2.\n",
    "\n",
    "In other words, what is generally true about a state with relatively large positive value for `pc1` (right side of 2-D scatter plot)? For a large positive value for `pc2` (top side of 2-D scatter plot)?\n",
    "\n",
    "Notes:\n",
    "* `pc2` is pretty hard to interpret, and the staff doesn't really have a consensus on what it means either. We'll be very nice when grading as long as your answer is reasonable - there is no correct answer necessarily. \n",
    "* Principal components beyond the first are often hard to interpret (but not always; see the lab)."
   ]
  },
  {
   "cell_type": "markdown",
   "id": "37777d58",
   "metadata": {},
   "source": [
    "_Type your answer here, replacing this text._"
   ]
  },
  {
   "cell_type": "code",
   "execution_count": null,
   "id": "5599c556",
   "metadata": {},
   "outputs": [],
   "source": [
    "# feel free to use this cell for scratch work. If you need more scratch space, add cells *below* this one.\n",
    "\n",
    "# Make sure to put your actual answer in the cell above where it says \"Type your answer here, replacing this text\""
   ]
  },
  {
   "cell_type": "markdown",
   "id": "89e6b9a0",
   "metadata": {},
   "source": [
    "<!-- END QUESTION -->\n",
    "\n",
    "<!-- BEGIN QUESTION -->\n",
    "\n",
    "<br/>\n",
    "<br/>\n",
    "\n",
    "<hr style=\"border: 1px solid #fdb515;\" />\n",
    "\n",
    "### Question 3c\n",
    "\n",
    "To get a better sense of whether our 2D scatterplot captures the whole story, create a **scree plot** for this data. In other words, plot the fraction of the total variance (y-axis) captured by the ith principal component (x-axis).\n",
    "\n",
    "*Hint:* Be sure to label your axes appropriately! You may find `plt.xticks()` ([documentation](https://matplotlib.org/3.5.0/api/_as_gen/matplotlib.pyplot.xticks.html)) helpful for formatting. Also check out the lab for more on scree plots."
   ]
  },
  {
   "cell_type": "code",
   "execution_count": null,
   "id": "c0ba28fe",
   "metadata": {
    "scrolled": true,
    "tags": []
   },
   "outputs": [],
   "source": [
    "..."
   ]
  },
  {
   "cell_type": "markdown",
   "id": "87a05c48",
   "metadata": {},
   "source": [
    "<!-- END QUESTION -->\n",
    "\n",
    "<br/>\n",
    "\n",
    "From your scree plot above, you should see that the first two principal components capture a large portion of the variance in our cleaned data. It is partially for this reason that the 2D scatter plot of principal components was easy to interpret."
   ]
  },
  {
   "cell_type": "markdown",
   "id": "ffc8e1b2",
   "metadata": {
    "nbgrader": {
     "grade": false,
     "grade_id": "finish",
     "locked": true,
     "schema_version": 2,
     "solution": false
    },
    "tags": []
   },
   "source": [
    "## Congratulations!\n",
    "\n",
    "Congrats! You are finished with this homework assignment."
   ]
  },
  {
   "cell_type": "markdown",
   "id": "9ad39028",
   "metadata": {
    "deletable": false,
    "editable": false
   },
   "source": [
    "## Submission\n",
    "\n",
    "Make sure you have run all cells in your notebook in order before running the cell below, so that all images/graphs appear in the output. The cell below will generate a zip file for you to submit. **Please save before exporting!**"
   ]
  },
  {
   "cell_type": "code",
   "execution_count": null,
   "id": "4686c824",
   "metadata": {
    "deletable": false,
    "editable": false
   },
   "outputs": [],
   "source": [
    "# Save your notebook first, then run this cell to export your submission.\n",
    "grader.export(run_tests=True)"
   ]
  },
  {
   "cell_type": "markdown",
   "id": "64e8aa62",
   "metadata": {},
   "source": [
    " "
   ]
  }
 ],
 "metadata": {
  "kernelspec": {
   "display_name": "Python 3 (ipykernel)",
   "language": "python",
   "name": "python3"
  },
  "language_info": {
   "codemirror_mode": {
    "name": "ipython",
    "version": 3
   },
   "file_extension": ".py",
   "mimetype": "text/x-python",
   "name": "python",
   "nbconvert_exporter": "python",
   "pygments_lexer": "ipython3",
   "version": "3.9.0"
  },
  "otter": {
   "OK_FORMAT": true,
   "tests": {
    "q1b": {
     "name": "q1b",
     "points": 1,
     "suites": [
      {
       "cases": [
        {
         "code": ">>> # TEST\n>>> np.all(df_numerical.applymap(lambda x: x in [0, 1]))\nTrue",
         "hidden": false,
         "locked": false
        },
        {
         "code": ">>> # TEST\n>>> df_numerical['1972']['Alabama'] == 1\nTrue",
         "hidden": false,
         "locked": false
        }
       ],
       "scored": true,
       "setup": "",
       "teardown": "",
       "type": "doctest"
      }
     ]
    },
    "q1c": {
     "name": "q1c",
     "points": 1,
     "suites": [
      {
       "cases": [
        {
         "code": ">>> # TEST\n>>> all(np.isclose(np.mean(df_standardized, axis = 0), [0] * df_standardized.shape[1]))\nTrue",
         "hidden": false,
         "locked": false
        },
        {
         "code": ">>> # TEST\n>>> all(np.isclose(np.var(df_standardized), [1] * df_standardized.shape[1]))\nTrue",
         "hidden": false,
         "locked": false
        }
       ],
       "scored": true,
       "setup": "",
       "teardown": "",
       "type": "doctest"
      }
     ]
    },
    "q1d": {
     "name": "q1d",
     "points": 1,
     "suites": [
      {
       "cases": [
        {
         "code": ">>> # TEST\n>>> all(np.isclose([sum(u[:, i] ** 2) for i in range(u.shape[1])], np.ones((u.shape[1],))))\nTrue",
         "hidden": false,
         "locked": false
        },
        {
         "code": ">>> # TEST\n>>> all(np.isclose([sum(vt[i, :] ** 2) for i in range(vt.shape[1])], np.ones((u.shape[1],))))\nTrue",
         "hidden": false,
         "locked": false
        },
        {
         "code": ">>> # TEST\n>>> len(s) == 13\nTrue",
         "hidden": false,
         "locked": false
        },
        {
         "code": ">>> # TEST\n>>> (np.isclose(u @ np.diag(s) @ vt, df_standardized)).all()\nTrue",
         "hidden": false,
         "locked": false
        }
       ],
       "scored": true,
       "setup": "",
       "teardown": "",
       "type": "doctest"
      }
     ]
    },
    "q1e": {
     "name": "q1e",
     "points": 2,
     "suites": [
      {
       "cases": [
        {
         "code": ">>> # TEST\n>>> first_2_pcs.shape == (51, 2)\nTrue",
         "hidden": false,
         "locked": false
        },
        {
         "code": ">>> # TEST\n>>> all(first_2_pcs.columns == ['pc1', 'pc2'])\nTrue",
         "hidden": false,
         "locked": false
        },
        {
         "code": ">>> # TEST\n>>> (first_2_pcs.index == np.arange(51)).all()\nTrue",
         "hidden": false,
         "locked": false
        },
        {
         "code": ">>> # TEST\n>>> all(np.isclose(first_2_pcs.loc[0], [-2.9386, 0.7964], atol=1e-4))\nTrue",
         "hidden": false,
         "locked": false
        },
        {
         "code": ">>> # TEST\n>>> all(np.isclose(first_2_pcs.loc[46], [-0.2960, -1.5452], atol=1e-4))\nTrue",
         "hidden": false,
         "locked": false
        },
        {
         "code": ">>> # TEST\n>>> all(np.isclose(first_2_pcs.loc[28], [0.9442, -1.5338], atol=1e-4))\nTrue",
         "hidden": false,
         "locked": false
        }
       ],
       "scored": true,
       "setup": "",
       "teardown": "",
       "type": "doctest"
      }
     ]
    }
   }
  }
 },
 "nbformat": 4,
 "nbformat_minor": 5
}
