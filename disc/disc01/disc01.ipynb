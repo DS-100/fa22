{
 "cells": [
  {
   "cell_type": "markdown",
   "metadata": {},
   "source": [
    "# Discussion 1: Random Variables, Sampling, and SQL\n",
    "\n",
    "In this notebook, we will walk through Question 2 of Discussion 1 and demonstrate how biased samples can be generated from different sampling methods."
   ]
  },
  {
   "cell_type": "code",
   "execution_count": null,
   "metadata": {},
   "outputs": [],
   "source": [
    "import itertools\n",
    "import numpy as np\n",
    "import pandas as pd\n",
    "import matplotlib.pyplot as plt\n",
    "import warnings\n",
    "warnings.simplefilter(\"ignore\")\n",
    "%matplotlib inline\n",
    "\n",
    "def plot_sample(arr):\n",
    "    plt.figure(figsize=[10,6])\n",
    "    plt.hist(arr)\n",
    "    plt.xlabel(\"Exam Difficulty\")\n",
    "    data_mean = np.mean(arr)\n",
    "    pop_mean = data[\"response\"].mean()\n",
    "    plt.axvline(data_mean, 0, 250, color=\"r\", linewidth=3, label=\"Empirical Mean\")\n",
    "    plt.axvline(pop_mean, 0, 250, color=\"orange\", linewidth=3, label=\"Population Mean\")\n",
    "    plt.legend()\n",
    "    return data_mean"
   ]
  },
  {
   "cell_type": "markdown",
   "metadata": {},
   "source": [
    "## Question 2: Sampling\n",
    "\n",
    "To start with, we read in the dataframe `data` which has a row for each student in Data 100, and the following columns:\n",
    "\n",
    "* `response`, their response to the survey on a 10-point scale\n",
    "* `attended fireside chat`, whether the student attended the fireside chat after the exam\n",
    "* `saw on piazza`, whether the student _saw_ the survey Piazza post\n",
    "* `social pressure bias`, the amount a student's `response` changes when faced with social pressure; for example, if `response` was 5 and `social pressure bias` was -1, the student would answer 4 when faced with social pressure\n",
    "* `mini-disucssion`, the student's mini-discussion section.\n",
    "\n"
   ]
  },
  {
   "cell_type": "code",
   "execution_count": null,
   "metadata": {},
   "outputs": [],
   "source": [
    "means = {} # this will collect our mean estimates for each option\n",
    "data = pd.read_csv(\"data/responses.csv\")\n",
    "data"
   ]
  },
  {
   "cell_type": "markdown",
   "metadata": {},
   "source": [
    "For each sampling procedure, we will bootstrap from `data` using the mean of `response` as our test statistic, calculate the bootstrapped estimate of the mean of `response`, and plot a histogram comparing our empirical estimate to the true population mean, which is:"
   ]
  },
  {
   "cell_type": "code",
   "execution_count": null,
   "metadata": {},
   "outputs": [],
   "source": [
    "data[\"response\"].mean()"
   ]
  },
  {
   "cell_type": "markdown",
   "metadata": {},
   "source": [
    "### Option A\n",
    "\n",
    "Recall that in option A:\n",
    "\n",
    "> The professor sends a Zoom poll to all students in the first fireside chat following the exam.\n",
    "\n",
    "To simulate this, we will bootstrap from `data` among the students for whom `attended fireside chat` is `True`. We assume that only 80% of students in the fireside chat complete the poll."
   ]
  },
  {
   "cell_type": "code",
   "execution_count": null,
   "metadata": {},
   "outputs": [],
   "source": [
    "# option A\n",
    "np.random.seed(42)\n",
    "\n",
    "replications = 1000\n",
    "sample_frac = 0.8 # assume only 80% of students respond to the poll\n",
    "data_A = []\n",
    "for _ in  range(replications):\n",
    "    responses = data[data[\"attended fireside chat\"]].sample(frac=sample_frac)\n",
    "    data_A.append(responses[\"response\"].mean())\n",
    "\n",
    "means[\"A\"] = plot_sample(data_A)\n",
    "means[\"A\"]"
   ]
  },
  {
   "cell_type": "markdown",
   "metadata": {},
   "source": [
    "### Option B\n",
    "\n",
    "Recall that in option B:\n",
    "\n",
    "> The professor adds a question to the homework assignment of a simple random sample of students within each discussion section.\n",
    "\n",
    "To simulate this, we will first add a new column `discussion` to `data` with the student's discussion section number (taken from `mini-discussion`). We will then bootstrap from `data` by grouping by `discussion` and sampling 10 students from each section."
   ]
  },
  {
   "cell_type": "code",
   "execution_count": null,
   "metadata": {},
   "outputs": [],
   "source": [
    "# option B\n",
    "np.random.seed(42)\n",
    "\n",
    "# add discussion column to data\n",
    "data[\"discussion\"] = data[\"mini-discussion\"].str[:-1].astype(int)\n",
    "\n",
    "replications = 1000\n",
    "sample_size = 10 # survey 10 students in each section\n",
    "data_B = []\n",
    "for _ in  range(replications):\n",
    "    responses = data.groupby(\"discussion\").sample(n=sample_size)\n",
    "    data_B.append(responses[\"response\"].mean())\n",
    "\n",
    "means[\"B\"] = plot_sample(data_B)\n",
    "means[\"B\"]"
   ]
  },
  {
   "cell_type": "markdown",
   "metadata": {},
   "source": [
    "### Option C\n",
    "\n",
    "Recall that in option C:\n",
    "\n",
    "> The professor makes a post on Piazza asking students to submit a Google Form.\n",
    "\n",
    "To simulate this, we will bootstrap from `data` among the students for whom `saw on Piazza` is `True`. We assume that only 40% of students who see the post complete the form."
   ]
  },
  {
   "cell_type": "code",
   "execution_count": null,
   "metadata": {},
   "outputs": [],
   "source": [
    "# option C\n",
    "np.random.seed(42)\n",
    "\n",
    "replications = 1000\n",
    "sample_frac = 0.4 # assume only 40% of students who saw the post responded\n",
    "data_C = []\n",
    "for _ in  range(replications):\n",
    "    responses = data[data[\"saw on piazza\"]].sample(frac=sample_frac)\n",
    "    data_C.append(responses[\"response\"].mean())\n",
    "\n",
    "means[\"C\"] = plot_sample(data_C)\n",
    "means[\"C\"]"
   ]
  },
  {
   "cell_type": "markdown",
   "metadata": {},
   "source": [
    "### Option D\n",
    "\n",
    "Recall that in option D:\n",
    "\n",
    "> The professor chooses a simple random sample of mini-discussion sections, goes to each selected section, and surveys each student in the group as part of the ending discussion question.\n",
    "\n",
    "To simulate this, we will bootstrap from `data` by randomly choosing 20 mini-discussion sections and filtering out the students in `data` who are not in one of the selected sections. Note that for this sampling procedure, because the students are being asked in public, we also need to account for social pressure bias by adding the `social pressure bias` column to `response` before taking the mean."
   ]
  },
  {
   "cell_type": "code",
   "execution_count": null,
   "metadata": {},
   "outputs": [],
   "source": [
    "# option D\n",
    "np.random.seed(42)\n",
    "\n",
    "replications = 1000\n",
    "sample_size = 20 # choose 4 discussion sections\n",
    "data_D = []\n",
    "for _ in range(replications):\n",
    "    sampled_discussions = np.random.choice(data[\"mini-discussion\"].unique(), replace=False, size=sample_size)\n",
    "    responses = data[data[\"mini-discussion\"].isin(sampled_discussions)]\n",
    "    \n",
    "    # account for social pressure bias\n",
    "    responses.loc[:,\"response\"] = responses.loc[:,\"response\"] + responses.loc[:,\"social pressure bias\"]\n",
    "    data_D.append(responses[\"response\"].mean())\n",
    "\n",
    "means[\"D\"] = plot_sample(data_D)\n",
    "means[\"D\"]"
   ]
  },
  {
   "cell_type": "markdown",
   "metadata": {},
   "source": [
    "### Results\n",
    "\n",
    "The cell below summarizes the results of each sampling procedure using the `means` dictionary. Note that option B is the theoretically optimal sampling procedure, and indeed does obtain the lowest estimation error in magnitude."
   ]
  },
  {
   "cell_type": "code",
   "execution_count": null,
   "metadata": {},
   "outputs": [],
   "source": [
    "# summary of sampling processes\n",
    "actual_mean = data[\"response\"].mean()\n",
    "print(f\"Actual Mean: {actual_mean:.4f}\")\n",
    "for option, mean in means.items():\n",
    "    print(\n",
    "        f\"Option {option}:   Mean = {mean:.4f}   Bias = {(mean - actual_mean):.4f}\"\n",
    "        f\"{'   (THEORETICALLY OPTIMAL)' if option == 'B' else ''}\"\n",
    "    )"
   ]
  },
  {
   "cell_type": "markdown",
   "metadata": {},
   "source": [
    " "
   ]
  }
 ],
 "metadata": {
  "kernelspec": {
   "display_name": "Python 3",
   "language": "python",
   "name": "python3"
  },
  "language_info": {
   "codemirror_mode": {
    "name": "ipython",
    "version": 3
   },
   "file_extension": ".py",
   "mimetype": "text/x-python",
   "name": "python",
   "nbconvert_exporter": "python",
   "pygments_lexer": "ipython3",
   "version": "3.8.6"
  }
 },
 "nbformat": 4,
 "nbformat_minor": 4
}