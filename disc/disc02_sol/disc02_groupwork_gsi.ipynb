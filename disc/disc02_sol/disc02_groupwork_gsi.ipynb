{
 "cells": [
  {
   "cell_type": "markdown",
   "id": "f6f8ceb4",
   "metadata": {},
   "source": [
    "# Discussion 2: Pandas Group Work\n",
    "\n",
    "Now that you've tested your knowledge on the practice worksheet, it's time to actually use that knowledge to make interesting queries on real data. We will be using the California `babynames` data from lecture, but we will be making different data queries.\n",
    "\n",
    "The following are 5 tasks that require relatively complex queries, especially compared to what you just did on the worksheet. Form groups of 3 or 4, and choose one task to complete as a group. Discuss best strategies to accomplish the task (in terms of code efficiency, conciseness, etc.) Do not hesitate to Google for help (either to look at the Pandas documentation or StackExchange). \n",
    " \n",
    "If time permits, we will discuss our responses as a class and consider alternatives, if any. If your group finishes their task early, challenge yourself with another one!"
   ]
  },
  {
   "cell_type": "code",
   "execution_count": 2,
   "id": "5d8978f3",
   "metadata": {},
   "outputs": [],
   "source": [
    "import numpy as np\n",
    "import pandas as pd"
   ]
  },
  {
   "cell_type": "code",
   "execution_count": 3,
   "id": "a2404a69",
   "metadata": {},
   "outputs": [],
   "source": [
    "# loading up the California baby names data\n",
    "\n",
    "import urllib.request\n",
    "import os.path\n",
    "import zipfile\n",
    "\n",
    "data_url = \"https://www.ssa.gov/oact/babynames/state/namesbystate.zip\"\n",
    "local_filename = \"babynamesbystate.zip\"\n",
    "if not os.path.exists(local_filename): # if the data exists don't download again\n",
    "    with urllib.request.urlopen(data_url) as resp, open(local_filename, 'wb') as f:\n",
    "        f.write(resp.read())\n",
    "\n",
    "zf = zipfile.ZipFile(local_filename, 'r')\n",
    "\n",
    "ca_name = 'CA.TXT'\n",
    "field_names = ['State', 'Sex', 'Year', 'Name', 'Count']\n",
    "with zf.open(ca_name) as fh:\n",
    "    babynames = pd.read_csv(fh, header=None, names=field_names)"
   ]
  },
  {
   "cell_type": "markdown",
   "id": "625775be",
   "metadata": {},
   "source": [
    "## Task 1\n",
    "\n",
    "There's over 20,000 unique names in this dataset. However, some have been used for longer periods of time than others. Create a Pandas DataFrame where the index is the name, and there are two columns: one corresponding to the first year in which that name appeared in the dataset, and the other corresponding to the last year in which it appeared. Add a third column corresponding to the longevity of the name (how many years it's been used), and arrange the table by decreasing longevity, and display only the first 10 names."
   ]
  },
  {
   "cell_type": "code",
   "execution_count": 4,
   "id": "7baa5721",
   "metadata": {},
   "outputs": [
    {
     "data": {
      "text/html": [
       "<div>\n",
       "<style scoped>\n",
       "    .dataframe tbody tr th:only-of-type {\n",
       "        vertical-align: middle;\n",
       "    }\n",
       "\n",
       "    .dataframe tbody tr th {\n",
       "        vertical-align: top;\n",
       "    }\n",
       "\n",
       "    .dataframe thead th {\n",
       "        text-align: right;\n",
       "    }\n",
       "</style>\n",
       "<table border=\"1\" class=\"dataframe\">\n",
       "  <thead>\n",
       "    <tr style=\"text-align: right;\">\n",
       "      <th></th>\n",
       "      <th>min</th>\n",
       "      <th>max</th>\n",
       "      <th>Longevity</th>\n",
       "    </tr>\n",
       "    <tr>\n",
       "      <th>Name</th>\n",
       "      <th></th>\n",
       "      <th></th>\n",
       "      <th></th>\n",
       "    </tr>\n",
       "  </thead>\n",
       "  <tbody>\n",
       "    <tr>\n",
       "      <th>Marcella</th>\n",
       "      <td>1910</td>\n",
       "      <td>2021</td>\n",
       "      <td>111</td>\n",
       "    </tr>\n",
       "    <tr>\n",
       "      <th>Catherine</th>\n",
       "      <td>1910</td>\n",
       "      <td>2021</td>\n",
       "      <td>111</td>\n",
       "    </tr>\n",
       "    <tr>\n",
       "      <th>Juan</th>\n",
       "      <td>1910</td>\n",
       "      <td>2021</td>\n",
       "      <td>111</td>\n",
       "    </tr>\n",
       "    <tr>\n",
       "      <th>Ann</th>\n",
       "      <td>1910</td>\n",
       "      <td>2021</td>\n",
       "      <td>111</td>\n",
       "    </tr>\n",
       "    <tr>\n",
       "      <th>Elvira</th>\n",
       "      <td>1910</td>\n",
       "      <td>2021</td>\n",
       "      <td>111</td>\n",
       "    </tr>\n",
       "    <tr>\n",
       "      <th>Virgil</th>\n",
       "      <td>1910</td>\n",
       "      <td>2021</td>\n",
       "      <td>111</td>\n",
       "    </tr>\n",
       "    <tr>\n",
       "      <th>Vera</th>\n",
       "      <td>1910</td>\n",
       "      <td>2021</td>\n",
       "      <td>111</td>\n",
       "    </tr>\n",
       "    <tr>\n",
       "      <th>Ina</th>\n",
       "      <td>1910</td>\n",
       "      <td>2021</td>\n",
       "      <td>111</td>\n",
       "    </tr>\n",
       "    <tr>\n",
       "      <th>Inez</th>\n",
       "      <td>1910</td>\n",
       "      <td>2021</td>\n",
       "      <td>111</td>\n",
       "    </tr>\n",
       "    <tr>\n",
       "      <th>John</th>\n",
       "      <td>1910</td>\n",
       "      <td>2021</td>\n",
       "      <td>111</td>\n",
       "    </tr>\n",
       "  </tbody>\n",
       "</table>\n",
       "</div>"
      ],
      "text/plain": [
       "            min   max  Longevity\n",
       "Name                            \n",
       "Marcella   1910  2021        111\n",
       "Catherine  1910  2021        111\n",
       "Juan       1910  2021        111\n",
       "Ann        1910  2021        111\n",
       "Elvira     1910  2021        111\n",
       "Virgil     1910  2021        111\n",
       "Vera       1910  2021        111\n",
       "Ina        1910  2021        111\n",
       "Inez       1910  2021        111\n",
       "John       1910  2021        111"
      ]
     },
     "execution_count": 4,
     "metadata": {},
     "output_type": "execute_result"
    }
   ],
   "source": [
    "# one of many possible solutions\n",
    "\n",
    "minmax_names = babynames.groupby('Name')['Year'].agg([min, max])\n",
    "minmax_names['Longevity'] = minmax_names['max'] - minmax_names['min']\n",
    "minmax_names.sort_values(by = 'Longevity', ascending = False).head(10)"
   ]
  },
  {
   "cell_type": "markdown",
   "id": "c04bed55",
   "metadata": {},
   "source": [
    "## Task 2"
   ]
  },
  {
   "cell_type": "markdown",
   "id": "5952016a",
   "metadata": {},
   "source": [
    "Some think that baby names are getting longer, on average, as time wears on. We're not sure if that's true, but let's query the data to check this out. Write code to return a Pandas Series whose index is the year (from 1910 to 2021), and whose values are the average name length **among all babies in the dataset for that year**. *(More concretely, for each year, we are asking for the sum of the name lengths of every individual baby included in the dataset, divided by the number of babies included in that year.)*\n",
    "\n",
    "Print out the first 10 years and the last 10 years and see if you notice any significant differences."
   ]
  },
  {
   "cell_type": "code",
   "execution_count": 5,
   "id": "792144ef",
   "metadata": {},
   "outputs": [
    {
     "data": {
      "text/plain": [
       "Year\n",
       "1910    5.800939\n",
       "1911    5.784133\n",
       "1912    5.813440\n",
       "1913    5.803657\n",
       "1914    5.805690\n",
       "1915    5.793135\n",
       "1916    5.785206\n",
       "1917    5.802109\n",
       "1918    5.804126\n",
       "1919    5.790559\n",
       "dtype: float64"
      ]
     },
     "execution_count": 5,
     "metadata": {},
     "output_type": "execute_result"
    }
   ],
   "source": [
    "# one of many possible solutions\n",
    "\n",
    "babynames['lengths_name'] = babynames['Name'].str.len()*babynames['Count']\n",
    "avg_lens = babynames.groupby('Year')['lengths_name'].agg(sum)/babynames.groupby('Year')['Count'].agg(sum)\n",
    "avg_lens.head(10)"
   ]
  },
  {
   "cell_type": "code",
   "execution_count": 51,
   "id": "efebb9f1",
   "metadata": {},
   "outputs": [
    {
     "data": {
      "text/plain": [
       "Year\n",
       "2012    5.926478\n",
       "2013    5.908037\n",
       "2014    5.896814\n",
       "2015    5.881191\n",
       "2016    5.862503\n",
       "2017    5.845563\n",
       "2018    5.821742\n",
       "2019    5.800851\n",
       "2020    5.792876\n",
       "2021    5.762284\n",
       "dtype: float64"
      ]
     },
     "execution_count": 51,
     "metadata": {},
     "output_type": "execute_result"
    }
   ],
   "source": [
    "avg_lens.tail(10)"
   ]
  },
  {
   "cell_type": "markdown",
   "id": "28914e01",
   "metadata": {},
   "source": [
    "## Task 3\n",
    "\n",
    "Of the unique names given in different years, what proportion of them start with a vowel? Write Pandas code to return a Pandas Series with the index as the year and the value as the proportion of different names given that year that start with a vowel.\n",
    "\n",
    "*Hint: the str.startswith() method for a Pandas series may be useful to you. You may also find it useful to define a function and input to the agg method for groupby objects, as in lecture.*"
   ]
  },
  {
   "cell_type": "code",
   "execution_count": 22,
   "id": "f43f59e6",
   "metadata": {},
   "outputs": [
    {
     "data": {
      "text/plain": [
       "Year\n",
       "1910    0.225895\n",
       "1911    0.239186\n",
       "1912    0.236559\n",
       "1913    0.230016\n",
       "1914    0.229577\n",
       "          ...   \n",
       "2017    0.255640\n",
       "2018    0.251298\n",
       "2019    0.255907\n",
       "2020    0.256907\n",
       "2021    0.259578\n",
       "Name: Name, Length: 112, dtype: float64"
      ]
     },
     "execution_count": 22,
     "metadata": {},
     "output_type": "execute_result"
    }
   ],
   "source": [
    "# one solution, using a user-defined function\n",
    "\n",
    "def prop_vowels(series):\n",
    "    return(np.mean(series.str.startswith(('A', 'E', 'I', 'O', 'U'))))\n",
    "\n",
    "babynames.groupby('Year')['Name'].agg(prop_vowels)"
   ]
  },
  {
   "cell_type": "markdown",
   "id": "8e39fcee",
   "metadata": {},
   "source": [
    "## Task 4\n",
    "\n",
    "Are names becoming more unique over time? Return a Pandas Series whose index is the Year and whose values are the number of names given that year whose count is less than 15. Print the first 10 and last 10 elements of the series."
   ]
  },
  {
   "cell_type": "code",
   "execution_count": 7,
   "id": "b21138fb",
   "metadata": {},
   "outputs": [
    {
     "data": {
      "text/plain": [
       "Year\n",
       "1910    205\n",
       "1911    227\n",
       "1912    308\n",
       "1913    323\n",
       "1914    384\n",
       "1915    445\n",
       "1916    469\n",
       "1917    475\n",
       "1918    513\n",
       "1919    514\n",
       "Name: Name, dtype: int64"
      ]
     },
     "execution_count": 7,
     "metadata": {},
     "output_type": "execute_result"
    }
   ],
   "source": [
    "## one of many possible solutions\n",
    "\n",
    "names = babynames[babynames['Count'] < 15].groupby('Year')['Name'].count()\n",
    "names.head(10)"
   ]
  },
  {
   "cell_type": "code",
   "execution_count": 77,
   "id": "ea2942f6",
   "metadata": {},
   "outputs": [
    {
     "data": {
      "text/plain": [
       "Year\n",
       "2012    3978\n",
       "2013    3879\n",
       "2014    3892\n",
       "2015    3832\n",
       "2016    3717\n",
       "2017    3678\n",
       "2018    3571\n",
       "2019    3531\n",
       "2020    3485\n",
       "2021    3586\n",
       "Name: Name, dtype: int64"
      ]
     },
     "execution_count": 77,
     "metadata": {},
     "output_type": "execute_result"
    }
   ],
   "source": [
    "names.tail(10)"
   ]
  },
  {
   "cell_type": "markdown",
   "id": "9ef900e0",
   "metadata": {},
   "source": [
    "## Task 5\n",
    "\n"
   ]
  },
  {
   "cell_type": "markdown",
   "id": "7d007718",
   "metadata": {},
   "source": [
    "Among names that were very popular (let's say, have a count greater than 1000), how many different names are there across sex and year? Write Pandas code that returns a Pandas DataFrame, whose columns correspond to sex and whose row indices correspond to year. Each entry should be the number of unique, \"popular\" names for that year for that sex (given our definition of popular from above).\n",
    "\n",
    "If there's a NaN value (missing value) in the table, why do you think it's there? What do you think is a reasonable value to impute into these missing values? Fill in all missing values with the value your group finds most appropriate (look for the `fillna()` method for pandas dataframes online for info on how to do this)\n",
    "\n",
    "*Answer: Because in 1915, there are no female names whose count is more than 1000 (see bottom cell for demonstration and code). A reasonable value to impute would be 0, since when we have a missing value, it's because there are no names that are 'popular' for that year.*"
   ]
  },
  {
   "cell_type": "code",
   "execution_count": 35,
   "id": "6ad8d79b",
   "metadata": {},
   "outputs": [
    {
     "data": {
      "text/html": [
       "<div>\n",
       "<style scoped>\n",
       "    .dataframe tbody tr th:only-of-type {\n",
       "        vertical-align: middle;\n",
       "    }\n",
       "\n",
       "    .dataframe tbody tr th {\n",
       "        vertical-align: top;\n",
       "    }\n",
       "\n",
       "    .dataframe thead th {\n",
       "        text-align: right;\n",
       "    }\n",
       "</style>\n",
       "<table border=\"1\" class=\"dataframe\">\n",
       "  <thead>\n",
       "    <tr style=\"text-align: right;\">\n",
       "      <th>Sex</th>\n",
       "      <th>F</th>\n",
       "      <th>M</th>\n",
       "    </tr>\n",
       "    <tr>\n",
       "      <th>Year</th>\n",
       "      <th></th>\n",
       "      <th></th>\n",
       "    </tr>\n",
       "  </thead>\n",
       "  <tbody>\n",
       "    <tr>\n",
       "      <th>1915</th>\n",
       "      <td>0.0</td>\n",
       "      <td>1.0</td>\n",
       "    </tr>\n",
       "    <tr>\n",
       "      <th>1916</th>\n",
       "      <td>1.0</td>\n",
       "      <td>1.0</td>\n",
       "    </tr>\n",
       "    <tr>\n",
       "      <th>1917</th>\n",
       "      <td>1.0</td>\n",
       "      <td>3.0</td>\n",
       "    </tr>\n",
       "    <tr>\n",
       "      <th>1918</th>\n",
       "      <td>1.0</td>\n",
       "      <td>3.0</td>\n",
       "    </tr>\n",
       "    <tr>\n",
       "      <th>1919</th>\n",
       "      <td>1.0</td>\n",
       "      <td>2.0</td>\n",
       "    </tr>\n",
       "    <tr>\n",
       "      <th>...</th>\n",
       "      <td>...</td>\n",
       "      <td>...</td>\n",
       "    </tr>\n",
       "    <tr>\n",
       "      <th>2017</th>\n",
       "      <td>19.0</td>\n",
       "      <td>41.0</td>\n",
       "    </tr>\n",
       "    <tr>\n",
       "      <th>2018</th>\n",
       "      <td>18.0</td>\n",
       "      <td>36.0</td>\n",
       "    </tr>\n",
       "    <tr>\n",
       "      <th>2019</th>\n",
       "      <td>18.0</td>\n",
       "      <td>37.0</td>\n",
       "    </tr>\n",
       "    <tr>\n",
       "      <th>2020</th>\n",
       "      <td>17.0</td>\n",
       "      <td>35.0</td>\n",
       "    </tr>\n",
       "    <tr>\n",
       "      <th>2021</th>\n",
       "      <td>14.0</td>\n",
       "      <td>31.0</td>\n",
       "    </tr>\n",
       "  </tbody>\n",
       "</table>\n",
       "<p>107 rows × 2 columns</p>\n",
       "</div>"
      ],
      "text/plain": [
       "Sex      F     M\n",
       "Year            \n",
       "1915   0.0   1.0\n",
       "1916   1.0   1.0\n",
       "1917   1.0   3.0\n",
       "1918   1.0   3.0\n",
       "1919   1.0   2.0\n",
       "...    ...   ...\n",
       "2017  19.0  41.0\n",
       "2018  18.0  36.0\n",
       "2019  18.0  37.0\n",
       "2020  17.0  35.0\n",
       "2021  14.0  31.0\n",
       "\n",
       "[107 rows x 2 columns]"
      ]
     },
     "execution_count": 35,
     "metadata": {},
     "output_type": "execute_result"
    }
   ],
   "source": [
    "## one of many possible solutions\n",
    "\n",
    "# accomplishing first part of task, revealing NaN\n",
    "df = babynames[babynames['Count'] > 1000].pivot_table(index = 'Year', columns = 'Sex', values = 'Name', aggfunc = 'count')\n",
    "# accomplishing next part of task, where we fill in 0\n",
    "df.fillna(0)"
   ]
  },
  {
   "cell_type": "code",
   "execution_count": 33,
   "id": "94349117",
   "metadata": {},
   "outputs": [
    {
     "data": {
      "text/html": [
       "<div>\n",
       "<style scoped>\n",
       "    .dataframe tbody tr th:only-of-type {\n",
       "        vertical-align: middle;\n",
       "    }\n",
       "\n",
       "    .dataframe tbody tr th {\n",
       "        vertical-align: top;\n",
       "    }\n",
       "\n",
       "    .dataframe thead th {\n",
       "        text-align: right;\n",
       "    }\n",
       "</style>\n",
       "<table border=\"1\" class=\"dataframe\">\n",
       "  <thead>\n",
       "    <tr style=\"text-align: right;\">\n",
       "      <th></th>\n",
       "      <th>State</th>\n",
       "      <th>Sex</th>\n",
       "      <th>Year</th>\n",
       "      <th>Name</th>\n",
       "      <th>Count</th>\n",
       "    </tr>\n",
       "  </thead>\n",
       "  <tbody>\n",
       "    <tr>\n",
       "      <th>236940</th>\n",
       "      <td>CA</td>\n",
       "      <td>M</td>\n",
       "      <td>1915</td>\n",
       "      <td>John</td>\n",
       "      <td>1033</td>\n",
       "    </tr>\n",
       "    <tr>\n",
       "      <th>1488</th>\n",
       "      <td>CA</td>\n",
       "      <td>F</td>\n",
       "      <td>1915</td>\n",
       "      <td>Mary</td>\n",
       "      <td>998</td>\n",
       "    </tr>\n",
       "    <tr>\n",
       "      <th>236941</th>\n",
       "      <td>CA</td>\n",
       "      <td>M</td>\n",
       "      <td>1915</td>\n",
       "      <td>William</td>\n",
       "      <td>886</td>\n",
       "    </tr>\n",
       "    <tr>\n",
       "      <th>236942</th>\n",
       "      <td>CA</td>\n",
       "      <td>M</td>\n",
       "      <td>1915</td>\n",
       "      <td>Robert</td>\n",
       "      <td>840</td>\n",
       "    </tr>\n",
       "    <tr>\n",
       "      <th>1489</th>\n",
       "      <td>CA</td>\n",
       "      <td>F</td>\n",
       "      <td>1915</td>\n",
       "      <td>Dorothy</td>\n",
       "      <td>717</td>\n",
       "    </tr>\n",
       "    <tr>\n",
       "      <th>...</th>\n",
       "      <td>...</td>\n",
       "      <td>...</td>\n",
       "      <td>...</td>\n",
       "      <td>...</td>\n",
       "      <td>...</td>\n",
       "    </tr>\n",
       "    <tr>\n",
       "      <th>1920</th>\n",
       "      <td>CA</td>\n",
       "      <td>F</td>\n",
       "      <td>1915</td>\n",
       "      <td>Madge</td>\n",
       "      <td>5</td>\n",
       "    </tr>\n",
       "    <tr>\n",
       "      <th>1919</th>\n",
       "      <td>CA</td>\n",
       "      <td>F</td>\n",
       "      <td>1915</td>\n",
       "      <td>Madelyn</td>\n",
       "      <td>5</td>\n",
       "    </tr>\n",
       "    <tr>\n",
       "      <th>1918</th>\n",
       "      <td>CA</td>\n",
       "      <td>F</td>\n",
       "      <td>1915</td>\n",
       "      <td>Lulu</td>\n",
       "      <td>5</td>\n",
       "    </tr>\n",
       "    <tr>\n",
       "      <th>1917</th>\n",
       "      <td>CA</td>\n",
       "      <td>F</td>\n",
       "      <td>1915</td>\n",
       "      <td>Lucia</td>\n",
       "      <td>5</td>\n",
       "    </tr>\n",
       "    <tr>\n",
       "      <th>237314</th>\n",
       "      <td>CA</td>\n",
       "      <td>M</td>\n",
       "      <td>1915</td>\n",
       "      <td>Wright</td>\n",
       "      <td>5</td>\n",
       "    </tr>\n",
       "  </tbody>\n",
       "</table>\n",
       "<p>837 rows × 5 columns</p>\n",
       "</div>"
      ],
      "text/plain": [
       "       State Sex  Year     Name  Count\n",
       "236940    CA   M  1915     John   1033\n",
       "1488      CA   F  1915     Mary    998\n",
       "236941    CA   M  1915  William    886\n",
       "236942    CA   M  1915   Robert    840\n",
       "1489      CA   F  1915  Dorothy    717\n",
       "...      ...  ..   ...      ...    ...\n",
       "1920      CA   F  1915    Madge      5\n",
       "1919      CA   F  1915  Madelyn      5\n",
       "1918      CA   F  1915     Lulu      5\n",
       "1917      CA   F  1915    Lucia      5\n",
       "237314    CA   M  1915   Wright      5\n",
       "\n",
       "[837 rows x 5 columns]"
      ]
     },
     "execution_count": 33,
     "metadata": {},
     "output_type": "execute_result"
    }
   ],
   "source": [
    "# A little justification for why we have the missing value; clear that the only 'popular' name whose count is greater than 1000 is John\n",
    "# No female names were given more than 1000 times in that year\n",
    "\n",
    "babynames[babynames['Year'] == 1915].sort_values(by = 'Count', ascending = False)"
   ]
  }
 ],
 "metadata": {
  "kernelspec": {
   "display_name": "Python 3",
   "language": "python",
   "name": "python3"
  },
  "language_info": {
   "codemirror_mode": {
    "name": "ipython",
    "version": 3
   },
   "file_extension": ".py",
   "mimetype": "text/x-python",
   "name": "python",
   "nbconvert_exporter": "python",
   "pygments_lexer": "ipython3",
   "version": "3.8.2"
  }
 },
 "nbformat": 4,
 "nbformat_minor": 5
}
