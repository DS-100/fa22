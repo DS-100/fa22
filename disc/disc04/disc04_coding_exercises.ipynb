{
 "cells": [
  {
   "cell_type": "markdown",
   "id": "dee246be",
   "metadata": {},
   "source": [
    "# Discussion 4: Visualizing Bigfoot"
   ]
  },
  {
   "cell_type": "markdown",
   "id": "3a933e69",
   "metadata": {},
   "source": [
    "Many of you have probably heard of Bigfoot before. It's a mysterious ape-like creature that is said to live in North American forests. Most doubt it's existence, but a passionate few swear that bigfoot is real. In this discussion, you will be working with a dataset on bigfoot sightings, visualizing variable distributions and combinations thereof to better understand how/when/where bigfoot is reportedly spotted, and possibly either confirm or cast doubt on its existence."
   ]
  },
  {
   "cell_type": "code",
   "execution_count": 2,
   "id": "a0449331",
   "metadata": {},
   "outputs": [],
   "source": [
    "# load up packages\n",
    "\n",
    "import pandas as pd\n",
    "import matplotlib.pyplot as plt\n",
    "import seaborn as sns\n",
    "\n",
    "import warnings\n",
    "warnings.filterwarnings('ignore')"
   ]
  },
  {
   "cell_type": "code",
   "execution_count": 3,
   "id": "cb00b0ae",
   "metadata": {},
   "outputs": [],
   "source": [
    "# loading up bigfoot data\n",
    "url = 'https://raw.githubusercontent.com/rfordatascience/tidytuesday/master/data/2022/2022-09-13/bigfoot.csv'\n",
    "df = pd.read_csv(url)"
   ]
  },
  {
   "cell_type": "code",
   "execution_count": 41,
   "id": "f714fdcb",
   "metadata": {},
   "outputs": [
    {
     "data": {
      "text/plain": [
       "Index(['observed', 'location_details', 'county', 'state', 'season', 'title',\n",
       "       'latitude', 'longitude', 'date', 'number', 'classification', 'geohash',\n",
       "       'temperature_high', 'temperature_mid', 'temperature_low', 'dew_point',\n",
       "       'humidity', 'cloud_cover', 'moon_phase', 'precip_intensity',\n",
       "       'precip_probability', 'precip_type', 'pressure', 'summary', 'uv_index',\n",
       "       'visibility', 'wind_bearing', 'wind_speed'],\n",
       "      dtype='object')"
      ]
     },
     "execution_count": 41,
     "metadata": {},
     "output_type": "execute_result"
    }
   ],
   "source": [
    "df.columns"
   ]
  },
  {
   "cell_type": "markdown",
   "id": "4d36f05e",
   "metadata": {},
   "source": [
    "The bigfoot data contains a ton of variables about each reported bigfoot spotting, including location information, weather, and moon phase. The `observed` variable is pretty interesting, since it contains paragraphs of stories recounting how bigfoot was spotted for each report. Here's one:"
   ]
  },
  {
   "cell_type": "code",
   "execution_count": null,
   "id": "512769c1",
   "metadata": {},
   "outputs": [],
   "source": [
    "df['observed'][4]"
   ]
  },
  {
   "cell_type": "markdown",
   "id": "2e4825c9",
   "metadata": {},
   "source": [
    "This dataset is extremely messy, with observations missing many values across multiple columns. This is normally the case with data based on citizen reports (many do not fill out all required fields). For the purposes of this discussion, we will drop all observations with any missing values, but note this is horrible practice and you should almost never do this in real life!"
   ]
  },
  {
   "cell_type": "code",
   "execution_count": 5,
   "id": "5f47b6e1",
   "metadata": {},
   "outputs": [],
   "source": [
    "bigfoot = df.dropna()"
   ]
  },
  {
   "cell_type": "markdown",
   "id": "f7596953",
   "metadata": {},
   "source": [
    "## Part I: Guided Visualizations\n",
    "\n",
    "In this part, you will be asked to complete a series of relatively small visualization tasks. For each task, you will first be prompted with some piece of information your visualization is to convey, and you and your group members must:\n",
    "\n",
    "1. decide on which visualization is most appropriate, and \n",
    "2. write code to actually make the visualization. \n",
    "\n",
    "*Feel free to play around with `seaborn` or `matplotlib` plot decorations, but don't worry too much about this yet. In Part II, you'll have the opportunity to visualize something of your own choosing, and encouraged to use plotting features to make it as informative/pretty as possible.*"
   ]
  },
  {
   "cell_type": "markdown",
   "id": "d9e3a44a",
   "metadata": {},
   "source": [
    "### Task 1\n",
    "\n",
    "Let's first look at distributions of individual quantitative variables (or, their *marginal* distributions). Let's say we're interested in `wind_speed`, `precip_intensity`, and `moon_phase`. For each variable, produce a visualization that depicts that variable's marginal distribution."
   ]
  },
  {
   "cell_type": "code",
   "execution_count": null,
   "id": "372a9279",
   "metadata": {},
   "outputs": [],
   "source": []
  },
  {
   "cell_type": "markdown",
   "id": "3b35aaf1",
   "metadata": {},
   "source": [
    "### Task 2\n",
    "\n",
    "Now, let's see how these quantitative variables might relate to each other when bigfoot is reportedly out. Choose two variables of the three in Task 1, and produce a visualization that shows what combinations of your two variables are most common when bigfoot is spotted."
   ]
  },
  {
   "cell_type": "code",
   "execution_count": null,
   "id": "c3bbffe8",
   "metadata": {},
   "outputs": [],
   "source": []
  },
  {
   "cell_type": "markdown",
   "id": "d2d54ca9",
   "metadata": {},
   "source": [
    "### Task 3\n",
    "\n",
    "Now, let's look at some qualitative variables. Produce a visualization that shows the distribution of bigfoot sightings across the variable `season`."
   ]
  },
  {
   "cell_type": "code",
   "execution_count": null,
   "id": "663f1560",
   "metadata": {},
   "outputs": [],
   "source": []
  },
  {
   "cell_type": "markdown",
   "id": "d2817eab",
   "metadata": {},
   "source": [
    "### Task 4\n",
    "\n",
    "Return to the two quantitive variables you picked in Task 2. Produce a single visualization that showcases the prevalence of bigfoot sightings at particular combinations of those two variables from Task 2, across each season."
   ]
  },
  {
   "cell_type": "code",
   "execution_count": null,
   "id": "aeff6a3d",
   "metadata": {},
   "outputs": [],
   "source": []
  },
  {
   "cell_type": "markdown",
   "id": "b472d290",
   "metadata": {},
   "source": [
    "## Part II: Your Own Visualizations\n",
    "\n",
    "Now that you've gotten some more practice making visualizations to convey specific pieces of information, challenge yourselves to produce an interesting visualization that presents information from at least four different variables. If you're stuck with choosing which variables to incorporate, the following are some ideas. You and your group members should decide on how to best visualize all of this information together (think about colors and sizes of objects as ways to convey additional quantitative/qualitative information).\n",
    "\n",
    "1. Define the temperature swing for some day bigfoot was spotted as the `temperature_low` subtracted from `temperature_high`. Is there a relationship between the temperature swing and moon phase for bigfoot sightings, across the two different `precip_type` ('snow' and 'rain')? \n",
    "\n",
    "2. Define a sighting as being in high-humidity conditions if the humidity exceeds 80%. Try to visualize the relationship between whether or not an observation occurred in high humidity conditions, the degree of cloud cover, the high temperature, and the moon phase (*think about how the color and sizes of points can be used top convey extra information*).\n",
    "\n",
    "3. We didn't see any preferential moon phase for bigfoot sightings, but maybe there is a preferential moon phase in certain parts of the country. Present a visualization of the locations of each bigfoot sighting (using latitude and longitude), the moon phase, and whether or not the report contains the word 'camp' (to indicate that bigfoot was spotted while the individuals were camping). For an extra challenge, try to use `plotly` to make an interactive map showing these variables (see the following link for reference: https://plotly.com/python/scatter-plots-on-maps/)\n",
    "\n",
    "\n",
    "*If you have time, challenge yourself to also make your plot as visually appealing as possible! Play around with color, axis labels, legends, and see what you can do!*"
   ]
  },
  {
   "cell_type": "code",
   "execution_count": null,
   "id": "606eabfa",
   "metadata": {},
   "outputs": [],
   "source": []
  }
 ],
 "metadata": {
  "kernelspec": {
   "display_name": "Python 3",
   "language": "python",
   "name": "python3"
  },
  "language_info": {
   "codemirror_mode": {
    "name": "ipython",
    "version": 3
   },
   "file_extension": ".py",
   "mimetype": "text/x-python",
   "name": "python",
   "nbconvert_exporter": "python",
   "pygments_lexer": "ipython3",
   "version": "3.8.2"
  }
 },
 "nbformat": 4,
 "nbformat_minor": 5
}
