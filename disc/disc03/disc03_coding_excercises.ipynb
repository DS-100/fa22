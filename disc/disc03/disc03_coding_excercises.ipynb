{
 "cells": [
  {
   "cell_type": "markdown",
   "id": "298f6eb5",
   "metadata": {},
   "source": [
    "# Discussion 3: The Most Ambitious Crossover Event Yet\n",
    "#### Matplotlib meets Pandas meets Regular Expressions to do some basic exploratory data analysis.\n",
    "\n",
    "This notebook will simulate the EDA process with a dataset you've seen a million times (`babynames`), giving you an opportunity to practice scouring data for interesting patterns using techniques you're already familiar with (Pandas, regular expressions, Matplotlib).\n",
    "\n",
    "Given the `babynames` dataset, you will be first be asked to consider and discuss a variety of factors to obtain some baseline understanding of the dataset (types of column variables, how many observations, granularity or level of each observation, etc.)\n",
    "\n",
    "Once you've obtained a baseline understanding, try to find some interesting trend/pattern/finding in the dataset, and then produce some graphical display of your finding! We have a list of potentially interesting trends to look for in case you get stuck, but if you or your group members think of something else, pursue it! If you want to go all-out with visualization, feel free to do so, but note visualization techniques will be emphasized more next week."
   ]
  },
  {
   "cell_type": "code",
   "execution_count": 1,
   "id": "c31c3d46",
   "metadata": {},
   "outputs": [],
   "source": [
    "import numpy as np\n",
    "import pandas as pd\n",
    "import matplotlib.pyplot as plt"
   ]
  },
  {
   "cell_type": "code",
   "execution_count": 2,
   "id": "66a00b81",
   "metadata": {},
   "outputs": [],
   "source": [
    "# loading up the California baby names data\n",
    "\n",
    "import urllib.request\n",
    "import os.path\n",
    "import zipfile\n",
    "\n",
    "data_url = \"https://www.ssa.gov/oact/babynames/state/namesbystate.zip\"\n",
    "local_filename = \"babynamesbystate.zip\"\n",
    "if not os.path.exists(local_filename): # if the data exists don't download again\n",
    "    with urllib.request.urlopen(data_url) as resp, open(local_filename, 'wb') as f:\n",
    "        f.write(resp.read())\n",
    "\n",
    "zf = zipfile.ZipFile(local_filename, 'r')\n",
    "\n",
    "ca_name = 'CA.TXT'\n",
    "field_names = ['State', 'Sex', 'Year', 'Name', 'Count']\n",
    "with zf.open(ca_name) as fh:\n",
    "    babynames = pd.read_csv(fh, header=None, names=field_names)"
   ]
  },
  {
   "cell_type": "markdown",
   "id": "1f258546",
   "metadata": {},
   "source": [
    "## Understanding and Critiquing the Data\n",
    "\n",
    "The following questions are somewhat open-ended and intended to be discussed as a group. Feel free to add cells to type in answers/take notes or write some code to help you think/answer the questions."
   ]
  },
  {
   "cell_type": "markdown",
   "id": "7427705e",
   "metadata": {},
   "source": [
    "### Structure"
   ]
  },
  {
   "cell_type": "markdown",
   "id": "8b8e2a55",
   "metadata": {},
   "source": [
    "1. What format is the data in? Is it in rectangular form? Or some other format?"
   ]
  },
  {
   "cell_type": "markdown",
   "id": "d1e69187",
   "metadata": {},
   "source": [
    "2. What variables are included in the dataset? What are their types?"
   ]
  },
  {
   "cell_type": "markdown",
   "id": "37cfc95a",
   "metadata": {},
   "source": [
    "3. Of these variables, which are categorical and which are quantitative? Of the quantitative variables, which are continuous and which are discrete? Of the categorical variables, which are nominal vs. ordinal?"
   ]
  },
  {
   "cell_type": "markdown",
   "id": "171af076",
   "metadata": {},
   "source": [
    "### Granularity, Scope, and Temporality"
   ]
  },
  {
   "cell_type": "markdown",
   "id": "852430ca",
   "metadata": {},
   "source": [
    "To assess such qualities of a dataset, we might require a little background info on the data source. Feel free to reference the following link when answering the questions, and be sure to think critically!\n",
    "https://www.ssa.gov/oact/babynames/background.html"
   ]
  },
  {
   "cell_type": "markdown",
   "id": "93a7ab43",
   "metadata": {},
   "source": [
    "1. How would you assess the *granularity* of the data? What does each observation represent? Are the granular levels of each observation consistent, or is there a mismatch?"
   ]
  },
  {
   "cell_type": "markdown",
   "id": "24fdb17b",
   "metadata": {},
   "source": [
    "2. We're always concerned with our data being properly scoped so as to answer questions about some population(s) of interest. Let's suppose we wish to compare the popularity of babynames given in California in the year 1920. What are the population(s) of interest, and is the data properly scoped to accurately reflect these populations? We will come back to this point when you formulate/choose a question of interest."
   ]
  },
  {
   "cell_type": "markdown",
   "id": "d9eb13e1",
   "metadata": {},
   "source": [
    "3. Describe the temporality of the dataset. How often/when is the data updated? Do the data exist outside the confines of time, or is there a time-dependence of observations? If there is a time-dependence, what time scale are we dealing with?"
   ]
  },
  {
   "cell_type": "markdown",
   "id": "7b25f734",
   "metadata": {},
   "source": [
    "### Faithfulness (and Missing Values)"
   ]
  },
  {
   "cell_type": "markdown",
   "id": "799bad72",
   "metadata": {},
   "source": [
    "1. Are there any missing values in the dataset?"
   ]
  },
  {
   "cell_type": "markdown",
   "id": "3567e906",
   "metadata": {},
   "source": [
    "2. Are there any huge outliers in any quantitative variable? Try writing a some code with output to verify if there are any strong outliers in such variables. (Hint: the only real outliers you could get are in the count column, see if there are any out-of-the-ordinary count values. Options are to use the `describe()` method, or make a simple plot)"
   ]
  },
  {
   "cell_type": "markdown",
   "id": "5b59602d",
   "metadata": {},
   "source": [
    "3. If there are no missing values in the dataset, are we free from the perils of missing data? (hint: given the background link above, is this data completely raw? if not, how could missingness still affect us?)"
   ]
  },
  {
   "cell_type": "markdown",
   "id": "dd0d8aeb",
   "metadata": {},
   "source": [
    "## Exploring the Data for Patterns"
   ]
  },
  {
   "cell_type": "markdown",
   "id": "b663157a",
   "metadata": {},
   "source": [
    "Having seen this dataset over and over again, and having to answer such a comprehensive set of questions about the data, you all probably have a solid intuition about the dataset and probably have some ideas of trends/patterns you may want to uncover. Discuss amongst yourselves what's something interesting to look for, and pursue it (try to formulate a question where you would have to use regular expressions; questions about certain letter patterns/pairings are good places to start)! Challenge yourselves to produce a plot at the end showing the result of your exploration.\n",
    "\n",
    "If you don't have any ideas, feel free to start here:\n",
    "\n",
    "+ As a proportion of individuals named in each year, how many babies have a double-vowel pattern appear at the end or start of their name, compared to somewhere in the middle (think: Aaron and Stephanie vs. Leah). For each year, you should have two proportions, one for the proportion of names with the pattern at either end and one for the proportion with the pattern in the middle.\n",
    "\n",
    "\n",
    "+ For each year, how many male and female names have a triple vowel pattern somewhere in their name (L**eia**; ignore the first letter for simplicity)? Express each quantity as a proportion of total male or female names for each year, so that you have two proportions for each year. Plot each proportion with the x-axis as the year, and see if such name patterns are becoming more or less common when split by sex.\n",
    "\n",
    "\n",
    "+ For each year, how many babies in CA had a name with a triple-consonant pattern somewhere in the middle of their name (e.g. Matthew, pattern does not include first and last letters)? Be sure to account for the frequency of the particular names for each year.\n",
    "\n",
    "\n",
    "+ Consonant-Vowel or Vowel-Consonant? For each year, find the proportion of babies that had a name ending with a vowel followed by a consonant (Esth**er**) and the proportion of babies that had a name ending with a consonant followed by a vowel (Veroni**ca**). Plot the two proportions by year and compare differences and trends.\n",
    "\n",
    "*Feel free to make as many new cells as you want; it's your EDA!*\n",
    "\n",
    "*Also, feel free to Google for any coding tips. This link should give you an idea of how regular expressions can be used in Pandas to query data by string patterns (https://kanoki.org/2019/11/12/how-to-use-regex-in-pandas/)*. The `str.contains()` method may also be useful.\n",
    "\n",
    "*Also, you can assume certain niceties about the Name column, like that all names begin with a capital letter and the remaining letter are lowercase, and there are no non-alphabetical characters in the names (note that, according to the background information link, names with hyphens are collapsed into single words)*"
   ]
  },
  {
   "cell_type": "code",
   "execution_count": null,
   "id": "43e65424",
   "metadata": {},
   "outputs": [],
   "source": []
  },
  {
   "cell_type": "markdown",
   "id": "01660668",
   "metadata": {},
   "source": [
    "## Post-EDA Critique"
   ]
  },
  {
   "cell_type": "markdown",
   "id": "d829bf26",
   "metadata": {},
   "source": [
    "1. What did you find in your analysis?\n",
    "\n",
    "\n",
    "2. Datasets are always representations of some population of interest. Let's suppose our population of interest is all individuals living in the state of California from 1910 to 2021. Would you be comfortable extending your findings to this population? Why or why not? (hint: consider our previous discussion about *scope*)"
   ]
  }
 ],
 "metadata": {
  "kernelspec": {
   "display_name": "Python 3",
   "language": "python",
   "name": "python3"
  },
  "language_info": {
   "codemirror_mode": {
    "name": "ipython",
    "version": 3
   },
   "file_extension": ".py",
   "mimetype": "text/x-python",
   "name": "python",
   "nbconvert_exporter": "python",
   "pygments_lexer": "ipython3",
   "version": "3.8.2"
  }
 },
 "nbformat": 4,
 "nbformat_minor": 5
}
